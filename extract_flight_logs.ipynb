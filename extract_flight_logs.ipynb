{
  "nbformat": 4,
  "nbformat_minor": 0,
  "metadata": {
    "colab": {
      "provenance": [],
      "gpuType": "T4"
    },
    "kernelspec": {
      "name": "python3",
      "display_name": "Python 3"
    },
    "language_info": {
      "name": "python"
    },
    "accelerator": "GPU"
  },
  "cells": [
    {
      "cell_type": "markdown",
      "source": [
        "# Python Script to convert flight logs in .ulg format to .kml format for using them in GQIS"
      ],
      "metadata": {
        "id": "ZXje2uLWAHvr"
      }
    },
    {
      "cell_type": "markdown",
      "source": [
        "# **1. Connect to Google Drive to import files**"
      ],
      "metadata": {
        "id": "852LNBV4Dgjs"
      }
    },
    {
      "cell_type": "code",
      "source": [
        "from google.colab import drive\n",
        "drive.mount('/content/drive')"
      ],
      "metadata": {
        "colab": {
          "base_uri": "https://localhost:8080/"
        },
        "id": "0GrYa0VrF8Hy",
        "outputId": "91f93400-14d7-4ea3-d2c2-4ace610fa040"
      },
      "execution_count": null,
      "outputs": [
        {
          "output_type": "stream",
          "name": "stdout",
          "text": [
            "Mounted at /content/drive\n"
          ]
        }
      ]
    },
    {
      "cell_type": "markdown",
      "source": [
        "# 1.1 Import files"
      ],
      "metadata": {
        "id": "XwHL2xhwAU-s"
      }
    },
    {
      "cell_type": "code",
      "source": [
        "################################IMPORTAR EL dataset entero a colab UNA VEZ TIENES LA ESTRUCTURA  ####################################################\n",
        "####################################################################################\n",
        "\n",
        "\n",
        "# Copiar el archivo data.yaml desde Drive a la ruta deseada en Colab\n",
        "!cp -r \"/content/drive/MyDrive/rinder_van_logs_1_2_6_25/Yoda_VM_logs_Day_2\" \"/content/rinder\"\n",
        "#\"/content/dataset/lote_4\"\n",
        "\n",
        "# Verificar que se copió correctamente\n",
        "!ls -l \"/content/rinder\""
      ],
      "metadata": {
        "colab": {
          "base_uri": "https://localhost:8080/"
        },
        "id": "KIBHrCcgF-RA",
        "outputId": "fa89f9e9-2724-419b-c6a9-954b25cf9c23"
      },
      "execution_count": null,
      "outputs": [
        {
          "output_type": "stream",
          "name": "stdout",
          "text": [
            "total 1299788\n",
            "-rw------- 1 root root 119579260 Jun  2 19:57 07_48_53.ulg\n",
            "-rw------- 1 root root 132231113 Jun  2 19:57 08_44_19.ulg\n",
            "-rw------- 1 root root 125581659 Jun  2 19:57 09_43_22.ulg\n",
            "-rw------- 1 root root 114195985 Jun  2 19:57 10_44_08.ulg\n",
            "-rw------- 1 root root 121857669 Jun  2 19:58 11_40_31.ulg\n",
            "-rw------- 1 root root 143318709 Jun  2 19:58 12_36_29.ulg\n",
            "-rw------- 1 root root 147294008 Jun  2 19:58 13_39_46.ulg\n",
            "-rw------- 1 root root 146838158 Jun  2 19:58 14_44_59.ulg\n",
            "-rw------- 1 root root 150440680 Jun  2 19:58 15_49_31.ulg\n",
            "-rw------- 1 root root 129590103 Jun  2 19:58 16_57_07.ulg\n"
          ]
        }
      ]
    },
    {
      "cell_type": "markdown",
      "source": [
        "# 1.2 Install necessary packages"
      ],
      "metadata": {
        "id": "cCHKcZimAcCu"
      }
    },
    {
      "cell_type": "code",
      "source": [
        "!pip install pyulog simplekml pandas"
      ],
      "metadata": {
        "colab": {
          "base_uri": "https://localhost:8080/"
        },
        "id": "Fz2vIMxXUxe_",
        "outputId": "945c54e7-fa91-41ac-eb60-e7934abf9a7f"
      },
      "execution_count": null,
      "outputs": [
        {
          "output_type": "stream",
          "name": "stdout",
          "text": [
            "Collecting pyulog\n",
            "  Downloading pyulog-1.2.0-py3-none-any.whl.metadata (1.7 kB)\n",
            "Collecting simplekml\n",
            "  Downloading simplekml-1.3.6.tar.gz (52 kB)\n",
            "\u001b[2K     \u001b[90m━━━━━━━━━━━━━━━━━━━━━━━━━━━━━━━━━━━━━━━━\u001b[0m \u001b[32m53.0/53.0 kB\u001b[0m \u001b[31m3.0 MB/s\u001b[0m eta \u001b[36m0:00:00\u001b[0m\n",
            "\u001b[?25h  Preparing metadata (setup.py) ... \u001b[?25l\u001b[?25hdone\n",
            "Requirement already satisfied: pandas in /usr/local/lib/python3.11/dist-packages (2.2.2)\n",
            "Requirement already satisfied: numpy>=1.25 in /usr/local/lib/python3.11/dist-packages (from pyulog) (2.0.2)\n",
            "Requirement already satisfied: python-dateutil>=2.8.2 in /usr/local/lib/python3.11/dist-packages (from pandas) (2.9.0.post0)\n",
            "Requirement already satisfied: pytz>=2020.1 in /usr/local/lib/python3.11/dist-packages (from pandas) (2025.2)\n",
            "Requirement already satisfied: tzdata>=2022.7 in /usr/local/lib/python3.11/dist-packages (from pandas) (2025.2)\n",
            "Requirement already satisfied: six>=1.5 in /usr/local/lib/python3.11/dist-packages (from python-dateutil>=2.8.2->pandas) (1.17.0)\n",
            "Downloading pyulog-1.2.0-py3-none-any.whl (58 kB)\n",
            "\u001b[2K   \u001b[90m━━━━━━━━━━━━━━━━━━━━━━━━━━━━━━━━━━━━━━━━\u001b[0m \u001b[32m58.9/58.9 kB\u001b[0m \u001b[31m3.3 MB/s\u001b[0m eta \u001b[36m0:00:00\u001b[0m\n",
            "\u001b[?25hBuilding wheels for collected packages: simplekml\n",
            "  Building wheel for simplekml (setup.py) ... \u001b[?25l\u001b[?25hdone\n",
            "  Created wheel for simplekml: filename=simplekml-1.3.6-py3-none-any.whl size=65860 sha256=538d0f32ea0f67466d3ad8d75e34ba28b0bc800ee8efc46dfd99cba5f7671503\n",
            "  Stored in directory: /root/.cache/pip/wheels/72/3e/80/c3e5c354c3cbe62d8c5e4fb63d9e7cdccc7f93399997ae465f\n",
            "Successfully built simplekml\n",
            "Installing collected packages: simplekml, pyulog\n",
            "Successfully installed pyulog-1.2.0 simplekml-1.3.6\n"
          ]
        }
      ]
    },
    {
      "cell_type": "markdown",
      "source": [
        "# **1.3. Transform .ulg to .kml**"
      ],
      "metadata": {
        "id": "VLkbKyO7Afsz"
      }
    },
    {
      "cell_type": "markdown",
      "source": [
        "Customizable parameters:\n",
        "\n",
        "- Input directory for .ulg files\n",
        "\n",
        "- Output directory for .kml files\n",
        "\n",
        "- Output directory for .csv files"
      ],
      "metadata": {
        "id": "iR860F75AlTI"
      }
    },
    {
      "cell_type": "code",
      "source": [
        "import os\n",
        "from pyulog import ULog, ulog2kml, ulog2csv\n",
        "import pandas as pd\n",
        "import simplekml\n",
        "import shutil\n",
        "\n",
        "# === CONFIGURA TUS RUTAS ===\n",
        "entrada_dir = \"/content/rinder\"  # 📂 Carpeta con tus archivos .ulg (por ejemplo subida a Colab)\n",
        "salida_kml_dir = \"/content/rinder/kml\"\n",
        "salida_csv_dir = \"/content/rinder\"\n",
        "\n",
        "os.makedirs(salida_kml_dir, exist_ok=True)\n",
        "os.makedirs(salida_csv_dir, exist_ok=True)\n",
        "\n",
        "# === PROCESAR TODOS LOS ARCHIVOS .ULG ===\n",
        "for archivo in os.listdir(entrada_dir):\n",
        "    if not archivo.lower().endswith(\".ulg\"):\n",
        "        continue\n",
        "\n",
        "    ruta_ulg = os.path.join(entrada_dir, archivo)\n",
        "    nombre_base = os.path.splitext(archivo)[0]\n",
        "    ruta_kml = os.path.join(salida_kml_dir, nombre_base + \".kml\")\n",
        "\n",
        "    print(f\"\\n📡 Procesando: {archivo}\")\n",
        "\n",
        "    # === Intento directo ===\n",
        "    try:\n",
        "        ulog2kml.convert_ulog2kml(ruta_ulg, ruta_kml)\n",
        "        print(f\"✅ KML generado directamente: {ruta_kml}\")\n",
        "        continue\n",
        "    except Exception as e:\n",
        "        print(f\"⚠️ ulog2kml falló: {e}\")\n",
        "\n",
        "    # === Intento alternativo con CSV ===\n",
        "    try:\n",
        "        ulog = ULog(ruta_ulg)\n",
        "        gps_msgs = [msg for msg in ulog.data_list if msg.name == \"vehicle_gps_position\"]\n",
        "        if not gps_msgs or len(gps_msgs[0].data[\"lat\"]) == 0:\n",
        "            print(f\"❌ Sin datos GPS en: {archivo}\")\n",
        "            continue\n",
        "\n",
        "        subdir_csv = os.path.join(salida_csv_dir, nombre_base)\n",
        "        os.makedirs(subdir_csv, exist_ok=True)\n",
        "\n",
        "        ulog2csv.convert_ulog2csv(\n",
        "            ruta_ulg,\n",
        "            \"vehicle_gps_position\",  # ✅ usar string\n",
        "            subdir_csv,\n",
        "            ',',\n",
        "            0,\n",
        "            0\n",
        "        )\n",
        "\n",
        "        archivos_csv = os.listdir(subdir_csv)\n",
        "        gps_file_list = [f for f in archivos_csv if \"vehicle_gps_position\" in f and f.endswith(\".csv\")]\n",
        "        if not gps_file_list:\n",
        "            print(f\"❌ No se encontró archivo GPS en: {subdir_csv}\")\n",
        "            continue\n",
        "\n",
        "        gps_csv_path = os.path.join(subdir_csv, gps_file_list[0])\n",
        "        df = pd.read_csv(gps_csv_path)\n",
        "\n",
        "        if len(df) == 0 or \"lat\" not in df.columns or \"lon\" not in df.columns:\n",
        "            print(f\"❌ CSV sin datos válidos: {gps_csv_path}\")\n",
        "            continue\n",
        "\n",
        "        # ✅ Corregir lat/lon\n",
        "        df[\"lat_deg\"] = df[\"lat\"] / 1e7\n",
        "        df[\"lon_deg\"] = df[\"lon\"] / 1e7\n",
        "\n",
        "        # ✅ Crear .kml desde lat/lon corregidos\n",
        "        kml = simplekml.Kml()\n",
        "        coords = list(zip(df[\"lon_deg\"], df[\"lat_deg\"]))\n",
        "        kml.newlinestring(name=nombre_base, coords=coords)\n",
        "        kml.save(ruta_kml)\n",
        "\n",
        "        print(f\"✅ KML generado desde CSV corregido: {ruta_kml}\")\n",
        "\n",
        "        # 🔁 Limpieza opcional\n",
        "        # shutil.rmtree(subdir_csv, ignore_errors=True)\n",
        "\n",
        "    except Exception as e:\n",
        "        print(f\"❌ Error en fallback con CSV: {e}\")\n"
      ],
      "metadata": {
        "colab": {
          "base_uri": "https://localhost:8080/"
        },
        "id": "qd6y4SANfvdy",
        "outputId": "4640ede0-2a84-4af5-d398-f1e06c3d3831"
      },
      "execution_count": null,
      "outputs": [
        {
          "output_type": "stream",
          "name": "stdout",
          "text": [
            "\n",
            "📡 Procesando: 10_44_08.ulg\n",
            "⚠️ ulog2kml falló: list index out of range\n",
            "✅ KML generado desde CSV corregido: /content/rinder/kml/10_44_08.kml\n",
            "\n",
            "📡 Procesando: 07_48_53.ulg\n",
            "✅ KML generado directamente: /content/rinder/kml/07_48_53.kml\n",
            "\n",
            "📡 Procesando: 15_49_31.ulg\n",
            "✅ KML generado directamente: /content/rinder/kml/15_49_31.kml\n",
            "\n",
            "📡 Procesando: 08_44_19.ulg\n",
            "✅ KML generado directamente: /content/rinder/kml/08_44_19.kml\n",
            "\n",
            "📡 Procesando: 12_36_29.ulg\n",
            "✅ KML generado directamente: /content/rinder/kml/12_36_29.kml\n",
            "\n",
            "📡 Procesando: 13_39_46.ulg\n",
            "✅ KML generado directamente: /content/rinder/kml/13_39_46.kml\n",
            "\n",
            "📡 Procesando: 14_44_59.ulg\n",
            "✅ KML generado directamente: /content/rinder/kml/14_44_59.kml\n",
            "\n",
            "📡 Procesando: 16_57_07.ulg\n",
            "✅ KML generado directamente: /content/rinder/kml/16_57_07.kml\n",
            "\n",
            "📡 Procesando: 09_43_22.ulg\n",
            "✅ KML generado directamente: /content/rinder/kml/09_43_22.kml\n",
            "\n",
            "📡 Procesando: 11_40_31.ulg\n",
            "✅ KML generado directamente: /content/rinder/kml/11_40_31.kml\n"
          ]
        }
      ]
    },
    {
      "cell_type": "markdown",
      "source": [
        "# 1.4 Save the results in Google Drive"
      ],
      "metadata": {
        "id": "Niqt9Z10A4Bb"
      }
    },
    {
      "cell_type": "code",
      "source": [
        "# 10. Guardar los resultados del experimento\n",
        "\n",
        "# Define la carpeta de destino en Google Drive\n",
        "dest_folder = \"/content/drive/MyDrive/rinder_van_logs_1_2_6_25\"\n",
        "!mkdir -p \"{dest_folder}\"  # El comando mkdir -p crea esa carpeta (y cualquier subcarpeta necesaria) si no existe.\n",
        "\n",
        "# Copia la carpeta de resultados (ajusta el nombre según el que se haya generado)\n",
        "!cp -r /content/rinder/kml \"{dest_folder}/\"  # Copiar los resultados del modelo en drive\n",
        "\n",
        "# Comprueba que se copiaron los archivos (opcional)\n",
        "!ls \"{dest_folder}\""
      ],
      "metadata": {
        "colab": {
          "base_uri": "https://localhost:8080/"
        },
        "id": "1c3eGvfFgk0J",
        "outputId": "41b2a79b-11f1-472a-bcbd-9e0932b0af66"
      },
      "execution_count": null,
      "outputs": [
        {
          "output_type": "stream",
          "name": "stdout",
          "text": [
            "2025-06-01  2025-06-1  kml  Yoda_VM_logs_Day_2\n"
          ]
        }
      ]
    }
  ]
}