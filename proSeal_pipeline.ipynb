{
  "cells": [
    {
      "cell_type": "markdown",
      "metadata": {
        "id": "SEqxe9Oh3C2K"
      },
      "source": [
        "# **RINGED SEAL OBJECT DETECCION MODELS PIPELINE-GUIDELINE**\n"
      ]
    },
    {
      "cell_type": "markdown",
      "metadata": {
        "id": "5i68et6S3a5d"
      },
      "source": [
        "# **1. Connect to Google Drive**\n",
        "\n",
        "In my case, all datasets where link to my Google Drive.\n",
        "\n",
        "If your datasets is located in your pc, you just need to uploaded directly to Google Colab.\n",
        "\n",
        "If you are working locally, skip these steps."
      ]
    },
    {
      "cell_type": "code",
      "execution_count": 1,
      "metadata": {
        "colab": {
          "base_uri": "https://localhost:8080/"
        },
        "id": "bN8ZbXoe4Inr",
        "outputId": "ead68f36-37a1-477d-9813-b6aadd49fb05"
      },
      "outputs": [
        {
          "name": "stdout",
          "output_type": "stream",
          "text": [
            "Mounted at /content/drive\n"
          ]
        }
      ],
      "source": [
        "from google.colab import drive\n",
        "drive.mount('/content/drive')"
      ]
    },
    {
      "cell_type": "markdown",
      "metadata": {
        "id": "w_xGNah73svf"
      },
      "source": [
        "# 1.1 Import dataset"
      ]
    },
    {
      "cell_type": "code",
      "execution_count": 2,
      "metadata": {
        "colab": {
          "base_uri": "https://localhost:8080/"
        },
        "id": "vovQty0AK8Gg",
        "outputId": "1db7143b-a0b7-454a-bb25-96927ab1a97f"
      },
      "outputs": [
        {
          "name": "stdout",
          "output_type": "stream",
          "text": [
            "total 16\n",
            "-rw------- 1 root root  236 Aug  4 16:42 data.yaml\n",
            "drwx------ 3 root root 4096 Aug  4 16:45 hard_negatives\n",
            "-rw------- 1 root root  948 Aug  4 16:42 README.roboflow.txt\n",
            "drwx------ 4 root root 4096 Aug  4 16:43 train\n"
          ]
        }
      ],
      "source": [
        "################################IMPORTAR EL dataset entero a colab UNA VEZ TIENES LA ESTRUCTURA  ####################################################\n",
        "####################################################################################\n",
        "\n",
        "\n",
        "# Copiar el archivo data.yaml desde Drive a la ruta deseada en Colab\n",
        "!cp -r \"/content/drive/MyDrive/Seed_final/23_24_25/seed_plus_90_plus_z\" \"/content/dataset\"\n",
        "\n",
        "# Verificar que se copió correctamente\n",
        "!ls -l \"/content/dataset\""
      ]
    },
    {
      "cell_type": "markdown",
      "metadata": {
        "id": "_-8KOjSy71cx"
      },
      "source": [
        "# **2. Divide the dataset**\n",
        "\n",
        "The chosen proportion is :\n",
        "\n",
        "train: 70%\n",
        "\n",
        "Valid: 15 %\n",
        "\n",
        "Test : 15%\n",
        "\n",
        "These percentages are customizables.\n",
        "\n",
        "The division works adding 70 % os positives and 70 % of negatives to train set. Same process to other sets."
      ]
    },
    {
      "cell_type": "code",
      "execution_count": 3,
      "metadata": {
        "colab": {
          "base_uri": "https://localhost:8080/"
        },
        "id": "kCiXz4ho7z2q",
        "outputId": "dbddd27e-1913-4321-e194-064bcbf21c1f"
      },
      "outputs": [
        {
          "name": "stdout",
          "output_type": "stream",
          "text": [
            "📦 Total imágenes: 830\n",
            "✅ Positivas: 620\n",
            "⭕ Negativas: 210\n",
            "\n",
            "✅ División completada con éxito:\n",
            "📁 TRAIN: 581 imágenes → 434 positivas / 147 negativas\n",
            "📁 VALID: 124 imágenes → 93 positivas / 31 negativas\n",
            "📁 TEST : 125 imágenes → 93 positivas / 32 negativas\n",
            "📄 Archivo data.yaml copiado a: /content/mi_dataset_split\n",
            "📁 Copiando carpeta de hard negatives a: /content/mi_dataset_split/hard_negatives\n"
          ]
        }
      ],
      "source": [
        "import os\n",
        "import shutil\n",
        "import random\n",
        "\n",
        "# =============================\n",
        "# CONFIGURACIÓN PERSONALIZABLE\n",
        "# =============================\n",
        "\n",
        "INPUT_IMAGES_DIR = \"/content/dataset/train/images\"\n",
        "INPUT_LABELS_DIR = \"/content/dataset/train/labels\"\n",
        "OUTPUT_BASE_DIR = \"/content/mi_dataset_split\"\n",
        "\n",
        "INPUT_YAML_PATH = \"/content/dataset/data.yaml\"\n",
        "\n",
        "\n",
        "SPLIT_RATIOS = {\n",
        "    \"train\": 0.70,\n",
        "    \"valid\": 0.15,\n",
        "    \"test\":  0.15\n",
        "}\n",
        "\n",
        "SEED = 42\n",
        "\n",
        "# =============================\n",
        "# FUNCIONES AUXILIARES\n",
        "# =============================\n",
        "\n",
        "def is_positive(txt_path):\n",
        "    if not os.path.exists(txt_path):\n",
        "        return False\n",
        "    with open(txt_path, \"r\") as f:\n",
        "        for line in f:\n",
        "            parts = line.strip().split()\n",
        "            if len(parts) >= 1 and parts[0].isdigit():\n",
        "                return True  # Hay una clase → es positiva\n",
        "    return False\n",
        "\n",
        "def split_list(items, ratios):\n",
        "    random.shuffle(items)\n",
        "    n = len(items)\n",
        "    n_train = int(n * ratios[\"train\"])\n",
        "    n_valid = int(n * ratios[\"valid\"])\n",
        "    return items[:n_train], items[n_train:n_train + n_valid], items[n_train + n_valid:]\n",
        "\n",
        "def move_data_yaml_to_output(source_path, dest_dir):\n",
        "    if not os.path.exists(source_path):\n",
        "        print(f\"❌ No se encontró el archivo data.yaml en: {source_path}\")\n",
        "        return\n",
        "    os.makedirs(dest_dir, exist_ok=True)\n",
        "    shutil.copy2(source_path, os.path.join(dest_dir, \"data.yaml\"))\n",
        "    print(f\"📄 Archivo data.yaml copiado a: {dest_dir}\")\n",
        "\n",
        "# =============================\n",
        "# FUNCIÓN PRINCIPAL\n",
        "# =============================\n",
        "\n",
        "def split_dataset():\n",
        "    for split in SPLIT_RATIOS:\n",
        "        os.makedirs(os.path.join(OUTPUT_BASE_DIR, split, \"images\"), exist_ok=True)\n",
        "        os.makedirs(os.path.join(OUTPUT_BASE_DIR, split, \"labels\"), exist_ok=True)\n",
        "\n",
        "    all_images = [f for f in os.listdir(INPUT_IMAGES_DIR) if f.lower().endswith((\".jpg\", \".jpeg\", \".png\"))]\n",
        "    all_images.sort()\n",
        "\n",
        "    positives, negatives = [], []\n",
        "    for img_name in all_images:\n",
        "        txt_name = os.path.splitext(img_name)[0] + \".txt\"\n",
        "        txt_path = os.path.join(INPUT_LABELS_DIR, txt_name)\n",
        "        if is_positive(txt_path):\n",
        "            positives.append(img_name)\n",
        "        else:\n",
        "            negatives.append(img_name)\n",
        "\n",
        "    print(f\"📦 Total imágenes: {len(all_images)}\")\n",
        "    print(f\"✅ Positivas: {len(positives)}\")\n",
        "    print(f\"⭕ Negativas: {len(negatives)}\")\n",
        "\n",
        "    random.seed(SEED)\n",
        "\n",
        "    pos_train, pos_valid, pos_test = split_list(positives, SPLIT_RATIOS)\n",
        "    neg_train, neg_valid, neg_test = split_list(negatives, SPLIT_RATIOS)\n",
        "\n",
        "    split_sets = {\n",
        "        \"train\": {\"images\": pos_train + neg_train, \"positives\": pos_train, \"negatives\": neg_train},\n",
        "        \"valid\": {\"images\": pos_valid + neg_valid, \"positives\": pos_valid, \"negatives\": neg_valid},\n",
        "        \"test\":  {\"images\": pos_test + neg_test,   \"positives\": pos_test,  \"negatives\": neg_test}\n",
        "    }\n",
        "\n",
        "    for split, data in split_sets.items():\n",
        "        for img_name in data[\"images\"]:\n",
        "            src_img = os.path.join(INPUT_IMAGES_DIR, img_name)\n",
        "            dst_img = os.path.join(OUTPUT_BASE_DIR, split, \"images\", img_name)\n",
        "            shutil.copy2(src_img, dst_img)\n",
        "\n",
        "            txt_name = os.path.splitext(img_name)[0] + \".txt\"\n",
        "            src_lbl = os.path.join(INPUT_LABELS_DIR, txt_name)\n",
        "            dst_lbl = os.path.join(OUTPUT_BASE_DIR, split, \"labels\", txt_name)\n",
        "\n",
        "            if os.path.exists(src_lbl):\n",
        "                shutil.copy2(src_lbl, dst_lbl)\n",
        "            else:\n",
        "                open(dst_lbl, \"w\").close()\n",
        "\n",
        "    print(\"\\n✅ División completada con éxito:\")\n",
        "    for s in [\"train\", \"valid\", \"test\"]:\n",
        "        total = len(split_sets[s][\"images\"])\n",
        "        pos = len(split_sets[s][\"positives\"])\n",
        "        neg = len(split_sets[s][\"negatives\"])\n",
        "        print(f\"📁 {s.upper():<5}: {total} imágenes → {pos} positivas / {neg} negativas\")\n",
        "\n",
        "    # Copiar data.yaml al directorio final\n",
        "    move_data_yaml_to_output(INPUT_YAML_PATH, OUTPUT_BASE_DIR)\n",
        "\n",
        "     # Copiar carpeta de hard negatives si existe\n",
        "    hard_neg_src = \"/content/dataset/hard_negatives\"\n",
        "    hard_neg_dst = os.path.join(OUTPUT_BASE_DIR, \"hard_negatives\")\n",
        "    if os.path.exists(hard_neg_src):\n",
        "        print(f\"📁 Copiando carpeta de hard negatives a: {hard_neg_dst}\")\n",
        "        shutil.copytree(hard_neg_src, hard_neg_dst, dirs_exist_ok=True)\n",
        "    else:\n",
        "        print(\"⚠️ No se encontró la carpeta de hard negatives. Se omite copia.\")\n",
        "\n",
        "# =============================\n",
        "# EJECUTAR\n",
        "# =============================\n",
        "\n",
        "split_dataset()\n"
      ]
    },
    {
      "cell_type": "markdown",
      "metadata": {
        "id": "HDjQP5gX4Q3K"
      },
      "source": [
        "# 2.1 Save the divided datasets, if desired"
      ]
    },
    {
      "cell_type": "code",
      "execution_count": null,
      "metadata": {
        "colab": {
          "base_uri": "https://localhost:8080/"
        },
        "id": "nI6QefUsYayU",
        "outputId": "201374c4-1e5e-4bbe-8dd9-b8e55bd5594e"
      },
      "outputs": [
        {
          "name": "stdout",
          "output_type": "stream",
          "text": [
            "mi_dataset_split  seed_2025_plus_90_and_2022_and90_2022\n"
          ]
        }
      ],
      "source": [
        "# 10. Guardar los resultados del experimento\n",
        "\n",
        "# Define la carpeta de destino en Google Drive\n",
        "dest_folder = \"/content/drive/MyDrive/Seed_final/25\"\n",
        "!mkdir -p \"{dest_folder}\"  # El comando mkdir -p crea esa carpeta (y cualquier subcarpeta necesaria) si no existe.\n",
        "\n",
        "# Copia la carpeta de resultados (ajusta el nombre según el que se haya generado)\n",
        "!cp -r \"/content/mi_dataset_split\" \"{dest_folder}/\"  # Copiar los resultados del modelo en drive\n",
        "\n",
        "# Comprueba que se copiaron los archivos (opcional)\n",
        "!ls \"{dest_folder}\""
      ]
    },
    {
      "cell_type": "markdown",
      "metadata": {
        "id": "ZZF9JNg84We3"
      },
      "source": [
        "# **3. Pipeline for preparing the dataset prior to training**"
      ]
    },
    {
      "cell_type": "markdown",
      "metadata": {
        "id": "OGpm-hzr4fAc"
      },
      "source": [
        "# 3.1 Import and install required libraries\n",
        "\n"
      ]
    },
    {
      "cell_type": "code",
      "execution_count": 4,
      "metadata": {
        "colab": {
          "base_uri": "https://localhost:8080/"
        },
        "id": "dOgX0jeE4JGC",
        "outputId": "393cb2a5-4541-4c66-ee96-140ed8942df0"
      },
      "outputs": [
        {
          "name": "stdout",
          "output_type": "stream",
          "text": [
            "Requirement already satisfied: opencv-python-headless in /usr/local/lib/python3.11/dist-packages (4.12.0.88)\n",
            "Requirement already satisfied: albumentations in /usr/local/lib/python3.11/dist-packages (2.0.8)\n",
            "Requirement already satisfied: numpy<2.3.0,>=2 in /usr/local/lib/python3.11/dist-packages (from opencv-python-headless) (2.0.2)\n",
            "Requirement already satisfied: scipy>=1.10.0 in /usr/local/lib/python3.11/dist-packages (from albumentations) (1.16.0)\n",
            "Requirement already satisfied: PyYAML in /usr/local/lib/python3.11/dist-packages (from albumentations) (6.0.2)\n",
            "Requirement already satisfied: pydantic>=2.9.2 in /usr/local/lib/python3.11/dist-packages (from albumentations) (2.11.7)\n",
            "Requirement already satisfied: albucore==0.0.24 in /usr/local/lib/python3.11/dist-packages (from albumentations) (0.0.24)\n",
            "Requirement already satisfied: stringzilla>=3.10.4 in /usr/local/lib/python3.11/dist-packages (from albucore==0.0.24->albumentations) (3.12.5)\n",
            "Requirement already satisfied: simsimd>=5.9.2 in /usr/local/lib/python3.11/dist-packages (from albucore==0.0.24->albumentations) (6.5.0)\n",
            "Requirement already satisfied: annotated-types>=0.6.0 in /usr/local/lib/python3.11/dist-packages (from pydantic>=2.9.2->albumentations) (0.7.0)\n",
            "Requirement already satisfied: pydantic-core==2.33.2 in /usr/local/lib/python3.11/dist-packages (from pydantic>=2.9.2->albumentations) (2.33.2)\n",
            "Requirement already satisfied: typing-extensions>=4.12.2 in /usr/local/lib/python3.11/dist-packages (from pydantic>=2.9.2->albumentations) (4.14.1)\n",
            "Requirement already satisfied: typing-inspection>=0.4.0 in /usr/local/lib/python3.11/dist-packages (from pydantic>=2.9.2->albumentations) (0.4.1)\n"
          ]
        }
      ],
      "source": [
        "!pip install opencv-python-headless albumentations"
      ]
    },
    {
      "cell_type": "markdown",
      "metadata": {
        "id": "F3ICdMdC4yfq"
      },
      "source": [
        "# 3.2 Run the pipeline\n",
        "\n",
        "Customizable parameters:\n",
        "\n",
        "- Tile size\n",
        "- Overlap\n",
        "- Positive / negative Proportion in the final sets (train, valid, test)\n",
        "- Augmentation process for positive images in train\n",
        "- Number of augmented images per positive image\n",
        "- Presence of hard negatives\n",
        "- Percentage of hard negatives to normal negaives in each set\n",
        "- Percentaje of each set regarding the total ( once again, train 70%, valid 15 %, test 15%)\n",
        "- Specific final number of tiles in the valid and test set (for the amplification evaluation on miniSeal test set)\n",
        "- Input and output directories\n",
        "- Clean intermediate tiles generated throughout the pipeline"
      ]
    },
    {
      "cell_type": "code",
      "execution_count": 5,
      "metadata": {
        "colab": {
          "base_uri": "https://localhost:8080/"
        },
        "id": "kUklJbJfdAxn",
        "outputId": "6dbb5d63-f802-4d02-e2d9-7282541cb465"
      },
      "outputs": [
        {
          "name": "stdout",
          "output_type": "stream",
          "text": [
            "\n",
            "🔄 Convirtiendo etiquetas de TRAIN...\n",
            "✅ [TRAIN] Conversión de etiquetas completada.\n",
            "\n",
            "📦 Procesando tiling para TRAIN...\n",
            "✅ TRAIN: 749 tiles positivos, 54587 negativos (generados inicialmente).\n",
            "\n",
            "🔄 Convirtiendo etiquetas de VALID...\n",
            "✅ [VALID] Conversión de etiquetas completada.\n",
            "\n",
            "📦 Procesando tiling para VALID...\n",
            "✅ VALID: 170 tiles positivos, 11630 negativos (generados inicialmente).\n",
            "\n",
            "🔄 Convirtiendo etiquetas de TEST...\n",
            "✅ [TEST] Conversión de etiquetas completada.\n",
            "\n",
            "📦 Procesando tiling para TEST...\n",
            "✅ TEST: 170 tiles positivos, 11734 negativos (generados inicialmente).\n",
            "\n",
            "🧩 Procesando TILES de negativos forzados (falsos positivos)...\n",
            "✅ TILES de negativos forzados completados: 32416 tiles generados.\n",
            "\n",
            "🔍 Verificación TILES negativos forzados:\n",
            "🖼️  Tiles: 32416\n",
            "📄 Etiquetas (vacías): 32416\n",
            "\n",
            "✨ Iniciando aumentación de datos para positivos de TRAIN...\n",
            "Error aplicando aumentación en DSC01236_JPG-X-Amz-Algorithm-AWS4-HMAC-SHA256.rf.a8b8901a06dcfee367bd01a5abbfb5dd_tile_89.jpg: Expected x_min for bbox [-4.9965456e-07  3.8964200e-01  1.2454500e-02  4.2567801e-01\n",
            "  0.0000000e+00] to be in the range [0.0, 1.0], got -4.996545612812042e-07.\n",
            "Error aplicando aumentación en DSC01236_JPG-X-Amz-Algorithm-AWS4-HMAC-SHA256.rf.a8b8901a06dcfee367bd01a5abbfb5dd_tile_89.jpg: Expected x_min for bbox [-4.9965456e-07  3.8964200e-01  1.2454500e-02  4.2567801e-01\n",
            "  0.0000000e+00] to be in the range [0.0, 1.0], got -4.996545612812042e-07.\n",
            "Error aplicando aumentación en DSC01236_JPG-X-Amz-Algorithm-AWS4-HMAC-SHA256.rf.a8b8901a06dcfee367bd01a5abbfb5dd_tile_89.jpg: Expected x_min for bbox [-4.9965456e-07  3.8964200e-01  1.2454500e-02  4.2567801e-01\n",
            "  0.0000000e+00] to be in the range [0.0, 1.0], got -4.996545612812042e-07.\n",
            "Error aplicando aumentación en DSC01236_JPG-X-Amz-Algorithm-AWS4-HMAC-SHA256.rf.a8b8901a06dcfee367bd01a5abbfb5dd_tile_89.jpg: Expected x_min for bbox [-4.9965456e-07  3.8964200e-01  1.2454500e-02  4.2567801e-01\n",
            "  0.0000000e+00] to be in the range [0.0, 1.0], got -4.996545612812042e-07.\n",
            "Error aplicando aumentación en DSC01236_JPG-X-Amz-Algorithm-AWS4-HMAC-SHA256.rf.a8b8901a06dcfee367bd01a5abbfb5dd_tile_89.jpg: Expected x_min for bbox [-4.9965456e-07  3.8964200e-01  1.2454500e-02  4.2567801e-01\n",
            "  0.0000000e+00] to be in the range [0.0, 1.0], got -4.996545612812042e-07.\n",
            "Error aplicando aumentación en DSC01236_JPG-X-Amz-Algorithm-AWS4-HMAC-SHA256.rf.a8b8901a06dcfee367bd01a5abbfb5dd_tile_89.jpg: Expected x_min for bbox [-4.9965456e-07  3.8964200e-01  1.2454500e-02  4.2567801e-01\n",
            "  0.0000000e+00] to be in the range [0.0, 1.0], got -4.996545612812042e-07.\n",
            "Error aplicando aumentación en DSC00099_JPG-X-Amz-Algorithm-AWS4-HMAC-SHA256.rf.bf472b00087f1593d0189893b3e30dab_tile_73.jpg: Expected x_min for bbox [-5.0105155e-07  7.7146202e-01  4.9218498e-02  8.0505604e-01\n",
            "  0.0000000e+00] to be in the range [0.0, 1.0], got -5.010515451431274e-07.\n",
            "Error aplicando aumentación en DSC00099_JPG-X-Amz-Algorithm-AWS4-HMAC-SHA256.rf.bf472b00087f1593d0189893b3e30dab_tile_73.jpg: Expected x_min for bbox [-5.0105155e-07  7.7146202e-01  4.9218498e-02  8.0505604e-01\n",
            "  0.0000000e+00] to be in the range [0.0, 1.0], got -5.010515451431274e-07.\n",
            "Error aplicando aumentación en DSC00099_JPG-X-Amz-Algorithm-AWS4-HMAC-SHA256.rf.bf472b00087f1593d0189893b3e30dab_tile_73.jpg: Expected x_min for bbox [-5.0105155e-07  7.7146202e-01  4.9218498e-02  8.0505604e-01\n",
            "  0.0000000e+00] to be in the range [0.0, 1.0], got -5.010515451431274e-07.\n",
            "Error aplicando aumentación en DSC00099_JPG-X-Amz-Algorithm-AWS4-HMAC-SHA256.rf.bf472b00087f1593d0189893b3e30dab_tile_73.jpg: Expected x_min for bbox [-5.0105155e-07  7.7146202e-01  4.9218498e-02  8.0505604e-01\n",
            "  0.0000000e+00] to be in the range [0.0, 1.0], got -5.010515451431274e-07.\n",
            "Error aplicando aumentación en DSC00099_JPG-X-Amz-Algorithm-AWS4-HMAC-SHA256.rf.bf472b00087f1593d0189893b3e30dab_tile_73.jpg: Expected x_min for bbox [-5.0105155e-07  7.7146202e-01  4.9218498e-02  8.0505604e-01\n",
            "  0.0000000e+00] to be in the range [0.0, 1.0], got -5.010515451431274e-07.\n",
            "Error aplicando aumentación en DSC00099_JPG-X-Amz-Algorithm-AWS4-HMAC-SHA256.rf.bf472b00087f1593d0189893b3e30dab_tile_73.jpg: Expected x_min for bbox [-5.0105155e-07  7.7146202e-01  4.9218498e-02  8.0505604e-01\n",
            "  0.0000000e+00] to be in the range [0.0, 1.0], got -5.010515451431274e-07.\n",
            "Error aplicando aumentación en DJI_0534_JPG.rf.86a90ce8e10f43b2ea24f5715ad45220_tile_43.jpg: Expected x_min for bbox [-5.0012022e-07  3.7819999e-01  1.9374501e-02  4.1108400e-01\n",
            "  0.0000000e+00] to be in the range [0.0, 1.0], got -5.00120222568512e-07.\n",
            "Error aplicando aumentación en DJI_0534_JPG.rf.86a90ce8e10f43b2ea24f5715ad45220_tile_43.jpg: Expected x_min for bbox [-5.0012022e-07  3.7819999e-01  1.9374501e-02  4.1108400e-01\n",
            "  0.0000000e+00] to be in the range [0.0, 1.0], got -5.00120222568512e-07.\n",
            "Error aplicando aumentación en DJI_0534_JPG.rf.86a90ce8e10f43b2ea24f5715ad45220_tile_43.jpg: Expected x_min for bbox [-5.0012022e-07  3.7819999e-01  1.9374501e-02  4.1108400e-01\n",
            "  0.0000000e+00] to be in the range [0.0, 1.0], got -5.00120222568512e-07.\n",
            "Error aplicando aumentación en DJI_0534_JPG.rf.86a90ce8e10f43b2ea24f5715ad45220_tile_43.jpg: Expected x_min for bbox [-5.0012022e-07  3.7819999e-01  1.9374501e-02  4.1108400e-01\n",
            "  0.0000000e+00] to be in the range [0.0, 1.0], got -5.00120222568512e-07.\n",
            "Error aplicando aumentación en DJI_0534_JPG.rf.86a90ce8e10f43b2ea24f5715ad45220_tile_43.jpg: Expected x_min for bbox [-5.0012022e-07  3.7819999e-01  1.9374501e-02  4.1108400e-01\n",
            "  0.0000000e+00] to be in the range [0.0, 1.0], got -5.00120222568512e-07.\n",
            "Error aplicando aumentación en DJI_0534_JPG.rf.86a90ce8e10f43b2ea24f5715ad45220_tile_43.jpg: Expected x_min for bbox [-5.0012022e-07  3.7819999e-01  1.9374501e-02  4.1108400e-01\n",
            "  0.0000000e+00] to be in the range [0.0, 1.0], got -5.00120222568512e-07.\n",
            "Error aplicando aumentación en DSC08339_2_JPG.rf.7f2600085f702c8d9b76de440658fbf6_tile_76.jpg: Expected y_min for bbox [ 9.2593747e-01 -5.0012022e-07  9.6390647e-01  1.0468500e-02\n",
            "  0.0000000e+00] to be in the range [0.0, 1.0], got -5.00120222568512e-07.\n",
            "Error aplicando aumentación en DSC08339_2_JPG.rf.7f2600085f702c8d9b76de440658fbf6_tile_76.jpg: Expected y_min for bbox [ 9.2593747e-01 -5.0012022e-07  9.6390647e-01  1.0468500e-02\n",
            "  0.0000000e+00] to be in the range [0.0, 1.0], got -5.00120222568512e-07.\n",
            "Error aplicando aumentación en DSC08339_2_JPG.rf.7f2600085f702c8d9b76de440658fbf6_tile_76.jpg: Expected y_min for bbox [ 9.2593747e-01 -5.0012022e-07  9.6390647e-01  1.0468500e-02\n",
            "  0.0000000e+00] to be in the range [0.0, 1.0], got -5.00120222568512e-07.\n",
            "Error aplicando aumentación en DSC08339_2_JPG.rf.7f2600085f702c8d9b76de440658fbf6_tile_76.jpg: Expected y_min for bbox [ 9.2593747e-01 -5.0012022e-07  9.6390647e-01  1.0468500e-02\n",
            "  0.0000000e+00] to be in the range [0.0, 1.0], got -5.00120222568512e-07.\n",
            "Error aplicando aumentación en DSC08339_2_JPG.rf.7f2600085f702c8d9b76de440658fbf6_tile_76.jpg: Expected y_min for bbox [ 9.2593747e-01 -5.0012022e-07  9.6390647e-01  1.0468500e-02\n",
            "  0.0000000e+00] to be in the range [0.0, 1.0], got -5.00120222568512e-07.\n",
            "Error aplicando aumentación en DSC08339_2_JPG.rf.7f2600085f702c8d9b76de440658fbf6_tile_76.jpg: Expected y_min for bbox [ 9.2593747e-01 -5.0012022e-07  9.6390647e-01  1.0468500e-02\n",
            "  0.0000000e+00] to be in the range [0.0, 1.0], got -5.00120222568512e-07.\n",
            "Error aplicando aumentación en DSC07929_JPG-X-Amz-Algorithm-AWS4-HMAC-SHA256.rf.a1c08eac97dbd0a432e175c8eac42bb2_tile_31.jpg: Expected y_min for bbox [ 9.0403146e-01 -5.0012022e-07  9.5840651e-01  1.5824500e-02\n",
            "  0.0000000e+00] to be in the range [0.0, 1.0], got -5.00120222568512e-07.\n",
            "Error aplicando aumentación en DSC07929_JPG-X-Amz-Algorithm-AWS4-HMAC-SHA256.rf.a1c08eac97dbd0a432e175c8eac42bb2_tile_31.jpg: Expected y_min for bbox [ 9.0403146e-01 -5.0012022e-07  9.5840651e-01  1.5824500e-02\n",
            "  0.0000000e+00] to be in the range [0.0, 1.0], got -5.00120222568512e-07.\n",
            "Error aplicando aumentación en DSC07929_JPG-X-Amz-Algorithm-AWS4-HMAC-SHA256.rf.a1c08eac97dbd0a432e175c8eac42bb2_tile_31.jpg: Expected y_min for bbox [ 9.0403146e-01 -5.0012022e-07  9.5840651e-01  1.5824500e-02\n",
            "  0.0000000e+00] to be in the range [0.0, 1.0], got -5.00120222568512e-07.\n",
            "Error aplicando aumentación en DSC07929_JPG-X-Amz-Algorithm-AWS4-HMAC-SHA256.rf.a1c08eac97dbd0a432e175c8eac42bb2_tile_31.jpg: Expected y_min for bbox [ 9.0403146e-01 -5.0012022e-07  9.5840651e-01  1.5824500e-02\n",
            "  0.0000000e+00] to be in the range [0.0, 1.0], got -5.00120222568512e-07.\n",
            "Error aplicando aumentación en DSC07929_JPG-X-Amz-Algorithm-AWS4-HMAC-SHA256.rf.a1c08eac97dbd0a432e175c8eac42bb2_tile_31.jpg: Expected y_min for bbox [ 9.0403146e-01 -5.0012022e-07  9.5840651e-01  1.5824500e-02\n",
            "  0.0000000e+00] to be in the range [0.0, 1.0], got -5.00120222568512e-07.\n",
            "Error aplicando aumentación en DSC07929_JPG-X-Amz-Algorithm-AWS4-HMAC-SHA256.rf.a1c08eac97dbd0a432e175c8eac42bb2_tile_31.jpg: Expected y_min for bbox [ 9.0403146e-01 -5.0012022e-07  9.5840651e-01  1.5824500e-02\n",
            "  0.0000000e+00] to be in the range [0.0, 1.0], got -5.00120222568512e-07.\n",
            "Error aplicando aumentación en DSC07929_JPG-X-Amz-Algorithm-AWS4-HMAC-SHA256.rf.a1c08eac97dbd0a432e175c8eac42bb2_tile_32.jpg: Expected y_min for bbox [ 1.040315e-01 -5.001202e-07  1.584065e-01  1.582450e-02  0.000000e+00] to be in the range [0.0, 1.0], got -5.00120222568512e-07.\n",
            "Error aplicando aumentación en DSC07929_JPG-X-Amz-Algorithm-AWS4-HMAC-SHA256.rf.a1c08eac97dbd0a432e175c8eac42bb2_tile_32.jpg: Expected y_min for bbox [ 1.040315e-01 -5.001202e-07  1.584065e-01  1.582450e-02  0.000000e+00] to be in the range [0.0, 1.0], got -5.00120222568512e-07.\n",
            "Error aplicando aumentación en DSC07929_JPG-X-Amz-Algorithm-AWS4-HMAC-SHA256.rf.a1c08eac97dbd0a432e175c8eac42bb2_tile_32.jpg: Expected y_min for bbox [ 1.040315e-01 -5.001202e-07  1.584065e-01  1.582450e-02  0.000000e+00] to be in the range [0.0, 1.0], got -5.00120222568512e-07.\n",
            "Error aplicando aumentación en DSC07929_JPG-X-Amz-Algorithm-AWS4-HMAC-SHA256.rf.a1c08eac97dbd0a432e175c8eac42bb2_tile_32.jpg: Expected y_min for bbox [ 1.040315e-01 -5.001202e-07  1.584065e-01  1.582450e-02  0.000000e+00] to be in the range [0.0, 1.0], got -5.00120222568512e-07.\n",
            "Error aplicando aumentación en DSC07929_JPG-X-Amz-Algorithm-AWS4-HMAC-SHA256.rf.a1c08eac97dbd0a432e175c8eac42bb2_tile_32.jpg: Expected y_min for bbox [ 1.040315e-01 -5.001202e-07  1.584065e-01  1.582450e-02  0.000000e+00] to be in the range [0.0, 1.0], got -5.00120222568512e-07.\n",
            "Error aplicando aumentación en DSC07929_JPG-X-Amz-Algorithm-AWS4-HMAC-SHA256.rf.a1c08eac97dbd0a432e175c8eac42bb2_tile_32.jpg: Expected y_min for bbox [ 1.040315e-01 -5.001202e-07  1.584065e-01  1.582450e-02  0.000000e+00] to be in the range [0.0, 1.0], got -5.00120222568512e-07.\n",
            "Error aplicando aumentación en DSC08339_2_JPG.rf.7f2600085f702c8d9b76de440658fbf6_tile_77.jpg: Expected y_min for bbox [ 1.259375e-01 -5.001202e-07  1.639065e-01  1.046850e-02  0.000000e+00] to be in the range [0.0, 1.0], got -5.00120222568512e-07.\n",
            "Error aplicando aumentación en DSC08339_2_JPG.rf.7f2600085f702c8d9b76de440658fbf6_tile_77.jpg: Expected y_min for bbox [ 1.259375e-01 -5.001202e-07  1.639065e-01  1.046850e-02  0.000000e+00] to be in the range [0.0, 1.0], got -5.00120222568512e-07.\n",
            "Error aplicando aumentación en DSC08339_2_JPG.rf.7f2600085f702c8d9b76de440658fbf6_tile_77.jpg: Expected y_min for bbox [ 1.259375e-01 -5.001202e-07  1.639065e-01  1.046850e-02  0.000000e+00] to be in the range [0.0, 1.0], got -5.00120222568512e-07.\n",
            "Error aplicando aumentación en DSC08339_2_JPG.rf.7f2600085f702c8d9b76de440658fbf6_tile_77.jpg: Expected y_min for bbox [ 1.259375e-01 -5.001202e-07  1.639065e-01  1.046850e-02  0.000000e+00] to be in the range [0.0, 1.0], got -5.00120222568512e-07.\n",
            "Error aplicando aumentación en DSC08339_2_JPG.rf.7f2600085f702c8d9b76de440658fbf6_tile_77.jpg: Expected y_min for bbox [ 1.259375e-01 -5.001202e-07  1.639065e-01  1.046850e-02  0.000000e+00] to be in the range [0.0, 1.0], got -5.00120222568512e-07.\n",
            "Error aplicando aumentación en DSC08339_2_JPG.rf.7f2600085f702c8d9b76de440658fbf6_tile_77.jpg: Expected y_min for bbox [ 1.259375e-01 -5.001202e-07  1.639065e-01  1.046850e-02  0.000000e+00] to be in the range [0.0, 1.0], got -5.00120222568512e-07.\n",
            "Error aplicando aumentación en DSC00499_JPG-X-Amz-Algorithm-AWS4-HMAC-SHA256.rf.9c61f296361384269cddc6350eb9342f_tile_57.jpg: Expected x_min for bbox [-5.001202e-07  4.122690e-01  2.880450e-02  4.979350e-01  0.000000e+00] to be in the range [0.0, 1.0], got -5.00120222568512e-07.\n",
            "Error aplicando aumentación en DSC00499_JPG-X-Amz-Algorithm-AWS4-HMAC-SHA256.rf.9c61f296361384269cddc6350eb9342f_tile_57.jpg: Expected x_min for bbox [-5.001202e-07  4.122690e-01  2.880450e-02  4.979350e-01  0.000000e+00] to be in the range [0.0, 1.0], got -5.00120222568512e-07.\n",
            "Error aplicando aumentación en DSC00499_JPG-X-Amz-Algorithm-AWS4-HMAC-SHA256.rf.9c61f296361384269cddc6350eb9342f_tile_57.jpg: Expected x_min for bbox [-5.001202e-07  4.122690e-01  2.880450e-02  4.979350e-01  0.000000e+00] to be in the range [0.0, 1.0], got -5.00120222568512e-07.\n",
            "Error aplicando aumentación en DSC00499_JPG-X-Amz-Algorithm-AWS4-HMAC-SHA256.rf.9c61f296361384269cddc6350eb9342f_tile_57.jpg: Expected x_min for bbox [-5.001202e-07  4.122690e-01  2.880450e-02  4.979350e-01  0.000000e+00] to be in the range [0.0, 1.0], got -5.00120222568512e-07.\n",
            "Error aplicando aumentación en DSC00499_JPG-X-Amz-Algorithm-AWS4-HMAC-SHA256.rf.9c61f296361384269cddc6350eb9342f_tile_57.jpg: Expected x_min for bbox [-5.001202e-07  4.122690e-01  2.880450e-02  4.979350e-01  0.000000e+00] to be in the range [0.0, 1.0], got -5.00120222568512e-07.\n",
            "Error aplicando aumentación en DSC00499_JPG-X-Amz-Algorithm-AWS4-HMAC-SHA256.rf.9c61f296361384269cddc6350eb9342f_tile_57.jpg: Expected x_min for bbox [-5.001202e-07  4.122690e-01  2.880450e-02  4.979350e-01  0.000000e+00] to be in the range [0.0, 1.0], got -5.00120222568512e-07.\n",
            "Error aplicando aumentación en DSC09244_JPG.rf.a36805b53d500abce5f3e409cf2fb422_tile_10.jpg: Expected x_min for bbox [-5.0105155e-07  5.3064203e-01  3.7104502e-02  5.6207800e-01\n",
            "  0.0000000e+00] to be in the range [0.0, 1.0], got -5.010515451431274e-07.\n",
            "Error aplicando aumentación en DSC09244_JPG.rf.a36805b53d500abce5f3e409cf2fb422_tile_10.jpg: Expected x_min for bbox [-5.0105155e-07  5.3064203e-01  3.7104502e-02  5.6207800e-01\n",
            "  0.0000000e+00] to be in the range [0.0, 1.0], got -5.010515451431274e-07.\n",
            "Error aplicando aumentación en DSC09244_JPG.rf.a36805b53d500abce5f3e409cf2fb422_tile_10.jpg: Expected x_min for bbox [-5.0105155e-07  5.3064203e-01  3.7104502e-02  5.6207800e-01\n",
            "  0.0000000e+00] to be in the range [0.0, 1.0], got -5.010515451431274e-07.\n",
            "Error aplicando aumentación en DSC09244_JPG.rf.a36805b53d500abce5f3e409cf2fb422_tile_10.jpg: Expected x_min for bbox [-5.0105155e-07  5.3064203e-01  3.7104502e-02  5.6207800e-01\n",
            "  0.0000000e+00] to be in the range [0.0, 1.0], got -5.010515451431274e-07.\n",
            "Error aplicando aumentación en DSC09244_JPG.rf.a36805b53d500abce5f3e409cf2fb422_tile_10.jpg: Expected x_min for bbox [-5.0105155e-07  5.3064203e-01  3.7104502e-02  5.6207800e-01\n",
            "  0.0000000e+00] to be in the range [0.0, 1.0], got -5.010515451431274e-07.\n",
            "Error aplicando aumentación en DSC09244_JPG.rf.a36805b53d500abce5f3e409cf2fb422_tile_10.jpg: Expected x_min for bbox [-5.0105155e-07  5.3064203e-01  3.7104502e-02  5.6207800e-01\n",
            "  0.0000000e+00] to be in the range [0.0, 1.0], got -5.010515451431274e-07.\n",
            "✅ Aumentación completada para positivos de TRAIN.\n",
            "\n",
            "🔄 Preparando negativos para TRAIN...\n",
            "   [TRAIN]: Positivos: 5189. Negativos iniciales necesarios para 1:8 de pos: 41512.\n",
            "   [TRAIN]: Copiando 5189 tiles positivos a la selección final.\n",
            "   [TRAIN]: Intentando añadir 12453 hard negatives (30% del total necesario).\n",
            "   [TRAIN]: Hard negatives añadidos: 12453\n",
            "   [TRAIN]: Añadiendo 29059 negativos normales.\n",
            "✅ TRAIN: Negativos preparados. Contenido inicial en '/content/mi_dataset_split/train/tiles/final_selection/images' y '/content/mi_dataset_split/train/tiles/negatives_rest/images'.\n",
            "\n",
            "🔄 Preparando negativos para VALID...\n",
            "   [VALID]: Copiando 170 tiles positivos a la selección final.\n",
            "   [VALID]: Moviendo todos los negativos a 'negatives_rest' para rebalanceo posterior.\n",
            "✅ VALID: Negativos preparados. Contenido inicial en '/content/mi_dataset_split/valid/tiles/final_selection/images' y '/content/mi_dataset_split/valid/tiles/negatives_rest/images'.\n",
            "\n",
            "🔄 Preparando negativos para TEST...\n",
            "   [TEST]: Copiando 170 tiles positivos a la selección final.\n",
            "   [TEST]: Moviendo todos los negativos a 'negatives_rest' para rebalanceo posterior.\n",
            "✅ TEST: Negativos preparados. Contenido inicial en '/content/mi_dataset_split/test/tiles/final_selection/images' y '/content/mi_dataset_split/test/tiles/negatives_rest/images'.\n",
            "\n",
            "⚖️ Iniciando rebalanceo de los splits VALID y TEST...\n",
            "📊 Tamaño final del set TRAIN: 46701 imágenes.\n",
            "🎯 Tamaño total deseado del dataset: 66716 imágenes (TRAIN 46701 / 70%).\n",
            "🎯 Tamaño objetivo para VALID (proporcional): 10007 imágenes (15% del total).\n",
            "🎯 Tamaño objetivo para TEST (proporcional): 10007 imágenes (15% del total).\n",
            "   Ajuste por redondeo: VALID target ajustado a 10008\n",
            "\n",
            "⚙️ Ajustando el split VALID con objetivo de 10008 imágenes...\n",
            "   VALID: Positivos actuales (ya en final_selection): 170\n",
            "   VALID: Negativos totales necesarios para el objetivo (10008 total - 170 pos): 9838\n",
            "   VALID: Hard negatives deseados (10% del total de negativos): 983\n",
            "   VALID: Hard negatives añadidos: 983\n",
            "   VALID: Añadiendo 8855 negativos normales adicionales de 'negatives_rest'.\n",
            "   ✅ VALID: Ajuste de negativos completado. Total final para exportación: 10008 imágenes.\n",
            "\n",
            "⚙️ Ajustando el split TEST con objetivo de 10007 imágenes...\n",
            "   TEST: Positivos actuales (ya en final_selection): 170\n",
            "   TEST: Negativos totales necesarios para el objetivo (10007 total - 170 pos): 9837\n",
            "   TEST: Hard negatives deseados (10% del total de negativos): 983\n",
            "   TEST: Hard negatives añadidos: 983\n",
            "   TEST: Añadiendo 8854 negativos normales adicionales de 'negatives_rest'.\n",
            "   ✅ TEST: Ajuste de negativos completado. Total final para exportación: 10007 imágenes.\n",
            "\n",
            "📊 RESUMEN FINAL DE TILES (Antes de la exportación final)\n",
            "\n",
            "📁 TRAIN\n",
            "Total en final_selection: 46701 imágenes | 46701 etiquetas\n",
            "En negatives_rest (sobrantes): 25528 imágenes | 25528 etiquetas\n",
            "\n",
            "📁 VALID\n",
            "Total en final_selection: 10008 imágenes | 10008 etiquetas\n",
            "En negatives_rest (sobrantes): 2775 imágenes | 2775 etiquetas\n",
            "\n",
            "📁 TEST\n",
            "Total en final_selection: 10007 imágenes | 10007 etiquetas\n",
            "En negatives_rest (sobrantes): 2880 imágenes | 2880 etiquetas\n",
            "\n",
            "📦 Iniciando export final para entrenamiento YOLOv8...\n",
            "\n",
            "🔄 Procesando TRAIN...\n",
            "✅ TRAIN: 46701 imágenes, 46701 labels exportados.\n",
            "🔄 Procesando VALID...\n",
            "✅ VALID: 10008 imágenes, 10008 labels exportados.\n",
            "🔄 Procesando TEST...\n",
            "✅ TEST: 10007 imágenes, 10007 labels exportados.\n",
            "\n",
            "🚀 Export final completo en: /content/export_yolov8\n",
            "✅ 'data.yaml' copiado a: /content/export_yolov8/data.yaml\n",
            "✅ Resumen de tiles descartados actualizado en: /content/export_yolov8/errors/tiles_descartados.txt\n",
            "\n",
            "📊 PROPORCIÓN FINAL DE IMÁGENES POR CONJUNTO:\n",
            "TRAIN : 46701 imágenes (70.00%)\n",
            "VALID : 10008 imágenes (15.00%)\n",
            "TEST  : 10007 imágenes (15.00%)\n",
            "TOTAL: 66716 imágenes\n"
          ]
        }
      ],
      "source": [
        "import os\n",
        "import cv2\n",
        "import albumentations as A\n",
        "import random\n",
        "import shutil\n",
        "import numpy as np\n",
        "import torch\n",
        "\n",
        "# Fijar la semilla para reproducibilidad\n",
        "SEED = 42\n",
        "os.environ[\"PYTHONHASHSEED\"] = str(SEED)\n",
        "random.seed(SEED)\n",
        "np.random.seed(SEED)\n",
        "torch.manual_seed(SEED)\n",
        "if torch.cuda.is_available():\n",
        "    torch.cuda.manual_seed_all(SEED)\n",
        "\n",
        "# --- CONFIGURACIÓN (editable) ---\n",
        "BASE_DATASET_DIR = \"/content/mi_dataset_split\"\n",
        "EXPORT_DIR = \"/content/export_yolov8\"\n",
        "IMAGE_EXTENSIONS = (\".jpg\", \".jpeg\", \".png\")\n",
        "\n",
        "# Parámetros para tiling\n",
        "TILE_SIZE = 640\n",
        "OVERLAP = 128\n",
        "\n",
        "\n",
        "# Proporción deseada de positivos/negativos totales para el conjunto de TRAIN\n",
        "NEGATIVE_MULTIPLIER = 9  # esto asegura 1 positivo por cada 8 negativos, ratio 1:8 o 1/9\n",
        "\n",
        "APPLY_AUGMENTATION = True\n",
        "AUGMENTATIONS_MIN = 6\n",
        "AUGMENTATIONS_MAX = 6\n",
        "\n",
        "# Carpeta de hard negatives (falsos positivos extraídos de una primera inferencia)\n",
        "FORCED_NEGATIVES_SUBFOLDER = \"hard_negatives\"\n",
        "\n",
        "# Porcentaje de hard negatives sobre el *total de negativos* para cada split.\n",
        "HARD_NEG_PERCENTAGE_TRAIN = 0.30\n",
        "HARD_NEG_PERCENTAGE_VALID = 0.10\n",
        "HARD_NEG_PERCENTAGE_TEST = 0.10\n",
        "\n",
        " #!!! NUEVAS VARIABLES DE CONFIGURACIÓN PARA PORCENTAJES PROPORCIONALES !!!\n",
        "# Estos porcentajes se usarán SOLO si VALID_TARGET_COUNT o TEST_TARGET_COUNT son None.\n",
        "TRAIN_SET_PERCENTAGE = 0.70 # Porcentaje del dataset total para entrenamiento (0.70 = 70%)\n",
        "VALID_SET_PERCENTAGE = 0.15 # Porcentaje del dataset total para validación (0.15 = 15%)\n",
        "TEST_SET_PERCENTAGE = 0.15  # Porcentaje del dataset total para test (0.15 = 15%)\n",
        "# !!! FIN NUEVAS VARIABLES DE CONFIGURACIÓN PARA PORCENTAJES PROPORCIONALES !!!\n",
        "\n",
        "# !!! NUEVAS VARIABLES DE CONFIGURACIÓN !!!\n",
        "#ESTO ES PARA AMPLIFICACION, CUANDO QUIERES QUE EL TEST SET Y VALID SET TENGAN MISMO NUMERO QUE MINISEAL PERO CON TRAIN DE MEDIUMSEAL\n",
        "# Si se establece un número entero, se usará como el tamaño fijo del split.\n",
        "# Si se deja en None, se calculará como el 15% del tamaño final de TRAIN.\n",
        "VALID_TARGET_COUNT = None   # Ejemplo: 6000 para un tamaño fijo de 6000 imágenes para VALID  @ al PONER None, vale para los demas datasets!########################333\n",
        "TEST_TARGET_COUNT = None    # Ejemplo: None para que se calcule el 15% para TEST\n",
        "# !!! FIN NUEVAS VARIABLES DE CONFIGURACIÓN !!!\n",
        "\n",
        "\n",
        "# Rutas para el data.yaml:\n",
        "INPUT_YAML_PATH = os.path.join(BASE_DATASET_DIR, \"data.yaml\")\n",
        "EXPORT_YAML_PATH = os.path.join(EXPORT_DIR, \"data.yaml\")\n",
        "\n",
        "# Control de limpieza de carpetas intermedias\n",
        "CLEAN_INTERMEDIATE = False\n",
        "\n",
        "# --- Fin de Configuración ---\n",
        "\n",
        "# --- Funciones Auxiliares (mantienen el código existente) ---\n",
        "def count_files(folder):\n",
        "    \"\"\"Cuenta el número de archivos en una carpeta.\"\"\"\n",
        "    if not os.path.exists(folder):\n",
        "        return 0\n",
        "    return len([f for f in os.listdir(folder) if os.path.isfile(os.path.join(folder, f))])\n",
        "\n",
        "def polygon_to_bbox(coords):\n",
        "    \"\"\"\n",
        "    Convierte una lista de coordenadas de un polígono [x1, y1, x2, y2, ..., xN, yN]\n",
        "    a una bounding box en formato YOLO: (x_center, y_center, width, height).\n",
        "    \"\"\"\n",
        "    if not coords or len(coords) % 2 != 0:\n",
        "        return None\n",
        "    xs = coords[0::2]\n",
        "    ys = coords[1::2]\n",
        "    if not xs or not ys:\n",
        "        return None\n",
        "    x_min, x_max = min(xs), max(xs)\n",
        "    y_min, y_max = min(ys), max(ys)\n",
        "    return (x_min + x_max) / 2, (y_min + y_max) / 2, x_max - x_min, y_max - y_min\n",
        "\n",
        "def process_label_file(src_file, dst_file):\n",
        "    \"\"\"Procesa un archivo de etiqueta, convirtiendo polígonos a BBoxes si es necesario.\"\"\"\n",
        "    with open(src_file, 'r') as f_in:\n",
        "        lines = f_in.readlines()\n",
        "    new_lines = []\n",
        "    for line in lines:\n",
        "        parts = line.strip().split()\n",
        "        if not parts:\n",
        "            continue\n",
        "        cls = parts[0]\n",
        "        try:\n",
        "            coords = list(map(float, parts[1:]))\n",
        "        except Exception as e:\n",
        "            print(f\"Error procesando coordenadas en {src_file}: {e}\")\n",
        "            continue\n",
        "\n",
        "        if len(coords) == 4:\n",
        "            # Ya en formato bbox (x_center, y_center, w, h)\n",
        "            new_line = f\"{cls} {' '.join(f'{c:.16f}' for c in coords)}\"\n",
        "        else:\n",
        "            bbox = polygon_to_bbox(coords)\n",
        "            if bbox is None:\n",
        "                print(f\"Warning: No se pudo convertir el polígono en {src_file}. Línea saltada.\")\n",
        "                continue\n",
        "            x_center, y_center, width, height = bbox\n",
        "            new_line = f\"{cls} {x_center:.16f} {y_center:.16f} {width:.16f} {height:.16f}\"\n",
        "        new_lines.append(new_line)\n",
        "    with open(dst_file, 'w') as f_out:\n",
        "        for new_line in new_lines:\n",
        "            f_out.write(new_line + \"\\n\")\n",
        "\n",
        "def load_annotations(label_path, image_width, image_height):\n",
        "    \"\"\"Carga anotaciones YOLO de un archivo y las convierte a coordenadas absolutas.\"\"\"\n",
        "    annotations = []\n",
        "    if not os.path.exists(label_path):\n",
        "        return annotations\n",
        "    with open(label_path, 'r') as f:\n",
        "        for line in f:\n",
        "            parts = line.strip().split()\n",
        "            if not parts:\n",
        "                continue\n",
        "            cls = parts[0]\n",
        "            coords = list(map(float, parts[1:]))\n",
        "            # Asume formato YOLO: x_center, y_center, w, h (normalizado)\n",
        "            x_center, y_center, w, h = coords\n",
        "            x1 = (x_center - w/2) * image_width\n",
        "            y1 = (y_center - h/2) * image_height\n",
        "            x2 = (x_center + w/2) * image_width\n",
        "            y2 = (y_center + h/2) * image_height\n",
        "            annotations.append((cls, x1, y1, x2, y2))\n",
        "    return annotations\n",
        "\n",
        "def adjust_annotation_for_tile(annotation, tile_x, tile_y, tile_size):\n",
        "    \"\"\"\n",
        "    Ajusta una anotación al sistema de coordenadas locales del tile y la normaliza.\n",
        "    Si la intersección es insuficiente o el tamaño es muy pequeño, retorna None.\n",
        "    \"\"\"\n",
        "    cls, x1, y1, x2, y2 = annotation\n",
        "    inter_x1 = max(x1, tile_x)\n",
        "    inter_y1 = max(y1, tile_y)\n",
        "    inter_x2 = min(x2, tile_x + tile_size)\n",
        "    inter_y2 = min(y2, tile_y + tile_size)\n",
        "\n",
        "    if inter_x2 <= inter_x1 or inter_y2 <= inter_y1:\n",
        "        return None\n",
        "\n",
        "    local_x1 = inter_x1 - tile_x\n",
        "    local_y1 = inter_y1 - tile_y\n",
        "    local_x2 = inter_x2 - tile_x\n",
        "    local_y2 = inter_y2 - tile_y\n",
        "\n",
        "    w = local_x2 - local_x1\n",
        "    h = local_y2 - local_y1\n",
        "    x_center = local_x1 + w / 2\n",
        "    y_center = local_y1 + h / 2\n",
        "\n",
        "    # Normalizar al tamaño del tile [0,1]\n",
        "    norm_x = max(0.0, min(1.0, x_center / tile_size))\n",
        "    norm_y = max(0.0, min(1.0, y_center / tile_size))\n",
        "    norm_w = max(0.0, min(1.0, w / tile_size))\n",
        "    norm_h = max(0.0, min(1.0, h / tile_size))\n",
        "\n",
        "    # Umbral mínimo para evitar cajas insignificantes\n",
        "    MIN_SIZE_RATIO = 0.01\n",
        "    if norm_w < MIN_SIZE_RATIO or norm_h < MIN_SIZE_RATIO:\n",
        "        return None\n",
        "    return (cls, norm_x, norm_y, norm_w, norm_h)\n",
        "\n",
        "def read_yolo_labels(label_path):\n",
        "    \"\"\"Lee etiquetas YOLO de un archivo.\"\"\"\n",
        "    bboxes, classes = [], []\n",
        "    if os.path.exists(label_path):\n",
        "        with open(label_path, 'r') as f:\n",
        "            for line in f:\n",
        "                parts = line.strip().split()\n",
        "                if len(parts) == 5:\n",
        "                    classes.append(parts[0])\n",
        "                    bboxes.append(list(map(float, parts[1:])))\n",
        "    return bboxes, classes\n",
        "\n",
        "def safe_copy(src_dir, dst_dir, extensions=None):\n",
        "    \"\"\"Copia archivos de forma segura, evitando sobrescrituras y filtrando por extensión.\"\"\"\n",
        "    copied = 0\n",
        "    if not os.path.exists(src_dir):\n",
        "        print(f\"Warning: Directorio de origen no encontrado: {src_dir}. Se omite la copia.\")\n",
        "        return 0\n",
        "\n",
        "    for fname in os.listdir(src_dir):\n",
        "        if extensions and not fname.lower().endswith(extensions):\n",
        "            continue\n",
        "        src = os.path.join(src_dir, fname)\n",
        "        dst = os.path.join(dst_dir, fname)\n",
        "\n",
        "        # Si el destino ya existe, renombra para evitar conflictos\n",
        "        if os.path.exists(dst):\n",
        "            base, ext = os.path.splitext(fname)\n",
        "            i = 1\n",
        "            while os.path.exists(os.path.join(dst_dir, f\"{base}_{i}{ext}\")):\n",
        "                i += 1\n",
        "            dst = os.path.join(dst_dir, f\"{base}_{i}{ext}\")\n",
        "\n",
        "        shutil.copy2(src, dst)\n",
        "        copied += 1\n",
        "    return copied\n",
        "\n",
        "def select_and_copy_hard_negatives(num_needed, dest_img_dir, dest_lbl_dir,\n",
        "                                     global_hard_images_pool,\n",
        "                                     hard_negatives_used_tracker):\n",
        "    \"\"\"\n",
        "    Selecciona `num_needed` hard negatives del pool global que aún no han sido usados\n",
        "    y los copia al directorio de destino.\n",
        "    Actualiza el tracker de hard negatives usados.\n",
        "    \"\"\"\n",
        "    added_count = 0\n",
        "    if num_needed <= 0 or not global_hard_images_pool:\n",
        "        return 0\n",
        "\n",
        "    available_hard = [f for f in global_hard_images_pool if f not in hard_negatives_used_tracker]\n",
        "\n",
        "    if not available_hard:\n",
        "        return 0\n",
        "\n",
        "    if num_needed > len(available_hard):\n",
        "        selected_to_add = available_hard\n",
        "    else:\n",
        "        random.seed(SEED)\n",
        "        selected_to_add = random.sample(available_hard, num_needed)\n",
        "\n",
        "    src_img_dir = os.path.join(BASE_DATASET_DIR, FORCED_NEGATIVES_SUBFOLDER, \"tiles\", \"images\")\n",
        "    src_lbl_dir = os.path.join(BASE_DATASET_DIR, FORCED_NEGATIVES_SUBFOLDER, \"tiles\", \"labels\")\n",
        "\n",
        "    for fname in selected_to_add:\n",
        "        lbl_name = os.path.splitext(fname)[0] + \".txt\"\n",
        "        shutil.copy2(os.path.join(src_img_dir, fname), os.path.join(dest_img_dir, fname))\n",
        "        shutil.copy2(os.path.join(src_lbl_dir, lbl_name), os.path.join(dest_lbl_dir, lbl_name))\n",
        "        hard_negatives_used_tracker.add(fname)\n",
        "        added_count += 1\n",
        "    return added_count\n",
        "\n",
        "\n",
        "# --- Pasos del Pipeline ---\n",
        "\n",
        "def process_all_labels_for_set(set_name):\n",
        "    \"\"\"Convierte todas las etiquetas de polígonos a bounding boxes para un set.\"\"\"\n",
        "    print(f\"\\n🔄 Convirtiendo etiquetas de {set_name.upper()}...\")\n",
        "    src_dir = os.path.join(BASE_DATASET_DIR, set_name, \"labels\")\n",
        "    dst_dir = os.path.join(BASE_DATASET_DIR, set_name, \"bblabels\")\n",
        "    os.makedirs(dst_dir, exist_ok=True)\n",
        "    for filename in os.listdir(src_dir):\n",
        "        if filename.endswith(\".txt\"):\n",
        "            process_label_file(os.path.join(src_dir, filename), os.path.join(dst_dir, filename))\n",
        "    print(f\"✅ [{set_name.upper()}] Conversión de etiquetas completada.\")\n",
        "\n",
        "def tile_and_separate(image_path, label_path, out_pos_img, out_pos_lbl, out_neg_img, out_neg_lbl, split_name=\"unknown\"):\n",
        "    \"\"\"\n",
        "    Genera tiles de una imagen y sus anotaciones, separándolos en positivos (con objetos)\n",
        "    y negativos (sin objetos).\n",
        "    \"\"\"\n",
        "    image = cv2.imread(image_path)\n",
        "    if image is None:\n",
        "        print(f\"❌ No se pudo leer la imagen: {image_path}, se omite.\")\n",
        "        return 0, 0\n",
        "    orig_h, orig_w = image.shape[:2]\n",
        "    annotations = load_annotations(label_path, orig_w, orig_h)\n",
        "    step = TILE_SIZE - OVERLAP\n",
        "    count_pos, count_neg = 0, 0 # Initialize count_pos and count_neg\n",
        "    base_name = os.path.splitext(os.path.basename(image_path))[0]\n",
        "    tile_idx = 0\n",
        "\n",
        "    log_dir = os.path.join(EXPORT_DIR, \"errors\")\n",
        "    os.makedirs(log_dir, exist_ok=True)\n",
        "    log_path = os.path.join(log_dir, \"tiles_descartados.txt\")\n",
        "    discard_entries = []\n",
        "\n",
        "    for y in range(0, orig_h, step):\n",
        "        for x in range(0, orig_w, step):\n",
        "            tile = image[y:min(y+TILE_SIZE, orig_h), x:min(x+TILE_SIZE, orig_w)]\n",
        "\n",
        "            # Rellenar tile si es más pequeño que TILE_SIZE\n",
        "            if tile.shape[0] < TILE_SIZE or tile.shape[1] < TILE_SIZE:\n",
        "                padded = np.zeros((TILE_SIZE, TILE_SIZE, 3), dtype=tile.dtype)\n",
        "                padded[0:tile.shape[0], 0:tile.shape[1]] = tile\n",
        "                tile = padded\n",
        "\n",
        "            tile_name = f\"{base_name}_tile_{tile_idx}.jpg\"\n",
        "            label_name = f\"{base_name}_tile_{tile_idx}.txt\"\n",
        "            tile_idx += 1\n",
        "\n",
        "            valid_annots = []\n",
        "            for ann in annotations:\n",
        "                result = adjust_annotation_for_tile(ann, x, y, TILE_SIZE)\n",
        "                if result:\n",
        "                    valid_annots.append(result)\n",
        "\n",
        "            if valid_annots:\n",
        "                # Tile positivo (contiene objetos)\n",
        "                cv2.imwrite(os.path.join(out_pos_img, tile_name), tile)\n",
        "                with open(os.path.join(out_pos_lbl, label_name), 'w') as f:\n",
        "                    for cls, xc, yc, w, h in valid_annots:\n",
        "                        f.write(f\"{cls} {xc:.6f} {yc:.6f} {w:.6f} {h:.6f}\\n\")\n",
        "                count_pos += 1\n",
        "            else:\n",
        "                # Tile negativo (no contiene objetos)\n",
        "                cv2.imwrite(os.path.join(out_neg_img, tile_name), tile)\n",
        "                open(os.path.join(out_neg_lbl, label_name), 'w').close()\n",
        "                count_neg += 1\n",
        "                discard_entries.append(\n",
        "                    f\"{tile_name} | de {base_name} @ x={x}, y={y} → {len(annotations)} cajas totales, 0 válidas.\"\n",
        "                )\n",
        "\n",
        "    if discard_entries:\n",
        "        with open(log_path, \"a\") as log:\n",
        "            log.write(f\"\\n🔹 TILES DESCARTADOS EN {split_name.upper()} (original: {base_name})\\n\")\n",
        "            log.write(\"-\" * 50 + \"\\n\")\n",
        "            for entry in discard_entries:\n",
        "                log.write(entry + \"\\n\")\n",
        "\n",
        "    return count_pos, count_neg # Corrected: return count_pos and count_neg\n",
        "\n",
        "def process_tiling_for_set(set_name):\n",
        "    \"\"\"Procesa el tiling para un set de datos (train, valid, test).\"\"\"\n",
        "    print(f\"\\n📦 Procesando tiling para {set_name.upper()}...\")\n",
        "    input_img_dir = os.path.join(BASE_DATASET_DIR, set_name, \"images\")\n",
        "    input_lbl_dir = os.path.join(BASE_DATASET_DIR, set_name, \"bblabels\")\n",
        "    pos_img = os.path.join(BASE_DATASET_DIR, set_name, \"tiles\", \"positives\", \"images\")\n",
        "    pos_lbl = os.path.join(BASE_DATASET_DIR, set_name, \"tiles\", \"positives\", \"labels\")\n",
        "    neg_img = os.path.join(BASE_DATASET_DIR, set_name, \"tiles\", \"negatives\", \"images\")\n",
        "    neg_lbl = os.path.join(BASE_DATASET_DIR, set_name, \"tiles\", \"negatives\", \"labels\")\n",
        "    os.makedirs(pos_img, exist_ok=True)\n",
        "    os.makedirs(pos_lbl, exist_ok=True)\n",
        "    os.makedirs(neg_img, exist_ok=True)\n",
        "    os.makedirs(neg_lbl, exist_ok=True)\n",
        "\n",
        "    image_files = [f for f in os.listdir(input_img_dir) if f.lower().endswith(IMAGE_EXTENSIONS)]\n",
        "    total_pos, total_neg = 0, 0\n",
        "    for img_file in image_files:\n",
        "        img_path = os.path.join(input_img_dir, img_file)\n",
        "        lbl_path = os.path.join(input_lbl_dir, os.path.splitext(img_file)[0] + \".txt\")\n",
        "        pos, neg = tile_and_separate(img_path, lbl_path, pos_img, pos_lbl, neg_img, neg_lbl, split_name=set_name.upper())\n",
        "        total_pos += pos\n",
        "        total_neg += neg\n",
        "    print(f\"✅ {set_name.upper()}: {total_pos} tiles positivos, {total_neg} negativos (generados inicialmente).\")\n",
        "\n",
        "def process_forced_negatives_tiling():\n",
        "    \"\"\"Genera tiles de las imágenes de 'hard_negatives' (falsos positivos de inferencia previa).\"\"\"\n",
        "    img_dir = os.path.join(BASE_DATASET_DIR, FORCED_NEGATIVES_SUBFOLDER, \"train\", \"images\")\n",
        "    lbl_dir = os.path.join(BASE_DATASET_DIR, FORCED_NEGATIVES_SUBFOLDER, \"train\", \"labels\")\n",
        "\n",
        "    if not os.path.exists(os.path.join(BASE_DATASET_DIR, FORCED_NEGATIVES_SUBFOLDER)):\n",
        "        print(f\"⚠️ Carpeta de negativos forzados '{FORCED_NEGATIVES_SUBFOLDER}' no encontrada en '{BASE_DATASET_DIR}'. Se omite este paso.\")\n",
        "        return\n",
        "\n",
        "    if not os.path.exists(img_dir) or not os.path.exists(lbl_dir) or not any(f.lower().endswith(IMAGE_EXTENSIONS) for f in os.listdir(img_dir)):\n",
        "        print(f\"⚠️ No hay imágenes en la carpeta de negativos forzados: {img_dir}. Se omite este paso.\")\n",
        "        return\n",
        "\n",
        "    print(\"\\n🧩 Procesando TILES de negativos forzados (falsos positivos)...\")\n",
        "\n",
        "    out_img_dir = os.path.join(BASE_DATASET_DIR, FORCED_NEGATIVES_SUBFOLDER, \"tiles\", \"images\")\n",
        "    out_lbl_dir = os.path.join(BASE_DATASET_DIR, FORCED_NEGATIVES_SUBFOLDER, \"tiles\", \"labels\")\n",
        "    os.makedirs(out_img_dir, exist_ok=True)\n",
        "    os.makedirs(out_lbl_dir, exist_ok=True)\n",
        "\n",
        "    step = TILE_SIZE - OVERLAP\n",
        "    total_tiles = 0\n",
        "\n",
        "    for img_name in os.listdir(img_dir):\n",
        "        if not img_name.lower().endswith(IMAGE_EXTENSIONS):\n",
        "            continue\n",
        "\n",
        "        img_path = os.path.join(img_dir, img_name)\n",
        "        label_path = os.path.join(lbl_dir, os.path.splitext(img_name)[0] + \".txt\")\n",
        "\n",
        "        image = cv2.imread(img_path)\n",
        "        if image is None:\n",
        "            print(f\"❌ No se pudo leer {img_name}, se omite.\")\n",
        "            continue\n",
        "\n",
        "        h, w = image.shape[:2]\n",
        "        base_name = os.path.splitext(img_name)[0]\n",
        "        tile_idx = 0\n",
        "\n",
        "        for y in range(0, h, step):\n",
        "            for x in range(0, w, step):\n",
        "                tile = image[y:min(y+TILE_SIZE, h), x:min(x+TILE_SIZE, w)]\n",
        "                if tile.shape[0] < TILE_SIZE or tile.shape[1] < TILE_SIZE:\n",
        "                    padded = np.zeros((TILE_SIZE, TILE_SIZE, 3), dtype=tile.dtype)\n",
        "                    padded[0:tile.shape[0], 0:tile.shape[1]] = tile\n",
        "                    tile = padded\n",
        "\n",
        "                tile_name = f\"{base_name}_tile_{tile_idx}.jpg\"\n",
        "                label_name = f\"{base_name}_tile_{tile_idx}.txt\"\n",
        "                cv2.imwrite(os.path.join(out_img_dir, tile_name), tile)\n",
        "\n",
        "                # For forced negatives, copy the existing label file (even if empty, usually they are)\n",
        "                shutil.copy2(label_path, os.path.join(out_lbl_dir, label_name))\n",
        "                tile_idx += 1\n",
        "\n",
        "        total_tiles += tile_idx\n",
        "\n",
        "    print(f\"✅ TILES de negativos forzados completados: {total_tiles} tiles generados.\")\n",
        "\n",
        "def check_forced_tiles():\n",
        "    \"\"\"Verifica la cantidad de tiles de negativos forzados generados.\"\"\"\n",
        "    img_dir = os.path.join(BASE_DATASET_DIR, FORCED_NEGATIVES_SUBFOLDER, \"tiles\", \"images\")\n",
        "    lbl_dir = os.path.join(BASE_DATASET_DIR, FORCED_NEGATIVES_SUBFOLDER, \"tiles\", \"labels\")\n",
        "\n",
        "    n_img = count_files(img_dir) if os.path.exists(img_dir) else 0\n",
        "    n_lbl = count_files(lbl_dir) if os.path.exists(lbl_dir) else 0\n",
        "\n",
        "    print(f\"\\n🔍 Verificación TILES negativos forzados:\")\n",
        "    print(f\"🖼️  Tiles: {n_img}\")\n",
        "    print(f\"📄 Etiquetas (vacías): {n_lbl}\")\n",
        "\n",
        "# --- Data Augmentation ---\n",
        "transform_pipeline = A.Compose([\n",
        "    A.SomeOf([\n",
        "        A.HorizontalFlip(p=1.0),\n",
        "        A.Rotate(limit=(-5, 5), p=1.0),\n",
        "        A.Affine(shear=(-5, 5), p=1.0),\n",
        "        A.RandomBrightnessContrast(brightness_limit=(-0.05, 0.05), contrast_limit=(-0.05, 0.05), p=1.0),\n",
        "        A.Blur(blur_limit=5, p=1.0),\n",
        "        A.CLAHE(p=0.01, clip_limit=(1.0, 4.0), tile_grid_size=(8, 8)),\n",
        "        A.ToGray(p=0.01, num_output_channels=3, method='weighted_average'),\n",
        "    ], n=4, replace=True),\n",
        "    A.Resize(TILE_SIZE, TILE_SIZE)\n",
        "], bbox_params=A.BboxParams(format='yolo', label_fields=['labels']))\n",
        "\n",
        "def augment_positives():\n",
        "    \"\"\"Aumenta los tiles positivos del conjunto de entrenamiento.\"\"\"\n",
        "    input_img_dir = os.path.join(BASE_DATASET_DIR, \"train\", \"tiles\", \"positives\", \"images\")\n",
        "    input_lbl_dir = os.path.join(BASE_DATASET_DIR, \"train\", \"tiles\", \"positives\", \"labels\")\n",
        "    output_img_dir = os.path.join(BASE_DATASET_DIR, \"train\", \"tiles\", \"aug\", \"positives\", \"images\")\n",
        "    output_lbl_dir = os.path.join(BASE_DATASET_DIR, \"train\", \"tiles\", \"aug\", \"positives\", \"labels\")\n",
        "    os.makedirs(output_img_dir, exist_ok=True)\n",
        "    os.makedirs(output_lbl_dir, exist_ok=True)\n",
        "\n",
        "    print(\"\\n✨ Iniciando aumentación de datos para positivos de TRAIN...\")\n",
        "\n",
        "    for filename in os.listdir(input_img_dir):\n",
        "        if not filename.lower().endswith(IMAGE_EXTENSIONS): continue\n",
        "        img_path = os.path.join(input_img_dir, filename)\n",
        "        label_path = os.path.join(input_lbl_dir, os.path.splitext(filename)[0] + \".txt\")\n",
        "\n",
        "        bboxes, classes = read_yolo_labels(label_path)\n",
        "\n",
        "        # Always copy the original positive image and its label\n",
        "        shutil.copy2(img_path, os.path.join(output_img_dir, filename))\n",
        "        shutil.copy2(label_path, os.path.join(output_lbl_dir, os.path.splitext(filename)[0] + \".txt\"))\n",
        "\n",
        "        # Only apply augmentation if there are bboxes\n",
        "        if len(bboxes) == 0:\n",
        "            continue\n",
        "\n",
        "        random.seed(SEED) # Ensure reproducibility of random number of augmentations\n",
        "        num_variants = random.randint(AUGMENTATIONS_MIN, AUGMENTATIONS_MAX)\n",
        "\n",
        "        for i in range(num_variants):\n",
        "            image_bgr = cv2.imread(img_path)\n",
        "            if image_bgr is None: continue\n",
        "            image_rgb = cv2.cvtColor(image_bgr, cv2.COLOR_BGR2RGB)\n",
        "\n",
        "            try:\n",
        "                # Use a different seed for each augmentation variant\n",
        "                random.seed(SEED + i)\n",
        "                np.random.seed(SEED + i)\n",
        "\n",
        "                result = transform_pipeline(image=image_rgb, bboxes=bboxes, labels=classes)\n",
        "            except Exception as e:\n",
        "                print(f\"Error aplicando aumentación en {filename}: {e}\"); continue\n",
        "\n",
        "            aug_img_rgb = result[\"image\"]\n",
        "            aug_bboxes = result[\"bboxes\"]\n",
        "            aug_labels = result[\"labels\"]\n",
        "\n",
        "            # Clipear las coordenadas de las bounding boxes para asegurar que estén dentro de [0.0, 1.0]\n",
        "            clipped_bboxes = []\n",
        "            for bbox in aug_bboxes:\n",
        "                clipped_bbox = [max(0.0, min(1.0, val)) for val in bbox]\n",
        "                clipped_bboxes.append(clipped_bbox)\n",
        "\n",
        "            aug_img_bgr = cv2.cvtColor(aug_img_rgb, cv2.COLOR_RGB2BGR)\n",
        "\n",
        "            new_img_name = f\"{os.path.splitext(filename)[0]}_aug{i}.jpg\"\n",
        "            new_lbl_name = f\"{os.path.splitext(filename)[0]}_aug{i}.txt\"\n",
        "\n",
        "            cv2.imwrite(os.path.join(output_img_dir, new_img_name), aug_img_bgr)\n",
        "\n",
        "            with open(os.path.join(output_lbl_dir, new_lbl_name), 'w') as f:\n",
        "                for cls, bbox in zip(aug_labels, clipped_bboxes):\n",
        "                    f.write(f\"{cls} {bbox[0]:.6f} {bbox[1]:.6f} {bbox[2]:.6f} {bbox[3]:.6f}\\n\")\n",
        "    print(\"✅ Aumentación completada para positivos de TRAIN.\")\n",
        "\n",
        "def split_negatives(set_name, global_hard_images_pool, hard_negatives_used_tracker):\n",
        "    \"\"\"\n",
        "    Gestiona la distribución inicial de negativos y hard negatives para cada set.\n",
        "    Para TRAIN: selecciona hard negatives y normales y copia positivos.\n",
        "    Para VALID/TEST: mueve todos los negativos a 'negatives_rest' para el rebalanceo posterior.\n",
        "    \"\"\"\n",
        "    print(f\"\\n🔄 Preparando negativos para {set_name.upper()}...\")\n",
        "\n",
        "    pos_img_source_dir = (os.path.join(BASE_DATASET_DIR, set_name, \"tiles\", \"aug\", \"positives\", \"images\")\n",
        "                            if APPLY_AUGMENTATION and set_name == \"train\"\n",
        "                            else os.path.join(BASE_DATASET_DIR, set_name, \"tiles\", \"positives\", \"images\"))\n",
        "    pos_lbl_source_dir = (os.path.join(BASE_DATASET_DIR, set_name, \"tiles\", \"aug\", \"positives\", \"labels\")\n",
        "                            if APPLY_AUGMENTATION and set_name == \"train\"\n",
        "                            else os.path.join(BASE_DATASET_DIR, set_name, \"tiles\", \"positives\", \"labels\"))\n",
        "\n",
        "    neg_img_source_dir = os.path.join(BASE_DATASET_DIR, set_name, \"tiles\", \"negatives\", \"images\")\n",
        "    neg_lbl_source_dir = os.path.join(BASE_DATASET_DIR, set_name, \"tiles\", \"negatives\", \"labels\")\n",
        "\n",
        "    dest_final_img = os.path.join(BASE_DATASET_DIR, set_name, \"tiles\", \"final_selection\", \"images\")\n",
        "    dest_final_lbl = os.path.join(BASE_DATASET_DIR, set_name, \"tiles\", \"final_selection\", \"labels\")\n",
        "    os.makedirs(dest_final_img, exist_ok=True)\n",
        "    os.makedirs(dest_final_lbl, exist_ok=True)\n",
        "\n",
        "    dest_rest_img = os.path.join(BASE_DATASET_DIR, set_name, \"tiles\", \"negatives_rest\", \"images\")\n",
        "    dest_rest_lbl = os.path.join(BASE_DATASET_DIR, set_name, \"tiles\", \"negatives_rest\", \"labels\")\n",
        "    os.makedirs(dest_rest_img, exist_ok=True)\n",
        "    os.makedirs(dest_rest_lbl, exist_ok=True)\n",
        "\n",
        "    num_pos = count_files(pos_img_source_dir)\n",
        "    all_neg_images_from_source = [f for f in os.listdir(neg_img_source_dir) if f.lower().endswith(IMAGE_EXTENSIONS)] if os.path.exists(neg_img_source_dir) else []\n",
        "\n",
        "    num_total_neg_needed_initial = max(0, NEGATIVE_MULTIPLIER * num_pos - num_pos)\n",
        "\n",
        "    # --- Lógica específica para TRAIN ---\n",
        "    if set_name == \"train\":\n",
        "        hard_neg_percentage = HARD_NEG_PERCENTAGE_TRAIN\n",
        "        desired_hard_neg_count = int(num_total_neg_needed_initial * hard_neg_percentage)\n",
        "\n",
        "        print(f\"   [TRAIN]: Positivos: {num_pos}. Negativos iniciales necesarios para 1:{NEGATIVE_MULTIPLIER-1} de pos: {num_total_neg_needed_initial}.\")\n",
        "\n",
        "        # 1. Copiar los positivos (ya aumentados para TRAIN) a la carpeta final_selection\n",
        "        print(f\"   [TRAIN]: Copiando {num_pos} tiles positivos a la selección final.\")\n",
        "        for fname in os.listdir(pos_img_source_dir):\n",
        "            if fname.lower().endswith(IMAGE_EXTENSIONS):\n",
        "                shutil.copy2(os.path.join(pos_img_source_dir, fname), os.path.join(dest_final_img, fname))\n",
        "                shutil.copy2(os.path.join(pos_lbl_source_dir, os.path.splitext(fname)[0] + \".txt\"), os.path.join(dest_final_lbl, os.path.splitext(fname)[0] + \".txt\"))\n",
        "\n",
        "        # 2. Añadir hard negatives\n",
        "        if hard_neg_percentage > 0:\n",
        "            print(f\"   [TRAIN]: Intentando añadir {desired_hard_neg_count} hard negatives ({hard_neg_percentage*100:.0f}% del total necesario).\")\n",
        "            added_hard = select_and_copy_hard_negatives(\n",
        "                desired_hard_neg_count, dest_final_img, dest_final_lbl,\n",
        "                global_hard_images_pool, hard_negatives_used_tracker\n",
        "            )\n",
        "            print(f\"   [TRAIN]: Hard negatives añadidos: {added_hard}\")\n",
        "        else:\n",
        "            added_hard = 0\n",
        "            print(\"   [TRAIN]: Porcentaje de hard negatives es 0, no se añadirán.\")\n",
        "\n",
        "        total_negatives_for_train = max(0, num_pos * (NEGATIVE_MULTIPLIER - 1))\n",
        "        normals_to_add = max(0, total_negatives_for_train - added_hard)\n",
        "\n",
        "        available_normal_negatives = [f for f in all_neg_images_from_source if f not in hard_negatives_used_tracker]\n",
        "\n",
        "        if normals_to_add > 0 and available_normal_negatives:\n",
        "            random.seed(SEED)\n",
        "            selected_normal_for_train = random.sample(\n",
        "                available_normal_negatives, min(normals_to_add, len(available_normal_negatives))\n",
        "            )\n",
        "            print(f\"   [TRAIN]: Añadiendo {len(selected_normal_for_train)} negativos normales.\")\n",
        "            for fname in selected_normal_for_train:\n",
        "                shutil.copy2(os.path.join(neg_img_source_dir, fname), os.path.join(dest_final_img, fname))\n",
        "                shutil.copy2(os.path.join(neg_lbl_source_dir, os.path.splitext(fname)[0] + \".txt\"), os.path.join(dest_final_lbl, os.path.splitext(fname)[0] + \".txt\"))\n",
        "                hard_negatives_used_tracker.add(fname) # Track normal negatives too, so they aren't used again.\n",
        "\n",
        "        remaining_negatives_after_train_selection = [f for f in all_neg_images_from_source if f not in hard_negatives_used_tracker]\n",
        "        for fname in remaining_negatives_after_train_selection:\n",
        "             shutil.copy2(os.path.join(neg_img_source_dir, fname), os.path.join(dest_rest_img, fname))\n",
        "             shutil.copy2(os.path.join(neg_lbl_source_dir, os.path.splitext(fname)[0] + \".txt\"), os.path.join(dest_rest_lbl, os.path.splitext(fname)[0] + \".txt\"))\n",
        "\n",
        "    # --- Lógica para VALID y TEST ---\n",
        "    else:\n",
        "        # Copiar los positivos a la carpeta final_selection\n",
        "        print(f\"   [{set_name.upper()}]: Copiando {num_pos} tiles positivos a la selección final.\")\n",
        "        for fname in os.listdir(pos_img_source_dir):\n",
        "            if fname.lower().endswith(IMAGE_EXTENSIONS):\n",
        "                shutil.copy2(os.path.join(pos_img_source_dir, fname), os.path.join(dest_final_img, fname))\n",
        "                shutil.copy2(os.path.join(pos_lbl_source_dir, os.path.splitext(fname)[0] + \".txt\"), os.path.join(dest_final_lbl, os.path.splitext(fname)[0] + \".txt\"))\n",
        "\n",
        "        print(f\"   [{set_name.upper()}]: Moviendo todos los negativos a 'negatives_rest' para rebalanceo posterior.\")\n",
        "        for fname in all_neg_images_from_source:\n",
        "            shutil.copy2(os.path.join(neg_img_source_dir, fname), os.path.join(dest_rest_img, fname))\n",
        "            shutil.copy2(os.path.join(neg_lbl_source_dir, os.path.splitext(fname)[0] + \".txt\"), os.path.join(dest_rest_lbl, os.path.splitext(fname)[0] + \".txt\"))\n",
        "\n",
        "    if CLEAN_INTERMEDIATE:\n",
        "        # Make sure the paths exist before trying to remove them\n",
        "        if os.path.exists(neg_img_source_dir):\n",
        "            # Remove the parent directory 'negatives' which contains 'images' and 'labels'\n",
        "            shutil.rmtree(os.path.dirname(neg_img_source_dir))\n",
        "        if os.path.exists(pos_img_source_dir):\n",
        "            # Remove the parent directory 'positives' or 'aug/positives'\n",
        "            # Adjust path depending on augmentation being applied or not\n",
        "            if set_name == \"train\" and APPLY_AUGMENTATION:\n",
        "                shutil.rmtree(os.path.dirname(os.path.dirname(pos_img_source_dir))) # Removes 'aug' folder\n",
        "            else:\n",
        "                shutil.rmtree(os.path.dirname(pos_img_source_dir)) # Removes 'positives' folder\n",
        "\n",
        "    print(f\"✅ {set_name.upper()}: Negativos preparados. Contenido inicial en '{dest_final_img}' y '{dest_rest_img}'.\")\n",
        "\n",
        "\n",
        "def rebalance_validation_test_splits(global_hard_images_pool, hard_negatives_used_tracker):\n",
        "    \"\"\"\n",
        "    Rebalancea los splits VALID y TEST para alcanzar las proporciones finales\n",
        "    o el número de imágenes deseado, incluyendo los porcentajes de hard negatives.\n",
        "    \"\"\"\n",
        "    print(\"\\n⚖️ Iniciando rebalanceo de los splits VALID y TEST...\")\n",
        "\n",
        "    train_final_img_dir = os.path.join(BASE_DATASET_DIR, \"train\", \"tiles\", \"final_selection\", \"images\")\n",
        "    final_train_size = count_files(train_final_img_dir)\n",
        "\n",
        "    if final_train_size == 0:\n",
        "        print(\"❌ El set de TRAIN está vacío o no se ha procesado correctamente. No se puede rebalancear VALID/TEST.\")\n",
        "        return\n",
        "\n",
        "    print(f\"📊 Tamaño final del set TRAIN: {final_train_size} imágenes.\")\n",
        "\n",
        "     # Calculate proportional targets if not explicitly set\n",
        "    # El tamaño total del dataset se infiere de que TRAIN_SET_PERCENTAGE del total\n",
        "    # debe ser igual al final_train_size.\n",
        "    if TRAIN_SET_PERCENTAGE <= 0 or TRAIN_SET_PERCENTAGE > 1:\n",
        "        raise ValueError(\"TRAIN_SET_PERCENTAGE debe ser un valor entre 0 y 1.\")\n",
        "\n",
        "    total_dataset_target = round(final_train_size / TRAIN_SET_PERCENTAGE)\n",
        "    print(f\"🎯 Tamaño total deseado del dataset: {total_dataset_target} imágenes (TRAIN {final_train_size} / {TRAIN_SET_PERCENTAGE*100:.0f}%).\")\n",
        "\n",
        "    # Determine target size for VALID\n",
        "    if VALID_TARGET_COUNT is not None and isinstance(VALID_TARGET_COUNT, int) and VALID_TARGET_COUNT >= 0:\n",
        "        valid_target_size = VALID_TARGET_COUNT\n",
        "        print(f\"🎯 Tamaño objetivo para VALID (fijo): {valid_target_size} imágenes.\")\n",
        "    else:\n",
        "        # Usar el porcentaje configurable si no se ha fijado un tamaño\n",
        "        valid_target_size = round(total_dataset_target * VALID_SET_PERCENTAGE)\n",
        "        print(f\"🎯 Tamaño objetivo para VALID (proporcional): {valid_target_size} imágenes ({VALID_SET_PERCENTAGE*100:.0f}% del total).\")\n",
        "\n",
        "    # Determine target size for TEST\n",
        "    if TEST_TARGET_COUNT is not None and isinstance(TEST_TARGET_COUNT, int) and TEST_TARGET_COUNT >= 0:\n",
        "        test_target_size = TEST_TARGET_COUNT\n",
        "        print(f\"🎯 Tamaño objetivo para TEST (fijo): {test_target_size} imágenes.\")\n",
        "    else:\n",
        "        # Usar el porcentaje configurable si no se ha fijado un tamaño\n",
        "        test_target_size = round(total_dataset_target * TEST_SET_PERCENTAGE)\n",
        "        print(f\"🎯 Tamaño objetivo para TEST (proporcional): {test_target_size} imágenes ({TEST_SET_PERCENTAGE*100:.0f}% del total).\")\n",
        "\n",
        "\n",
        "    # Adjust VALID target if necessary due to rounding (only if proportional calculation was used for both)\n",
        "    # This adjustment is less critical if fixed counts are used, as we prioritize fixed counts.\n",
        "    # We still want the total to make sense if both are proportional.\n",
        "    if VALID_TARGET_COUNT is None and TEST_TARGET_COUNT is None:\n",
        "        if (final_train_size + valid_target_size + test_target_size) != total_dataset_target:\n",
        "            diff = total_dataset_target - (final_train_size + valid_target_size + test_target_size)\n",
        "            if diff != 0:\n",
        "                valid_target_size += diff # Adjust VALID to absorb rounding differences\n",
        "                print(f\"   Ajuste por redondeo: VALID target ajustado a {valid_target_size}\")\n",
        "\n",
        "\n",
        "    for split_name, target_size_config in [(\"valid\", VALID_TARGET_COUNT), (\"test\", TEST_TARGET_COUNT)]:\n",
        "        # Determine the actual target size for the current split based on config\n",
        "        target_size = target_size_config if target_size_config is not None else \\\n",
        "                      (valid_target_size if split_name == \"valid\" else test_target_size)\n",
        "\n",
        "        print(f\"\\n⚙️ Ajustando el split {split_name.upper()} con objetivo de {target_size} imágenes...\")\n",
        "\n",
        "        hard_neg_percentage = 0.0\n",
        "        if split_name == \"valid\":\n",
        "            hard_neg_percentage = HARD_NEG_PERCENTAGE_VALID\n",
        "        elif split_name == \"test\":\n",
        "            hard_neg_percentage = HARD_NEG_PERCENTAGE_TEST\n",
        "\n",
        "        dest_final_img = os.path.join(BASE_DATASET_DIR, split_name, \"tiles\", \"final_selection\", \"images\")\n",
        "        dest_final_lbl = os.path.join(BASE_DATASET_DIR, split_name, \"tiles\", \"final_selection\", \"labels\")\n",
        "\n",
        "        neg_rest_img_dir = os.path.join(BASE_DATASET_DIR, split_name, \"tiles\", \"negatives_rest\", \"images\")\n",
        "        neg_rest_lbl_dir = os.path.join(BASE_DATASET_DIR, split_name, \"tiles\", \"negatives_rest\", \"labels\")\n",
        "\n",
        "        # Get current positive count in final_selection (these were copied by split_negatives)\n",
        "        current_pos_count = 0\n",
        "        if os.path.exists(dest_final_img):\n",
        "            for fname in os.listdir(dest_final_img):\n",
        "                if not fname.lower().endswith(IMAGE_EXTENSIONS):\n",
        "                    continue\n",
        "\n",
        "                label_fname = os.path.splitext(fname)[0] + \".txt\"\n",
        "                label_path = os.path.join(dest_final_lbl, label_fname)\n",
        "\n",
        "                # A tile is considered \"positive\" if its label file exists and is not empty.\n",
        "                if os.path.exists(label_path) and os.path.getsize(label_path) > 0:\n",
        "                    current_pos_count += 1\n",
        "\n",
        "        print(f\"   {split_name.upper()}: Positivos actuales (ya en final_selection): {current_pos_count}\")\n",
        "\n",
        "        # Calculate how many total negatives are needed\n",
        "        total_negatives_needed = max(0, target_size - current_pos_count)\n",
        "        print(f\"   {split_name.upper()}: Negativos totales necesarios para el objetivo ({target_size} total - {current_pos_count} pos): {total_negatives_needed}\")\n",
        "\n",
        "        # Add hard negatives first\n",
        "        desired_hard_neg_count = int(total_negatives_needed * hard_neg_percentage)\n",
        "        added_hard_count = 0\n",
        "\n",
        "        if hard_neg_percentage > 0:\n",
        "            print(f\"   {split_name.upper()}: Hard negatives deseados ({hard_neg_percentage*100:.0f}% del total de negativos): {desired_hard_neg_count}\")\n",
        "            added_hard_count = select_and_copy_hard_negatives(\n",
        "                desired_hard_neg_count, dest_final_img, dest_final_lbl,\n",
        "                global_hard_images_pool, hard_negatives_used_tracker\n",
        "            )\n",
        "            print(f\"   {split_name.upper()}: Hard negatives añadidos: {added_hard_count}\")\n",
        "        else:\n",
        "            print(f\"   {split_name.upper()}: Porcentaje de hard negatives es 0, no se añadirán.\")\n",
        "\n",
        "        # Calculate how many normal negatives are still needed after adding hard negatives\n",
        "        current_total_count = count_files(dest_final_img)\n",
        "        normals_to_add = max(0, target_size - current_total_count)\n",
        "\n",
        "        all_rest_negatives_files = [f for f in os.listdir(neg_rest_img_dir) if f.lower().endswith(IMAGE_EXTENSIONS)] if os.path.exists(neg_rest_img_dir) else []\n",
        "\n",
        "        # Filter out negatives that have already been used by TRAIN or by the current split (hard or normal)\n",
        "        clean_rest_negatives_files = [f for f in all_rest_negatives_files if f not in hard_negatives_used_tracker]\n",
        "\n",
        "        if normals_to_add > 0:\n",
        "            if not clean_rest_negatives_files:\n",
        "                print(f\"   ⚠️ No hay negativos normales disponibles en '{neg_rest_img_dir}' para {split_name.upper()} para completar el objetivo.\")\n",
        "                print(f\"   {split_name.upper()}: Se pudo añadir {current_total_count - current_pos_count} negativos (hard+normal). Faltan {normals_to_add} para el objetivo.\")\n",
        "            else:\n",
        "                if normals_to_add > len(clean_rest_negatives_files):\n",
        "                    print(f\"   ⚠️ Solo hay {len(clean_rest_negatives_files)} negativos normales disponibles en 'negatives_rest' para {split_name.upper()}, pero se necesitan {normals_to_add}.\")\n",
        "                    files_to_move_normal = clean_rest_negatives_files\n",
        "                else:\n",
        "                    random.seed(SEED) # Ensure reproducibility for normal negative selection\n",
        "                    files_to_move_normal = random.sample(clean_rest_negatives_files, normals_to_add)\n",
        "\n",
        "                print(f\"   {split_name.upper()}: Añadiendo {len(files_to_move_normal)} negativos normales adicionales de 'negatives_rest'.\")\n",
        "\n",
        "                for fname in files_to_move_normal:\n",
        "                    src_img_path = os.path.join(neg_rest_img_dir, fname)\n",
        "                    src_lbl_path = os.path.join(neg_rest_lbl_dir, os.path.splitext(fname)[0] + \".txt\")\n",
        "\n",
        "                    # Move, not copy, to ensure they are removed from 'negatives_rest'\n",
        "                    shutil.move(src_img_path, os.path.join(dest_final_img, fname))\n",
        "                    shutil.move(src_lbl_path, os.path.join(dest_final_lbl, os.path.splitext(fname)[0] + \".txt\"))\n",
        "                    hard_negatives_used_tracker.add(fname) # Track these as used too\n",
        "\n",
        "        if CLEAN_INTERMEDIATE:\n",
        "            # Check if the folder is empty before removing to prevent errors if already moved\n",
        "            if os.path.exists(neg_rest_img_dir) and not os.listdir(neg_rest_img_dir):\n",
        "                shutil.rmtree(os.path.dirname(neg_rest_img_dir)) # Removes 'negatives_rest' folder\n",
        "\n",
        "        print(f\"   ✅ {split_name.upper()}: Ajuste de negativos completado. Total final para exportación: {count_files(dest_final_img)} imágenes.\")\n",
        "\n",
        "\n",
        "def summary():\n",
        "    \"\"\"Muestra un resumen de los tiles en las carpetas de selección final.\"\"\"\n",
        "    print(\"\\n📊 RESUMEN FINAL DE TILES (Antes de la exportación final)\")\n",
        "    for split in [\"train\", \"valid\", \"test\"]:\n",
        "        print(f\"\\n📁 {split.upper()}\")\n",
        "        base = os.path.join(BASE_DATASET_DIR, split, \"tiles\")\n",
        "        final_selection_img_dir = os.path.join(base, \"final_selection\", \"images\")\n",
        "        final_selection_lbl_dir = os.path.join(base, \"final_selection\", \"labels\")\n",
        "\n",
        "        img_count = count_files(final_selection_img_dir)\n",
        "        lbl_count = count_files(final_selection_lbl_dir)\n",
        "\n",
        "        print(f\"Total en final_selection: {img_count} imágenes | {lbl_count} etiquetas\")\n",
        "\n",
        "        neg_rest_img_dir = os.path.join(base, \"negatives_rest\", \"images\")\n",
        "        neg_rest_lbl_dir = os.path.join(base, \"negatives_rest\", \"labels\")\n",
        "        rest_img_count = count_files(neg_rest_img_dir)\n",
        "        rest_lbl_count = count_files(neg_rest_lbl_dir)\n",
        "        if rest_img_count > 0:\n",
        "            print(f\"En negatives_rest (sobrantes): {rest_img_count} imágenes | {rest_lbl_count} etiquetas\")\n",
        "\n",
        "\n",
        "def export_for_yolov8(base_dataset_dir, export_dir):\n",
        "    \"\"\"Copia los archivos de la selección final a la estructura de exportación YOLOv8.\"\"\"\n",
        "    sets = [\"train\", \"valid\", \"test\"]\n",
        "    os.makedirs(export_dir, exist_ok=True)\n",
        "\n",
        "    print(\"\\n📦 Iniciando export final para entrenamiento YOLOv8...\\n\")\n",
        "\n",
        "    for split in sets:\n",
        "        print(f\"🔄 Procesando {split.upper()}...\")\n",
        "\n",
        "        split_dir = os.path.join(export_dir, split)\n",
        "        images_dir = os.path.join(split_dir, \"images\")\n",
        "        labels_dir = os.path.join(split_dir, \"labels\")\n",
        "        os.makedirs(images_dir, exist_ok=True)\n",
        "        os.makedirs(labels_dir, exist_ok=True)\n",
        "\n",
        "        src_data_img = os.path.join(base_dataset_dir, split, \"tiles\", \"final_selection\", \"images\")\n",
        "        src_data_lbl = os.path.join(base_dataset_dir, split, \"tiles\", \"final_selection\", \"labels\")\n",
        "\n",
        "        count_imgs = safe_copy(src_data_img, images_dir, IMAGE_EXTENSIONS)\n",
        "        count_lbls = safe_copy(src_data_lbl, labels_dir, (\".txt\",))\n",
        "\n",
        "        print(f\"✅ {split.upper()}: {count_imgs} imágenes, {count_lbls} labels exportados.\")\n",
        "\n",
        "    print(f\"\\n🚀 Export final completo en: {export_dir}\")\n",
        "\n",
        "\n",
        "def summary_export():\n",
        "    \"\"\"Muestra un resumen de los archivos en el directorio de exportación final.\"\"\"\n",
        "    print(\"\\n📦 EXPORT FINAL PARA YOLOv8\")\n",
        "    for split in [\"train\", \"valid\", \"test\"]:\n",
        "        exp_img = os.path.join(EXPORT_DIR, split, \"images\")\n",
        "        exp_lbl = os.path.join(EXPORT_DIR, split, \"labels\")\n",
        "        exp_img_count = count_files(exp_img)\n",
        "        exp_lbl_count = count_files(exp_lbl)\n",
        "        print(f\"{split.upper():<7}: {exp_img_count} imágenes | {exp_lbl_count} etiquetas\")\n",
        "\n",
        "\n",
        "def move_data_yaml_to_export(source_path, dest_path):\n",
        "    \"\"\"Copia el archivo data.yaml al directorio de exportación.\"\"\"\n",
        "    if not os.path.exists(source_path):\n",
        "        print(f\"❌ No se encontró el archivo de entrada: {source_path}\")\n",
        "        return\n",
        "    os.makedirs(os.path.dirname(dest_path), exist_ok=True)\n",
        "    shutil.copy2(source_path, dest_path)\n",
        "    print(f\"✅ 'data.yaml' copiado a: {dest_path}\")\n",
        "\n",
        "\n",
        "def fix_discard_summary(log_path):\n",
        "    \"\"\"Consolida y formatea el resumen de tiles descartados.\"\"\"\n",
        "    if not os.path.exists(log_path):\n",
        "        print(\"⚠️ No se encontró archivo de descartes.\")\n",
        "        return\n",
        "\n",
        "    resumen_por_split = {}\n",
        "    lines_to_write = []\n",
        "\n",
        "    with open(log_path, \"r\") as f:\n",
        "        lines = f.readlines()\n",
        "\n",
        "    # Process lines to extract discarded counts per split\n",
        "    current_split = None\n",
        "    discard_count_for_current_split = 0\n",
        "    for line in lines:\n",
        "        if line.startswith(\"🔹 TILES DESCARTADOS EN\"):\n",
        "            # If we were tracking a previous split, save its count\n",
        "            if current_split is not None:\n",
        "                resumen_por_split[current_split] = resumen_por_split.get(current_split, 0) + discard_count_for_current_split\n",
        "\n",
        "            # Start tracking new split\n",
        "            split_name_start = line.find(\"EN \") + 3\n",
        "            split_name_end = line.find(\" (original:\", split_name_start)\n",
        "            current_split = line[split_name_start:split_name_end].strip()\n",
        "            discard_count_for_current_split = 0 # Reset count for the new split\n",
        "            lines_to_write.append(line) # Keep original line for context\n",
        "        elif line.strip() == \"-\" * 50:\n",
        "            lines_to_write.append(line) # Keep separator line\n",
        "        elif current_split is not None and line.strip() and not line.startswith((\"🔹 \", \"📦 \", \"🔸 \", \"🧮 \")):\n",
        "            discard_count_for_current_split += 1\n",
        "            lines_to_write.append(line) # Keep discarded tile entry\n",
        "        else:\n",
        "            # Lines not related to discarded tiles, or already processed summary lines\n",
        "            if not (line.startswith(\"📦 RESUMEN GLOBAL\") or\n",
        "                    line.startswith(\"🔸 \") or\n",
        "                    line.startswith(\"🧮 \")):\n",
        "                lines_to_write.append(line) # Keep other relevant lines\n",
        "\n",
        "    # Add the last split's count if loop finishes\n",
        "    if current_split is not None:\n",
        "        resumen_por_split[current_split] = resumen_por_split.get(current_split, 0) + discard_count_for_current_split\n",
        "\n",
        "    # Append the consolidated summary to the lines\n",
        "    lines_to_write.append(\"\\n📦 RESUMEN GLOBAL DE TILES DESCARTADOS\\n\")\n",
        "    lines_to_write.append(\"=\".ljust(50, \"=\") + \"\\n\")\n",
        "\n",
        "    total_global = 0\n",
        "    for split, count in resumen_por_split.items():\n",
        "        lines_to_write.append(f\"🔸 {split}: {count} tiles descartados\\n\")\n",
        "        total_global += count\n",
        "    lines_to_write.append(f\"\\n🧮 TOTAL GLOBAL DE TILES DESCARTADOS: {total_global}\\n\")\n",
        "\n",
        "    with open(log_path, \"w\") as f:\n",
        "        f.writelines(lines_to_write)\n",
        "    print(f\"✅ Resumen de tiles descartados actualizado en: {log_path}\")\n",
        "\n",
        "def contar_imagenes_y_proporciones(export_dir):\n",
        "    \"\"\"Calcula y muestra la proporción final de imágenes en cada conjunto exportado.\"\"\"\n",
        "    sets = [\"train\", \"valid\", \"test\"]\n",
        "    conteo = {}\n",
        "    total = 0\n",
        "\n",
        "    print(\"\\n📊 PROPORCIÓN FINAL DE IMÁGENES POR CONJUNTO:\")\n",
        "    for split in sets:\n",
        "        images_dir = os.path.join(export_dir, split, \"images\")\n",
        "        if not os.path.exists(images_dir):\n",
        "            print(f\"⚠️ No existe la carpeta: {images_dir}\")\n",
        "            conteo[split] = 0\n",
        "            continue\n",
        "        n = len([f for f in os.listdir(images_dir) if f.lower().endswith(IMAGE_EXTENSIONS)])\n",
        "        conteo[split] = n\n",
        "        total += n\n",
        "\n",
        "    for split in sets:\n",
        "        porcentaje = (conteo[split] / total * 100) if total > 0 else 0\n",
        "        print(f\"{split.upper():<6}: {conteo[split]} imágenes ({porcentaje:.2f}%)\")\n",
        "    print(f\"TOTAL: {total} imágenes\")\n",
        "\n",
        "\n",
        "# --- MAIN PIPELINE: ejecuta todo en orden ---\n",
        "def run_full_pipeline():\n",
        "    # --- Limpiar directorio de exportación si existe ---\n",
        "    if os.path.exists(EXPORT_DIR):\n",
        "        print(f\"\\n🗑️ Limpiando directorio de exportación existente: {EXPORT_DIR}\")\n",
        "        shutil.rmtree(EXPORT_DIR)\n",
        "    os.makedirs(EXPORT_DIR, exist_ok=True)\n",
        "    # --- Fin de limpieza ---\n",
        "\n",
        "    # Paso 1: Convertir labels de polígono a BBoxes y Tiling inicial\n",
        "    for split in [\"train\", \"valid\", \"test\"]:\n",
        "        process_all_labels_for_set(split)\n",
        "        process_tiling_for_set(split)\n",
        "\n",
        "    # Paso 2: Procesar los hard negatives (si la carpeta existe)\n",
        "    process_forced_negatives_tiling()\n",
        "    global_hard_tiles_img_dir = os.path.join(BASE_DATASET_DIR, FORCED_NEGATIVES_SUBFOLDER, \"tiles\", \"images\")\n",
        "    global_hard_images_pool = [f for f in os.listdir(global_hard_tiles_img_dir) if f.lower().endswith(IMAGE_EXTENSIONS)] if os.path.exists(global_hard_tiles_img_dir) else []\n",
        "    # This set will track ALL hard/normal negatives that have been copied to 'final_selection' across ALL splits\n",
        "    hard_negatives_used_tracker = set()\n",
        "    check_forced_tiles()\n",
        "\n",
        "    # Paso 3: Aumentación de datos para los positivos de TRAIN\n",
        "    if APPLY_AUGMENTATION:\n",
        "        augment_positives()\n",
        "\n",
        "    # Paso 4: Selección de negativos para cada split (y copia de positivos a final_selection para todos los splits)\n",
        "    # NOTA CLAVE: La función `split_negatives` ahora copia los positivos a `final_selection`\n",
        "    # Esto asegura que el recuento para TRAIN sea preciso.\n",
        "    for split in [\"train\", \"valid\", \"test\"]:\n",
        "        split_negatives(split, global_hard_images_pool, hard_negatives_used_tracker)\n",
        "\n",
        "    # Paso 5: Rebalanceo final para VALID y TEST\n",
        "    rebalance_validation_test_splits(global_hard_images_pool, hard_negatives_used_tracker)\n",
        "\n",
        "    # Paso 6: Resumen de los datos preparados antes de exportar\n",
        "    summary()\n",
        "\n",
        "    # Paso 7: Exportar los datos desde las carpetas 'final_selection'\n",
        "    export_for_yolov8(BASE_DATASET_DIR, EXPORT_DIR)\n",
        "\n",
        "    # Paso 8: Mover el archivo data.yaml\n",
        "    move_data_yaml_to_export(INPUT_YAML_PATH, EXPORT_YAML_PATH)\n",
        "\n",
        "    # Paso 9: Consolidar y limpiar el log de descartes\n",
        "    fix_discard_summary(os.path.join(EXPORT_DIR, \"errors\", \"tiles_descartados.txt\"))\n",
        "\n",
        "    # Paso 10: Contar y mostrar proporciones finales\n",
        "    contar_imagenes_y_proporciones(EXPORT_DIR)\n",
        "\n",
        "\n",
        "# --- Ejecutar el Pipeline Completo ---\n",
        "if __name__ == \"__main__\":\n",
        "    run_full_pipeline()"
      ]
    },
    {
      "cell_type": "markdown",
      "metadata": {
        "id": "l5g64kya6Y03"
      },
      "source": [
        "# **4. Install and import Ultralytics library for training**"
      ]
    },
    {
      "cell_type": "code",
      "execution_count": 6,
      "metadata": {
        "colab": {
          "base_uri": "https://localhost:8080/"
        },
        "id": "KDS7eDgfxSzR",
        "outputId": "c90e995e-bd9c-499c-d631-42e059ee406a"
      },
      "outputs": [
        {
          "name": "stdout",
          "output_type": "stream",
          "text": [
            "Ultralytics 8.3.174 🚀 Python-3.11.13 torch-2.6.0+cu124 CUDA:0 (NVIDIA A100-SXM4-40GB, 40507MiB)\n",
            "Setup complete ✅ (12 CPUs, 83.5 GB RAM, 62.1/235.7 GB disk)\n"
          ]
        }
      ],
      "source": [
        "#0. En Colab, primero instala los paquetes y monta tu Drive:  Instalar las librerías necesarias\n",
        "!pip install ultralytics wandb  # Esto instalará ultralytics y wandb (torch y torchvision generalmente ya vienen instalados en Colab)\n",
        "\n",
        "import ultralytics\n",
        "ultralytics.checks()"
      ]
    },
    {
      "cell_type": "markdown",
      "metadata": {
        "id": "300CcRnS6eLc"
      },
      "source": [
        "# 4.1 Install chosen YOLO version model and size"
      ]
    },
    {
      "cell_type": "code",
      "execution_count": 1,
      "metadata": {
        "id": "QIb53oSQxWka"
      },
      "outputs": [],
      "source": [
        "\n",
        "# 9. Ejecutar el entrenamiento de YOLOv8\n",
        "from ultralytics import YOLO\n",
        "\n",
        "# Carga el modelo (en este ejemplo, YOLOv8s)\n",
        "model = YOLO(\"yolov8s.pt\")\n",
        "\n"
      ]
    },
    {
      "cell_type": "markdown",
      "metadata": {
        "id": "1B3RLj7B6nsf"
      },
      "source": [
        "# 4.2 Train the chosen model and chose hyperparameter for training"
      ]
    },
    {
      "cell_type": "code",
      "execution_count": 2,
      "metadata": {
        "colab": {
          "base_uri": "https://localhost:8080/"
        },
        "id": "Omdda2F1Uy62",
        "outputId": "0e5da13e-6840-4b10-859b-9292477a9ac7"
      },
      "outputs": [
        {
          "name": "stdout",
          "output_type": "stream",
          "text": [
            "Ultralytics 8.3.174 🚀 Python-3.11.13 torch-2.6.0+cu124 CUDA:0 (NVIDIA A100-SXM4-40GB, 40507MiB)\n",
            "\u001b[34m\u001b[1mengine/trainer: \u001b[0magnostic_nms=False, amp=True, augment=False, auto_augment=randaugment, batch=32, bgr=0.0, box=7.5, cache=False, cfg=None, classes=None, close_mosaic=10, cls=0.5, conf=None, copy_paste=0.0, copy_paste_mode=flip, cos_lr=True, cutmix=0.0, data=/content/export_yolov8/data.yaml, degrees=10, deterministic=True, device=0, dfl=1.75, dnn=False, dropout=0.0, dynamic=False, embed=None, epochs=120, erasing=0.4, exist_ok=False, fliplr=0.5, flipud=0.3, format=torchscript, fraction=1.0, freeze=None, half=True, hsv_h=0.015, hsv_s=0.7, hsv_v=0.4, imgsz=640, int8=False, iou=0.7, keras=False, kobj=1.0, line_width=None, lr0=0.0001, lrf=0.01, mask_ratio=4, max_det=300, mixup=0.0, mode=train, model=yolov8s.pt, momentum=0.937, mosaic=1, multi_scale=False, name=seals2, nbs=64, nms=False, opset=None, optimize=False, optimizer=adamw, overlap_mask=True, patience=13, perspective=0.0, plots=True, pose=12.0, pretrained=True, profile=False, project=ProSeal, rect=False, resume=False, retina_masks=False, save=True, save_conf=False, save_crop=False, save_dir=ProSeal/seals2, save_frames=False, save_json=False, save_period=-1, save_txt=False, scale=0.5, seed=42, shear=0.0, show=False, show_boxes=True, show_conf=True, show_labels=True, simplify=True, single_cls=False, source=None, split=val, stream_buffer=False, task=detect, time=None, tracker=botsort.yaml, translate=0.1, val=True, verbose=True, vid_stride=1, visualize=False, warmup_bias_lr=0.1, warmup_epochs=4, warmup_momentum=0.8, weight_decay=0.002, workers=8, workspace=None\n",
            "Overriding model.yaml nc=80 with nc=1\n",
            "\n",
            "                   from  n    params  module                                       arguments                     \n",
            "  0                  -1  1       928  ultralytics.nn.modules.conv.Conv             [3, 32, 3, 2]                 \n",
            "  1                  -1  1     18560  ultralytics.nn.modules.conv.Conv             [32, 64, 3, 2]                \n",
            "  2                  -1  1     29056  ultralytics.nn.modules.block.C2f             [64, 64, 1, True]             \n",
            "  3                  -1  1     73984  ultralytics.nn.modules.conv.Conv             [64, 128, 3, 2]               \n",
            "  4                  -1  2    197632  ultralytics.nn.modules.block.C2f             [128, 128, 2, True]           \n",
            "  5                  -1  1    295424  ultralytics.nn.modules.conv.Conv             [128, 256, 3, 2]              \n",
            "  6                  -1  2    788480  ultralytics.nn.modules.block.C2f             [256, 256, 2, True]           \n",
            "  7                  -1  1   1180672  ultralytics.nn.modules.conv.Conv             [256, 512, 3, 2]              \n",
            "  8                  -1  1   1838080  ultralytics.nn.modules.block.C2f             [512, 512, 1, True]           \n",
            "  9                  -1  1    656896  ultralytics.nn.modules.block.SPPF            [512, 512, 5]                 \n",
            " 10                  -1  1         0  torch.nn.modules.upsampling.Upsample         [None, 2, 'nearest']          \n",
            " 11             [-1, 6]  1         0  ultralytics.nn.modules.conv.Concat           [1]                           \n",
            " 12                  -1  1    591360  ultralytics.nn.modules.block.C2f             [768, 256, 1]                 \n",
            " 13                  -1  1         0  torch.nn.modules.upsampling.Upsample         [None, 2, 'nearest']          \n",
            " 14             [-1, 4]  1         0  ultralytics.nn.modules.conv.Concat           [1]                           \n",
            " 15                  -1  1    148224  ultralytics.nn.modules.block.C2f             [384, 128, 1]                 \n",
            " 16                  -1  1    147712  ultralytics.nn.modules.conv.Conv             [128, 128, 3, 2]              \n",
            " 17            [-1, 12]  1         0  ultralytics.nn.modules.conv.Concat           [1]                           \n",
            " 18                  -1  1    493056  ultralytics.nn.modules.block.C2f             [384, 256, 1]                 \n",
            " 19                  -1  1    590336  ultralytics.nn.modules.conv.Conv             [256, 256, 3, 2]              \n",
            " 20             [-1, 9]  1         0  ultralytics.nn.modules.conv.Concat           [1]                           \n",
            " 21                  -1  1   1969152  ultralytics.nn.modules.block.C2f             [768, 512, 1]                 \n",
            " 22        [15, 18, 21]  1   2116435  ultralytics.nn.modules.head.Detect           [1, [128, 256, 512]]          \n",
            "Model summary: 129 layers, 11,135,987 parameters, 11,135,971 gradients, 28.6 GFLOPs\n",
            "\n",
            "Transferred 349/355 items from pretrained weights\n",
            "Freezing layer 'model.22.dfl.conv.weight'\n",
            "\u001b[34m\u001b[1mAMP: \u001b[0mrunning Automatic Mixed Precision (AMP) checks...\n",
            "\u001b[34m\u001b[1mAMP: \u001b[0mchecks passed ✅\n",
            "\u001b[34m\u001b[1mtrain: \u001b[0mFast image access ✅ (ping: 0.0±0.0 ms, read: 1015.8±496.4 MB/s, size: 36.0 KB)\n"
          ]
        },
        {
          "name": "stderr",
          "output_type": "stream",
          "text": [
            "\u001b[34m\u001b[1mtrain: \u001b[0mScanning /content/export_yolov8/train/labels... 46701 images, 41546 backgrounds, 0 corrupt: 100%|██████████| 46701/46701 [00:21<00:00, 2220.50it/s]\n"
          ]
        },
        {
          "name": "stdout",
          "output_type": "stream",
          "text": [
            "\u001b[34m\u001b[1mtrain: \u001b[0mNew cache created: /content/export_yolov8/train/labels.cache\n",
            "\u001b[34m\u001b[1malbumentations: \u001b[0mBlur(p=0.01, blur_limit=(3, 7)), MedianBlur(p=0.01, blur_limit=(3, 7)), ToGray(p=0.01, method='weighted_average', num_output_channels=3), CLAHE(p=0.01, clip_limit=(1.0, 4.0), tile_grid_size=(8, 8))\n",
            "\u001b[34m\u001b[1mval: \u001b[0mFast image access ✅ (ping: 0.0±0.0 ms, read: 783.8±321.6 MB/s, size: 30.1 KB)\n"
          ]
        },
        {
          "name": "stderr",
          "output_type": "stream",
          "text": [
            "\u001b[34m\u001b[1mval: \u001b[0mScanning /content/export_yolov8/valid/labels... 10008 images, 9838 backgrounds, 0 corrupt: 100%|██████████| 10008/10008 [00:04<00:00, 2216.01it/s]\n"
          ]
        },
        {
          "name": "stdout",
          "output_type": "stream",
          "text": [
            "\u001b[34m\u001b[1mval: \u001b[0mNew cache created: /content/export_yolov8/valid/labels.cache\n",
            "Plotting labels to ProSeal/seals2/labels.jpg... \n",
            "\u001b[34m\u001b[1moptimizer:\u001b[0m AdamW(lr=0.0001, momentum=0.937) with parameter groups 57 weight(decay=0.0), 64 weight(decay=0.002), 63 bias(decay=0.0)\n",
            "Image sizes 640 train, 640 val\n",
            "Using 8 dataloader workers\n",
            "Logging results to \u001b[1mProSeal/seals2\u001b[0m\n",
            "Starting training for 120 epochs...\n",
            "\n",
            "      Epoch    GPU_mem   box_loss   cls_loss   dfl_loss  Instances       Size\n"
          ]
        },
        {
          "name": "stderr",
          "output_type": "stream",
          "text": [
            "      1/120      6.68G      1.936      11.12      1.355          1        640: 100%|██████████| 1460/1460 [03:37<00:00,  6.71it/s]\n",
            "                 Class     Images  Instances      Box(P          R      mAP50  mAP50-95): 100%|██████████| 157/157 [00:16<00:00,  9.63it/s]"
          ]
        },
        {
          "name": "stdout",
          "output_type": "stream",
          "text": [
            "                   all      10008        185      0.715       0.65      0.674      0.242\n"
          ]
        },
        {
          "name": "stderr",
          "output_type": "stream",
          "text": [
            "\n"
          ]
        },
        {
          "name": "stdout",
          "output_type": "stream",
          "text": [
            "\n",
            "      Epoch    GPU_mem   box_loss   cls_loss   dfl_loss  Instances       Size\n"
          ]
        },
        {
          "name": "stderr",
          "output_type": "stream",
          "text": [
            "      2/120      8.22G      1.727      1.145      1.249          2        640: 100%|██████████| 1460/1460 [03:36<00:00,  6.74it/s]\n",
            "                 Class     Images  Instances      Box(P          R      mAP50  mAP50-95): 100%|██████████| 157/157 [00:16<00:00,  9.35it/s]\n"
          ]
        },
        {
          "name": "stdout",
          "output_type": "stream",
          "text": [
            "                   all      10008        185      0.778      0.703      0.676      0.246\n",
            "\n",
            "      Epoch    GPU_mem   box_loss   cls_loss   dfl_loss  Instances       Size\n"
          ]
        },
        {
          "name": "stderr",
          "output_type": "stream",
          "text": [
            "      3/120      8.27G      1.647     0.9526      1.235          2        640: 100%|██████████| 1460/1460 [03:22<00:00,  7.20it/s]\n",
            "                 Class     Images  Instances      Box(P          R      mAP50  mAP50-95): 100%|██████████| 157/157 [00:15<00:00, 10.10it/s]"
          ]
        },
        {
          "name": "stdout",
          "output_type": "stream",
          "text": [
            "                   all      10008        185      0.902      0.768      0.829      0.356\n"
          ]
        },
        {
          "name": "stderr",
          "output_type": "stream",
          "text": [
            "\n"
          ]
        },
        {
          "name": "stdout",
          "output_type": "stream",
          "text": [
            "\n",
            "      Epoch    GPU_mem   box_loss   cls_loss   dfl_loss  Instances       Size\n"
          ]
        },
        {
          "name": "stderr",
          "output_type": "stream",
          "text": [
            "      4/120      8.31G      1.631     0.9446      1.218          1        640: 100%|██████████| 1460/1460 [03:23<00:00,  7.18it/s]\n",
            "                 Class     Images  Instances      Box(P          R      mAP50  mAP50-95): 100%|██████████| 157/157 [00:15<00:00,  9.97it/s]"
          ]
        },
        {
          "name": "stdout",
          "output_type": "stream",
          "text": [
            "                   all      10008        185      0.897      0.816      0.841      0.371\n"
          ]
        },
        {
          "name": "stderr",
          "output_type": "stream",
          "text": [
            "\n"
          ]
        },
        {
          "name": "stdout",
          "output_type": "stream",
          "text": [
            "\n",
            "      Epoch    GPU_mem   box_loss   cls_loss   dfl_loss  Instances       Size\n"
          ]
        },
        {
          "name": "stderr",
          "output_type": "stream",
          "text": [
            "      5/120      8.34G      1.593     0.9104      1.198          0        640: 100%|██████████| 1460/1460 [03:22<00:00,  7.21it/s]\n",
            "                 Class     Images  Instances      Box(P          R      mAP50  mAP50-95): 100%|██████████| 157/157 [00:15<00:00, 10.14it/s]"
          ]
        },
        {
          "name": "stdout",
          "output_type": "stream",
          "text": [
            "                   all      10008        185      0.859      0.805      0.827      0.394\n"
          ]
        },
        {
          "name": "stderr",
          "output_type": "stream",
          "text": [
            "\n"
          ]
        },
        {
          "name": "stdout",
          "output_type": "stream",
          "text": [
            "\n",
            "      Epoch    GPU_mem   box_loss   cls_loss   dfl_loss  Instances       Size\n"
          ]
        },
        {
          "name": "stderr",
          "output_type": "stream",
          "text": [
            "      6/120      8.38G      1.553     0.8701      1.183          1        640: 100%|██████████| 1460/1460 [03:22<00:00,  7.19it/s]\n",
            "                 Class     Images  Instances      Box(P          R      mAP50  mAP50-95): 100%|██████████| 157/157 [00:15<00:00, 10.17it/s]"
          ]
        },
        {
          "name": "stdout",
          "output_type": "stream",
          "text": [
            "                   all      10008        185      0.886      0.758      0.817      0.377\n"
          ]
        },
        {
          "name": "stderr",
          "output_type": "stream",
          "text": [
            "\n"
          ]
        },
        {
          "name": "stdout",
          "output_type": "stream",
          "text": [
            "\n",
            "      Epoch    GPU_mem   box_loss   cls_loss   dfl_loss  Instances       Size\n"
          ]
        },
        {
          "name": "stderr",
          "output_type": "stream",
          "text": [
            "      7/120      8.42G      1.557     0.8572      1.195          5        640: 100%|██████████| 1460/1460 [03:23<00:00,  7.19it/s]\n",
            "                 Class     Images  Instances      Box(P          R      mAP50  mAP50-95): 100%|██████████| 157/157 [00:15<00:00, 10.06it/s]"
          ]
        },
        {
          "name": "stdout",
          "output_type": "stream",
          "text": [
            "                   all      10008        185      0.916      0.832       0.88      0.424\n"
          ]
        },
        {
          "name": "stderr",
          "output_type": "stream",
          "text": [
            "\n"
          ]
        },
        {
          "name": "stdout",
          "output_type": "stream",
          "text": [
            "\n",
            "      Epoch    GPU_mem   box_loss   cls_loss   dfl_loss  Instances       Size\n"
          ]
        },
        {
          "name": "stderr",
          "output_type": "stream",
          "text": [
            "      8/120      8.45G      1.528     0.8321      1.167          1        640: 100%|██████████| 1460/1460 [03:23<00:00,  7.19it/s]\n",
            "                 Class     Images  Instances      Box(P          R      mAP50  mAP50-95): 100%|██████████| 157/157 [00:15<00:00,  9.93it/s]\n"
          ]
        },
        {
          "name": "stdout",
          "output_type": "stream",
          "text": [
            "                   all      10008        185       0.88       0.83      0.868      0.398\n",
            "\n",
            "      Epoch    GPU_mem   box_loss   cls_loss   dfl_loss  Instances       Size\n"
          ]
        },
        {
          "name": "stderr",
          "output_type": "stream",
          "text": [
            "      9/120      8.49G      1.488     0.8101      1.149          1        640: 100%|██████████| 1460/1460 [03:23<00:00,  7.19it/s]\n",
            "                 Class     Images  Instances      Box(P          R      mAP50  mAP50-95): 100%|██████████| 157/157 [00:15<00:00, 10.14it/s]"
          ]
        },
        {
          "name": "stdout",
          "output_type": "stream",
          "text": [
            "                   all      10008        185      0.878      0.818      0.845      0.396\n"
          ]
        },
        {
          "name": "stderr",
          "output_type": "stream",
          "text": [
            "\n"
          ]
        },
        {
          "name": "stdout",
          "output_type": "stream",
          "text": [
            "\n",
            "      Epoch    GPU_mem   box_loss   cls_loss   dfl_loss  Instances       Size\n"
          ]
        },
        {
          "name": "stderr",
          "output_type": "stream",
          "text": [
            "     10/120      8.52G      1.472     0.7818      1.151          2        640: 100%|██████████| 1460/1460 [03:23<00:00,  7.19it/s]\n",
            "                 Class     Images  Instances      Box(P          R      mAP50  mAP50-95): 100%|██████████| 157/157 [00:15<00:00, 10.14it/s]"
          ]
        },
        {
          "name": "stdout",
          "output_type": "stream",
          "text": [
            "                   all      10008        185      0.902      0.797       0.87      0.395\n"
          ]
        },
        {
          "name": "stderr",
          "output_type": "stream",
          "text": [
            "\n"
          ]
        },
        {
          "name": "stdout",
          "output_type": "stream",
          "text": [
            "\n",
            "      Epoch    GPU_mem   box_loss   cls_loss   dfl_loss  Instances       Size\n"
          ]
        },
        {
          "name": "stderr",
          "output_type": "stream",
          "text": [
            "     11/120      8.56G      1.457     0.7786      1.141          1        640: 100%|██████████| 1460/1460 [03:23<00:00,  7.19it/s]\n",
            "                 Class     Images  Instances      Box(P          R      mAP50  mAP50-95): 100%|██████████| 157/157 [00:15<00:00, 10.25it/s]"
          ]
        },
        {
          "name": "stdout",
          "output_type": "stream",
          "text": [
            "                   all      10008        185      0.906      0.805      0.847      0.427\n"
          ]
        },
        {
          "name": "stderr",
          "output_type": "stream",
          "text": [
            "\n"
          ]
        },
        {
          "name": "stdout",
          "output_type": "stream",
          "text": [
            "\n",
            "      Epoch    GPU_mem   box_loss   cls_loss   dfl_loss  Instances       Size\n"
          ]
        },
        {
          "name": "stderr",
          "output_type": "stream",
          "text": [
            "     12/120       8.6G      1.461     0.7683      1.138          2        640: 100%|██████████| 1460/1460 [03:23<00:00,  7.18it/s]\n",
            "                 Class     Images  Instances      Box(P          R      mAP50  mAP50-95): 100%|██████████| 157/157 [00:15<00:00, 10.20it/s]"
          ]
        },
        {
          "name": "stdout",
          "output_type": "stream",
          "text": [
            "                   all      10008        185      0.872      0.827       0.86      0.434\n"
          ]
        },
        {
          "name": "stderr",
          "output_type": "stream",
          "text": [
            "\n"
          ]
        },
        {
          "name": "stdout",
          "output_type": "stream",
          "text": [
            "\n",
            "      Epoch    GPU_mem   box_loss   cls_loss   dfl_loss  Instances       Size\n"
          ]
        },
        {
          "name": "stderr",
          "output_type": "stream",
          "text": [
            "     13/120      8.63G      1.461     0.7639      1.145          0        640: 100%|██████████| 1460/1460 [03:23<00:00,  7.19it/s]\n",
            "                 Class     Images  Instances      Box(P          R      mAP50  mAP50-95): 100%|██████████| 157/157 [00:15<00:00, 10.20it/s]"
          ]
        },
        {
          "name": "stdout",
          "output_type": "stream",
          "text": [
            "                   all      10008        185      0.918      0.805      0.855      0.442\n"
          ]
        },
        {
          "name": "stderr",
          "output_type": "stream",
          "text": [
            "\n"
          ]
        },
        {
          "name": "stdout",
          "output_type": "stream",
          "text": [
            "\n",
            "      Epoch    GPU_mem   box_loss   cls_loss   dfl_loss  Instances       Size\n"
          ]
        },
        {
          "name": "stderr",
          "output_type": "stream",
          "text": [
            "     14/120      8.67G      1.429     0.7501      1.134          3        640: 100%|██████████| 1460/1460 [03:23<00:00,  7.19it/s]\n",
            "                 Class     Images  Instances      Box(P          R      mAP50  mAP50-95): 100%|██████████| 157/157 [00:15<00:00, 10.19it/s]"
          ]
        },
        {
          "name": "stdout",
          "output_type": "stream",
          "text": [
            "                   all      10008        185      0.924      0.843      0.885      0.438\n"
          ]
        },
        {
          "name": "stderr",
          "output_type": "stream",
          "text": [
            "\n"
          ]
        },
        {
          "name": "stdout",
          "output_type": "stream",
          "text": [
            "\n",
            "      Epoch    GPU_mem   box_loss   cls_loss   dfl_loss  Instances       Size\n"
          ]
        },
        {
          "name": "stderr",
          "output_type": "stream",
          "text": [
            "     15/120      8.71G      1.414     0.7438      1.118          4        640: 100%|██████████| 1460/1460 [03:22<00:00,  7.19it/s]\n",
            "                 Class     Images  Instances      Box(P          R      mAP50  mAP50-95): 100%|██████████| 157/157 [00:15<00:00, 10.21it/s]"
          ]
        },
        {
          "name": "stdout",
          "output_type": "stream",
          "text": [
            "                   all      10008        185      0.902      0.847      0.871      0.432\n"
          ]
        },
        {
          "name": "stderr",
          "output_type": "stream",
          "text": [
            "\n"
          ]
        },
        {
          "name": "stdout",
          "output_type": "stream",
          "text": [
            "\n",
            "      Epoch    GPU_mem   box_loss   cls_loss   dfl_loss  Instances       Size\n"
          ]
        },
        {
          "name": "stderr",
          "output_type": "stream",
          "text": [
            "     16/120      8.74G        1.4     0.7341      1.117          0        640: 100%|██████████| 1460/1460 [03:23<00:00,  7.19it/s]\n",
            "                 Class     Images  Instances      Box(P          R      mAP50  mAP50-95): 100%|██████████| 157/157 [00:15<00:00, 10.26it/s]"
          ]
        },
        {
          "name": "stdout",
          "output_type": "stream",
          "text": [
            "                   all      10008        185      0.883      0.857      0.876      0.425\n"
          ]
        },
        {
          "name": "stderr",
          "output_type": "stream",
          "text": [
            "\n"
          ]
        },
        {
          "name": "stdout",
          "output_type": "stream",
          "text": [
            "\n",
            "      Epoch    GPU_mem   box_loss   cls_loss   dfl_loss  Instances       Size\n"
          ]
        },
        {
          "name": "stderr",
          "output_type": "stream",
          "text": [
            "     17/120      8.78G      1.392      0.715      1.118          1        640: 100%|██████████| 1460/1460 [03:23<00:00,  7.18it/s]\n",
            "                 Class     Images  Instances      Box(P          R      mAP50  mAP50-95): 100%|██████████| 157/157 [00:15<00:00, 10.16it/s]"
          ]
        },
        {
          "name": "stdout",
          "output_type": "stream",
          "text": [
            "                   all      10008        185      0.911      0.827      0.873      0.435\n"
          ]
        },
        {
          "name": "stderr",
          "output_type": "stream",
          "text": [
            "\n"
          ]
        },
        {
          "name": "stdout",
          "output_type": "stream",
          "text": [
            "\n",
            "      Epoch    GPU_mem   box_loss   cls_loss   dfl_loss  Instances       Size\n"
          ]
        },
        {
          "name": "stderr",
          "output_type": "stream",
          "text": [
            "     18/120      8.81G      1.372      0.716      1.107          1        640: 100%|██████████| 1460/1460 [03:23<00:00,  7.18it/s]\n",
            "                 Class     Images  Instances      Box(P          R      mAP50  mAP50-95): 100%|██████████| 157/157 [00:15<00:00, 10.11it/s]"
          ]
        },
        {
          "name": "stdout",
          "output_type": "stream",
          "text": [
            "                   all      10008        185       0.92      0.827      0.875      0.439\n"
          ]
        },
        {
          "name": "stderr",
          "output_type": "stream",
          "text": [
            "\n"
          ]
        },
        {
          "name": "stdout",
          "output_type": "stream",
          "text": [
            "\n",
            "      Epoch    GPU_mem   box_loss   cls_loss   dfl_loss  Instances       Size\n"
          ]
        },
        {
          "name": "stderr",
          "output_type": "stream",
          "text": [
            "     19/120      8.85G      1.363     0.6994      1.114          2        640: 100%|██████████| 1460/1460 [03:23<00:00,  7.18it/s]\n",
            "                 Class     Images  Instances      Box(P          R      mAP50  mAP50-95): 100%|██████████| 157/157 [00:15<00:00, 10.22it/s]"
          ]
        },
        {
          "name": "stdout",
          "output_type": "stream",
          "text": [
            "                   all      10008        185      0.915      0.819      0.858      0.448\n"
          ]
        },
        {
          "name": "stderr",
          "output_type": "stream",
          "text": [
            "\n"
          ]
        },
        {
          "name": "stdout",
          "output_type": "stream",
          "text": [
            "\n",
            "      Epoch    GPU_mem   box_loss   cls_loss   dfl_loss  Instances       Size\n"
          ]
        },
        {
          "name": "stderr",
          "output_type": "stream",
          "text": [
            "     20/120      8.89G      1.347      0.678      1.099          2        640: 100%|██████████| 1460/1460 [03:23<00:00,  7.18it/s]\n",
            "                 Class     Images  Instances      Box(P          R      mAP50  mAP50-95): 100%|██████████| 157/157 [00:15<00:00, 10.23it/s]"
          ]
        },
        {
          "name": "stdout",
          "output_type": "stream",
          "text": [
            "                   all      10008        185      0.903      0.827      0.859       0.45\n"
          ]
        },
        {
          "name": "stderr",
          "output_type": "stream",
          "text": [
            "\n"
          ]
        },
        {
          "name": "stdout",
          "output_type": "stream",
          "text": [
            "\n",
            "      Epoch    GPU_mem   box_loss   cls_loss   dfl_loss  Instances       Size\n"
          ]
        },
        {
          "name": "stderr",
          "output_type": "stream",
          "text": [
            "     21/120      8.92G      1.364     0.6883      1.109          2        640: 100%|██████████| 1460/1460 [03:23<00:00,  7.18it/s]\n",
            "                 Class     Images  Instances      Box(P          R      mAP50  mAP50-95): 100%|██████████| 157/157 [00:15<00:00, 10.29it/s]"
          ]
        },
        {
          "name": "stdout",
          "output_type": "stream",
          "text": [
            "                   all      10008        185      0.936      0.822      0.874      0.457\n"
          ]
        },
        {
          "name": "stderr",
          "output_type": "stream",
          "text": [
            "\n"
          ]
        },
        {
          "name": "stdout",
          "output_type": "stream",
          "text": [
            "\n",
            "      Epoch    GPU_mem   box_loss   cls_loss   dfl_loss  Instances       Size\n"
          ]
        },
        {
          "name": "stderr",
          "output_type": "stream",
          "text": [
            "     22/120      8.96G       1.33     0.6802      1.096          2        640: 100%|██████████| 1460/1460 [03:23<00:00,  7.18it/s]\n",
            "                 Class     Images  Instances      Box(P          R      mAP50  mAP50-95): 100%|██████████| 157/157 [00:15<00:00, 10.13it/s]"
          ]
        },
        {
          "name": "stdout",
          "output_type": "stream",
          "text": [
            "                   all      10008        185       0.93      0.827      0.864      0.465\n"
          ]
        },
        {
          "name": "stderr",
          "output_type": "stream",
          "text": [
            "\n"
          ]
        },
        {
          "name": "stdout",
          "output_type": "stream",
          "text": [
            "\n",
            "      Epoch    GPU_mem   box_loss   cls_loss   dfl_loss  Instances       Size\n"
          ]
        },
        {
          "name": "stderr",
          "output_type": "stream",
          "text": [
            "     23/120         9G      1.327     0.6607      1.101          6        640: 100%|██████████| 1460/1460 [03:23<00:00,  7.17it/s]\n",
            "                 Class     Images  Instances      Box(P          R      mAP50  mAP50-95): 100%|██████████| 157/157 [00:15<00:00, 10.13it/s]"
          ]
        },
        {
          "name": "stdout",
          "output_type": "stream",
          "text": [
            "                   all      10008        185      0.938      0.824      0.875       0.47\n"
          ]
        },
        {
          "name": "stderr",
          "output_type": "stream",
          "text": [
            "\n"
          ]
        },
        {
          "name": "stdout",
          "output_type": "stream",
          "text": [
            "\n",
            "      Epoch    GPU_mem   box_loss   cls_loss   dfl_loss  Instances       Size\n"
          ]
        },
        {
          "name": "stderr",
          "output_type": "stream",
          "text": [
            "     24/120      9.03G      1.321     0.6591       1.09          3        640: 100%|██████████| 1460/1460 [03:23<00:00,  7.17it/s]\n",
            "                 Class     Images  Instances      Box(P          R      mAP50  mAP50-95): 100%|██████████| 157/157 [00:15<00:00, 10.25it/s]"
          ]
        },
        {
          "name": "stdout",
          "output_type": "stream",
          "text": [
            "                   all      10008        185      0.938      0.822      0.872      0.467\n"
          ]
        },
        {
          "name": "stderr",
          "output_type": "stream",
          "text": [
            "\n"
          ]
        },
        {
          "name": "stdout",
          "output_type": "stream",
          "text": [
            "\n",
            "      Epoch    GPU_mem   box_loss   cls_loss   dfl_loss  Instances       Size\n"
          ]
        },
        {
          "name": "stderr",
          "output_type": "stream",
          "text": [
            "     25/120      9.07G      1.319     0.6637      1.093          7        640: 100%|██████████| 1460/1460 [03:23<00:00,  7.17it/s]\n",
            "                 Class     Images  Instances      Box(P          R      mAP50  mAP50-95): 100%|██████████| 157/157 [00:15<00:00, 10.17it/s]"
          ]
        },
        {
          "name": "stdout",
          "output_type": "stream",
          "text": [
            "                   all      10008        185      0.934      0.827      0.881      0.469\n"
          ]
        },
        {
          "name": "stderr",
          "output_type": "stream",
          "text": [
            "\n"
          ]
        },
        {
          "name": "stdout",
          "output_type": "stream",
          "text": [
            "\n",
            "      Epoch    GPU_mem   box_loss   cls_loss   dfl_loss  Instances       Size\n"
          ]
        },
        {
          "name": "stderr",
          "output_type": "stream",
          "text": [
            "     26/120       9.1G      1.301     0.6554      1.085          1        640: 100%|██████████| 1460/1460 [03:23<00:00,  7.17it/s]\n",
            "                 Class     Images  Instances      Box(P          R      mAP50  mAP50-95): 100%|██████████| 157/157 [00:15<00:00, 10.18it/s]"
          ]
        },
        {
          "name": "stdout",
          "output_type": "stream",
          "text": [
            "                   all      10008        185      0.925      0.822      0.874      0.475\n"
          ]
        },
        {
          "name": "stderr",
          "output_type": "stream",
          "text": [
            "\n"
          ]
        },
        {
          "name": "stdout",
          "output_type": "stream",
          "text": [
            "\n",
            "      Epoch    GPU_mem   box_loss   cls_loss   dfl_loss  Instances       Size\n"
          ]
        },
        {
          "name": "stderr",
          "output_type": "stream",
          "text": [
            "     27/120      9.14G      1.291     0.6492      1.087          2        640: 100%|██████████| 1460/1460 [03:23<00:00,  7.17it/s]\n",
            "                 Class     Images  Instances      Box(P          R      mAP50  mAP50-95): 100%|██████████| 157/157 [00:15<00:00, 10.32it/s]"
          ]
        },
        {
          "name": "stdout",
          "output_type": "stream",
          "text": [
            "                   all      10008        185      0.898      0.849      0.875      0.472\n"
          ]
        },
        {
          "name": "stderr",
          "output_type": "stream",
          "text": [
            "\n"
          ]
        },
        {
          "name": "stdout",
          "output_type": "stream",
          "text": [
            "\n",
            "      Epoch    GPU_mem   box_loss   cls_loss   dfl_loss  Instances       Size\n"
          ]
        },
        {
          "name": "stderr",
          "output_type": "stream",
          "text": [
            "     28/120      9.18G      1.285     0.6295      1.079          2        640: 100%|██████████| 1460/1460 [03:23<00:00,  7.18it/s]\n",
            "                 Class     Images  Instances      Box(P          R      mAP50  mAP50-95): 100%|██████████| 157/157 [00:15<00:00, 10.24it/s]"
          ]
        },
        {
          "name": "stdout",
          "output_type": "stream",
          "text": [
            "                   all      10008        185      0.933      0.822      0.874      0.471\n"
          ]
        },
        {
          "name": "stderr",
          "output_type": "stream",
          "text": [
            "\n"
          ]
        },
        {
          "name": "stdout",
          "output_type": "stream",
          "text": [
            "\n",
            "      Epoch    GPU_mem   box_loss   cls_loss   dfl_loss  Instances       Size\n"
          ]
        },
        {
          "name": "stderr",
          "output_type": "stream",
          "text": [
            "     29/120      9.21G       1.27     0.6256      1.076          0        640: 100%|██████████| 1460/1460 [03:23<00:00,  7.18it/s]\n",
            "                 Class     Images  Instances      Box(P          R      mAP50  mAP50-95): 100%|██████████| 157/157 [00:15<00:00, 10.25it/s]"
          ]
        },
        {
          "name": "stdout",
          "output_type": "stream",
          "text": [
            "                   all      10008        185      0.932      0.822      0.873      0.474\n"
          ]
        },
        {
          "name": "stderr",
          "output_type": "stream",
          "text": [
            "\n"
          ]
        },
        {
          "name": "stdout",
          "output_type": "stream",
          "text": [
            "\n",
            "      Epoch    GPU_mem   box_loss   cls_loss   dfl_loss  Instances       Size\n"
          ]
        },
        {
          "name": "stderr",
          "output_type": "stream",
          "text": [
            "     30/120      9.25G      1.278     0.6313      1.088          4        640: 100%|██████████| 1460/1460 [03:23<00:00,  7.17it/s]\n",
            "                 Class     Images  Instances      Box(P          R      mAP50  mAP50-95): 100%|██████████| 157/157 [00:15<00:00, 10.22it/s]"
          ]
        },
        {
          "name": "stdout",
          "output_type": "stream",
          "text": [
            "                   all      10008        185      0.936      0.822      0.872      0.475\n"
          ]
        },
        {
          "name": "stderr",
          "output_type": "stream",
          "text": [
            "\n"
          ]
        },
        {
          "name": "stdout",
          "output_type": "stream",
          "text": [
            "\n",
            "      Epoch    GPU_mem   box_loss   cls_loss   dfl_loss  Instances       Size\n"
          ]
        },
        {
          "name": "stderr",
          "output_type": "stream",
          "text": [
            "     31/120      9.28G      1.265      0.616      1.081          0        640: 100%|██████████| 1460/1460 [03:23<00:00,  7.18it/s]\n",
            "                 Class     Images  Instances      Box(P          R      mAP50  mAP50-95): 100%|██████████| 157/157 [00:15<00:00, 10.17it/s]"
          ]
        },
        {
          "name": "stdout",
          "output_type": "stream",
          "text": [
            "                   all      10008        185      0.945      0.834      0.887       0.48\n"
          ]
        },
        {
          "name": "stderr",
          "output_type": "stream",
          "text": [
            "\n"
          ]
        },
        {
          "name": "stdout",
          "output_type": "stream",
          "text": [
            "\n",
            "      Epoch    GPU_mem   box_loss   cls_loss   dfl_loss  Instances       Size\n"
          ]
        },
        {
          "name": "stderr",
          "output_type": "stream",
          "text": [
            "     32/120      9.32G      1.244     0.6112       1.07          1        640: 100%|██████████| 1460/1460 [03:23<00:00,  7.19it/s]\n",
            "                 Class     Images  Instances      Box(P          R      mAP50  mAP50-95): 100%|██████████| 157/157 [00:15<00:00, 10.31it/s]"
          ]
        },
        {
          "name": "stdout",
          "output_type": "stream",
          "text": [
            "                   all      10008        185      0.944      0.838      0.887      0.483\n"
          ]
        },
        {
          "name": "stderr",
          "output_type": "stream",
          "text": [
            "\n"
          ]
        },
        {
          "name": "stdout",
          "output_type": "stream",
          "text": [
            "\n",
            "      Epoch    GPU_mem   box_loss   cls_loss   dfl_loss  Instances       Size\n"
          ]
        },
        {
          "name": "stderr",
          "output_type": "stream",
          "text": [
            "     33/120      9.36G      1.247     0.6093      1.077          1        640: 100%|██████████| 1460/1460 [03:23<00:00,  7.17it/s]\n",
            "                 Class     Images  Instances      Box(P          R      mAP50  mAP50-95): 100%|██████████| 157/157 [00:15<00:00, 10.29it/s]"
          ]
        },
        {
          "name": "stdout",
          "output_type": "stream",
          "text": [
            "                   all      10008        185       0.94      0.838      0.888      0.484\n"
          ]
        },
        {
          "name": "stderr",
          "output_type": "stream",
          "text": [
            "\n"
          ]
        },
        {
          "name": "stdout",
          "output_type": "stream",
          "text": [
            "\n",
            "      Epoch    GPU_mem   box_loss   cls_loss   dfl_loss  Instances       Size\n"
          ]
        },
        {
          "name": "stderr",
          "output_type": "stream",
          "text": [
            "     34/120      9.39G      1.223     0.5936      1.062          0        640: 100%|██████████| 1460/1460 [03:23<00:00,  7.17it/s]\n",
            "                 Class     Images  Instances      Box(P          R      mAP50  mAP50-95): 100%|██████████| 157/157 [00:15<00:00, 10.20it/s]\n"
          ]
        },
        {
          "name": "stdout",
          "output_type": "stream",
          "text": [
            "                   all      10008        185      0.939      0.838      0.888      0.484\n",
            "\n",
            "      Epoch    GPU_mem   box_loss   cls_loss   dfl_loss  Instances       Size\n"
          ]
        },
        {
          "name": "stderr",
          "output_type": "stream",
          "text": [
            "     35/120      9.43G      1.229     0.5951      1.068          1        640: 100%|██████████| 1460/1460 [03:23<00:00,  7.18it/s]\n",
            "                 Class     Images  Instances      Box(P          R      mAP50  mAP50-95): 100%|██████████| 157/157 [00:15<00:00, 10.36it/s]"
          ]
        },
        {
          "name": "stdout",
          "output_type": "stream",
          "text": [
            "                   all      10008        185      0.933      0.832      0.878      0.482\n"
          ]
        },
        {
          "name": "stderr",
          "output_type": "stream",
          "text": [
            "\n"
          ]
        },
        {
          "name": "stdout",
          "output_type": "stream",
          "text": [
            "\n",
            "      Epoch    GPU_mem   box_loss   cls_loss   dfl_loss  Instances       Size\n"
          ]
        },
        {
          "name": "stderr",
          "output_type": "stream",
          "text": [
            "     36/120      9.46G      1.235     0.5997       1.07          2        640: 100%|██████████| 1460/1460 [03:23<00:00,  7.17it/s]\n",
            "                 Class     Images  Instances      Box(P          R      mAP50  mAP50-95): 100%|██████████| 157/157 [00:15<00:00, 10.20it/s]\n"
          ]
        },
        {
          "name": "stdout",
          "output_type": "stream",
          "text": [
            "                   all      10008        185      0.935      0.832      0.878      0.481\n",
            "\n",
            "      Epoch    GPU_mem   box_loss   cls_loss   dfl_loss  Instances       Size\n"
          ]
        },
        {
          "name": "stderr",
          "output_type": "stream",
          "text": [
            "     37/120       9.5G       1.21     0.5826      1.053          4        640: 100%|██████████| 1460/1460 [03:23<00:00,  7.17it/s]\n",
            "                 Class     Images  Instances      Box(P          R      mAP50  mAP50-95): 100%|██████████| 157/157 [00:15<00:00, 10.26it/s]"
          ]
        },
        {
          "name": "stdout",
          "output_type": "stream",
          "text": [
            "                   all      10008        185      0.936      0.832       0.88       0.48\n"
          ]
        },
        {
          "name": "stderr",
          "output_type": "stream",
          "text": [
            "\n"
          ]
        },
        {
          "name": "stdout",
          "output_type": "stream",
          "text": [
            "\n",
            "      Epoch    GPU_mem   box_loss   cls_loss   dfl_loss  Instances       Size\n"
          ]
        },
        {
          "name": "stderr",
          "output_type": "stream",
          "text": [
            "     38/120      9.54G      1.208     0.5888      1.063          1        640: 100%|██████████| 1460/1460 [03:23<00:00,  7.17it/s]\n",
            "                 Class     Images  Instances      Box(P          R      mAP50  mAP50-95): 100%|██████████| 157/157 [00:15<00:00, 10.29it/s]"
          ]
        },
        {
          "name": "stdout",
          "output_type": "stream",
          "text": [
            "                   all      10008        185      0.908      0.852      0.882      0.486\n"
          ]
        },
        {
          "name": "stderr",
          "output_type": "stream",
          "text": [
            "\n"
          ]
        },
        {
          "name": "stdout",
          "output_type": "stream",
          "text": [
            "\n",
            "      Epoch    GPU_mem   box_loss   cls_loss   dfl_loss  Instances       Size\n"
          ]
        },
        {
          "name": "stderr",
          "output_type": "stream",
          "text": [
            "     39/120      9.57G      1.193     0.5695      1.058          0        640: 100%|██████████| 1460/1460 [03:23<00:00,  7.18it/s]\n",
            "                 Class     Images  Instances      Box(P          R      mAP50  mAP50-95): 100%|██████████| 157/157 [00:15<00:00, 10.26it/s]\n"
          ]
        },
        {
          "name": "stdout",
          "output_type": "stream",
          "text": [
            "                   all      10008        185      0.908      0.855      0.886      0.483\n",
            "\n",
            "      Epoch    GPU_mem   box_loss   cls_loss   dfl_loss  Instances       Size\n"
          ]
        },
        {
          "name": "stderr",
          "output_type": "stream",
          "text": [
            "     40/120      9.61G      1.202     0.5827      1.055          1        640: 100%|██████████| 1460/1460 [03:23<00:00,  7.17it/s]\n",
            "                 Class     Images  Instances      Box(P          R      mAP50  mAP50-95): 100%|██████████| 157/157 [00:15<00:00, 10.27it/s]\n"
          ]
        },
        {
          "name": "stdout",
          "output_type": "stream",
          "text": [
            "                   all      10008        185      0.918      0.859      0.891      0.484\n",
            "\n",
            "      Epoch    GPU_mem   box_loss   cls_loss   dfl_loss  Instances       Size\n"
          ]
        },
        {
          "name": "stderr",
          "output_type": "stream",
          "text": [
            "     41/120      9.65G      1.186     0.5701      1.054          3        640: 100%|██████████| 1460/1460 [03:23<00:00,  7.17it/s]\n",
            "                 Class     Images  Instances      Box(P          R      mAP50  mAP50-95): 100%|██████████| 157/157 [00:15<00:00, 10.09it/s]"
          ]
        },
        {
          "name": "stdout",
          "output_type": "stream",
          "text": [
            "                   all      10008        185      0.924      0.859      0.892      0.485\n"
          ]
        },
        {
          "name": "stderr",
          "output_type": "stream",
          "text": [
            "\n"
          ]
        },
        {
          "name": "stdout",
          "output_type": "stream",
          "text": [
            "\n",
            "      Epoch    GPU_mem   box_loss   cls_loss   dfl_loss  Instances       Size\n"
          ]
        },
        {
          "name": "stderr",
          "output_type": "stream",
          "text": [
            "     42/120      9.68G      1.182     0.5702      1.057          7        640: 100%|██████████| 1460/1460 [03:23<00:00,  7.18it/s]\n",
            "                 Class     Images  Instances      Box(P          R      mAP50  mAP50-95): 100%|██████████| 157/157 [00:15<00:00, 10.24it/s]"
          ]
        },
        {
          "name": "stdout",
          "output_type": "stream",
          "text": [
            "                   all      10008        185       0.93      0.865      0.902      0.488\n"
          ]
        },
        {
          "name": "stderr",
          "output_type": "stream",
          "text": [
            "\n"
          ]
        },
        {
          "name": "stdout",
          "output_type": "stream",
          "text": [
            "\n",
            "      Epoch    GPU_mem   box_loss   cls_loss   dfl_loss  Instances       Size\n"
          ]
        },
        {
          "name": "stderr",
          "output_type": "stream",
          "text": [
            "     43/120      9.72G      1.185     0.5618      1.055          4        640: 100%|██████████| 1460/1460 [03:23<00:00,  7.17it/s]\n",
            "                 Class     Images  Instances      Box(P          R      mAP50  mAP50-95): 100%|██████████| 157/157 [00:15<00:00, 10.30it/s]"
          ]
        },
        {
          "name": "stdout",
          "output_type": "stream",
          "text": [
            "                   all      10008        185      0.932      0.865      0.904      0.486\n"
          ]
        },
        {
          "name": "stderr",
          "output_type": "stream",
          "text": [
            "\n"
          ]
        },
        {
          "name": "stdout",
          "output_type": "stream",
          "text": [
            "\n",
            "      Epoch    GPU_mem   box_loss   cls_loss   dfl_loss  Instances       Size\n"
          ]
        },
        {
          "name": "stderr",
          "output_type": "stream",
          "text": [
            "     44/120      9.75G      1.162     0.5719       1.04          4        640: 100%|██████████| 1460/1460 [03:23<00:00,  7.17it/s]\n",
            "                 Class     Images  Instances      Box(P          R      mAP50  mAP50-95): 100%|██████████| 157/157 [00:15<00:00, 10.10it/s]"
          ]
        },
        {
          "name": "stdout",
          "output_type": "stream",
          "text": [
            "                   all      10008        185      0.921      0.882      0.912      0.488\n"
          ]
        },
        {
          "name": "stderr",
          "output_type": "stream",
          "text": [
            "\n"
          ]
        },
        {
          "name": "stdout",
          "output_type": "stream",
          "text": [
            "\n",
            "      Epoch    GPU_mem   box_loss   cls_loss   dfl_loss  Instances       Size\n"
          ]
        },
        {
          "name": "stderr",
          "output_type": "stream",
          "text": [
            "     45/120      9.79G      1.156     0.5512      1.049          5        640: 100%|██████████| 1460/1460 [03:23<00:00,  7.17it/s]\n",
            "                 Class     Images  Instances      Box(P          R      mAP50  mAP50-95): 100%|██████████| 157/157 [00:15<00:00, 10.33it/s]"
          ]
        },
        {
          "name": "stdout",
          "output_type": "stream",
          "text": [
            "                   all      10008        185      0.926      0.881      0.911      0.489\n"
          ]
        },
        {
          "name": "stderr",
          "output_type": "stream",
          "text": [
            "\n"
          ]
        },
        {
          "name": "stdout",
          "output_type": "stream",
          "text": [
            "\n",
            "      Epoch    GPU_mem   box_loss   cls_loss   dfl_loss  Instances       Size\n"
          ]
        },
        {
          "name": "stderr",
          "output_type": "stream",
          "text": [
            "     46/120      9.82G      1.146     0.5473      1.042          0        640: 100%|██████████| 1460/1460 [03:23<00:00,  7.17it/s]\n",
            "                 Class     Images  Instances      Box(P          R      mAP50  mAP50-95): 100%|██████████| 157/157 [00:15<00:00, 10.28it/s]"
          ]
        },
        {
          "name": "stdout",
          "output_type": "stream",
          "text": [
            "                   all      10008        185      0.918      0.876      0.905      0.491\n"
          ]
        },
        {
          "name": "stderr",
          "output_type": "stream",
          "text": [
            "\n"
          ]
        },
        {
          "name": "stdout",
          "output_type": "stream",
          "text": [
            "\n",
            "      Epoch    GPU_mem   box_loss   cls_loss   dfl_loss  Instances       Size\n"
          ]
        },
        {
          "name": "stderr",
          "output_type": "stream",
          "text": [
            "     47/120      9.87G      1.149     0.5523      1.043          4        640: 100%|██████████| 1460/1460 [03:23<00:00,  7.16it/s]\n",
            "                 Class     Images  Instances      Box(P          R      mAP50  mAP50-95): 100%|██████████| 157/157 [00:15<00:00, 10.19it/s]\n"
          ]
        },
        {
          "name": "stdout",
          "output_type": "stream",
          "text": [
            "                   all      10008        185      0.921      0.876      0.906      0.492\n",
            "\n",
            "      Epoch    GPU_mem   box_loss   cls_loss   dfl_loss  Instances       Size\n"
          ]
        },
        {
          "name": "stderr",
          "output_type": "stream",
          "text": [
            "     48/120       9.9G      1.147     0.5521      1.045          0        640: 100%|██████████| 1460/1460 [03:23<00:00,  7.17it/s]\n",
            "                 Class     Images  Instances      Box(P          R      mAP50  mAP50-95): 100%|██████████| 157/157 [00:15<00:00, 10.28it/s]"
          ]
        },
        {
          "name": "stdout",
          "output_type": "stream",
          "text": [
            "                   all      10008        185      0.926      0.876      0.908      0.492\n"
          ]
        },
        {
          "name": "stderr",
          "output_type": "stream",
          "text": [
            "\n"
          ]
        },
        {
          "name": "stdout",
          "output_type": "stream",
          "text": [
            "\n",
            "      Epoch    GPU_mem   box_loss   cls_loss   dfl_loss  Instances       Size\n"
          ]
        },
        {
          "name": "stderr",
          "output_type": "stream",
          "text": [
            "     49/120      9.94G      1.123     0.5303      1.033          2        640: 100%|██████████| 1460/1460 [03:23<00:00,  7.18it/s]\n",
            "                 Class     Images  Instances      Box(P          R      mAP50  mAP50-95): 100%|██████████| 157/157 [00:15<00:00, 10.27it/s]"
          ]
        },
        {
          "name": "stdout",
          "output_type": "stream",
          "text": [
            "                   all      10008        185      0.925      0.872      0.909      0.489\n"
          ]
        },
        {
          "name": "stderr",
          "output_type": "stream",
          "text": [
            "\n"
          ]
        },
        {
          "name": "stdout",
          "output_type": "stream",
          "text": [
            "\n",
            "      Epoch    GPU_mem   box_loss   cls_loss   dfl_loss  Instances       Size\n"
          ]
        },
        {
          "name": "stderr",
          "output_type": "stream",
          "text": [
            "     50/120      9.97G      1.126     0.5392      1.038          3        640: 100%|██████████| 1460/1460 [03:23<00:00,  7.17it/s]\n",
            "                 Class     Images  Instances      Box(P          R      mAP50  mAP50-95): 100%|██████████| 157/157 [00:15<00:00, 10.20it/s]"
          ]
        },
        {
          "name": "stdout",
          "output_type": "stream",
          "text": [
            "                   all      10008        185      0.925      0.873      0.911      0.494\n"
          ]
        },
        {
          "name": "stderr",
          "output_type": "stream",
          "text": [
            "\n"
          ]
        },
        {
          "name": "stdout",
          "output_type": "stream",
          "text": [
            "\n",
            "      Epoch    GPU_mem   box_loss   cls_loss   dfl_loss  Instances       Size\n"
          ]
        },
        {
          "name": "stderr",
          "output_type": "stream",
          "text": [
            "     51/120        10G      1.121     0.5272      1.037          5        640: 100%|██████████| 1460/1460 [03:23<00:00,  7.17it/s]\n",
            "                 Class     Images  Instances      Box(P          R      mAP50  mAP50-95): 100%|██████████| 157/157 [00:15<00:00, 10.17it/s]"
          ]
        },
        {
          "name": "stdout",
          "output_type": "stream",
          "text": [
            "                   all      10008        185      0.924       0.87      0.905      0.494\n"
          ]
        },
        {
          "name": "stderr",
          "output_type": "stream",
          "text": [
            "\n"
          ]
        },
        {
          "name": "stdout",
          "output_type": "stream",
          "text": [
            "\n",
            "      Epoch    GPU_mem   box_loss   cls_loss   dfl_loss  Instances       Size\n"
          ]
        },
        {
          "name": "stderr",
          "output_type": "stream",
          "text": [
            "     52/120        10G      1.105     0.5293      1.034          1        640: 100%|██████████| 1460/1460 [03:23<00:00,  7.18it/s]\n",
            "                 Class     Images  Instances      Box(P          R      mAP50  mAP50-95): 100%|██████████| 157/157 [00:15<00:00, 10.19it/s]\n"
          ]
        },
        {
          "name": "stdout",
          "output_type": "stream",
          "text": [
            "                   all      10008        185      0.924       0.87      0.905      0.491\n",
            "\n",
            "      Epoch    GPU_mem   box_loss   cls_loss   dfl_loss  Instances       Size\n"
          ]
        },
        {
          "name": "stderr",
          "output_type": "stream",
          "text": [
            "     53/120      10.1G      1.111     0.5257      1.029          3        640: 100%|██████████| 1460/1460 [03:23<00:00,  7.17it/s]\n",
            "                 Class     Images  Instances      Box(P          R      mAP50  mAP50-95): 100%|██████████| 157/157 [00:15<00:00, 10.37it/s]"
          ]
        },
        {
          "name": "stdout",
          "output_type": "stream",
          "text": [
            "                   all      10008        185      0.924       0.87      0.905      0.492\n"
          ]
        },
        {
          "name": "stderr",
          "output_type": "stream",
          "text": [
            "\n"
          ]
        },
        {
          "name": "stdout",
          "output_type": "stream",
          "text": [
            "\n",
            "      Epoch    GPU_mem   box_loss   cls_loss   dfl_loss  Instances       Size\n"
          ]
        },
        {
          "name": "stderr",
          "output_type": "stream",
          "text": [
            "     54/120      10.1G        1.1     0.5218      1.036          2        640: 100%|██████████| 1460/1460 [03:23<00:00,  7.17it/s]\n",
            "                 Class     Images  Instances      Box(P          R      mAP50  mAP50-95): 100%|██████████| 157/157 [00:15<00:00, 10.32it/s]"
          ]
        },
        {
          "name": "stdout",
          "output_type": "stream",
          "text": [
            "                   all      10008        185      0.924       0.87      0.905       0.49\n"
          ]
        },
        {
          "name": "stderr",
          "output_type": "stream",
          "text": [
            "\n"
          ]
        },
        {
          "name": "stdout",
          "output_type": "stream",
          "text": [
            "\n",
            "      Epoch    GPU_mem   box_loss   cls_loss   dfl_loss  Instances       Size\n"
          ]
        },
        {
          "name": "stderr",
          "output_type": "stream",
          "text": [
            "     55/120      10.2G      1.113     0.5245       1.04          2        640: 100%|██████████| 1460/1460 [03:23<00:00,  7.17it/s]\n",
            "                 Class     Images  Instances      Box(P          R      mAP50  mAP50-95): 100%|██████████| 157/157 [00:15<00:00, 10.29it/s]\n"
          ]
        },
        {
          "name": "stdout",
          "output_type": "stream",
          "text": [
            "                   all      10008        185      0.924       0.87      0.905      0.493\n",
            "\n",
            "      Epoch    GPU_mem   box_loss   cls_loss   dfl_loss  Instances       Size\n"
          ]
        },
        {
          "name": "stderr",
          "output_type": "stream",
          "text": [
            "     56/120      10.2G      1.096     0.5203      1.028          0        640: 100%|██████████| 1460/1460 [03:23<00:00,  7.17it/s]\n",
            "                 Class     Images  Instances      Box(P          R      mAP50  mAP50-95): 100%|██████████| 157/157 [00:15<00:00, 10.17it/s]\n"
          ]
        },
        {
          "name": "stdout",
          "output_type": "stream",
          "text": [
            "                   all      10008        185      0.924       0.87      0.903      0.491\n",
            "\n",
            "      Epoch    GPU_mem   box_loss   cls_loss   dfl_loss  Instances       Size\n"
          ]
        },
        {
          "name": "stderr",
          "output_type": "stream",
          "text": [
            "     57/120      10.2G      1.066      0.509      1.026          3        640: 100%|██████████| 1460/1460 [03:23<00:00,  7.18it/s]\n",
            "                 Class     Images  Instances      Box(P          R      mAP50  mAP50-95): 100%|██████████| 157/157 [00:15<00:00, 10.19it/s]"
          ]
        },
        {
          "name": "stdout",
          "output_type": "stream",
          "text": [
            "                   all      10008        185      0.925      0.864      0.902      0.491\n"
          ]
        },
        {
          "name": "stderr",
          "output_type": "stream",
          "text": [
            "\n"
          ]
        },
        {
          "name": "stdout",
          "output_type": "stream",
          "text": [
            "\n",
            "      Epoch    GPU_mem   box_loss   cls_loss   dfl_loss  Instances       Size\n"
          ]
        },
        {
          "name": "stderr",
          "output_type": "stream",
          "text": [
            "     58/120      10.3G      1.061     0.5088      1.023          6        640: 100%|██████████| 1460/1460 [03:23<00:00,  7.17it/s]\n",
            "                 Class     Images  Instances      Box(P          R      mAP50  mAP50-95): 100%|██████████| 157/157 [00:15<00:00, 10.30it/s]"
          ]
        },
        {
          "name": "stdout",
          "output_type": "stream",
          "text": [
            "                   all      10008        185       0.93      0.859      0.902      0.491\n"
          ]
        },
        {
          "name": "stderr",
          "output_type": "stream",
          "text": [
            "\n"
          ]
        },
        {
          "name": "stdout",
          "output_type": "stream",
          "text": [
            "\n",
            "      Epoch    GPU_mem   box_loss   cls_loss   dfl_loss  Instances       Size\n"
          ]
        },
        {
          "name": "stderr",
          "output_type": "stream",
          "text": [
            "     59/120      10.3G      1.078     0.5126      1.026          0        640: 100%|██████████| 1460/1460 [03:23<00:00,  7.17it/s]\n",
            "                 Class     Images  Instances      Box(P          R      mAP50  mAP50-95): 100%|██████████| 157/157 [00:15<00:00, 10.25it/s]\n"
          ]
        },
        {
          "name": "stdout",
          "output_type": "stream",
          "text": [
            "                   all      10008        185      0.924      0.854      0.897       0.49\n",
            "\n",
            "      Epoch    GPU_mem   box_loss   cls_loss   dfl_loss  Instances       Size\n"
          ]
        },
        {
          "name": "stderr",
          "output_type": "stream",
          "text": [
            "     60/120      10.3G      1.069     0.4929      1.025          1        640: 100%|██████████| 1460/1460 [03:24<00:00,  7.15it/s]\n",
            "                 Class     Images  Instances      Box(P          R      mAP50  mAP50-95): 100%|██████████| 157/157 [00:15<00:00, 10.27it/s]"
          ]
        },
        {
          "name": "stdout",
          "output_type": "stream",
          "text": [
            "                   all      10008        185      0.924      0.854      0.896      0.485\n"
          ]
        },
        {
          "name": "stderr",
          "output_type": "stream",
          "text": [
            "\n"
          ]
        },
        {
          "name": "stdout",
          "output_type": "stream",
          "text": [
            "\n",
            "      Epoch    GPU_mem   box_loss   cls_loss   dfl_loss  Instances       Size\n"
          ]
        },
        {
          "name": "stderr",
          "output_type": "stream",
          "text": [
            "     61/120      10.4G       1.05     0.4881      1.017          1        640: 100%|██████████| 1460/1460 [03:23<00:00,  7.17it/s]\n",
            "                 Class     Images  Instances      Box(P          R      mAP50  mAP50-95): 100%|██████████| 157/157 [00:15<00:00, 10.28it/s]"
          ]
        },
        {
          "name": "stdout",
          "output_type": "stream",
          "text": [
            "                   all      10008        185      0.923      0.854      0.897      0.488\n"
          ]
        },
        {
          "name": "stderr",
          "output_type": "stream",
          "text": [
            "\n"
          ]
        },
        {
          "name": "stdout",
          "output_type": "stream",
          "text": [
            "\n",
            "      Epoch    GPU_mem   box_loss   cls_loss   dfl_loss  Instances       Size\n"
          ]
        },
        {
          "name": "stderr",
          "output_type": "stream",
          "text": [
            "     62/120      10.4G      1.049      0.494      1.016          0        640: 100%|██████████| 1460/1460 [03:23<00:00,  7.17it/s]\n",
            "                 Class     Images  Instances      Box(P          R      mAP50  mAP50-95): 100%|██████████| 157/157 [00:15<00:00, 10.25it/s]"
          ]
        },
        {
          "name": "stdout",
          "output_type": "stream",
          "text": [
            "                   all      10008        185      0.923      0.854      0.897      0.488\n"
          ]
        },
        {
          "name": "stderr",
          "output_type": "stream",
          "text": [
            "\n"
          ]
        },
        {
          "name": "stdout",
          "output_type": "stream",
          "text": [
            "\n",
            "      Epoch    GPU_mem   box_loss   cls_loss   dfl_loss  Instances       Size\n"
          ]
        },
        {
          "name": "stderr",
          "output_type": "stream",
          "text": [
            "     63/120      10.4G      1.049     0.4921      1.017          5        640: 100%|██████████| 1460/1460 [03:23<00:00,  7.16it/s]\n",
            "                 Class     Images  Instances      Box(P          R      mAP50  mAP50-95): 100%|██████████| 157/157 [00:15<00:00, 10.23it/s]\n"
          ]
        },
        {
          "name": "stdout",
          "output_type": "stream",
          "text": [
            "                   all      10008        185      0.923      0.854      0.896      0.485\n",
            "\u001b[34m\u001b[1mEarlyStopping: \u001b[0mTraining stopped early as no improvement observed in last 13 epochs. Best results observed at epoch 50, best model saved as best.pt.\n",
            "To update EarlyStopping(patience=13) pass a new patience value, i.e. `patience=300` or use `patience=0` to disable EarlyStopping.\n",
            "\n",
            "63 epochs completed in 3.846 hours.\n",
            "Optimizer stripped from ProSeal/seals2/weights/last.pt, 22.5MB\n",
            "Optimizer stripped from ProSeal/seals2/weights/best.pt, 22.5MB\n",
            "\n",
            "Validating ProSeal/seals2/weights/best.pt...\n",
            "Ultralytics 8.3.174 🚀 Python-3.11.13 torch-2.6.0+cu124 CUDA:0 (NVIDIA A100-SXM4-40GB, 40507MiB)\n",
            "Model summary (fused): 72 layers, 11,125,971 parameters, 0 gradients, 28.4 GFLOPs\n"
          ]
        },
        {
          "name": "stderr",
          "output_type": "stream",
          "text": [
            "                 Class     Images  Instances      Box(P          R      mAP50  mAP50-95): 100%|██████████| 157/157 [00:14<00:00, 10.91it/s]\n"
          ]
        },
        {
          "name": "stdout",
          "output_type": "stream",
          "text": [
            "                   all      10008        185      0.925      0.873      0.908      0.494\n",
            "Speed: 0.1ms preprocess, 0.8ms inference, 0.0ms loss, 0.2ms postprocess per image\n",
            "Results saved to \u001b[1mProSeal/seals2\u001b[0m\n"
          ]
        },
        {
          "data": {
            "text/plain": [
              "ultralytics.utils.metrics.DetMetrics object with attributes:\n",
              "\n",
              "ap_class_index: array([0])\n",
              "box: ultralytics.utils.metrics.Metric object\n",
              "confusion_matrix: <ultralytics.utils.metrics.ConfusionMatrix object at 0x7979ee37d550>\n",
              "curves: ['Precision-Recall(B)', 'F1-Confidence(B)', 'Precision-Confidence(B)', 'Recall-Confidence(B)']\n",
              "curves_results: [[array([          0,    0.001001,    0.002002,    0.003003,    0.004004,    0.005005,    0.006006,    0.007007,    0.008008,    0.009009,     0.01001,    0.011011,    0.012012,    0.013013,    0.014014,    0.015015,    0.016016,    0.017017,    0.018018,    0.019019,     0.02002,    0.021021,    0.022022,    0.023023,\n",
              "          0.024024,    0.025025,    0.026026,    0.027027,    0.028028,    0.029029,     0.03003,    0.031031,    0.032032,    0.033033,    0.034034,    0.035035,    0.036036,    0.037037,    0.038038,    0.039039,     0.04004,    0.041041,    0.042042,    0.043043,    0.044044,    0.045045,    0.046046,    0.047047,\n",
              "          0.048048,    0.049049,     0.05005,    0.051051,    0.052052,    0.053053,    0.054054,    0.055055,    0.056056,    0.057057,    0.058058,    0.059059,     0.06006,    0.061061,    0.062062,    0.063063,    0.064064,    0.065065,    0.066066,    0.067067,    0.068068,    0.069069,     0.07007,    0.071071,\n",
              "          0.072072,    0.073073,    0.074074,    0.075075,    0.076076,    0.077077,    0.078078,    0.079079,     0.08008,    0.081081,    0.082082,    0.083083,    0.084084,    0.085085,    0.086086,    0.087087,    0.088088,    0.089089,     0.09009,    0.091091,    0.092092,    0.093093,    0.094094,    0.095095,\n",
              "          0.096096,    0.097097,    0.098098,    0.099099,      0.1001,      0.1011,      0.1021,      0.1031,      0.1041,     0.10511,     0.10611,     0.10711,     0.10811,     0.10911,     0.11011,     0.11111,     0.11211,     0.11311,     0.11411,     0.11512,     0.11612,     0.11712,     0.11812,     0.11912,\n",
              "           0.12012,     0.12112,     0.12212,     0.12312,     0.12412,     0.12513,     0.12613,     0.12713,     0.12813,     0.12913,     0.13013,     0.13113,     0.13213,     0.13313,     0.13413,     0.13514,     0.13614,     0.13714,     0.13814,     0.13914,     0.14014,     0.14114,     0.14214,     0.14314,\n",
              "           0.14414,     0.14515,     0.14615,     0.14715,     0.14815,     0.14915,     0.15015,     0.15115,     0.15215,     0.15315,     0.15415,     0.15516,     0.15616,     0.15716,     0.15816,     0.15916,     0.16016,     0.16116,     0.16216,     0.16316,     0.16416,     0.16517,     0.16617,     0.16717,\n",
              "           0.16817,     0.16917,     0.17017,     0.17117,     0.17217,     0.17317,     0.17417,     0.17518,     0.17618,     0.17718,     0.17818,     0.17918,     0.18018,     0.18118,     0.18218,     0.18318,     0.18418,     0.18519,     0.18619,     0.18719,     0.18819,     0.18919,     0.19019,     0.19119,\n",
              "           0.19219,     0.19319,     0.19419,      0.1952,      0.1962,      0.1972,      0.1982,      0.1992,      0.2002,      0.2012,      0.2022,      0.2032,      0.2042,     0.20521,     0.20621,     0.20721,     0.20821,     0.20921,     0.21021,     0.21121,     0.21221,     0.21321,     0.21421,     0.21522,\n",
              "           0.21622,     0.21722,     0.21822,     0.21922,     0.22022,     0.22122,     0.22222,     0.22322,     0.22422,     0.22523,     0.22623,     0.22723,     0.22823,     0.22923,     0.23023,     0.23123,     0.23223,     0.23323,     0.23423,     0.23524,     0.23624,     0.23724,     0.23824,     0.23924,\n",
              "           0.24024,     0.24124,     0.24224,     0.24324,     0.24424,     0.24525,     0.24625,     0.24725,     0.24825,     0.24925,     0.25025,     0.25125,     0.25225,     0.25325,     0.25425,     0.25526,     0.25626,     0.25726,     0.25826,     0.25926,     0.26026,     0.26126,     0.26226,     0.26326,\n",
              "           0.26426,     0.26527,     0.26627,     0.26727,     0.26827,     0.26927,     0.27027,     0.27127,     0.27227,     0.27327,     0.27427,     0.27528,     0.27628,     0.27728,     0.27828,     0.27928,     0.28028,     0.28128,     0.28228,     0.28328,     0.28428,     0.28529,     0.28629,     0.28729,\n",
              "           0.28829,     0.28929,     0.29029,     0.29129,     0.29229,     0.29329,     0.29429,      0.2953,      0.2963,      0.2973,      0.2983,      0.2993,      0.3003,      0.3013,      0.3023,      0.3033,      0.3043,     0.30531,     0.30631,     0.30731,     0.30831,     0.30931,     0.31031,     0.31131,\n",
              "           0.31231,     0.31331,     0.31431,     0.31532,     0.31632,     0.31732,     0.31832,     0.31932,     0.32032,     0.32132,     0.32232,     0.32332,     0.32432,     0.32533,     0.32633,     0.32733,     0.32833,     0.32933,     0.33033,     0.33133,     0.33233,     0.33333,     0.33433,     0.33534,\n",
              "           0.33634,     0.33734,     0.33834,     0.33934,     0.34034,     0.34134,     0.34234,     0.34334,     0.34434,     0.34535,     0.34635,     0.34735,     0.34835,     0.34935,     0.35035,     0.35135,     0.35235,     0.35335,     0.35435,     0.35536,     0.35636,     0.35736,     0.35836,     0.35936,\n",
              "           0.36036,     0.36136,     0.36236,     0.36336,     0.36436,     0.36537,     0.36637,     0.36737,     0.36837,     0.36937,     0.37037,     0.37137,     0.37237,     0.37337,     0.37437,     0.37538,     0.37638,     0.37738,     0.37838,     0.37938,     0.38038,     0.38138,     0.38238,     0.38338,\n",
              "           0.38438,     0.38539,     0.38639,     0.38739,     0.38839,     0.38939,     0.39039,     0.39139,     0.39239,     0.39339,     0.39439,      0.3954,      0.3964,      0.3974,      0.3984,      0.3994,      0.4004,      0.4014,      0.4024,      0.4034,      0.4044,     0.40541,     0.40641,     0.40741,\n",
              "           0.40841,     0.40941,     0.41041,     0.41141,     0.41241,     0.41341,     0.41441,     0.41542,     0.41642,     0.41742,     0.41842,     0.41942,     0.42042,     0.42142,     0.42242,     0.42342,     0.42442,     0.42543,     0.42643,     0.42743,     0.42843,     0.42943,     0.43043,     0.43143,\n",
              "           0.43243,     0.43343,     0.43443,     0.43544,     0.43644,     0.43744,     0.43844,     0.43944,     0.44044,     0.44144,     0.44244,     0.44344,     0.44444,     0.44545,     0.44645,     0.44745,     0.44845,     0.44945,     0.45045,     0.45145,     0.45245,     0.45345,     0.45445,     0.45546,\n",
              "           0.45646,     0.45746,     0.45846,     0.45946,     0.46046,     0.46146,     0.46246,     0.46346,     0.46446,     0.46547,     0.46647,     0.46747,     0.46847,     0.46947,     0.47047,     0.47147,     0.47247,     0.47347,     0.47447,     0.47548,     0.47648,     0.47748,     0.47848,     0.47948,\n",
              "           0.48048,     0.48148,     0.48248,     0.48348,     0.48448,     0.48549,     0.48649,     0.48749,     0.48849,     0.48949,     0.49049,     0.49149,     0.49249,     0.49349,     0.49449,      0.4955,      0.4965,      0.4975,      0.4985,      0.4995,      0.5005,      0.5015,      0.5025,      0.5035,\n",
              "            0.5045,     0.50551,     0.50651,     0.50751,     0.50851,     0.50951,     0.51051,     0.51151,     0.51251,     0.51351,     0.51451,     0.51552,     0.51652,     0.51752,     0.51852,     0.51952,     0.52052,     0.52152,     0.52252,     0.52352,     0.52452,     0.52553,     0.52653,     0.52753,\n",
              "           0.52853,     0.52953,     0.53053,     0.53153,     0.53253,     0.53353,     0.53453,     0.53554,     0.53654,     0.53754,     0.53854,     0.53954,     0.54054,     0.54154,     0.54254,     0.54354,     0.54454,     0.54555,     0.54655,     0.54755,     0.54855,     0.54955,     0.55055,     0.55155,\n",
              "           0.55255,     0.55355,     0.55455,     0.55556,     0.55656,     0.55756,     0.55856,     0.55956,     0.56056,     0.56156,     0.56256,     0.56356,     0.56456,     0.56557,     0.56657,     0.56757,     0.56857,     0.56957,     0.57057,     0.57157,     0.57257,     0.57357,     0.57457,     0.57558,\n",
              "           0.57658,     0.57758,     0.57858,     0.57958,     0.58058,     0.58158,     0.58258,     0.58358,     0.58458,     0.58559,     0.58659,     0.58759,     0.58859,     0.58959,     0.59059,     0.59159,     0.59259,     0.59359,     0.59459,      0.5956,      0.5966,      0.5976,      0.5986,      0.5996,\n",
              "            0.6006,      0.6016,      0.6026,      0.6036,      0.6046,     0.60561,     0.60661,     0.60761,     0.60861,     0.60961,     0.61061,     0.61161,     0.61261,     0.61361,     0.61461,     0.61562,     0.61662,     0.61762,     0.61862,     0.61962,     0.62062,     0.62162,     0.62262,     0.62362,\n",
              "           0.62462,     0.62563,     0.62663,     0.62763,     0.62863,     0.62963,     0.63063,     0.63163,     0.63263,     0.63363,     0.63463,     0.63564,     0.63664,     0.63764,     0.63864,     0.63964,     0.64064,     0.64164,     0.64264,     0.64364,     0.64464,     0.64565,     0.64665,     0.64765,\n",
              "           0.64865,     0.64965,     0.65065,     0.65165,     0.65265,     0.65365,     0.65465,     0.65566,     0.65666,     0.65766,     0.65866,     0.65966,     0.66066,     0.66166,     0.66266,     0.66366,     0.66466,     0.66567,     0.66667,     0.66767,     0.66867,     0.66967,     0.67067,     0.67167,\n",
              "           0.67267,     0.67367,     0.67467,     0.67568,     0.67668,     0.67768,     0.67868,     0.67968,     0.68068,     0.68168,     0.68268,     0.68368,     0.68468,     0.68569,     0.68669,     0.68769,     0.68869,     0.68969,     0.69069,     0.69169,     0.69269,     0.69369,     0.69469,      0.6957,\n",
              "            0.6967,      0.6977,      0.6987,      0.6997,      0.7007,      0.7017,      0.7027,      0.7037,      0.7047,     0.70571,     0.70671,     0.70771,     0.70871,     0.70971,     0.71071,     0.71171,     0.71271,     0.71371,     0.71471,     0.71572,     0.71672,     0.71772,     0.71872,     0.71972,\n",
              "           0.72072,     0.72172,     0.72272,     0.72372,     0.72472,     0.72573,     0.72673,     0.72773,     0.72873,     0.72973,     0.73073,     0.73173,     0.73273,     0.73373,     0.73473,     0.73574,     0.73674,     0.73774,     0.73874,     0.73974,     0.74074,     0.74174,     0.74274,     0.74374,\n",
              "           0.74474,     0.74575,     0.74675,     0.74775,     0.74875,     0.74975,     0.75075,     0.75175,     0.75275,     0.75375,     0.75475,     0.75576,     0.75676,     0.75776,     0.75876,     0.75976,     0.76076,     0.76176,     0.76276,     0.76376,     0.76476,     0.76577,     0.76677,     0.76777,\n",
              "           0.76877,     0.76977,     0.77077,     0.77177,     0.77277,     0.77377,     0.77477,     0.77578,     0.77678,     0.77778,     0.77878,     0.77978,     0.78078,     0.78178,     0.78278,     0.78378,     0.78478,     0.78579,     0.78679,     0.78779,     0.78879,     0.78979,     0.79079,     0.79179,\n",
              "           0.79279,     0.79379,     0.79479,      0.7958,      0.7968,      0.7978,      0.7988,      0.7998,      0.8008,      0.8018,      0.8028,      0.8038,      0.8048,     0.80581,     0.80681,     0.80781,     0.80881,     0.80981,     0.81081,     0.81181,     0.81281,     0.81381,     0.81481,     0.81582,\n",
              "           0.81682,     0.81782,     0.81882,     0.81982,     0.82082,     0.82182,     0.82282,     0.82382,     0.82482,     0.82583,     0.82683,     0.82783,     0.82883,     0.82983,     0.83083,     0.83183,     0.83283,     0.83383,     0.83483,     0.83584,     0.83684,     0.83784,     0.83884,     0.83984,\n",
              "           0.84084,     0.84184,     0.84284,     0.84384,     0.84484,     0.84585,     0.84685,     0.84785,     0.84885,     0.84985,     0.85085,     0.85185,     0.85285,     0.85385,     0.85485,     0.85586,     0.85686,     0.85786,     0.85886,     0.85986,     0.86086,     0.86186,     0.86286,     0.86386,\n",
              "           0.86486,     0.86587,     0.86687,     0.86787,     0.86887,     0.86987,     0.87087,     0.87187,     0.87287,     0.87387,     0.87487,     0.87588,     0.87688,     0.87788,     0.87888,     0.87988,     0.88088,     0.88188,     0.88288,     0.88388,     0.88488,     0.88589,     0.88689,     0.88789,\n",
              "           0.88889,     0.88989,     0.89089,     0.89189,     0.89289,     0.89389,     0.89489,      0.8959,      0.8969,      0.8979,      0.8989,      0.8999,      0.9009,      0.9019,      0.9029,      0.9039,      0.9049,     0.90591,     0.90691,     0.90791,     0.90891,     0.90991,     0.91091,     0.91191,\n",
              "           0.91291,     0.91391,     0.91491,     0.91592,     0.91692,     0.91792,     0.91892,     0.91992,     0.92092,     0.92192,     0.92292,     0.92392,     0.92492,     0.92593,     0.92693,     0.92793,     0.92893,     0.92993,     0.93093,     0.93193,     0.93293,     0.93393,     0.93493,     0.93594,\n",
              "           0.93694,     0.93794,     0.93894,     0.93994,     0.94094,     0.94194,     0.94294,     0.94394,     0.94494,     0.94595,     0.94695,     0.94795,     0.94895,     0.94995,     0.95095,     0.95195,     0.95295,     0.95395,     0.95495,     0.95596,     0.95696,     0.95796,     0.95896,     0.95996,\n",
              "           0.96096,     0.96196,     0.96296,     0.96396,     0.96496,     0.96597,     0.96697,     0.96797,     0.96897,     0.96997,     0.97097,     0.97197,     0.97297,     0.97397,     0.97497,     0.97598,     0.97698,     0.97798,     0.97898,     0.97998,     0.98098,     0.98198,     0.98298,     0.98398,\n",
              "           0.98498,     0.98599,     0.98699,     0.98799,     0.98899,     0.98999,     0.99099,     0.99199,     0.99299,     0.99399,     0.99499,       0.996,       0.997,       0.998,       0.999,           1]), array([[          1,           1,           1,           1,           1,           1,           1,           1,           1,           1,           1,           1,           1,           1,           1,           1,           1,           1,           1,           1,           1,           1,           1,\n",
              "                  1,           1,           1,           1,           1,           1,           1,           1,           1,           1,           1,           1,           1,           1,           1,           1,           1,           1,           1,           1,           1,           1,           1,\n",
              "                  1,           1,           1,           1,           1,           1,           1,           1,           1,           1,           1,           1,           1,           1,           1,           1,           1,           1,           1,           1,           1,           1,           1,\n",
              "                  1,           1,           1,           1,           1,           1,           1,           1,           1,           1,           1,           1,           1,           1,           1,           1,           1,           1,           1,           1,           1,           1,           1,\n",
              "                  1,           1,           1,           1,           1,           1,           1,           1,           1,           1,           1,           1,           1,           1,           1,           1,           1,           1,           1,           1,           1,           1,           1,\n",
              "                  1,           1,           1,           1,           1,           1,           1,           1,           1,           1,           1,           1,           1,           1,           1,           1,           1,           1,           1,           1,           1,           1,           1,\n",
              "                  1,           1,           1,           1,           1,           1,           1,           1,           1,           1,           1,           1,           1,           1,           1,           1,           1,           1,           1,           1,           1,           1,           1,\n",
              "                  1,           1,           1,           1,           1,           1,           1,           1,           1,           1,           1,           1,           1,           1,           1,           1,           1,           1,           1,           1,           1,           1,           1,\n",
              "                  1,           1,           1,           1,           1,           1,           1,           1,           1,           1,           1,           1,           1,           1,           1,           1,           1,           1,           1,           1,           1,           1,           1,\n",
              "                  1,           1,           1,           1,           1,           1,           1,           1,           1,           1,           1,           1,           1,           1,           1,           1,           1,           1,           1,           1,     0.98387,     0.98387,     0.98387,\n",
              "            0.98387,     0.98387,     0.98387,     0.98387,     0.98387,     0.98387,     0.98387,     0.98387,     0.98387,     0.98387,     0.98387,     0.98387,     0.98387,     0.98387,     0.98387,     0.98387,     0.98387,     0.98387,     0.98387,     0.98387,     0.98387,     0.98387,     0.98387,\n",
              "            0.98387,     0.98387,     0.98387,     0.98387,     0.98387,     0.98387,     0.98387,     0.98387,     0.98387,     0.98387,     0.98387,     0.98387,     0.98387,     0.98387,     0.98387,     0.98387,     0.98387,     0.98387,     0.98387,     0.98387,     0.98387,     0.98387,     0.98387,\n",
              "            0.98387,     0.98387,     0.98387,     0.98387,     0.98387,     0.98387,     0.98387,     0.98387,     0.98387,     0.98387,     0.98387,     0.98387,     0.98387,     0.98387,     0.98387,     0.98387,     0.98387,     0.98387,     0.98387,     0.98387,     0.98387,     0.98387,     0.98387,\n",
              "            0.98387,     0.98387,     0.98387,     0.98387,     0.98387,     0.98387,     0.98387,     0.98387,     0.98387,     0.98387,     0.98387,     0.98387,     0.98387,     0.98387,     0.98387,     0.98387,     0.98387,     0.98387,     0.98387,     0.98387,     0.98387,     0.98387,     0.98387,\n",
              "            0.98387,     0.98387,     0.98387,     0.98387,     0.98387,     0.98387,     0.98387,     0.98387,     0.97468,     0.97468,     0.97468,     0.97468,     0.97468,     0.97468,     0.97468,     0.97468,     0.97468,     0.97468,     0.97468,     0.97468,     0.97468,     0.97468,     0.97468,\n",
              "            0.97468,     0.97468,     0.97468,     0.97468,     0.97468,     0.97468,     0.97468,     0.97468,     0.97468,     0.97468,     0.97468,     0.97468,     0.97468,     0.97468,     0.97468,     0.97468,     0.97468,     0.97468,     0.97468,     0.97468,     0.97468,     0.97468,     0.97468,\n",
              "            0.97468,     0.97468,     0.97468,     0.97468,     0.97468,     0.97468,     0.97468,     0.97468,     0.97468,     0.97468,     0.97468,     0.97468,     0.97468,     0.97468,     0.97468,     0.97468,     0.97468,     0.97468,     0.97468,     0.97468,     0.97468,     0.97468,     0.97468,\n",
              "            0.97468,     0.97468,     0.97468,     0.97468,     0.97468,     0.97468,     0.97468,     0.97468,     0.97468,     0.97468,     0.97468,     0.97468,     0.97468,     0.97468,     0.97468,     0.97468,     0.97468,     0.97468,     0.97468,     0.97468,     0.97468,     0.97468,     0.97468,\n",
              "            0.97468,     0.97468,     0.96552,     0.96552,     0.96552,     0.96552,     0.96552,     0.96552,     0.96552,     0.96552,     0.96552,     0.96552,     0.96552,     0.96552,     0.96552,     0.96552,     0.96552,     0.96552,     0.96552,     0.96552,     0.96552,     0.96552,     0.96552,\n",
              "            0.96552,     0.96552,     0.96552,     0.96552,     0.96552,     0.96552,     0.96552,     0.96552,     0.96552,     0.96552,     0.96552,     0.96552,     0.96552,     0.96552,     0.96552,     0.96552,     0.96552,     0.96552,     0.96552,     0.96552,     0.96552,     0.96552,     0.96552,\n",
              "            0.96552,     0.96552,     0.96552,     0.96552,     0.96552,     0.96552,     0.96552,     0.96552,     0.96552,     0.96552,     0.96552,     0.96552,     0.96552,     0.96552,     0.96552,     0.96552,     0.96552,     0.96552,     0.96552,     0.96552,     0.96552,     0.96552,     0.96552,\n",
              "            0.96552,     0.96552,     0.96552,     0.96552,     0.96552,     0.96552,     0.96552,     0.96552,     0.96552,     0.96552,     0.96552,     0.96552,     0.96552,     0.96552,     0.96552,     0.96552,     0.96552,     0.96552,     0.96552,     0.96552,     0.96552,     0.96552,     0.96552,\n",
              "            0.96552,     0.96552,     0.96552,     0.96552,     0.96552,     0.96552,     0.96552,     0.96552,     0.96552,     0.96552,     0.96552,     0.96552,     0.96552,     0.96552,     0.96552,     0.96552,     0.96552,     0.96552,     0.96552,     0.96552,     0.96552,     0.96552,     0.96552,\n",
              "            0.96552,     0.96552,     0.96552,     0.96552,     0.96552,     0.96552,     0.96552,     0.96552,     0.96552,     0.96552,     0.96552,     0.96552,     0.96552,     0.96552,     0.96552,     0.96552,     0.96552,     0.96552,     0.96552,     0.96552,     0.96552,     0.96552,     0.96552,\n",
              "            0.96552,     0.96552,     0.96552,     0.96552,     0.96552,     0.96552,     0.96552,     0.96552,     0.96552,     0.96552,     0.96552,     0.96552,     0.96552,     0.96552,     0.96552,     0.96552,     0.96552,     0.96552,     0.96552,     0.96552,     0.96552,     0.96552,     0.96552,\n",
              "            0.96552,     0.96552,     0.96552,     0.96552,     0.96552,     0.96552,     0.96552,     0.96552,     0.96552,     0.96552,     0.96552,     0.96552,     0.96552,     0.96552,     0.96552,     0.96552,     0.96552,     0.96552,     0.96552,     0.96552,     0.96552,     0.96552,     0.96552,\n",
              "            0.96552,     0.96552,     0.96552,     0.96552,     0.96552,     0.96552,     0.96552,     0.96403,     0.96403,     0.96403,     0.96403,     0.96403,     0.96403,     0.96403,     0.96403,     0.96403,     0.96403,     0.96403,     0.96403,     0.96403,     0.96403,     0.96403,     0.96403,\n",
              "            0.96403,     0.96403,     0.96403,     0.96403,     0.96403,     0.96403,     0.96403,     0.96403,     0.96403,     0.96403,     0.96403,     0.96403,     0.96403,     0.96403,     0.96403,     0.96403,     0.96403,     0.96403,     0.96403,     0.96403,     0.96403,     0.96403,     0.96403,\n",
              "            0.96403,     0.96403,     0.96403,     0.96403,     0.96403,     0.96403,     0.96403,     0.96403,     0.96403,     0.96403,     0.96403,     0.96403,     0.96403,     0.96403,     0.96403,     0.96403,     0.96403,     0.96403,     0.96403,     0.96403,     0.96403,     0.96403,     0.96403,\n",
              "            0.96403,     0.96403,     0.96403,     0.96403,     0.96403,     0.96403,     0.96403,     0.96403,     0.96403,     0.96403,     0.96403,     0.96403,     0.96403,     0.96403,     0.96403,     0.96403,     0.96403,     0.96403,     0.96403,     0.96403,     0.96403,     0.96403,     0.96403,\n",
              "            0.96403,     0.96403,     0.96403,     0.96403,     0.96403,     0.96403,     0.96403,     0.96403,     0.96403,     0.96403,     0.96403,     0.96403,     0.96403,     0.96403,     0.96403,     0.96403,     0.96403,     0.96403,     0.96403,     0.96403,     0.96403,     0.96403,     0.96403,\n",
              "            0.96403,     0.96403,     0.96403,     0.96403,     0.96403,     0.96403,     0.96403,     0.96403,     0.96403,     0.96403,     0.96403,     0.96178,     0.96178,     0.96178,     0.96178,     0.96178,     0.96178,     0.96178,     0.96178,     0.96178,     0.96178,     0.96178,     0.96178,\n",
              "            0.96178,     0.96178,     0.96178,     0.96178,     0.96178,     0.96178,     0.96178,     0.96178,     0.96178,     0.96178,     0.96178,     0.96178,     0.96178,     0.96178,     0.96178,     0.96178,     0.96178,     0.96178,     0.96178,     0.96178,     0.96178,     0.96178,     0.96178,\n",
              "            0.96178,     0.96178,     0.96178,     0.96178,     0.96178,     0.96178,     0.96178,     0.96178,     0.96178,     0.96178,     0.96178,     0.96178,     0.96178,     0.96178,     0.96178,     0.96178,     0.96178,     0.96178,     0.96178,     0.96178,     0.96178,     0.96178,     0.96178,\n",
              "            0.96178,     0.96178,     0.96178,     0.96178,     0.96178,     0.96178,     0.96178,     0.96178,     0.96178,     0.96178,     0.96178,     0.96178,     0.96178,     0.96178,     0.96178,     0.96178,     0.96178,     0.96178,     0.96178,     0.96178,     0.96178,     0.96178,     0.96178,\n",
              "            0.96178,     0.96178,     0.96178,     0.96178,     0.96178,     0.96178,     0.96178,     0.96178,     0.96178,     0.96178,     0.96178,     0.95625,     0.95625,     0.95625,     0.95625,     0.95625,     0.95625,     0.95625,     0.95625,     0.95625,     0.95625,     0.95625,     0.93902,\n",
              "            0.93902,     0.93902,     0.93902,     0.93902,     0.93491,     0.93491,     0.93491,     0.93491,     0.93491,     0.93491,     0.93491,     0.93491,     0.93491,     0.93491,     0.93491,     0.93491,     0.93491,     0.93491,     0.93491,     0.93491,     0.93491,     0.93491,     0.93491,\n",
              "            0.93491,     0.93491,     0.93491,     0.92982,     0.92982,     0.92982,     0.92982,     0.92982,     0.92571,     0.92571,     0.92571,     0.92571,     0.92571,     0.92571,     0.92571,     0.92571,     0.92571,     0.92571,     0.92571,     0.92571,     0.92571,     0.92571,     0.92571,\n",
              "            0.92571,     0.90556,     0.90556,     0.90556,     0.90556,     0.90556,     0.90556,     0.86842,     0.86842,     0.86842,     0.86842,     0.86842,     0.86842,     0.86842,     0.86842,     0.86842,     0.86842,      0.8601,      0.8601,      0.8601,      0.8601,      0.8601,      0.8601,\n",
              "            0.85204,     0.85204,     0.85204,     0.85204,     0.85204,     0.81951,     0.81951,     0.81951,     0.81951,     0.81951,     0.81951,     0.76126,     0.76126,     0.76126,     0.76126,     0.76126,      0.7489,      0.7489,      0.7489,      0.7489,      0.7489,      0.7489,     0.60638,\n",
              "            0.60638,     0.60638,     0.60638,     0.60638,     0.55484,     0.55484,     0.55484,     0.55484,     0.55484,     0.44588,     0.44588,     0.44588,     0.44588,     0.44588,     0.44588,     0.33569,     0.33044,      0.3252,     0.31995,     0.31471,     0.30946,     0.30422,     0.29897,\n",
              "            0.29373,     0.28848,     0.28324,     0.27799,     0.27274,      0.2675,     0.26225,     0.25701,     0.25176,     0.24652,     0.24127,     0.23603,     0.23078,     0.22554,     0.22029,     0.21505,      0.2098,     0.20456,     0.19931,     0.19407,     0.18882,     0.18358,     0.17833,\n",
              "            0.17309,     0.16784,      0.1626,     0.15735,     0.15211,     0.14686,     0.14162,     0.13637,     0.13113,     0.12588,     0.12064,     0.11539,     0.11015,      0.1049,    0.099657,    0.094412,    0.089167,    0.083922,    0.078676,    0.073431,    0.068186,    0.062941,    0.057696,\n",
              "           0.052451,    0.047206,    0.041961,    0.036716,    0.031471,    0.026225,     0.02098,    0.015735,     0.01049,   0.0052451,           0]]), 'Recall', 'Precision'], [array([          0,    0.001001,    0.002002,    0.003003,    0.004004,    0.005005,    0.006006,    0.007007,    0.008008,    0.009009,     0.01001,    0.011011,    0.012012,    0.013013,    0.014014,    0.015015,    0.016016,    0.017017,    0.018018,    0.019019,     0.02002,    0.021021,    0.022022,    0.023023,\n",
              "          0.024024,    0.025025,    0.026026,    0.027027,    0.028028,    0.029029,     0.03003,    0.031031,    0.032032,    0.033033,    0.034034,    0.035035,    0.036036,    0.037037,    0.038038,    0.039039,     0.04004,    0.041041,    0.042042,    0.043043,    0.044044,    0.045045,    0.046046,    0.047047,\n",
              "          0.048048,    0.049049,     0.05005,    0.051051,    0.052052,    0.053053,    0.054054,    0.055055,    0.056056,    0.057057,    0.058058,    0.059059,     0.06006,    0.061061,    0.062062,    0.063063,    0.064064,    0.065065,    0.066066,    0.067067,    0.068068,    0.069069,     0.07007,    0.071071,\n",
              "          0.072072,    0.073073,    0.074074,    0.075075,    0.076076,    0.077077,    0.078078,    0.079079,     0.08008,    0.081081,    0.082082,    0.083083,    0.084084,    0.085085,    0.086086,    0.087087,    0.088088,    0.089089,     0.09009,    0.091091,    0.092092,    0.093093,    0.094094,    0.095095,\n",
              "          0.096096,    0.097097,    0.098098,    0.099099,      0.1001,      0.1011,      0.1021,      0.1031,      0.1041,     0.10511,     0.10611,     0.10711,     0.10811,     0.10911,     0.11011,     0.11111,     0.11211,     0.11311,     0.11411,     0.11512,     0.11612,     0.11712,     0.11812,     0.11912,\n",
              "           0.12012,     0.12112,     0.12212,     0.12312,     0.12412,     0.12513,     0.12613,     0.12713,     0.12813,     0.12913,     0.13013,     0.13113,     0.13213,     0.13313,     0.13413,     0.13514,     0.13614,     0.13714,     0.13814,     0.13914,     0.14014,     0.14114,     0.14214,     0.14314,\n",
              "           0.14414,     0.14515,     0.14615,     0.14715,     0.14815,     0.14915,     0.15015,     0.15115,     0.15215,     0.15315,     0.15415,     0.15516,     0.15616,     0.15716,     0.15816,     0.15916,     0.16016,     0.16116,     0.16216,     0.16316,     0.16416,     0.16517,     0.16617,     0.16717,\n",
              "           0.16817,     0.16917,     0.17017,     0.17117,     0.17217,     0.17317,     0.17417,     0.17518,     0.17618,     0.17718,     0.17818,     0.17918,     0.18018,     0.18118,     0.18218,     0.18318,     0.18418,     0.18519,     0.18619,     0.18719,     0.18819,     0.18919,     0.19019,     0.19119,\n",
              "           0.19219,     0.19319,     0.19419,      0.1952,      0.1962,      0.1972,      0.1982,      0.1992,      0.2002,      0.2012,      0.2022,      0.2032,      0.2042,     0.20521,     0.20621,     0.20721,     0.20821,     0.20921,     0.21021,     0.21121,     0.21221,     0.21321,     0.21421,     0.21522,\n",
              "           0.21622,     0.21722,     0.21822,     0.21922,     0.22022,     0.22122,     0.22222,     0.22322,     0.22422,     0.22523,     0.22623,     0.22723,     0.22823,     0.22923,     0.23023,     0.23123,     0.23223,     0.23323,     0.23423,     0.23524,     0.23624,     0.23724,     0.23824,     0.23924,\n",
              "           0.24024,     0.24124,     0.24224,     0.24324,     0.24424,     0.24525,     0.24625,     0.24725,     0.24825,     0.24925,     0.25025,     0.25125,     0.25225,     0.25325,     0.25425,     0.25526,     0.25626,     0.25726,     0.25826,     0.25926,     0.26026,     0.26126,     0.26226,     0.26326,\n",
              "           0.26426,     0.26527,     0.26627,     0.26727,     0.26827,     0.26927,     0.27027,     0.27127,     0.27227,     0.27327,     0.27427,     0.27528,     0.27628,     0.27728,     0.27828,     0.27928,     0.28028,     0.28128,     0.28228,     0.28328,     0.28428,     0.28529,     0.28629,     0.28729,\n",
              "           0.28829,     0.28929,     0.29029,     0.29129,     0.29229,     0.29329,     0.29429,      0.2953,      0.2963,      0.2973,      0.2983,      0.2993,      0.3003,      0.3013,      0.3023,      0.3033,      0.3043,     0.30531,     0.30631,     0.30731,     0.30831,     0.30931,     0.31031,     0.31131,\n",
              "           0.31231,     0.31331,     0.31431,     0.31532,     0.31632,     0.31732,     0.31832,     0.31932,     0.32032,     0.32132,     0.32232,     0.32332,     0.32432,     0.32533,     0.32633,     0.32733,     0.32833,     0.32933,     0.33033,     0.33133,     0.33233,     0.33333,     0.33433,     0.33534,\n",
              "           0.33634,     0.33734,     0.33834,     0.33934,     0.34034,     0.34134,     0.34234,     0.34334,     0.34434,     0.34535,     0.34635,     0.34735,     0.34835,     0.34935,     0.35035,     0.35135,     0.35235,     0.35335,     0.35435,     0.35536,     0.35636,     0.35736,     0.35836,     0.35936,\n",
              "           0.36036,     0.36136,     0.36236,     0.36336,     0.36436,     0.36537,     0.36637,     0.36737,     0.36837,     0.36937,     0.37037,     0.37137,     0.37237,     0.37337,     0.37437,     0.37538,     0.37638,     0.37738,     0.37838,     0.37938,     0.38038,     0.38138,     0.38238,     0.38338,\n",
              "           0.38438,     0.38539,     0.38639,     0.38739,     0.38839,     0.38939,     0.39039,     0.39139,     0.39239,     0.39339,     0.39439,      0.3954,      0.3964,      0.3974,      0.3984,      0.3994,      0.4004,      0.4014,      0.4024,      0.4034,      0.4044,     0.40541,     0.40641,     0.40741,\n",
              "           0.40841,     0.40941,     0.41041,     0.41141,     0.41241,     0.41341,     0.41441,     0.41542,     0.41642,     0.41742,     0.41842,     0.41942,     0.42042,     0.42142,     0.42242,     0.42342,     0.42442,     0.42543,     0.42643,     0.42743,     0.42843,     0.42943,     0.43043,     0.43143,\n",
              "           0.43243,     0.43343,     0.43443,     0.43544,     0.43644,     0.43744,     0.43844,     0.43944,     0.44044,     0.44144,     0.44244,     0.44344,     0.44444,     0.44545,     0.44645,     0.44745,     0.44845,     0.44945,     0.45045,     0.45145,     0.45245,     0.45345,     0.45445,     0.45546,\n",
              "           0.45646,     0.45746,     0.45846,     0.45946,     0.46046,     0.46146,     0.46246,     0.46346,     0.46446,     0.46547,     0.46647,     0.46747,     0.46847,     0.46947,     0.47047,     0.47147,     0.47247,     0.47347,     0.47447,     0.47548,     0.47648,     0.47748,     0.47848,     0.47948,\n",
              "           0.48048,     0.48148,     0.48248,     0.48348,     0.48448,     0.48549,     0.48649,     0.48749,     0.48849,     0.48949,     0.49049,     0.49149,     0.49249,     0.49349,     0.49449,      0.4955,      0.4965,      0.4975,      0.4985,      0.4995,      0.5005,      0.5015,      0.5025,      0.5035,\n",
              "            0.5045,     0.50551,     0.50651,     0.50751,     0.50851,     0.50951,     0.51051,     0.51151,     0.51251,     0.51351,     0.51451,     0.51552,     0.51652,     0.51752,     0.51852,     0.51952,     0.52052,     0.52152,     0.52252,     0.52352,     0.52452,     0.52553,     0.52653,     0.52753,\n",
              "           0.52853,     0.52953,     0.53053,     0.53153,     0.53253,     0.53353,     0.53453,     0.53554,     0.53654,     0.53754,     0.53854,     0.53954,     0.54054,     0.54154,     0.54254,     0.54354,     0.54454,     0.54555,     0.54655,     0.54755,     0.54855,     0.54955,     0.55055,     0.55155,\n",
              "           0.55255,     0.55355,     0.55455,     0.55556,     0.55656,     0.55756,     0.55856,     0.55956,     0.56056,     0.56156,     0.56256,     0.56356,     0.56456,     0.56557,     0.56657,     0.56757,     0.56857,     0.56957,     0.57057,     0.57157,     0.57257,     0.57357,     0.57457,     0.57558,\n",
              "           0.57658,     0.57758,     0.57858,     0.57958,     0.58058,     0.58158,     0.58258,     0.58358,     0.58458,     0.58559,     0.58659,     0.58759,     0.58859,     0.58959,     0.59059,     0.59159,     0.59259,     0.59359,     0.59459,      0.5956,      0.5966,      0.5976,      0.5986,      0.5996,\n",
              "            0.6006,      0.6016,      0.6026,      0.6036,      0.6046,     0.60561,     0.60661,     0.60761,     0.60861,     0.60961,     0.61061,     0.61161,     0.61261,     0.61361,     0.61461,     0.61562,     0.61662,     0.61762,     0.61862,     0.61962,     0.62062,     0.62162,     0.62262,     0.62362,\n",
              "           0.62462,     0.62563,     0.62663,     0.62763,     0.62863,     0.62963,     0.63063,     0.63163,     0.63263,     0.63363,     0.63463,     0.63564,     0.63664,     0.63764,     0.63864,     0.63964,     0.64064,     0.64164,     0.64264,     0.64364,     0.64464,     0.64565,     0.64665,     0.64765,\n",
              "           0.64865,     0.64965,     0.65065,     0.65165,     0.65265,     0.65365,     0.65465,     0.65566,     0.65666,     0.65766,     0.65866,     0.65966,     0.66066,     0.66166,     0.66266,     0.66366,     0.66466,     0.66567,     0.66667,     0.66767,     0.66867,     0.66967,     0.67067,     0.67167,\n",
              "           0.67267,     0.67367,     0.67467,     0.67568,     0.67668,     0.67768,     0.67868,     0.67968,     0.68068,     0.68168,     0.68268,     0.68368,     0.68468,     0.68569,     0.68669,     0.68769,     0.68869,     0.68969,     0.69069,     0.69169,     0.69269,     0.69369,     0.69469,      0.6957,\n",
              "            0.6967,      0.6977,      0.6987,      0.6997,      0.7007,      0.7017,      0.7027,      0.7037,      0.7047,     0.70571,     0.70671,     0.70771,     0.70871,     0.70971,     0.71071,     0.71171,     0.71271,     0.71371,     0.71471,     0.71572,     0.71672,     0.71772,     0.71872,     0.71972,\n",
              "           0.72072,     0.72172,     0.72272,     0.72372,     0.72472,     0.72573,     0.72673,     0.72773,     0.72873,     0.72973,     0.73073,     0.73173,     0.73273,     0.73373,     0.73473,     0.73574,     0.73674,     0.73774,     0.73874,     0.73974,     0.74074,     0.74174,     0.74274,     0.74374,\n",
              "           0.74474,     0.74575,     0.74675,     0.74775,     0.74875,     0.74975,     0.75075,     0.75175,     0.75275,     0.75375,     0.75475,     0.75576,     0.75676,     0.75776,     0.75876,     0.75976,     0.76076,     0.76176,     0.76276,     0.76376,     0.76476,     0.76577,     0.76677,     0.76777,\n",
              "           0.76877,     0.76977,     0.77077,     0.77177,     0.77277,     0.77377,     0.77477,     0.77578,     0.77678,     0.77778,     0.77878,     0.77978,     0.78078,     0.78178,     0.78278,     0.78378,     0.78478,     0.78579,     0.78679,     0.78779,     0.78879,     0.78979,     0.79079,     0.79179,\n",
              "           0.79279,     0.79379,     0.79479,      0.7958,      0.7968,      0.7978,      0.7988,      0.7998,      0.8008,      0.8018,      0.8028,      0.8038,      0.8048,     0.80581,     0.80681,     0.80781,     0.80881,     0.80981,     0.81081,     0.81181,     0.81281,     0.81381,     0.81481,     0.81582,\n",
              "           0.81682,     0.81782,     0.81882,     0.81982,     0.82082,     0.82182,     0.82282,     0.82382,     0.82482,     0.82583,     0.82683,     0.82783,     0.82883,     0.82983,     0.83083,     0.83183,     0.83283,     0.83383,     0.83483,     0.83584,     0.83684,     0.83784,     0.83884,     0.83984,\n",
              "           0.84084,     0.84184,     0.84284,     0.84384,     0.84484,     0.84585,     0.84685,     0.84785,     0.84885,     0.84985,     0.85085,     0.85185,     0.85285,     0.85385,     0.85485,     0.85586,     0.85686,     0.85786,     0.85886,     0.85986,     0.86086,     0.86186,     0.86286,     0.86386,\n",
              "           0.86486,     0.86587,     0.86687,     0.86787,     0.86887,     0.86987,     0.87087,     0.87187,     0.87287,     0.87387,     0.87487,     0.87588,     0.87688,     0.87788,     0.87888,     0.87988,     0.88088,     0.88188,     0.88288,     0.88388,     0.88488,     0.88589,     0.88689,     0.88789,\n",
              "           0.88889,     0.88989,     0.89089,     0.89189,     0.89289,     0.89389,     0.89489,      0.8959,      0.8969,      0.8979,      0.8989,      0.8999,      0.9009,      0.9019,      0.9029,      0.9039,      0.9049,     0.90591,     0.90691,     0.90791,     0.90891,     0.90991,     0.91091,     0.91191,\n",
              "           0.91291,     0.91391,     0.91491,     0.91592,     0.91692,     0.91792,     0.91892,     0.91992,     0.92092,     0.92192,     0.92292,     0.92392,     0.92492,     0.92593,     0.92693,     0.92793,     0.92893,     0.92993,     0.93093,     0.93193,     0.93293,     0.93393,     0.93493,     0.93594,\n",
              "           0.93694,     0.93794,     0.93894,     0.93994,     0.94094,     0.94194,     0.94294,     0.94394,     0.94494,     0.94595,     0.94695,     0.94795,     0.94895,     0.94995,     0.95095,     0.95195,     0.95295,     0.95395,     0.95495,     0.95596,     0.95696,     0.95796,     0.95896,     0.95996,\n",
              "           0.96096,     0.96196,     0.96296,     0.96396,     0.96496,     0.96597,     0.96697,     0.96797,     0.96897,     0.96997,     0.97097,     0.97197,     0.97297,     0.97397,     0.97497,     0.97598,     0.97698,     0.97798,     0.97898,     0.97998,     0.98098,     0.98198,     0.98298,     0.98398,\n",
              "           0.98498,     0.98599,     0.98699,     0.98799,     0.98899,     0.98999,     0.99099,     0.99199,     0.99299,     0.99399,     0.99499,       0.996,       0.997,       0.998,       0.999,           1]), array([[    0.49856,     0.49856,     0.59345,     0.64168,     0.67402,     0.69337,      0.7141,      0.7363,     0.74695,     0.76864,     0.78173,     0.78501,     0.79187,     0.79901,     0.80995,      0.8171,      0.8246,     0.82247,     0.82764,     0.82976,     0.82759,     0.83092,     0.83479,\n",
              "            0.83926,     0.84287,     0.84414,     0.84627,     0.84758,     0.84874,     0.84961,     0.85047,     0.85297,     0.85394,     0.85492,     0.85675,     0.85757,     0.85811,     0.85864,     0.85918,     0.86053,     0.85897,     0.86315,     0.86494,     0.86603,     0.86695,     0.86798,\n",
              "            0.86919,      0.8721,     0.87239,     0.87268,     0.87297,     0.87326,     0.87355,     0.87384,     0.87413,     0.87436,     0.87442,     0.87449,     0.87455,     0.87461,     0.87468,     0.87474,      0.8748,     0.87486,     0.87493,     0.87499,     0.87505,     0.87512,     0.87518,\n",
              "            0.87524,      0.8753,     0.87537,     0.87543,     0.87549,     0.87556,     0.87562,     0.87568,     0.87574,     0.87581,     0.87587,     0.87593,       0.876,     0.87606,     0.87612,     0.87618,     0.87625,     0.87631,     0.87637,     0.87643,      0.8765,     0.87656,     0.87662,\n",
              "            0.87583,      0.8747,     0.87374,     0.87425,     0.87477,     0.87529,     0.87581,     0.87687,     0.87823,       0.878,     0.87768,     0.87735,     0.87703,      0.8767,     0.87638,     0.87605,     0.87572,      0.8754,     0.87555,     0.87582,     0.87608,     0.87635,     0.87662,\n",
              "            0.87689,     0.87716,     0.87743,     0.87774,      0.8783,     0.87887,     0.87943,     0.87999,     0.87984,     0.87969,     0.87953,     0.87937,     0.87922,     0.87906,      0.8789,     0.87875,     0.87859,     0.87843,     0.87828,     0.87812,     0.87796,     0.87781,     0.87765,\n",
              "            0.87749,     0.87733,     0.87718,     0.87702,     0.87514,     0.87453,     0.87573,      0.8765,     0.87683,     0.87715,     0.87747,      0.8778,     0.87812,     0.87844,     0.87873,     0.87886,     0.87899,     0.87913,     0.87926,     0.87939,     0.87953,     0.87966,     0.87979,\n",
              "            0.87992,     0.88006,     0.88019,     0.88032,     0.88045,     0.88059,     0.88072,     0.88085,     0.88098,     0.88111,     0.88121,     0.88131,     0.88142,     0.88152,     0.88162,     0.88173,     0.88183,     0.88193,     0.88204,     0.88214,     0.88224,     0.88234,     0.88245,\n",
              "            0.88255,     0.88265,     0.88276,     0.88286,     0.88296,     0.88307,     0.88317,     0.88327,     0.88337,      0.8835,     0.88389,     0.88427,     0.88466,     0.88504,     0.88543,     0.88582,      0.8884,     0.88889,     0.88938,     0.88986,     0.89035,     0.89075,     0.89089,\n",
              "            0.89103,     0.89118,     0.89132,     0.89146,     0.89161,     0.89175,     0.89189,     0.89203,     0.89218,     0.89232,     0.89246,     0.89261,     0.89275,     0.89289,     0.89303,     0.89311,     0.89285,     0.89259,     0.89233,     0.89207,     0.89181,     0.89155,     0.89129,\n",
              "            0.89103,     0.89077,     0.89051,     0.89025,     0.89039,     0.89098,     0.89157,     0.89216,      0.8926,     0.89271,     0.89282,     0.89293,     0.89304,     0.89315,     0.89325,     0.89336,     0.89347,     0.89358,     0.89369,      0.8938,     0.89391,     0.89402,     0.89413,\n",
              "            0.89424,     0.89435,     0.89446,     0.89457,     0.89467,     0.89478,     0.89489,       0.895,     0.89753,     0.89832,     0.89911,     0.89989,     0.89997,     0.89994,      0.8999,     0.89987,     0.89983,      0.8998,     0.89976,     0.89973,     0.89969,     0.89966,     0.89962,\n",
              "            0.89959,     0.89955,     0.89952,     0.89948,     0.89945,     0.89941,     0.89938,     0.89934,     0.89931,     0.89927,     0.89924,      0.8992,     0.89917,     0.89913,      0.8991,     0.89906,     0.89903,     0.89899,     0.89896,     0.89892,     0.89889,     0.89886,     0.89882,\n",
              "            0.89879,     0.89875,     0.89872,     0.89868,     0.89865,     0.89861,     0.89858,     0.89854,     0.89851,     0.89847,     0.89844,      0.8984,     0.89837,     0.89833,      0.8983,     0.89826,     0.89823,     0.89819,     0.89816,     0.89812,     0.89809,     0.89805,     0.89802,\n",
              "            0.89798,     0.89795,     0.89791,     0.89788,     0.89784,     0.89781,     0.89777,     0.89774,      0.8977,     0.89767,     0.89763,      0.8976,     0.89756,     0.89753,     0.89749,     0.89746,     0.89742,     0.89739,     0.89735,     0.89732,     0.89728,     0.89725,     0.89721,\n",
              "            0.89718,     0.89714,     0.89711,     0.89707,     0.89704,       0.897,     0.89697,     0.89693,     0.89685,     0.89677,     0.89668,      0.8966,     0.89652,     0.89644,     0.89635,     0.89627,     0.89619,     0.89611,     0.89602,     0.89594,     0.89586,     0.89578,     0.89569,\n",
              "            0.89561,     0.89553,     0.89545,     0.89536,     0.89528,      0.8952,     0.89512,     0.89503,     0.89495,     0.89487,     0.89479,      0.8947,     0.89462,     0.89454,     0.89446,     0.89437,     0.89429,     0.89421,     0.89412,     0.89404,     0.89396,     0.89388,     0.89354,\n",
              "            0.89312,      0.8927,     0.89227,     0.89185,     0.89142,       0.891,     0.89079,     0.89087,     0.89096,     0.89104,     0.89112,     0.89121,     0.89129,     0.89137,     0.89145,     0.89154,     0.89162,      0.8917,     0.89179,     0.89187,     0.89195,     0.89203,     0.89212,\n",
              "             0.8922,     0.89228,     0.89237,     0.89245,     0.89253,     0.89261,      0.8927,     0.89278,     0.89286,     0.89294,     0.89303,     0.89311,     0.89319,     0.89268,     0.89015,     0.89021,     0.89027,     0.89033,     0.89039,     0.89044,      0.8905,     0.89056,     0.89062,\n",
              "            0.89068,     0.89073,     0.89079,     0.89085,     0.89091,     0.89097,     0.89102,     0.89108,     0.89114,      0.8912,     0.89126,     0.89131,     0.89137,     0.89143,     0.89149,     0.89154,      0.8916,     0.89166,     0.89172,     0.89178,     0.89183,     0.89189,     0.89195,\n",
              "            0.89201,     0.89207,     0.89212,     0.89218,     0.89224,      0.8923,     0.89235,     0.89241,     0.89247,     0.89253,     0.89259,     0.89264,      0.8924,     0.89208,     0.89176,     0.89144,     0.89112,     0.89079,     0.89047,     0.89015,     0.88983,     0.88952,     0.88947,\n",
              "            0.88943,     0.88938,     0.88934,     0.88929,     0.88924,      0.8892,     0.88915,     0.88911,     0.88906,     0.88902,     0.88897,     0.88893,     0.88888,     0.88883,     0.88879,     0.88874,      0.8887,     0.88865,     0.88861,     0.88856,     0.88852,     0.88847,     0.88843,\n",
              "            0.88838,     0.88833,     0.88829,     0.88824,      0.8882,     0.88815,     0.88811,     0.88806,     0.88802,     0.88797,     0.88792,     0.88788,     0.88783,     0.88779,     0.88774,      0.8877,     0.88765,     0.88761,     0.88756,     0.88751,     0.88747,     0.88742,     0.88738,\n",
              "            0.88733,     0.88729,     0.88724,      0.8872,     0.88715,      0.8871,     0.88706,     0.88701,     0.88697,     0.88692,     0.88688,     0.88683,     0.88678,     0.88674,     0.88669,     0.88665,      0.8866,     0.88656,     0.88651,     0.88647,     0.88642,     0.88637,     0.88386,\n",
              "            0.88313,     0.88305,     0.88297,     0.88289,     0.88281,     0.88273,     0.88265,     0.88257,     0.88249,     0.88241,     0.88233,     0.88225,     0.88217,     0.88209,     0.88201,     0.88193,     0.88185,     0.88177,     0.88169,     0.88161,     0.88153,     0.88145,     0.88137,\n",
              "            0.88129,     0.88121,     0.88114,     0.88106,     0.88098,      0.8809,     0.88082,     0.88074,     0.88066,     0.88058,      0.8805,     0.88042,     0.88034,     0.88026,     0.88018,      0.8801,     0.88002,     0.88037,     0.88085,     0.88132,     0.88179,     0.88225,     0.88245,\n",
              "            0.88228,     0.88211,     0.88194,     0.88178,     0.88161,     0.88144,     0.88127,      0.8811,     0.88093,     0.88076,     0.88059,     0.88043,     0.88026,     0.88009,     0.87992,     0.87975,     0.87958,     0.87941,     0.87973,     0.88077,     0.88181,     0.88311,     0.88439,\n",
              "            0.88445,     0.88451,     0.88457,     0.88462,     0.88468,     0.88474,     0.88479,     0.88485,     0.88491,     0.88497,     0.88502,     0.88508,     0.88514,      0.8852,     0.88525,     0.88531,     0.88537,     0.88542,     0.88548,     0.88554,      0.8856,     0.88565,     0.88571,\n",
              "            0.88577,     0.88582,     0.88588,     0.88594,       0.886,     0.88605,     0.88611,     0.88617,     0.88622,     0.88628,     0.88634,     0.88639,     0.88645,     0.88651,     0.88657,     0.88662,     0.88668,     0.88674,     0.88679,     0.88685,     0.88691,     0.88689,     0.88642,\n",
              "            0.88595,     0.88547,       0.885,     0.88452,     0.88405,     0.88304,     0.88081,     0.88087,     0.88135,     0.88183,     0.88231,     0.88279,     0.87958,     0.87918,     0.87878,     0.87838,     0.87799,     0.87759,     0.87719,     0.87679,     0.87629,     0.87532,     0.87435,\n",
              "            0.87338,      0.8724,     0.87143,     0.87045,     0.86947,     0.86849,     0.86751,     0.86652,     0.86538,     0.86423,     0.86308,     0.86239,     0.86169,       0.861,      0.8603,     0.85604,     0.85428,     0.84895,     0.84658,     0.84068,     0.83509,     0.83405,     0.83301,\n",
              "            0.83196,     0.83118,     0.83045,     0.82972,     0.82898,     0.82824,     0.82703,      0.8258,     0.82465,     0.82539,     0.82614,     0.82688,     0.82561,     0.81579,     0.81326,     0.81072,     0.80817,     0.80561,     0.80443,     0.80366,     0.80289,     0.80212,     0.80134,\n",
              "            0.79513,     0.79252,     0.78989,     0.78466,     0.78333,     0.78199,     0.78066,     0.77932,     0.77007,     0.76871,     0.76734,     0.76598,      0.7646,     0.76323,     0.74926,     0.74644,     0.74307,     0.73482,     0.73192,       0.729,     0.71306,     0.71006,     0.70705,\n",
              "            0.69055,     0.67363,     0.67044,     0.66252,     0.65435,     0.62506,     0.62163,     0.61312,     0.60963,     0.60613,      0.5959,     0.59607,     0.59248,     0.58234,     0.55963,       0.549,     0.54515,       0.524,     0.51413,     0.51008,     0.48167,     0.46484,      0.4605,\n",
              "            0.45613,     0.45174,     0.41958,     0.38661,     0.37474,     0.36988,     0.36486,     0.35923,     0.34689,     0.34182,     0.31956,     0.29836,      0.2609,     0.25529,     0.23877,     0.21575,     0.19097,     0.16719,     0.16486,     0.16253,     0.16019,     0.15374,     0.13683,\n",
              "            0.11085,    0.091668,    0.084918,    0.070021,    0.065884,    0.051523,    0.047307,    0.043072,    0.039823,    0.036777,    0.033722,    0.027504,           0,           0,           0,           0,           0,           0,           0,           0,           0,           0,           0,\n",
              "                  0,           0,           0,           0,           0,           0,           0,           0,           0,           0,           0,           0,           0,           0,           0,           0,           0,           0,           0,           0,           0,           0,           0,\n",
              "                  0,           0,           0,           0,           0,           0,           0,           0,           0,           0,           0,           0,           0,           0,           0,           0,           0,           0,           0,           0,           0,           0,           0,\n",
              "                  0,           0,           0,           0,           0,           0,           0,           0,           0,           0,           0,           0,           0,           0,           0,           0,           0,           0,           0,           0,           0,           0,           0,\n",
              "                  0,           0,           0,           0,           0,           0,           0,           0,           0,           0,           0,           0,           0,           0,           0,           0,           0,           0,           0,           0,           0,           0,           0,\n",
              "                  0,           0,           0,           0,           0,           0,           0,           0,           0,           0,           0,           0,           0,           0,           0,           0,           0,           0,           0,           0,           0,           0,           0,\n",
              "                  0,           0,           0,           0,           0,           0,           0,           0,           0,           0,           0,           0,           0,           0,           0,           0,           0,           0,           0,           0,           0,           0,           0,\n",
              "                  0,           0,           0,           0,           0,           0,           0,           0,           0,           0,           0,           0,           0,           0,           0,           0,           0,           0,           0,           0,           0,           0,           0,\n",
              "                  0,           0,           0,           0,           0,           0,           0,           0,           0,           0,           0]]), 'Confidence', 'F1'], [array([          0,    0.001001,    0.002002,    0.003003,    0.004004,    0.005005,    0.006006,    0.007007,    0.008008,    0.009009,     0.01001,    0.011011,    0.012012,    0.013013,    0.014014,    0.015015,    0.016016,    0.017017,    0.018018,    0.019019,     0.02002,    0.021021,    0.022022,    0.023023,\n",
              "          0.024024,    0.025025,    0.026026,    0.027027,    0.028028,    0.029029,     0.03003,    0.031031,    0.032032,    0.033033,    0.034034,    0.035035,    0.036036,    0.037037,    0.038038,    0.039039,     0.04004,    0.041041,    0.042042,    0.043043,    0.044044,    0.045045,    0.046046,    0.047047,\n",
              "          0.048048,    0.049049,     0.05005,    0.051051,    0.052052,    0.053053,    0.054054,    0.055055,    0.056056,    0.057057,    0.058058,    0.059059,     0.06006,    0.061061,    0.062062,    0.063063,    0.064064,    0.065065,    0.066066,    0.067067,    0.068068,    0.069069,     0.07007,    0.071071,\n",
              "          0.072072,    0.073073,    0.074074,    0.075075,    0.076076,    0.077077,    0.078078,    0.079079,     0.08008,    0.081081,    0.082082,    0.083083,    0.084084,    0.085085,    0.086086,    0.087087,    0.088088,    0.089089,     0.09009,    0.091091,    0.092092,    0.093093,    0.094094,    0.095095,\n",
              "          0.096096,    0.097097,    0.098098,    0.099099,      0.1001,      0.1011,      0.1021,      0.1031,      0.1041,     0.10511,     0.10611,     0.10711,     0.10811,     0.10911,     0.11011,     0.11111,     0.11211,     0.11311,     0.11411,     0.11512,     0.11612,     0.11712,     0.11812,     0.11912,\n",
              "           0.12012,     0.12112,     0.12212,     0.12312,     0.12412,     0.12513,     0.12613,     0.12713,     0.12813,     0.12913,     0.13013,     0.13113,     0.13213,     0.13313,     0.13413,     0.13514,     0.13614,     0.13714,     0.13814,     0.13914,     0.14014,     0.14114,     0.14214,     0.14314,\n",
              "           0.14414,     0.14515,     0.14615,     0.14715,     0.14815,     0.14915,     0.15015,     0.15115,     0.15215,     0.15315,     0.15415,     0.15516,     0.15616,     0.15716,     0.15816,     0.15916,     0.16016,     0.16116,     0.16216,     0.16316,     0.16416,     0.16517,     0.16617,     0.16717,\n",
              "           0.16817,     0.16917,     0.17017,     0.17117,     0.17217,     0.17317,     0.17417,     0.17518,     0.17618,     0.17718,     0.17818,     0.17918,     0.18018,     0.18118,     0.18218,     0.18318,     0.18418,     0.18519,     0.18619,     0.18719,     0.18819,     0.18919,     0.19019,     0.19119,\n",
              "           0.19219,     0.19319,     0.19419,      0.1952,      0.1962,      0.1972,      0.1982,      0.1992,      0.2002,      0.2012,      0.2022,      0.2032,      0.2042,     0.20521,     0.20621,     0.20721,     0.20821,     0.20921,     0.21021,     0.21121,     0.21221,     0.21321,     0.21421,     0.21522,\n",
              "           0.21622,     0.21722,     0.21822,     0.21922,     0.22022,     0.22122,     0.22222,     0.22322,     0.22422,     0.22523,     0.22623,     0.22723,     0.22823,     0.22923,     0.23023,     0.23123,     0.23223,     0.23323,     0.23423,     0.23524,     0.23624,     0.23724,     0.23824,     0.23924,\n",
              "           0.24024,     0.24124,     0.24224,     0.24324,     0.24424,     0.24525,     0.24625,     0.24725,     0.24825,     0.24925,     0.25025,     0.25125,     0.25225,     0.25325,     0.25425,     0.25526,     0.25626,     0.25726,     0.25826,     0.25926,     0.26026,     0.26126,     0.26226,     0.26326,\n",
              "           0.26426,     0.26527,     0.26627,     0.26727,     0.26827,     0.26927,     0.27027,     0.27127,     0.27227,     0.27327,     0.27427,     0.27528,     0.27628,     0.27728,     0.27828,     0.27928,     0.28028,     0.28128,     0.28228,     0.28328,     0.28428,     0.28529,     0.28629,     0.28729,\n",
              "           0.28829,     0.28929,     0.29029,     0.29129,     0.29229,     0.29329,     0.29429,      0.2953,      0.2963,      0.2973,      0.2983,      0.2993,      0.3003,      0.3013,      0.3023,      0.3033,      0.3043,     0.30531,     0.30631,     0.30731,     0.30831,     0.30931,     0.31031,     0.31131,\n",
              "           0.31231,     0.31331,     0.31431,     0.31532,     0.31632,     0.31732,     0.31832,     0.31932,     0.32032,     0.32132,     0.32232,     0.32332,     0.32432,     0.32533,     0.32633,     0.32733,     0.32833,     0.32933,     0.33033,     0.33133,     0.33233,     0.33333,     0.33433,     0.33534,\n",
              "           0.33634,     0.33734,     0.33834,     0.33934,     0.34034,     0.34134,     0.34234,     0.34334,     0.34434,     0.34535,     0.34635,     0.34735,     0.34835,     0.34935,     0.35035,     0.35135,     0.35235,     0.35335,     0.35435,     0.35536,     0.35636,     0.35736,     0.35836,     0.35936,\n",
              "           0.36036,     0.36136,     0.36236,     0.36336,     0.36436,     0.36537,     0.36637,     0.36737,     0.36837,     0.36937,     0.37037,     0.37137,     0.37237,     0.37337,     0.37437,     0.37538,     0.37638,     0.37738,     0.37838,     0.37938,     0.38038,     0.38138,     0.38238,     0.38338,\n",
              "           0.38438,     0.38539,     0.38639,     0.38739,     0.38839,     0.38939,     0.39039,     0.39139,     0.39239,     0.39339,     0.39439,      0.3954,      0.3964,      0.3974,      0.3984,      0.3994,      0.4004,      0.4014,      0.4024,      0.4034,      0.4044,     0.40541,     0.40641,     0.40741,\n",
              "           0.40841,     0.40941,     0.41041,     0.41141,     0.41241,     0.41341,     0.41441,     0.41542,     0.41642,     0.41742,     0.41842,     0.41942,     0.42042,     0.42142,     0.42242,     0.42342,     0.42442,     0.42543,     0.42643,     0.42743,     0.42843,     0.42943,     0.43043,     0.43143,\n",
              "           0.43243,     0.43343,     0.43443,     0.43544,     0.43644,     0.43744,     0.43844,     0.43944,     0.44044,     0.44144,     0.44244,     0.44344,     0.44444,     0.44545,     0.44645,     0.44745,     0.44845,     0.44945,     0.45045,     0.45145,     0.45245,     0.45345,     0.45445,     0.45546,\n",
              "           0.45646,     0.45746,     0.45846,     0.45946,     0.46046,     0.46146,     0.46246,     0.46346,     0.46446,     0.46547,     0.46647,     0.46747,     0.46847,     0.46947,     0.47047,     0.47147,     0.47247,     0.47347,     0.47447,     0.47548,     0.47648,     0.47748,     0.47848,     0.47948,\n",
              "           0.48048,     0.48148,     0.48248,     0.48348,     0.48448,     0.48549,     0.48649,     0.48749,     0.48849,     0.48949,     0.49049,     0.49149,     0.49249,     0.49349,     0.49449,      0.4955,      0.4965,      0.4975,      0.4985,      0.4995,      0.5005,      0.5015,      0.5025,      0.5035,\n",
              "            0.5045,     0.50551,     0.50651,     0.50751,     0.50851,     0.50951,     0.51051,     0.51151,     0.51251,     0.51351,     0.51451,     0.51552,     0.51652,     0.51752,     0.51852,     0.51952,     0.52052,     0.52152,     0.52252,     0.52352,     0.52452,     0.52553,     0.52653,     0.52753,\n",
              "           0.52853,     0.52953,     0.53053,     0.53153,     0.53253,     0.53353,     0.53453,     0.53554,     0.53654,     0.53754,     0.53854,     0.53954,     0.54054,     0.54154,     0.54254,     0.54354,     0.54454,     0.54555,     0.54655,     0.54755,     0.54855,     0.54955,     0.55055,     0.55155,\n",
              "           0.55255,     0.55355,     0.55455,     0.55556,     0.55656,     0.55756,     0.55856,     0.55956,     0.56056,     0.56156,     0.56256,     0.56356,     0.56456,     0.56557,     0.56657,     0.56757,     0.56857,     0.56957,     0.57057,     0.57157,     0.57257,     0.57357,     0.57457,     0.57558,\n",
              "           0.57658,     0.57758,     0.57858,     0.57958,     0.58058,     0.58158,     0.58258,     0.58358,     0.58458,     0.58559,     0.58659,     0.58759,     0.58859,     0.58959,     0.59059,     0.59159,     0.59259,     0.59359,     0.59459,      0.5956,      0.5966,      0.5976,      0.5986,      0.5996,\n",
              "            0.6006,      0.6016,      0.6026,      0.6036,      0.6046,     0.60561,     0.60661,     0.60761,     0.60861,     0.60961,     0.61061,     0.61161,     0.61261,     0.61361,     0.61461,     0.61562,     0.61662,     0.61762,     0.61862,     0.61962,     0.62062,     0.62162,     0.62262,     0.62362,\n",
              "           0.62462,     0.62563,     0.62663,     0.62763,     0.62863,     0.62963,     0.63063,     0.63163,     0.63263,     0.63363,     0.63463,     0.63564,     0.63664,     0.63764,     0.63864,     0.63964,     0.64064,     0.64164,     0.64264,     0.64364,     0.64464,     0.64565,     0.64665,     0.64765,\n",
              "           0.64865,     0.64965,     0.65065,     0.65165,     0.65265,     0.65365,     0.65465,     0.65566,     0.65666,     0.65766,     0.65866,     0.65966,     0.66066,     0.66166,     0.66266,     0.66366,     0.66466,     0.66567,     0.66667,     0.66767,     0.66867,     0.66967,     0.67067,     0.67167,\n",
              "           0.67267,     0.67367,     0.67467,     0.67568,     0.67668,     0.67768,     0.67868,     0.67968,     0.68068,     0.68168,     0.68268,     0.68368,     0.68468,     0.68569,     0.68669,     0.68769,     0.68869,     0.68969,     0.69069,     0.69169,     0.69269,     0.69369,     0.69469,      0.6957,\n",
              "            0.6967,      0.6977,      0.6987,      0.6997,      0.7007,      0.7017,      0.7027,      0.7037,      0.7047,     0.70571,     0.70671,     0.70771,     0.70871,     0.70971,     0.71071,     0.71171,     0.71271,     0.71371,     0.71471,     0.71572,     0.71672,     0.71772,     0.71872,     0.71972,\n",
              "           0.72072,     0.72172,     0.72272,     0.72372,     0.72472,     0.72573,     0.72673,     0.72773,     0.72873,     0.72973,     0.73073,     0.73173,     0.73273,     0.73373,     0.73473,     0.73574,     0.73674,     0.73774,     0.73874,     0.73974,     0.74074,     0.74174,     0.74274,     0.74374,\n",
              "           0.74474,     0.74575,     0.74675,     0.74775,     0.74875,     0.74975,     0.75075,     0.75175,     0.75275,     0.75375,     0.75475,     0.75576,     0.75676,     0.75776,     0.75876,     0.75976,     0.76076,     0.76176,     0.76276,     0.76376,     0.76476,     0.76577,     0.76677,     0.76777,\n",
              "           0.76877,     0.76977,     0.77077,     0.77177,     0.77277,     0.77377,     0.77477,     0.77578,     0.77678,     0.77778,     0.77878,     0.77978,     0.78078,     0.78178,     0.78278,     0.78378,     0.78478,     0.78579,     0.78679,     0.78779,     0.78879,     0.78979,     0.79079,     0.79179,\n",
              "           0.79279,     0.79379,     0.79479,      0.7958,      0.7968,      0.7978,      0.7988,      0.7998,      0.8008,      0.8018,      0.8028,      0.8038,      0.8048,     0.80581,     0.80681,     0.80781,     0.80881,     0.80981,     0.81081,     0.81181,     0.81281,     0.81381,     0.81481,     0.81582,\n",
              "           0.81682,     0.81782,     0.81882,     0.81982,     0.82082,     0.82182,     0.82282,     0.82382,     0.82482,     0.82583,     0.82683,     0.82783,     0.82883,     0.82983,     0.83083,     0.83183,     0.83283,     0.83383,     0.83483,     0.83584,     0.83684,     0.83784,     0.83884,     0.83984,\n",
              "           0.84084,     0.84184,     0.84284,     0.84384,     0.84484,     0.84585,     0.84685,     0.84785,     0.84885,     0.84985,     0.85085,     0.85185,     0.85285,     0.85385,     0.85485,     0.85586,     0.85686,     0.85786,     0.85886,     0.85986,     0.86086,     0.86186,     0.86286,     0.86386,\n",
              "           0.86486,     0.86587,     0.86687,     0.86787,     0.86887,     0.86987,     0.87087,     0.87187,     0.87287,     0.87387,     0.87487,     0.87588,     0.87688,     0.87788,     0.87888,     0.87988,     0.88088,     0.88188,     0.88288,     0.88388,     0.88488,     0.88589,     0.88689,     0.88789,\n",
              "           0.88889,     0.88989,     0.89089,     0.89189,     0.89289,     0.89389,     0.89489,      0.8959,      0.8969,      0.8979,      0.8989,      0.8999,      0.9009,      0.9019,      0.9029,      0.9039,      0.9049,     0.90591,     0.90691,     0.90791,     0.90891,     0.90991,     0.91091,     0.91191,\n",
              "           0.91291,     0.91391,     0.91491,     0.91592,     0.91692,     0.91792,     0.91892,     0.91992,     0.92092,     0.92192,     0.92292,     0.92392,     0.92492,     0.92593,     0.92693,     0.92793,     0.92893,     0.92993,     0.93093,     0.93193,     0.93293,     0.93393,     0.93493,     0.93594,\n",
              "           0.93694,     0.93794,     0.93894,     0.93994,     0.94094,     0.94194,     0.94294,     0.94394,     0.94494,     0.94595,     0.94695,     0.94795,     0.94895,     0.94995,     0.95095,     0.95195,     0.95295,     0.95395,     0.95495,     0.95596,     0.95696,     0.95796,     0.95896,     0.95996,\n",
              "           0.96096,     0.96196,     0.96296,     0.96396,     0.96496,     0.96597,     0.96697,     0.96797,     0.96897,     0.96997,     0.97097,     0.97197,     0.97297,     0.97397,     0.97497,     0.97598,     0.97698,     0.97798,     0.97898,     0.97998,     0.98098,     0.98198,     0.98298,     0.98398,\n",
              "           0.98498,     0.98599,     0.98699,     0.98799,     0.98899,     0.98999,     0.99099,     0.99199,     0.99299,     0.99399,     0.99499,       0.996,       0.997,       0.998,       0.999,           1]), array([[    0.33988,     0.33988,     0.43464,      0.4899,     0.52862,     0.55283,     0.58178,     0.61423,     0.62921,      0.6606,     0.68018,     0.68516,     0.69568,     0.70679,     0.72408,     0.73559,     0.74784,     0.74782,     0.75652,       0.761,     0.76019,     0.76582,     0.77243,\n",
              "            0.78011,     0.78638,      0.7886,     0.79232,     0.79461,     0.79665,     0.79818,     0.79972,     0.80414,     0.80587,     0.80761,      0.8109,     0.81236,     0.81332,     0.81429,     0.81525,     0.81768,     0.81927,     0.82692,     0.83021,     0.83222,     0.83392,     0.83583,\n",
              "            0.83808,     0.84351,     0.84405,      0.8446,     0.84514,     0.84568,     0.84622,     0.84676,     0.84731,     0.84774,     0.84786,     0.84798,      0.8481,     0.84822,     0.84834,     0.84846,     0.84857,     0.84869,     0.84881,     0.84893,     0.84905,     0.84917,     0.84928,\n",
              "             0.8494,     0.84952,     0.84964,     0.84976,     0.84988,     0.84999,     0.85011,     0.85023,     0.85035,     0.85047,     0.85059,     0.85071,     0.85082,     0.85094,     0.85106,     0.85118,      0.8513,     0.85142,     0.85153,     0.85165,     0.85177,     0.85189,     0.85201,\n",
              "            0.85183,     0.85154,     0.85138,     0.85237,     0.85335,     0.85434,     0.85532,     0.85735,     0.85995,     0.86003,     0.85995,     0.85987,     0.85979,     0.85971,     0.85963,     0.85955,     0.85947,     0.85939,     0.85979,     0.86031,     0.86083,     0.86135,     0.86187,\n",
              "            0.86239,     0.86291,     0.86343,     0.86402,     0.86512,     0.86622,     0.86731,     0.86841,     0.86838,     0.86835,     0.86831,     0.86828,     0.86824,      0.8682,     0.86817,     0.86813,     0.86809,     0.86806,     0.86802,     0.86798,     0.86795,     0.86791,     0.86787,\n",
              "            0.86784,      0.8678,     0.86776,     0.86773,     0.86729,     0.86807,     0.87045,     0.87197,     0.87261,     0.87325,     0.87389,     0.87453,     0.87517,     0.87582,     0.87639,     0.87665,     0.87692,     0.87718,     0.87745,     0.87771,     0.87798,     0.87824,      0.8785,\n",
              "            0.87877,     0.87903,      0.8793,     0.87956,     0.87983,     0.88009,     0.88035,     0.88062,     0.88088,     0.88113,     0.88134,     0.88155,     0.88175,     0.88196,     0.88217,     0.88237,     0.88258,     0.88279,     0.88299,      0.8832,     0.88341,     0.88361,     0.88382,\n",
              "            0.88403,     0.88423,     0.88444,     0.88465,     0.88485,     0.88506,     0.88527,     0.88547,     0.88568,     0.88593,     0.88671,     0.88749,     0.88827,     0.88904,     0.88982,      0.8906,     0.89585,     0.89684,     0.89783,     0.89882,     0.89981,     0.90063,     0.90092,\n",
              "            0.90121,      0.9015,      0.9018,     0.90209,     0.90238,     0.90268,     0.90297,     0.90326,     0.90356,     0.90385,     0.90414,     0.90443,     0.90473,     0.90502,     0.90531,     0.90555,      0.9055,     0.90546,     0.90541,     0.90537,     0.90532,     0.90528,     0.90523,\n",
              "            0.90519,     0.90514,      0.9051,     0.90505,      0.9056,     0.90683,     0.90806,     0.90928,     0.91019,     0.91041,     0.91064,     0.91087,      0.9111,     0.91133,     0.91155,     0.91178,     0.91201,     0.91224,     0.91247,     0.91269,     0.91292,     0.91315,     0.91338,\n",
              "             0.9136,     0.91383,     0.91406,     0.91429,     0.91452,     0.91474,     0.91497,      0.9152,     0.92051,     0.92216,     0.92382,     0.92548,     0.92571,     0.92571,      0.9257,      0.9257,     0.92569,     0.92569,     0.92568,     0.92568,     0.92567,     0.92567,     0.92566,\n",
              "            0.92566,     0.92565,     0.92565,     0.92564,     0.92564,     0.92563,     0.92563,     0.92562,     0.92562,     0.92561,     0.92561,      0.9256,      0.9256,     0.92559,     0.92559,     0.92558,     0.92558,     0.92557,     0.92557,     0.92556,     0.92556,     0.92555,     0.92555,\n",
              "            0.92554,     0.92554,     0.92554,     0.92553,     0.92553,     0.92552,     0.92552,     0.92551,     0.92551,      0.9255,      0.9255,     0.92549,     0.92549,     0.92548,     0.92548,     0.92547,     0.92547,     0.92546,     0.92546,     0.92545,     0.92545,     0.92544,     0.92544,\n",
              "            0.92543,     0.92543,     0.92542,     0.92542,     0.92541,     0.92541,      0.9254,      0.9254,     0.92539,     0.92539,     0.92538,     0.92538,     0.92537,     0.92537,     0.92536,     0.92536,     0.92536,     0.92535,     0.92535,     0.92534,     0.92534,     0.92533,     0.92533,\n",
              "            0.92532,     0.92532,     0.92531,     0.92531,      0.9253,      0.9253,     0.92529,     0.92529,     0.92528,     0.92526,     0.92525,     0.92524,     0.92523,     0.92522,     0.92521,     0.92519,     0.92518,     0.92517,     0.92516,     0.92515,     0.92514,     0.92512,     0.92511,\n",
              "             0.9251,     0.92509,     0.92508,     0.92507,     0.92506,     0.92504,     0.92503,     0.92502,     0.92501,       0.925,     0.92499,     0.92497,     0.92496,     0.92495,     0.92494,     0.92493,     0.92492,      0.9249,     0.92489,     0.92488,     0.92487,     0.92486,     0.92481,\n",
              "            0.92475,     0.92469,     0.92463,     0.92457,     0.92451,     0.92445,     0.92449,     0.92467,     0.92485,     0.92503,     0.92521,     0.92539,     0.92557,     0.92575,     0.92592,      0.9261,     0.92628,     0.92646,     0.92664,     0.92682,       0.927,     0.92718,     0.92735,\n",
              "            0.92753,     0.92771,     0.92789,     0.92807,     0.92825,     0.92843,     0.92861,     0.92878,     0.92896,     0.92914,     0.92932,      0.9295,     0.92968,     0.92975,     0.92944,     0.92956,     0.92969,     0.92982,     0.92994,     0.93007,      0.9302,     0.93032,     0.93045,\n",
              "            0.93058,      0.9307,     0.93083,     0.93096,     0.93108,     0.93121,     0.93134,     0.93146,     0.93159,     0.93172,     0.93184,     0.93197,      0.9321,     0.93222,     0.93235,     0.93248,      0.9326,     0.93273,     0.93286,     0.93298,     0.93311,     0.93324,     0.93336,\n",
              "            0.93349,     0.93362,     0.93374,     0.93387,       0.934,     0.93412,     0.93425,     0.93438,      0.9345,     0.93463,     0.93476,     0.93488,     0.93488,     0.93484,      0.9348,     0.93476,     0.93472,     0.93468,     0.93464,      0.9346,     0.93456,     0.93452,     0.93452,\n",
              "            0.93451,     0.93451,      0.9345,      0.9345,     0.93449,     0.93448,     0.93448,     0.93447,     0.93447,     0.93446,     0.93446,     0.93445,     0.93444,     0.93444,     0.93443,     0.93443,     0.93442,     0.93442,     0.93441,      0.9344,      0.9344,     0.93439,     0.93439,\n",
              "            0.93438,     0.93438,     0.93437,     0.93437,     0.93436,     0.93435,     0.93435,     0.93434,     0.93434,     0.93433,     0.93433,     0.93432,     0.93431,     0.93431,      0.9343,      0.9343,     0.93429,     0.93429,     0.93428,     0.93427,     0.93427,     0.93426,     0.93426,\n",
              "            0.93425,     0.93425,     0.93424,     0.93423,     0.93423,     0.93422,     0.93422,     0.93421,     0.93421,      0.9342,      0.9342,     0.93419,     0.93418,     0.93418,     0.93417,     0.93417,     0.93416,     0.93416,     0.93415,     0.93414,     0.93414,     0.93413,     0.93382,\n",
              "            0.93373,     0.93372,     0.93371,      0.9337,     0.93369,     0.93368,     0.93367,     0.93366,     0.93365,     0.93364,     0.93363,     0.93362,     0.93361,      0.9336,     0.93359,     0.93358,     0.93357,     0.93356,     0.93355,     0.93354,     0.93353,     0.93352,     0.93351,\n",
              "             0.9335,     0.93349,     0.93348,     0.93347,     0.93346,     0.93345,     0.93344,     0.93343,     0.93342,     0.93341,      0.9334,     0.93339,     0.93338,     0.93337,     0.93336,     0.93335,     0.93334,     0.93418,     0.93524,      0.9363,     0.93736,     0.93842,     0.93902,\n",
              "              0.939,     0.93898,     0.93896,     0.93894,     0.93892,      0.9389,     0.93888,     0.93886,     0.93884,     0.93882,      0.9388,     0.93878,     0.93876,     0.93874,     0.93872,      0.9387,     0.93868,     0.93866,     0.93961,     0.94199,     0.94436,     0.94735,     0.95031,\n",
              "            0.95044,     0.95058,     0.95071,     0.95084,     0.95097,     0.95111,     0.95124,     0.95137,      0.9515,     0.95164,     0.95177,      0.9519,     0.95203,     0.95217,      0.9523,     0.95243,     0.95256,     0.95269,     0.95283,     0.95296,     0.95309,     0.95322,     0.95336,\n",
              "            0.95349,     0.95362,     0.95375,     0.95389,     0.95402,     0.95415,     0.95428,     0.95442,     0.95455,     0.95468,     0.95481,     0.95494,     0.95508,     0.95521,     0.95534,     0.95547,     0.95561,     0.95574,     0.95587,       0.956,     0.95614,     0.95624,      0.9562,\n",
              "            0.95616,     0.95612,     0.95608,     0.95604,       0.956,     0.95592,     0.95573,     0.95666,     0.95779,     0.95892,     0.96006,     0.96119,     0.96152,     0.96149,     0.96146,     0.96143,      0.9614,     0.96137,     0.96134,     0.96131,     0.96128,      0.9612,     0.96113,\n",
              "            0.96106,     0.96098,     0.96091,     0.96083,     0.96076,     0.96068,     0.96061,     0.96053,     0.96044,     0.96035,     0.96026,     0.96021,     0.96016,      0.9601,     0.96005,     0.95971,     0.95957,     0.95915,     0.95896,     0.95848,     0.95802,     0.95793,     0.95785,\n",
              "            0.95776,     0.95769,     0.95763,     0.95757,     0.95751,     0.95745,     0.95735,     0.95724,     0.95723,     0.95924,     0.96126,     0.96328,     0.96392,      0.9632,     0.96302,     0.96283,     0.96264,     0.96245,     0.96236,      0.9623,     0.96224,     0.96219,     0.96213,\n",
              "            0.96165,     0.96145,     0.96125,     0.96084,     0.96073,     0.96063,     0.96052,     0.96041,     0.95966,     0.95955,     0.95944,     0.95933,     0.95921,      0.9591,     0.95792,     0.95768,     0.96177,     0.96484,     0.96463,     0.96441,     0.96321,     0.96298,     0.96274,\n",
              "            0.96142,     0.95999,     0.95972,     0.95902,     0.95829,     0.95552,     0.95517,     0.95431,     0.95395,     0.95359,     0.95807,     0.96378,     0.96348,     0.96915,     0.97321,     0.97251,     0.97225,     0.97075,     0.97002,     0.96971,     0.98333,     0.98255,     0.98234,\n",
              "            0.98213,     0.98191,     0.98015,     0.97805,     0.97721,     0.97685,           1,           1,           1,           1,           1,           1,           1,           1,           1,           1,           1,           1,           1,           1,           1,           1,           1,\n",
              "                  1,           1,           1,           1,           1,           1,           1,           1,           1,           1,           1,           1,           1,           1,           1,           1,           1,           1,           1,           1,           1,           1,           1,\n",
              "                  1,           1,           1,           1,           1,           1,           1,           1,           1,           1,           1,           1,           1,           1,           1,           1,           1,           1,           1,           1,           1,           1,           1,\n",
              "                  1,           1,           1,           1,           1,           1,           1,           1,           1,           1,           1,           1,           1,           1,           1,           1,           1,           1,           1,           1,           1,           1,           1,\n",
              "                  1,           1,           1,           1,           1,           1,           1,           1,           1,           1,           1,           1,           1,           1,           1,           1,           1,           1,           1,           1,           1,           1,           1,\n",
              "                  1,           1,           1,           1,           1,           1,           1,           1,           1,           1,           1,           1,           1,           1,           1,           1,           1,           1,           1,           1,           1,           1,           1,\n",
              "                  1,           1,           1,           1,           1,           1,           1,           1,           1,           1,           1,           1,           1,           1,           1,           1,           1,           1,           1,           1,           1,           1,           1,\n",
              "                  1,           1,           1,           1,           1,           1,           1,           1,           1,           1,           1,           1,           1,           1,           1,           1,           1,           1,           1,           1,           1,           1,           1,\n",
              "                  1,           1,           1,           1,           1,           1,           1,           1,           1,           1,           1,           1,           1,           1,           1,           1,           1,           1,           1,           1,           1,           1,           1,\n",
              "                  1,           1,           1,           1,           1,           1,           1,           1,           1,           1,           1]]), 'Confidence', 'Precision'], [array([          0,    0.001001,    0.002002,    0.003003,    0.004004,    0.005005,    0.006006,    0.007007,    0.008008,    0.009009,     0.01001,    0.011011,    0.012012,    0.013013,    0.014014,    0.015015,    0.016016,    0.017017,    0.018018,    0.019019,     0.02002,    0.021021,    0.022022,    0.023023,\n",
              "          0.024024,    0.025025,    0.026026,    0.027027,    0.028028,    0.029029,     0.03003,    0.031031,    0.032032,    0.033033,    0.034034,    0.035035,    0.036036,    0.037037,    0.038038,    0.039039,     0.04004,    0.041041,    0.042042,    0.043043,    0.044044,    0.045045,    0.046046,    0.047047,\n",
              "          0.048048,    0.049049,     0.05005,    0.051051,    0.052052,    0.053053,    0.054054,    0.055055,    0.056056,    0.057057,    0.058058,    0.059059,     0.06006,    0.061061,    0.062062,    0.063063,    0.064064,    0.065065,    0.066066,    0.067067,    0.068068,    0.069069,     0.07007,    0.071071,\n",
              "          0.072072,    0.073073,    0.074074,    0.075075,    0.076076,    0.077077,    0.078078,    0.079079,     0.08008,    0.081081,    0.082082,    0.083083,    0.084084,    0.085085,    0.086086,    0.087087,    0.088088,    0.089089,     0.09009,    0.091091,    0.092092,    0.093093,    0.094094,    0.095095,\n",
              "          0.096096,    0.097097,    0.098098,    0.099099,      0.1001,      0.1011,      0.1021,      0.1031,      0.1041,     0.10511,     0.10611,     0.10711,     0.10811,     0.10911,     0.11011,     0.11111,     0.11211,     0.11311,     0.11411,     0.11512,     0.11612,     0.11712,     0.11812,     0.11912,\n",
              "           0.12012,     0.12112,     0.12212,     0.12312,     0.12412,     0.12513,     0.12613,     0.12713,     0.12813,     0.12913,     0.13013,     0.13113,     0.13213,     0.13313,     0.13413,     0.13514,     0.13614,     0.13714,     0.13814,     0.13914,     0.14014,     0.14114,     0.14214,     0.14314,\n",
              "           0.14414,     0.14515,     0.14615,     0.14715,     0.14815,     0.14915,     0.15015,     0.15115,     0.15215,     0.15315,     0.15415,     0.15516,     0.15616,     0.15716,     0.15816,     0.15916,     0.16016,     0.16116,     0.16216,     0.16316,     0.16416,     0.16517,     0.16617,     0.16717,\n",
              "           0.16817,     0.16917,     0.17017,     0.17117,     0.17217,     0.17317,     0.17417,     0.17518,     0.17618,     0.17718,     0.17818,     0.17918,     0.18018,     0.18118,     0.18218,     0.18318,     0.18418,     0.18519,     0.18619,     0.18719,     0.18819,     0.18919,     0.19019,     0.19119,\n",
              "           0.19219,     0.19319,     0.19419,      0.1952,      0.1962,      0.1972,      0.1982,      0.1992,      0.2002,      0.2012,      0.2022,      0.2032,      0.2042,     0.20521,     0.20621,     0.20721,     0.20821,     0.20921,     0.21021,     0.21121,     0.21221,     0.21321,     0.21421,     0.21522,\n",
              "           0.21622,     0.21722,     0.21822,     0.21922,     0.22022,     0.22122,     0.22222,     0.22322,     0.22422,     0.22523,     0.22623,     0.22723,     0.22823,     0.22923,     0.23023,     0.23123,     0.23223,     0.23323,     0.23423,     0.23524,     0.23624,     0.23724,     0.23824,     0.23924,\n",
              "           0.24024,     0.24124,     0.24224,     0.24324,     0.24424,     0.24525,     0.24625,     0.24725,     0.24825,     0.24925,     0.25025,     0.25125,     0.25225,     0.25325,     0.25425,     0.25526,     0.25626,     0.25726,     0.25826,     0.25926,     0.26026,     0.26126,     0.26226,     0.26326,\n",
              "           0.26426,     0.26527,     0.26627,     0.26727,     0.26827,     0.26927,     0.27027,     0.27127,     0.27227,     0.27327,     0.27427,     0.27528,     0.27628,     0.27728,     0.27828,     0.27928,     0.28028,     0.28128,     0.28228,     0.28328,     0.28428,     0.28529,     0.28629,     0.28729,\n",
              "           0.28829,     0.28929,     0.29029,     0.29129,     0.29229,     0.29329,     0.29429,      0.2953,      0.2963,      0.2973,      0.2983,      0.2993,      0.3003,      0.3013,      0.3023,      0.3033,      0.3043,     0.30531,     0.30631,     0.30731,     0.30831,     0.30931,     0.31031,     0.31131,\n",
              "           0.31231,     0.31331,     0.31431,     0.31532,     0.31632,     0.31732,     0.31832,     0.31932,     0.32032,     0.32132,     0.32232,     0.32332,     0.32432,     0.32533,     0.32633,     0.32733,     0.32833,     0.32933,     0.33033,     0.33133,     0.33233,     0.33333,     0.33433,     0.33534,\n",
              "           0.33634,     0.33734,     0.33834,     0.33934,     0.34034,     0.34134,     0.34234,     0.34334,     0.34434,     0.34535,     0.34635,     0.34735,     0.34835,     0.34935,     0.35035,     0.35135,     0.35235,     0.35335,     0.35435,     0.35536,     0.35636,     0.35736,     0.35836,     0.35936,\n",
              "           0.36036,     0.36136,     0.36236,     0.36336,     0.36436,     0.36537,     0.36637,     0.36737,     0.36837,     0.36937,     0.37037,     0.37137,     0.37237,     0.37337,     0.37437,     0.37538,     0.37638,     0.37738,     0.37838,     0.37938,     0.38038,     0.38138,     0.38238,     0.38338,\n",
              "           0.38438,     0.38539,     0.38639,     0.38739,     0.38839,     0.38939,     0.39039,     0.39139,     0.39239,     0.39339,     0.39439,      0.3954,      0.3964,      0.3974,      0.3984,      0.3994,      0.4004,      0.4014,      0.4024,      0.4034,      0.4044,     0.40541,     0.40641,     0.40741,\n",
              "           0.40841,     0.40941,     0.41041,     0.41141,     0.41241,     0.41341,     0.41441,     0.41542,     0.41642,     0.41742,     0.41842,     0.41942,     0.42042,     0.42142,     0.42242,     0.42342,     0.42442,     0.42543,     0.42643,     0.42743,     0.42843,     0.42943,     0.43043,     0.43143,\n",
              "           0.43243,     0.43343,     0.43443,     0.43544,     0.43644,     0.43744,     0.43844,     0.43944,     0.44044,     0.44144,     0.44244,     0.44344,     0.44444,     0.44545,     0.44645,     0.44745,     0.44845,     0.44945,     0.45045,     0.45145,     0.45245,     0.45345,     0.45445,     0.45546,\n",
              "           0.45646,     0.45746,     0.45846,     0.45946,     0.46046,     0.46146,     0.46246,     0.46346,     0.46446,     0.46547,     0.46647,     0.46747,     0.46847,     0.46947,     0.47047,     0.47147,     0.47247,     0.47347,     0.47447,     0.47548,     0.47648,     0.47748,     0.47848,     0.47948,\n",
              "           0.48048,     0.48148,     0.48248,     0.48348,     0.48448,     0.48549,     0.48649,     0.48749,     0.48849,     0.48949,     0.49049,     0.49149,     0.49249,     0.49349,     0.49449,      0.4955,      0.4965,      0.4975,      0.4985,      0.4995,      0.5005,      0.5015,      0.5025,      0.5035,\n",
              "            0.5045,     0.50551,     0.50651,     0.50751,     0.50851,     0.50951,     0.51051,     0.51151,     0.51251,     0.51351,     0.51451,     0.51552,     0.51652,     0.51752,     0.51852,     0.51952,     0.52052,     0.52152,     0.52252,     0.52352,     0.52452,     0.52553,     0.52653,     0.52753,\n",
              "           0.52853,     0.52953,     0.53053,     0.53153,     0.53253,     0.53353,     0.53453,     0.53554,     0.53654,     0.53754,     0.53854,     0.53954,     0.54054,     0.54154,     0.54254,     0.54354,     0.54454,     0.54555,     0.54655,     0.54755,     0.54855,     0.54955,     0.55055,     0.55155,\n",
              "           0.55255,     0.55355,     0.55455,     0.55556,     0.55656,     0.55756,     0.55856,     0.55956,     0.56056,     0.56156,     0.56256,     0.56356,     0.56456,     0.56557,     0.56657,     0.56757,     0.56857,     0.56957,     0.57057,     0.57157,     0.57257,     0.57357,     0.57457,     0.57558,\n",
              "           0.57658,     0.57758,     0.57858,     0.57958,     0.58058,     0.58158,     0.58258,     0.58358,     0.58458,     0.58559,     0.58659,     0.58759,     0.58859,     0.58959,     0.59059,     0.59159,     0.59259,     0.59359,     0.59459,      0.5956,      0.5966,      0.5976,      0.5986,      0.5996,\n",
              "            0.6006,      0.6016,      0.6026,      0.6036,      0.6046,     0.60561,     0.60661,     0.60761,     0.60861,     0.60961,     0.61061,     0.61161,     0.61261,     0.61361,     0.61461,     0.61562,     0.61662,     0.61762,     0.61862,     0.61962,     0.62062,     0.62162,     0.62262,     0.62362,\n",
              "           0.62462,     0.62563,     0.62663,     0.62763,     0.62863,     0.62963,     0.63063,     0.63163,     0.63263,     0.63363,     0.63463,     0.63564,     0.63664,     0.63764,     0.63864,     0.63964,     0.64064,     0.64164,     0.64264,     0.64364,     0.64464,     0.64565,     0.64665,     0.64765,\n",
              "           0.64865,     0.64965,     0.65065,     0.65165,     0.65265,     0.65365,     0.65465,     0.65566,     0.65666,     0.65766,     0.65866,     0.65966,     0.66066,     0.66166,     0.66266,     0.66366,     0.66466,     0.66567,     0.66667,     0.66767,     0.66867,     0.66967,     0.67067,     0.67167,\n",
              "           0.67267,     0.67367,     0.67467,     0.67568,     0.67668,     0.67768,     0.67868,     0.67968,     0.68068,     0.68168,     0.68268,     0.68368,     0.68468,     0.68569,     0.68669,     0.68769,     0.68869,     0.68969,     0.69069,     0.69169,     0.69269,     0.69369,     0.69469,      0.6957,\n",
              "            0.6967,      0.6977,      0.6987,      0.6997,      0.7007,      0.7017,      0.7027,      0.7037,      0.7047,     0.70571,     0.70671,     0.70771,     0.70871,     0.70971,     0.71071,     0.71171,     0.71271,     0.71371,     0.71471,     0.71572,     0.71672,     0.71772,     0.71872,     0.71972,\n",
              "           0.72072,     0.72172,     0.72272,     0.72372,     0.72472,     0.72573,     0.72673,     0.72773,     0.72873,     0.72973,     0.73073,     0.73173,     0.73273,     0.73373,     0.73473,     0.73574,     0.73674,     0.73774,     0.73874,     0.73974,     0.74074,     0.74174,     0.74274,     0.74374,\n",
              "           0.74474,     0.74575,     0.74675,     0.74775,     0.74875,     0.74975,     0.75075,     0.75175,     0.75275,     0.75375,     0.75475,     0.75576,     0.75676,     0.75776,     0.75876,     0.75976,     0.76076,     0.76176,     0.76276,     0.76376,     0.76476,     0.76577,     0.76677,     0.76777,\n",
              "           0.76877,     0.76977,     0.77077,     0.77177,     0.77277,     0.77377,     0.77477,     0.77578,     0.77678,     0.77778,     0.77878,     0.77978,     0.78078,     0.78178,     0.78278,     0.78378,     0.78478,     0.78579,     0.78679,     0.78779,     0.78879,     0.78979,     0.79079,     0.79179,\n",
              "           0.79279,     0.79379,     0.79479,      0.7958,      0.7968,      0.7978,      0.7988,      0.7998,      0.8008,      0.8018,      0.8028,      0.8038,      0.8048,     0.80581,     0.80681,     0.80781,     0.80881,     0.80981,     0.81081,     0.81181,     0.81281,     0.81381,     0.81481,     0.81582,\n",
              "           0.81682,     0.81782,     0.81882,     0.81982,     0.82082,     0.82182,     0.82282,     0.82382,     0.82482,     0.82583,     0.82683,     0.82783,     0.82883,     0.82983,     0.83083,     0.83183,     0.83283,     0.83383,     0.83483,     0.83584,     0.83684,     0.83784,     0.83884,     0.83984,\n",
              "           0.84084,     0.84184,     0.84284,     0.84384,     0.84484,     0.84585,     0.84685,     0.84785,     0.84885,     0.84985,     0.85085,     0.85185,     0.85285,     0.85385,     0.85485,     0.85586,     0.85686,     0.85786,     0.85886,     0.85986,     0.86086,     0.86186,     0.86286,     0.86386,\n",
              "           0.86486,     0.86587,     0.86687,     0.86787,     0.86887,     0.86987,     0.87087,     0.87187,     0.87287,     0.87387,     0.87487,     0.87588,     0.87688,     0.87788,     0.87888,     0.87988,     0.88088,     0.88188,     0.88288,     0.88388,     0.88488,     0.88589,     0.88689,     0.88789,\n",
              "           0.88889,     0.88989,     0.89089,     0.89189,     0.89289,     0.89389,     0.89489,      0.8959,      0.8969,      0.8979,      0.8989,      0.8999,      0.9009,      0.9019,      0.9029,      0.9039,      0.9049,     0.90591,     0.90691,     0.90791,     0.90891,     0.90991,     0.91091,     0.91191,\n",
              "           0.91291,     0.91391,     0.91491,     0.91592,     0.91692,     0.91792,     0.91892,     0.91992,     0.92092,     0.92192,     0.92292,     0.92392,     0.92492,     0.92593,     0.92693,     0.92793,     0.92893,     0.92993,     0.93093,     0.93193,     0.93293,     0.93393,     0.93493,     0.93594,\n",
              "           0.93694,     0.93794,     0.93894,     0.93994,     0.94094,     0.94194,     0.94294,     0.94394,     0.94494,     0.94595,     0.94695,     0.94795,     0.94895,     0.94995,     0.95095,     0.95195,     0.95295,     0.95395,     0.95495,     0.95596,     0.95696,     0.95796,     0.95896,     0.95996,\n",
              "           0.96096,     0.96196,     0.96296,     0.96396,     0.96496,     0.96597,     0.96697,     0.96797,     0.96897,     0.96997,     0.97097,     0.97197,     0.97297,     0.97397,     0.97497,     0.97598,     0.97698,     0.97798,     0.97898,     0.97998,     0.98098,     0.98198,     0.98298,     0.98398,\n",
              "           0.98498,     0.98599,     0.98699,     0.98799,     0.98899,     0.98999,     0.99099,     0.99199,     0.99299,     0.99399,     0.99499,       0.996,       0.997,       0.998,       0.999,           1]), array([[    0.93514,     0.93514,     0.93514,     0.92973,     0.92973,     0.92973,     0.92432,     0.91892,     0.91892,     0.91892,     0.91892,     0.91892,     0.91892,     0.91892,     0.91892,     0.91892,     0.91892,     0.91368,     0.91351,     0.91218,     0.90811,     0.90811,     0.90811,\n",
              "            0.90811,     0.90811,     0.90811,     0.90811,     0.90811,     0.90811,     0.90811,     0.90811,     0.90811,     0.90811,     0.90811,     0.90811,     0.90811,     0.90811,     0.90811,     0.90811,     0.90811,      0.9027,      0.9027,      0.9027,      0.9027,      0.9027,      0.9027,\n",
              "             0.9027,      0.9027,      0.9027,      0.9027,      0.9027,      0.9027,      0.9027,      0.9027,      0.9027,      0.9027,      0.9027,      0.9027,      0.9027,      0.9027,      0.9027,      0.9027,      0.9027,      0.9027,      0.9027,      0.9027,      0.9027,      0.9027,      0.9027,\n",
              "             0.9027,      0.9027,      0.9027,      0.9027,      0.9027,      0.9027,      0.9027,      0.9027,      0.9027,      0.9027,      0.9027,      0.9027,      0.9027,      0.9027,      0.9027,      0.9027,      0.9027,      0.9027,      0.9027,      0.9027,      0.9027,      0.9027,      0.9027,\n",
              "            0.90121,     0.89915,      0.8973,      0.8973,      0.8973,      0.8973,      0.8973,      0.8973,      0.8973,     0.89674,     0.89615,     0.89556,     0.89497,     0.89438,     0.89379,     0.89319,      0.8926,     0.89201,     0.89189,     0.89189,     0.89189,     0.89189,     0.89189,\n",
              "            0.89189,     0.89189,     0.89189,     0.89189,     0.89189,     0.89189,     0.89189,     0.89189,     0.89161,     0.89133,     0.89104,     0.89076,     0.89048,      0.8902,     0.88991,     0.88963,     0.88935,     0.88906,     0.88878,      0.8885,     0.88821,     0.88793,     0.88765,\n",
              "            0.88736,     0.88708,      0.8868,     0.88651,     0.88314,     0.88108,     0.88108,     0.88108,     0.88108,     0.88108,     0.88108,     0.88108,     0.88108,     0.88108,     0.88108,     0.88108,     0.88108,     0.88108,     0.88108,     0.88108,     0.88108,     0.88108,     0.88108,\n",
              "            0.88108,     0.88108,     0.88108,     0.88108,     0.88108,     0.88108,     0.88108,     0.88108,     0.88108,     0.88108,     0.88108,     0.88108,     0.88108,     0.88108,     0.88108,     0.88108,     0.88108,     0.88108,     0.88108,     0.88108,     0.88108,     0.88108,     0.88108,\n",
              "            0.88108,     0.88108,     0.88108,     0.88108,     0.88108,     0.88108,     0.88108,     0.88108,     0.88108,     0.88108,     0.88108,     0.88108,     0.88108,     0.88108,     0.88108,     0.88108,     0.88108,     0.88108,     0.88108,     0.88108,     0.88108,     0.88108,     0.88108,\n",
              "            0.88108,     0.88108,     0.88108,     0.88108,     0.88108,     0.88108,     0.88108,     0.88108,     0.88108,     0.88108,     0.88108,     0.88108,     0.88108,     0.88108,     0.88108,       0.881,     0.88054,     0.88008,     0.87961,     0.87915,     0.87869,     0.87823,     0.87777,\n",
              "            0.87731,     0.87684,     0.87638,     0.87592,     0.87568,     0.87568,     0.87568,     0.87568,     0.87568,     0.87568,     0.87568,     0.87568,     0.87568,     0.87568,     0.87568,     0.87568,     0.87568,     0.87568,     0.87568,     0.87568,     0.87568,     0.87568,     0.87568,\n",
              "            0.87568,     0.87568,     0.87568,     0.87568,     0.87568,     0.87568,     0.87568,     0.87568,     0.87568,     0.87568,     0.87568,     0.87568,     0.87562,     0.87556,      0.8755,     0.87544,     0.87538,     0.87531,     0.87525,     0.87519,     0.87513,     0.87507,     0.87501,\n",
              "            0.87495,     0.87488,     0.87482,     0.87476,      0.8747,     0.87464,     0.87458,     0.87451,     0.87445,     0.87439,     0.87433,     0.87427,     0.87421,     0.87415,     0.87408,     0.87402,     0.87396,      0.8739,     0.87384,     0.87378,     0.87371,     0.87365,     0.87359,\n",
              "            0.87353,     0.87347,     0.87341,     0.87334,     0.87328,     0.87322,     0.87316,      0.8731,     0.87304,     0.87298,     0.87291,     0.87285,     0.87279,     0.87273,     0.87267,     0.87261,     0.87254,     0.87248,     0.87242,     0.87236,      0.8723,     0.87224,     0.87218,\n",
              "            0.87211,     0.87205,     0.87199,     0.87193,     0.87187,     0.87181,     0.87174,     0.87168,     0.87162,     0.87156,      0.8715,     0.87144,     0.87137,     0.87131,     0.87125,     0.87119,     0.87113,     0.87107,     0.87101,     0.87094,     0.87088,     0.87082,     0.87076,\n",
              "             0.8707,     0.87064,     0.87057,     0.87051,     0.87045,     0.87039,     0.87033,     0.87026,     0.87012,     0.86997,     0.86983,     0.86968,     0.86954,     0.86939,     0.86925,      0.8691,     0.86896,     0.86881,     0.86867,     0.86852,     0.86838,     0.86823,     0.86809,\n",
              "            0.86794,      0.8678,     0.86765,     0.86751,     0.86736,     0.86722,     0.86708,     0.86693,     0.86679,     0.86664,      0.8665,     0.86635,     0.86621,     0.86606,     0.86592,     0.86577,     0.86563,     0.86548,     0.86534,     0.86519,     0.86505,      0.8649,     0.86432,\n",
              "            0.86358,     0.86284,      0.8621,     0.86136,     0.86062,     0.85988,     0.85946,     0.85946,     0.85946,     0.85946,     0.85946,     0.85946,     0.85946,     0.85946,     0.85946,     0.85946,     0.85946,     0.85946,     0.85946,     0.85946,     0.85946,     0.85946,     0.85946,\n",
              "            0.85946,     0.85946,     0.85946,     0.85946,     0.85946,     0.85946,     0.85946,     0.85946,     0.85946,     0.85946,     0.85946,     0.85946,     0.85946,     0.85846,     0.85405,     0.85405,     0.85405,     0.85405,     0.85405,     0.85405,     0.85405,     0.85405,     0.85405,\n",
              "            0.85405,     0.85405,     0.85405,     0.85405,     0.85405,     0.85405,     0.85405,     0.85405,     0.85405,     0.85405,     0.85405,     0.85405,     0.85405,     0.85405,     0.85405,     0.85405,     0.85405,     0.85405,     0.85405,     0.85405,     0.85405,     0.85405,     0.85405,\n",
              "            0.85405,     0.85405,     0.85405,     0.85405,     0.85405,     0.85405,     0.85405,     0.85405,     0.85405,     0.85405,     0.85405,     0.85405,     0.85362,     0.85306,     0.85251,     0.85195,      0.8514,     0.85084,     0.85029,     0.84974,     0.84918,     0.84865,     0.84857,\n",
              "            0.84849,     0.84841,     0.84833,     0.84826,     0.84818,      0.8481,     0.84802,     0.84794,     0.84787,     0.84779,     0.84771,     0.84763,     0.84755,     0.84748,      0.8474,     0.84732,     0.84724,     0.84716,     0.84709,     0.84701,     0.84693,     0.84685,     0.84677,\n",
              "            0.84669,     0.84662,     0.84654,     0.84646,     0.84638,      0.8463,     0.84623,     0.84615,     0.84607,     0.84599,     0.84591,     0.84584,     0.84576,     0.84568,      0.8456,     0.84552,     0.84545,     0.84537,     0.84529,     0.84521,     0.84513,     0.84506,     0.84498,\n",
              "             0.8449,     0.84482,     0.84474,     0.84467,     0.84459,     0.84451,     0.84443,     0.84435,     0.84428,      0.8442,     0.84412,     0.84404,     0.84396,     0.84389,     0.84381,     0.84373,     0.84365,     0.84357,      0.8435,     0.84342,     0.84334,     0.84326,     0.83898,\n",
              "            0.83773,      0.8376,     0.83746,     0.83733,     0.83719,     0.83705,     0.83692,     0.83678,     0.83665,     0.83651,     0.83638,     0.83624,     0.83611,     0.83597,     0.83584,      0.8357,     0.83557,     0.83543,      0.8353,     0.83516,     0.83503,     0.83489,     0.83476,\n",
              "            0.83462,     0.83449,     0.83435,     0.83422,     0.83408,     0.83395,     0.83381,     0.83368,     0.83354,     0.83341,     0.83327,     0.83314,       0.833,     0.83287,     0.83273,      0.8326,     0.83246,     0.83243,     0.83243,     0.83243,     0.83243,     0.83243,     0.83231,\n",
              "            0.83203,     0.83174,     0.83146,     0.83117,     0.83089,     0.83061,     0.83032,     0.83004,     0.82975,     0.82947,     0.82918,      0.8289,     0.82862,     0.82833,     0.82805,     0.82776,     0.82748,      0.8272,     0.82703,     0.82703,     0.82703,     0.82703,     0.82703,\n",
              "            0.82703,     0.82703,     0.82703,     0.82703,     0.82703,     0.82703,     0.82703,     0.82703,     0.82703,     0.82703,     0.82703,     0.82703,     0.82703,     0.82703,     0.82703,     0.82703,     0.82703,     0.82703,     0.82703,     0.82703,     0.82703,     0.82703,     0.82703,\n",
              "            0.82703,     0.82703,     0.82703,     0.82703,     0.82703,     0.82703,     0.82703,     0.82703,     0.82703,     0.82703,     0.82703,     0.82703,     0.82703,     0.82703,     0.82703,     0.82703,     0.82703,     0.82703,     0.82703,     0.82703,     0.82703,     0.82692,     0.82613,\n",
              "            0.82533,     0.82454,     0.82375,     0.82296,     0.82217,     0.82048,     0.81679,     0.81622,     0.81622,     0.81622,     0.81622,     0.81622,      0.8105,     0.80985,     0.80919,     0.80854,     0.80789,     0.80724,     0.80659,     0.80594,     0.80511,     0.80353,     0.80194,\n",
              "            0.80036,     0.79878,     0.79719,     0.79561,     0.79403,     0.79244,     0.79086,     0.78928,     0.78745,      0.7856,     0.78376,     0.78266,     0.78155,     0.78044,     0.77933,     0.77259,     0.76982,     0.76147,     0.75777,     0.74867,     0.74013,     0.73854,     0.73696,\n",
              "            0.73538,      0.7342,     0.73309,     0.73198,     0.73087,     0.72976,     0.72794,     0.72609,     0.72432,     0.72432,     0.72432,     0.72432,     0.72201,      0.7075,     0.70381,     0.70011,     0.69642,     0.69273,     0.69103,     0.68993,     0.68882,     0.68771,      0.6866,\n",
              "            0.67777,     0.67408,     0.67038,     0.66307,     0.66123,     0.65938,     0.65753,     0.65569,     0.64303,     0.64118,     0.63934,     0.63749,     0.63564,      0.6338,     0.61525,     0.61155,     0.60541,     0.59336,     0.58966,     0.58597,     0.56606,     0.56236,     0.55867,\n",
              "            0.53876,     0.51885,     0.51516,     0.50606,     0.49679,     0.46444,     0.46074,     0.45164,     0.44795,     0.44426,     0.43243,     0.43146,     0.42777,     0.41622,     0.39273,     0.38245,     0.37876,     0.35885,     0.34975,     0.34606,     0.31895,     0.30443,     0.30074,\n",
              "            0.29705,     0.29335,     0.26692,     0.24092,     0.23182,     0.22813,     0.22314,     0.21894,     0.20984,     0.20614,     0.19016,     0.17533,     0.15002,     0.14632,     0.13557,     0.12092,     0.10557,    0.091223,    0.089838,    0.088453,    0.087067,     0.08327,    0.073441,\n",
              "           0.058675,    0.048035,    0.044342,    0.036281,    0.034064,    0.026443,    0.024226,     0.02201,    0.020316,    0.018733,     0.01715,    0.013944,           0,           0,           0,           0,           0,           0,           0,           0,           0,           0,           0,\n",
              "                  0,           0,           0,           0,           0,           0,           0,           0,           0,           0,           0,           0,           0,           0,           0,           0,           0,           0,           0,           0,           0,           0,           0,\n",
              "                  0,           0,           0,           0,           0,           0,           0,           0,           0,           0,           0,           0,           0,           0,           0,           0,           0,           0,           0,           0,           0,           0,           0,\n",
              "                  0,           0,           0,           0,           0,           0,           0,           0,           0,           0,           0,           0,           0,           0,           0,           0,           0,           0,           0,           0,           0,           0,           0,\n",
              "                  0,           0,           0,           0,           0,           0,           0,           0,           0,           0,           0,           0,           0,           0,           0,           0,           0,           0,           0,           0,           0,           0,           0,\n",
              "                  0,           0,           0,           0,           0,           0,           0,           0,           0,           0,           0,           0,           0,           0,           0,           0,           0,           0,           0,           0,           0,           0,           0,\n",
              "                  0,           0,           0,           0,           0,           0,           0,           0,           0,           0,           0,           0,           0,           0,           0,           0,           0,           0,           0,           0,           0,           0,           0,\n",
              "                  0,           0,           0,           0,           0,           0,           0,           0,           0,           0,           0,           0,           0,           0,           0,           0,           0,           0,           0,           0,           0,           0,           0,\n",
              "                  0,           0,           0,           0,           0,           0,           0,           0,           0,           0,           0]]), 'Confidence', 'Recall']]\n",
              "fitness: np.float64(0.5358654300647155)\n",
              "keys: ['metrics/precision(B)', 'metrics/recall(B)', 'metrics/mAP50(B)', 'metrics/mAP50-95(B)']\n",
              "maps: array([    0.49448])\n",
              "names: {0: 'seal'}\n",
              "nt_per_class: array([185])\n",
              "nt_per_image: array([170])\n",
              "results_dict: {'metrics/precision(B)': np.float64(0.9254864345279415), 'metrics/recall(B)': np.float64(0.87279082385689), 'metrics/mAP50(B)': np.float64(0.9083651721090481), 'metrics/mAP50-95(B)': np.float64(0.4944765698375675), 'fitness': np.float64(0.5358654300647155)}\n",
              "save_dir: PosixPath('ProSeal/seals2')\n",
              "speed: {'preprocess': 0.12739701259110892, 'inference': 0.7827937688840112, 'loss': 0.000190265387932308, 'postprocess': 0.2187287921665727}\n",
              "stats: {'tp': [], 'conf': [], 'pred_cls': [], 'target_cls': [], 'target_img': []}\n",
              "task: 'detect'"
            ]
          },
          "execution_count": 2,
          "metadata": {},
          "output_type": "execute_result"
        }
      ],
      "source": [
        "model.train(\n",
        "    project=\"ProSeal\",\n",
        "    name=\"seals\",\n",
        "    data=\"/content/export_yolov8/data.yaml\",  # Asegúrate de que data.yaml use rutas correctas para Colab\n",
        "    epochs=120,                                                # Número total de épocas (pasadas completas por el dataset de entrenamiento)\n",
        "    imgsz=640,                                                  # Tamaño de la imagen (se reescala a 640x640)\n",
        "    batch=32,                                                   # Número de imágenes por batch\n",
        "    lr0=0.0001,                                                 # Tasa de aprendizaje inicial. Un valor mayor hace que los pesos se actualicen más rápido, pero puede inestabilizar el entrenamiento.\n",
        "    momentum=0.937,                                             # Momentum para el optimizador (por ejemplo, en SGD)endizaje y otros parámetros (como el momentum) se ajustan gradualmente.    Esto ayuda a estabilizar el entrenamiento y a evitar que el modelo se desvíe demasiado al principio.\n",
        "    warmup_momentum=0.8,                                        # La fase de \"warmup\" es un período inicial en el que la tasa de apr\n",
        "    optimizer=\"adamw\",                                          # Se usa AdamW (una variante de Adam que incorpora weight decay para evitar sobreajuste)\n",
        "    weight_decay=0.002,                                         # Penalización sobre los pesos para prevenir sobreajuste. Si es muy alto, pdificultar euede l aprendizaje; si es muy bajo, el modelo puede sobreajustarse.                                          # Se usa AdamW (una variante de Adam que incorpora weight decay para evitar sobreajuste)\n",
        "    #augment=False,                                             # Desactiva el data augmentation on the fly de YOLO##############  asi puedo hacer yo la data augmentation con las fotos con labels\n",
        "    half=True,                                                  # Activa precisión mixta (FP16) para GPU\n",
        "    workers=8,                                                  # Número de workers para el DataLoader\n",
        "    device='cuda' ,                                             # Fuerza el uso de GPU lo que acelera el entrenamiento\n",
        "    mosaic=1,                                                   # Desactivar si las imágenes son muy homogéneas, es un data augmentation process\n",
        "    #resume=True,                                               # PARA seguir entrenamiento donde lo dejaste\n",
        "    #validate=False                                             # para no hacer validación a la vez que entrena\n",
        "    patience=13,                                                # epochs extra desde que converge para ver si aprende , si no aprende en 3 epochs más, se para. si tras \"X\" epochs la métrica val/best_map_50 no mejora, se detiene el entrenamiento automáticamente.\n",
        "    cos_lr=True,                                                # scheduler\n",
        "    plots=True,                                                 # generar gráficas de plots de learning rate\n",
        "    #wandb=True,                                                # Activa integración con W&B\n",
        "    #copy_paste=True,\n",
        "    dfl= 1.75,\n",
        "    warmup_epochs= 4,\n",
        "    lrf= 0.01,\n",
        "    flipud= 0.3,\n",
        "    degrees=10,\n",
        "    seed=42\n",
        ")"
      ]
    },
    {
      "cell_type": "markdown",
      "metadata": {
        "id": "XhY4ZXWY7I2S"
      },
      "source": [
        "## **5. Save the model**\n",
        "\n",
        "In my case, I save on Google Drive"
      ]
    },
    {
      "cell_type": "code",
      "execution_count": 3,
      "metadata": {
        "colab": {
          "base_uri": "https://localhost:8080/"
        },
        "id": "iBSWPatloIgl",
        "outputId": "a98780df-c106-44d2-f6eb-14a8ae3c042a"
      },
      "outputs": [
        {
          "name": "stdout",
          "output_type": "stream",
          "text": [
            "seals2\n"
          ]
        }
      ],
      "source": [
        "\n",
        "dest_folder = \"/content/drive/MyDrive/ProSeal/train\"\n",
        "!mkdir -p \"{dest_folder}\"                                                           #El comando mkdir -p crea esa carpeta (y cualquier subcarpeta necesaria) si no existe.\n",
        "\n",
        "# Copia la carpeta de resultados (ajusta el nombre según el que se haya generado)\n",
        "!cp -r /content/ProSeal/seals2 \"{dest_folder}/\"   #copiar los reultados del modelo en drive\n",
        "\n",
        "# Comprueba que se copiaron los archivos (opcional)\n",
        "!ls \"{dest_folder}\"                                                                 #verifica que los archivos se han copiado correctamente\n",
        "\n"
      ]
    },
    {
      "cell_type": "markdown",
      "metadata": {
        "id": "w3x7xqe9cdvB"
      },
      "source": [
        "# **6. Validation:**\n",
        "\n",
        "Assess the results with the validation set"
      ]
    },
    {
      "cell_type": "markdown",
      "metadata": {
        "id": "lLCZhUpz7x51"
      },
      "source": [
        "# 6.1 Validation in Ultralytics"
      ]
    },
    {
      "cell_type": "code",
      "execution_count": 4,
      "metadata": {
        "colab": {
          "base_uri": "https://localhost:8080/"
        },
        "id": "KlXCo9lAunRQ",
        "outputId": "1d8ccd8b-3346-41e4-b122-bbe2c3b95c8d"
      },
      "outputs": [
        {
          "name": "stdout",
          "output_type": "stream",
          "text": [
            "Ultralytics 8.3.174 🚀 Python-3.11.13 torch-2.6.0+cu124 CUDA:0 (NVIDIA A100-SXM4-40GB, 40507MiB)\n",
            "Model summary (fused): 72 layers, 11,125,971 parameters, 0 gradients, 28.4 GFLOPs\n",
            "\u001b[34m\u001b[1mval: \u001b[0mFast image access ✅ (ping: 0.0±0.0 ms, read: 828.5±477.0 MB/s, size: 46.1 KB)\n"
          ]
        },
        {
          "name": "stderr",
          "output_type": "stream",
          "text": [
            "\u001b[34m\u001b[1mval: \u001b[0mScanning /content/export_yolov8/valid/labels.cache... 10008 images, 9838 backgrounds, 0 corrupt: 100%|██████████| 10008/10008 [00:00<?, ?it/s]\n",
            "                 Class     Images  Instances      Box(P          R      mAP50  mAP50-95): 100%|██████████| 626/626 [00:19<00:00, 31.43it/s]\n"
          ]
        },
        {
          "name": "stdout",
          "output_type": "stream",
          "text": [
            "                   all      10008        185      0.934      0.846      0.905        0.5\n",
            "Speed: 0.2ms preprocess, 1.2ms inference, 0.0ms loss, 0.2ms postprocess per image\n",
            "Results saved to \u001b[1mruns/detect/val\u001b[0m\n",
            "Métricas de validación: ultralytics.utils.metrics.DetMetrics object with attributes:\n",
            "\n",
            "ap_class_index: array([0])\n",
            "box: ultralytics.utils.metrics.Metric object\n",
            "confusion_matrix: <ultralytics.utils.metrics.ConfusionMatrix object at 0x797f261ba750>\n",
            "curves: ['Precision-Recall(B)', 'F1-Confidence(B)', 'Precision-Confidence(B)', 'Recall-Confidence(B)']\n",
            "curves_results: [[array([          0,    0.001001,    0.002002,    0.003003,    0.004004,    0.005005,    0.006006,    0.007007,    0.008008,    0.009009,     0.01001,    0.011011,    0.012012,    0.013013,    0.014014,    0.015015,    0.016016,    0.017017,    0.018018,    0.019019,     0.02002,    0.021021,    0.022022,    0.023023,\n",
            "          0.024024,    0.025025,    0.026026,    0.027027,    0.028028,    0.029029,     0.03003,    0.031031,    0.032032,    0.033033,    0.034034,    0.035035,    0.036036,    0.037037,    0.038038,    0.039039,     0.04004,    0.041041,    0.042042,    0.043043,    0.044044,    0.045045,    0.046046,    0.047047,\n",
            "          0.048048,    0.049049,     0.05005,    0.051051,    0.052052,    0.053053,    0.054054,    0.055055,    0.056056,    0.057057,    0.058058,    0.059059,     0.06006,    0.061061,    0.062062,    0.063063,    0.064064,    0.065065,    0.066066,    0.067067,    0.068068,    0.069069,     0.07007,    0.071071,\n",
            "          0.072072,    0.073073,    0.074074,    0.075075,    0.076076,    0.077077,    0.078078,    0.079079,     0.08008,    0.081081,    0.082082,    0.083083,    0.084084,    0.085085,    0.086086,    0.087087,    0.088088,    0.089089,     0.09009,    0.091091,    0.092092,    0.093093,    0.094094,    0.095095,\n",
            "          0.096096,    0.097097,    0.098098,    0.099099,      0.1001,      0.1011,      0.1021,      0.1031,      0.1041,     0.10511,     0.10611,     0.10711,     0.10811,     0.10911,     0.11011,     0.11111,     0.11211,     0.11311,     0.11411,     0.11512,     0.11612,     0.11712,     0.11812,     0.11912,\n",
            "           0.12012,     0.12112,     0.12212,     0.12312,     0.12412,     0.12513,     0.12613,     0.12713,     0.12813,     0.12913,     0.13013,     0.13113,     0.13213,     0.13313,     0.13413,     0.13514,     0.13614,     0.13714,     0.13814,     0.13914,     0.14014,     0.14114,     0.14214,     0.14314,\n",
            "           0.14414,     0.14515,     0.14615,     0.14715,     0.14815,     0.14915,     0.15015,     0.15115,     0.15215,     0.15315,     0.15415,     0.15516,     0.15616,     0.15716,     0.15816,     0.15916,     0.16016,     0.16116,     0.16216,     0.16316,     0.16416,     0.16517,     0.16617,     0.16717,\n",
            "           0.16817,     0.16917,     0.17017,     0.17117,     0.17217,     0.17317,     0.17417,     0.17518,     0.17618,     0.17718,     0.17818,     0.17918,     0.18018,     0.18118,     0.18218,     0.18318,     0.18418,     0.18519,     0.18619,     0.18719,     0.18819,     0.18919,     0.19019,     0.19119,\n",
            "           0.19219,     0.19319,     0.19419,      0.1952,      0.1962,      0.1972,      0.1982,      0.1992,      0.2002,      0.2012,      0.2022,      0.2032,      0.2042,     0.20521,     0.20621,     0.20721,     0.20821,     0.20921,     0.21021,     0.21121,     0.21221,     0.21321,     0.21421,     0.21522,\n",
            "           0.21622,     0.21722,     0.21822,     0.21922,     0.22022,     0.22122,     0.22222,     0.22322,     0.22422,     0.22523,     0.22623,     0.22723,     0.22823,     0.22923,     0.23023,     0.23123,     0.23223,     0.23323,     0.23423,     0.23524,     0.23624,     0.23724,     0.23824,     0.23924,\n",
            "           0.24024,     0.24124,     0.24224,     0.24324,     0.24424,     0.24525,     0.24625,     0.24725,     0.24825,     0.24925,     0.25025,     0.25125,     0.25225,     0.25325,     0.25425,     0.25526,     0.25626,     0.25726,     0.25826,     0.25926,     0.26026,     0.26126,     0.26226,     0.26326,\n",
            "           0.26426,     0.26527,     0.26627,     0.26727,     0.26827,     0.26927,     0.27027,     0.27127,     0.27227,     0.27327,     0.27427,     0.27528,     0.27628,     0.27728,     0.27828,     0.27928,     0.28028,     0.28128,     0.28228,     0.28328,     0.28428,     0.28529,     0.28629,     0.28729,\n",
            "           0.28829,     0.28929,     0.29029,     0.29129,     0.29229,     0.29329,     0.29429,      0.2953,      0.2963,      0.2973,      0.2983,      0.2993,      0.3003,      0.3013,      0.3023,      0.3033,      0.3043,     0.30531,     0.30631,     0.30731,     0.30831,     0.30931,     0.31031,     0.31131,\n",
            "           0.31231,     0.31331,     0.31431,     0.31532,     0.31632,     0.31732,     0.31832,     0.31932,     0.32032,     0.32132,     0.32232,     0.32332,     0.32432,     0.32533,     0.32633,     0.32733,     0.32833,     0.32933,     0.33033,     0.33133,     0.33233,     0.33333,     0.33433,     0.33534,\n",
            "           0.33634,     0.33734,     0.33834,     0.33934,     0.34034,     0.34134,     0.34234,     0.34334,     0.34434,     0.34535,     0.34635,     0.34735,     0.34835,     0.34935,     0.35035,     0.35135,     0.35235,     0.35335,     0.35435,     0.35536,     0.35636,     0.35736,     0.35836,     0.35936,\n",
            "           0.36036,     0.36136,     0.36236,     0.36336,     0.36436,     0.36537,     0.36637,     0.36737,     0.36837,     0.36937,     0.37037,     0.37137,     0.37237,     0.37337,     0.37437,     0.37538,     0.37638,     0.37738,     0.37838,     0.37938,     0.38038,     0.38138,     0.38238,     0.38338,\n",
            "           0.38438,     0.38539,     0.38639,     0.38739,     0.38839,     0.38939,     0.39039,     0.39139,     0.39239,     0.39339,     0.39439,      0.3954,      0.3964,      0.3974,      0.3984,      0.3994,      0.4004,      0.4014,      0.4024,      0.4034,      0.4044,     0.40541,     0.40641,     0.40741,\n",
            "           0.40841,     0.40941,     0.41041,     0.41141,     0.41241,     0.41341,     0.41441,     0.41542,     0.41642,     0.41742,     0.41842,     0.41942,     0.42042,     0.42142,     0.42242,     0.42342,     0.42442,     0.42543,     0.42643,     0.42743,     0.42843,     0.42943,     0.43043,     0.43143,\n",
            "           0.43243,     0.43343,     0.43443,     0.43544,     0.43644,     0.43744,     0.43844,     0.43944,     0.44044,     0.44144,     0.44244,     0.44344,     0.44444,     0.44545,     0.44645,     0.44745,     0.44845,     0.44945,     0.45045,     0.45145,     0.45245,     0.45345,     0.45445,     0.45546,\n",
            "           0.45646,     0.45746,     0.45846,     0.45946,     0.46046,     0.46146,     0.46246,     0.46346,     0.46446,     0.46547,     0.46647,     0.46747,     0.46847,     0.46947,     0.47047,     0.47147,     0.47247,     0.47347,     0.47447,     0.47548,     0.47648,     0.47748,     0.47848,     0.47948,\n",
            "           0.48048,     0.48148,     0.48248,     0.48348,     0.48448,     0.48549,     0.48649,     0.48749,     0.48849,     0.48949,     0.49049,     0.49149,     0.49249,     0.49349,     0.49449,      0.4955,      0.4965,      0.4975,      0.4985,      0.4995,      0.5005,      0.5015,      0.5025,      0.5035,\n",
            "            0.5045,     0.50551,     0.50651,     0.50751,     0.50851,     0.50951,     0.51051,     0.51151,     0.51251,     0.51351,     0.51451,     0.51552,     0.51652,     0.51752,     0.51852,     0.51952,     0.52052,     0.52152,     0.52252,     0.52352,     0.52452,     0.52553,     0.52653,     0.52753,\n",
            "           0.52853,     0.52953,     0.53053,     0.53153,     0.53253,     0.53353,     0.53453,     0.53554,     0.53654,     0.53754,     0.53854,     0.53954,     0.54054,     0.54154,     0.54254,     0.54354,     0.54454,     0.54555,     0.54655,     0.54755,     0.54855,     0.54955,     0.55055,     0.55155,\n",
            "           0.55255,     0.55355,     0.55455,     0.55556,     0.55656,     0.55756,     0.55856,     0.55956,     0.56056,     0.56156,     0.56256,     0.56356,     0.56456,     0.56557,     0.56657,     0.56757,     0.56857,     0.56957,     0.57057,     0.57157,     0.57257,     0.57357,     0.57457,     0.57558,\n",
            "           0.57658,     0.57758,     0.57858,     0.57958,     0.58058,     0.58158,     0.58258,     0.58358,     0.58458,     0.58559,     0.58659,     0.58759,     0.58859,     0.58959,     0.59059,     0.59159,     0.59259,     0.59359,     0.59459,      0.5956,      0.5966,      0.5976,      0.5986,      0.5996,\n",
            "            0.6006,      0.6016,      0.6026,      0.6036,      0.6046,     0.60561,     0.60661,     0.60761,     0.60861,     0.60961,     0.61061,     0.61161,     0.61261,     0.61361,     0.61461,     0.61562,     0.61662,     0.61762,     0.61862,     0.61962,     0.62062,     0.62162,     0.62262,     0.62362,\n",
            "           0.62462,     0.62563,     0.62663,     0.62763,     0.62863,     0.62963,     0.63063,     0.63163,     0.63263,     0.63363,     0.63463,     0.63564,     0.63664,     0.63764,     0.63864,     0.63964,     0.64064,     0.64164,     0.64264,     0.64364,     0.64464,     0.64565,     0.64665,     0.64765,\n",
            "           0.64865,     0.64965,     0.65065,     0.65165,     0.65265,     0.65365,     0.65465,     0.65566,     0.65666,     0.65766,     0.65866,     0.65966,     0.66066,     0.66166,     0.66266,     0.66366,     0.66466,     0.66567,     0.66667,     0.66767,     0.66867,     0.66967,     0.67067,     0.67167,\n",
            "           0.67267,     0.67367,     0.67467,     0.67568,     0.67668,     0.67768,     0.67868,     0.67968,     0.68068,     0.68168,     0.68268,     0.68368,     0.68468,     0.68569,     0.68669,     0.68769,     0.68869,     0.68969,     0.69069,     0.69169,     0.69269,     0.69369,     0.69469,      0.6957,\n",
            "            0.6967,      0.6977,      0.6987,      0.6997,      0.7007,      0.7017,      0.7027,      0.7037,      0.7047,     0.70571,     0.70671,     0.70771,     0.70871,     0.70971,     0.71071,     0.71171,     0.71271,     0.71371,     0.71471,     0.71572,     0.71672,     0.71772,     0.71872,     0.71972,\n",
            "           0.72072,     0.72172,     0.72272,     0.72372,     0.72472,     0.72573,     0.72673,     0.72773,     0.72873,     0.72973,     0.73073,     0.73173,     0.73273,     0.73373,     0.73473,     0.73574,     0.73674,     0.73774,     0.73874,     0.73974,     0.74074,     0.74174,     0.74274,     0.74374,\n",
            "           0.74474,     0.74575,     0.74675,     0.74775,     0.74875,     0.74975,     0.75075,     0.75175,     0.75275,     0.75375,     0.75475,     0.75576,     0.75676,     0.75776,     0.75876,     0.75976,     0.76076,     0.76176,     0.76276,     0.76376,     0.76476,     0.76577,     0.76677,     0.76777,\n",
            "           0.76877,     0.76977,     0.77077,     0.77177,     0.77277,     0.77377,     0.77477,     0.77578,     0.77678,     0.77778,     0.77878,     0.77978,     0.78078,     0.78178,     0.78278,     0.78378,     0.78478,     0.78579,     0.78679,     0.78779,     0.78879,     0.78979,     0.79079,     0.79179,\n",
            "           0.79279,     0.79379,     0.79479,      0.7958,      0.7968,      0.7978,      0.7988,      0.7998,      0.8008,      0.8018,      0.8028,      0.8038,      0.8048,     0.80581,     0.80681,     0.80781,     0.80881,     0.80981,     0.81081,     0.81181,     0.81281,     0.81381,     0.81481,     0.81582,\n",
            "           0.81682,     0.81782,     0.81882,     0.81982,     0.82082,     0.82182,     0.82282,     0.82382,     0.82482,     0.82583,     0.82683,     0.82783,     0.82883,     0.82983,     0.83083,     0.83183,     0.83283,     0.83383,     0.83483,     0.83584,     0.83684,     0.83784,     0.83884,     0.83984,\n",
            "           0.84084,     0.84184,     0.84284,     0.84384,     0.84484,     0.84585,     0.84685,     0.84785,     0.84885,     0.84985,     0.85085,     0.85185,     0.85285,     0.85385,     0.85485,     0.85586,     0.85686,     0.85786,     0.85886,     0.85986,     0.86086,     0.86186,     0.86286,     0.86386,\n",
            "           0.86486,     0.86587,     0.86687,     0.86787,     0.86887,     0.86987,     0.87087,     0.87187,     0.87287,     0.87387,     0.87487,     0.87588,     0.87688,     0.87788,     0.87888,     0.87988,     0.88088,     0.88188,     0.88288,     0.88388,     0.88488,     0.88589,     0.88689,     0.88789,\n",
            "           0.88889,     0.88989,     0.89089,     0.89189,     0.89289,     0.89389,     0.89489,      0.8959,      0.8969,      0.8979,      0.8989,      0.8999,      0.9009,      0.9019,      0.9029,      0.9039,      0.9049,     0.90591,     0.90691,     0.90791,     0.90891,     0.90991,     0.91091,     0.91191,\n",
            "           0.91291,     0.91391,     0.91491,     0.91592,     0.91692,     0.91792,     0.91892,     0.91992,     0.92092,     0.92192,     0.92292,     0.92392,     0.92492,     0.92593,     0.92693,     0.92793,     0.92893,     0.92993,     0.93093,     0.93193,     0.93293,     0.93393,     0.93493,     0.93594,\n",
            "           0.93694,     0.93794,     0.93894,     0.93994,     0.94094,     0.94194,     0.94294,     0.94394,     0.94494,     0.94595,     0.94695,     0.94795,     0.94895,     0.94995,     0.95095,     0.95195,     0.95295,     0.95395,     0.95495,     0.95596,     0.95696,     0.95796,     0.95896,     0.95996,\n",
            "           0.96096,     0.96196,     0.96296,     0.96396,     0.96496,     0.96597,     0.96697,     0.96797,     0.96897,     0.96997,     0.97097,     0.97197,     0.97297,     0.97397,     0.97497,     0.97598,     0.97698,     0.97798,     0.97898,     0.97998,     0.98098,     0.98198,     0.98298,     0.98398,\n",
            "           0.98498,     0.98599,     0.98699,     0.98799,     0.98899,     0.98999,     0.99099,     0.99199,     0.99299,     0.99399,     0.99499,       0.996,       0.997,       0.998,       0.999,           1]), array([[          1,           1,           1,           1,           1,           1,           1,           1,           1,           1,           1,           1,           1,           1,           1,           1,           1,           1,           1,           1,           1,           1,           1,\n",
            "                  1,           1,           1,           1,           1,           1,           1,           1,           1,           1,           1,           1,           1,           1,           1,           1,           1,           1,           1,           1,           1,           1,           1,\n",
            "                  1,           1,           1,           1,           1,           1,           1,           1,           1,           1,           1,           1,           1,           1,           1,           1,           1,           1,           1,           1,           1,           1,           1,\n",
            "                  1,           1,           1,           1,           1,           1,           1,           1,           1,           1,           1,           1,           1,           1,           1,           1,           1,           1,           1,           1,           1,           1,           1,\n",
            "                  1,           1,           1,           1,           1,           1,           1,           1,           1,           1,           1,           1,           1,           1,           1,           1,           1,           1,           1,           1,           1,           1,           1,\n",
            "                  1,           1,           1,           1,           1,           1,           1,           1,           1,           1,           1,           1,           1,           1,           1,           1,           1,           1,           1,           1,           1,           1,           1,\n",
            "                  1,           1,           1,           1,           1,           1,           1,           1,           1,           1,           1,           1,           1,           1,           1,           1,           1,           1,           1,           1,           1,           1,           1,\n",
            "                  1,           1,           1,           1,           1,           1,           1,           1,           1,           1,           1,           1,           1,           1,           1,           1,           1,           1,           1,           1,           1,           1,           1,\n",
            "                  1,           1,           1,           1,           1,           1,           1,           1,           1,           1,           1,           1,           1,           1,           1,           1,           1,           1,           1,           1,           1,           1,           1,\n",
            "                  1,           1,           1,           1,           1,           1,           1,           1,           1,           1,           1,           1,           1,           1,           1,           1,           1,           1,           1,           1,           1,           1,           1,\n",
            "                  1,           1,           1,           1,           1,           1,           1,           1,           1,           1,           1,           1,           1,           1,           1,           1,           1,           1,           1,           1,           1,           1,           1,\n",
            "                  1,           1,           1,           1,           1,           1,           1,        0.98,        0.98,        0.98,        0.98,        0.98,     0.97674,     0.97674,     0.97674,     0.97674,     0.97674,     0.97674,     0.97674,     0.97674,     0.97674,     0.97674,     0.97674,\n",
            "            0.97674,     0.97674,     0.97674,     0.97674,     0.97674,     0.97674,     0.97674,     0.97674,     0.97674,     0.97674,     0.97674,     0.97674,     0.97674,     0.97674,     0.97674,     0.97674,     0.97674,     0.97674,     0.97674,     0.97674,     0.97674,     0.97674,     0.97674,\n",
            "            0.97674,     0.97674,     0.97674,     0.97674,     0.97674,     0.97674,     0.97674,     0.97674,     0.97674,     0.97674,     0.97674,     0.97674,     0.97674,     0.97674,     0.97674,     0.97674,     0.97674,     0.97674,     0.97674,     0.97674,     0.97674,     0.97674,     0.97674,\n",
            "            0.97674,     0.97674,     0.97674,     0.97674,     0.97674,     0.97674,     0.97674,     0.97674,     0.97674,     0.97674,     0.97674,     0.97674,     0.97674,     0.97674,     0.97674,     0.97674,     0.97674,     0.97674,     0.97674,     0.97674,     0.97674,     0.97674,     0.97674,\n",
            "            0.97674,     0.97674,     0.97674,     0.97674,     0.97674,     0.97674,     0.97674,     0.97674,     0.97674,     0.97674,     0.97674,     0.97674,     0.97674,     0.97674,     0.97674,     0.97674,     0.97674,     0.97674,     0.97674,     0.97674,     0.97674,     0.97674,     0.97674,\n",
            "            0.97674,     0.97674,     0.97674,     0.97674,     0.97674,     0.97674,     0.97674,     0.97674,     0.97674,     0.97674,     0.97674,     0.97674,     0.97674,     0.97674,     0.97674,     0.97674,     0.97674,     0.97674,     0.97674,     0.97674,     0.97674,     0.97674,     0.97674,\n",
            "            0.97674,     0.97674,     0.97674,     0.97674,     0.97674,     0.97674,     0.97674,     0.97674,     0.97674,     0.97674,     0.97674,     0.97674,     0.97674,     0.97674,     0.97674,     0.97674,     0.97674,     0.97674,     0.97674,     0.97674,     0.97674,     0.97674,     0.97674,\n",
            "            0.97674,     0.97674,     0.97674,     0.97674,     0.97674,     0.97674,     0.97674,     0.97674,     0.97674,     0.97674,     0.97674,     0.97674,     0.97674,     0.97674,     0.97674,     0.97674,     0.97674,     0.97674,     0.97674,     0.97674,     0.97674,     0.97674,     0.97674,\n",
            "            0.97674,     0.97674,     0.97674,     0.97674,     0.97674,     0.97674,     0.97674,     0.97674,     0.97674,     0.97674,     0.97674,     0.97674,     0.97674,     0.97674,     0.97674,     0.97674,     0.97674,     0.97297,     0.97297,     0.97297,     0.97297,     0.97297,     0.97297,\n",
            "            0.97297,     0.97297,     0.97297,     0.97297,     0.97297,     0.97297,     0.97297,     0.97297,     0.97297,     0.97297,     0.97297,     0.97297,     0.97297,     0.97297,     0.97297,     0.97297,     0.97297,     0.97297,     0.97297,     0.97297,     0.97297,     0.97297,     0.97297,\n",
            "            0.97297,     0.97297,     0.97297,     0.97297,     0.97297,     0.97297,     0.97297,     0.97297,     0.97297,     0.97297,     0.97297,     0.97297,     0.97297,     0.97297,     0.97297,     0.97297,     0.97297,     0.97297,     0.97297,     0.97297,     0.97297,     0.97297,     0.97297,\n",
            "            0.97297,     0.97297,     0.97297,     0.97297,     0.97297,     0.97297,     0.97297,     0.97297,     0.97297,     0.97297,     0.97297,     0.97297,     0.97297,     0.97297,     0.97297,     0.97297,     0.97297,     0.97297,     0.97297,     0.97297,     0.97297,     0.97297,     0.97297,\n",
            "            0.97297,     0.97297,     0.97297,     0.97297,     0.97297,     0.97297,     0.97297,     0.97297,     0.97297,     0.97297,     0.97297,     0.97297,     0.97297,     0.97297,     0.97297,     0.97297,     0.97297,     0.97297,     0.97297,     0.97297,     0.97297,     0.97297,     0.97297,\n",
            "            0.97297,     0.97297,     0.97297,     0.97297,     0.97297,     0.97297,     0.97297,     0.97297,     0.97297,     0.97297,     0.97297,     0.97297,     0.97297,     0.97297,     0.97297,     0.97297,     0.97297,     0.97297,     0.97297,     0.97297,     0.97297,     0.97297,     0.97297,\n",
            "            0.97297,     0.97297,     0.97297,     0.97297,     0.97297,     0.97297,     0.97297,     0.97297,     0.97297,     0.97241,     0.97241,     0.97241,     0.97241,     0.97241,     0.97241,     0.97241,     0.97241,     0.97241,     0.97241,     0.97241,     0.97241,     0.97241,     0.97241,\n",
            "            0.97241,     0.97241,     0.97241,     0.97241,     0.97241,     0.97241,     0.97241,     0.97241,     0.97241,     0.97241,     0.97241,     0.97241,     0.97241,     0.97241,     0.97241,     0.97241,     0.97241,     0.97241,     0.97241,     0.97241,     0.97241,     0.97241,     0.97241,\n",
            "            0.97241,     0.97241,     0.97241,     0.97241,     0.97241,     0.97241,     0.97241,     0.97241,     0.97241,     0.97241,     0.97241,     0.97241,     0.97241,     0.97241,     0.97241,     0.97241,     0.97241,     0.97241,     0.97241,     0.97241,     0.97241,     0.97241,     0.97241,\n",
            "            0.97241,     0.97241,     0.97241,     0.97241,     0.97241,     0.97241,     0.97241,     0.97241,     0.97241,     0.97241,     0.97241,     0.97241,     0.97241,     0.97241,     0.97241,     0.97241,     0.97241,     0.97241,     0.97241,     0.97241,     0.97241,     0.97241,     0.97241,\n",
            "            0.97241,     0.97241,     0.97241,     0.97241,     0.97241,     0.97241,     0.97241,     0.97241,     0.97241,     0.97241,     0.97241,     0.97241,     0.97241,     0.97241,     0.97241,     0.97241,     0.97241,     0.97241,     0.97241,     0.97241,     0.97241,     0.97241,     0.97241,\n",
            "            0.97241,     0.97241,     0.97241,     0.97241,     0.97241,     0.97241,     0.97241,     0.97241,     0.97241,     0.97241,     0.97241,     0.97241,     0.97241,     0.97241,     0.97241,     0.97241,     0.97241,     0.97241,     0.97241,     0.97241,     0.97241,     0.97241,     0.97241,\n",
            "            0.97241,     0.97241,     0.97241,     0.97241,     0.97241,     0.97241,     0.97241,     0.97241,     0.97241,     0.97241,     0.97241,     0.97241,     0.97241,     0.97241,     0.97241,     0.97241,     0.97241,     0.97241,     0.97241,     0.97241,     0.97241,     0.97241,     0.97241,\n",
            "            0.97241,     0.97241,     0.97241,     0.97241,     0.97241,     0.97241,     0.97241,     0.97241,     0.97241,     0.97241,     0.97241,     0.97241,     0.97241,     0.97241,     0.97241,     0.97241,     0.97241,     0.97241,     0.97241,     0.97241,     0.97241,     0.97241,     0.97241,\n",
            "            0.97241,     0.97241,     0.97241,     0.96732,     0.96732,     0.96732,     0.96732,     0.96732,     0.96732,     0.96732,     0.96732,     0.96732,     0.96732,     0.96732,     0.96732,     0.96732,     0.96732,     0.96732,     0.96732,     0.96732,     0.96732,     0.96732,     0.96732,\n",
            "            0.96732,     0.96732,     0.96732,     0.96732,     0.96732,     0.96732,     0.96732,     0.96732,     0.96732,     0.96732,     0.96732,     0.96732,     0.96732,     0.96732,     0.96732,     0.96732,     0.96732,     0.96732,      0.9557,      0.9557,      0.9557,      0.9557,      0.9557,\n",
            "             0.9557,      0.9557,      0.9557,      0.9557,      0.9557,      0.9557,      0.9557,      0.9557,      0.9557,      0.9557,      0.9557,     0.93976,     0.93976,     0.93976,     0.93976,     0.93976,     0.93976,     0.93976,     0.93976,     0.93976,     0.93976,     0.93976,     0.93976,\n",
            "            0.93976,     0.93976,     0.93976,     0.93976,     0.93976,     0.93976,     0.93976,     0.93976,     0.93976,     0.93976,     0.93976,     0.93976,     0.93976,     0.93976,     0.93976,     0.93452,     0.93452,     0.93452,     0.93452,     0.93452,     0.87363,     0.87363,     0.87363,\n",
            "            0.87363,     0.87363,     0.87363,     0.87363,     0.87363,     0.87363,     0.87363,     0.87363,     0.87027,     0.87027,     0.87027,     0.87027,     0.87027,     0.87027,     0.87027,     0.87027,     0.87027,     0.87027,     0.87027,     0.86243,     0.86243,     0.86243,     0.86243,\n",
            "            0.86243,     0.86243,     0.86243,     0.86243,     0.86243,     0.86243,     0.86243,     0.84974,     0.84974,     0.84974,     0.84974,     0.84974,     0.78947,     0.78947,     0.78947,     0.78947,     0.78947,     0.74439,     0.74439,     0.74439,     0.74439,     0.74439,     0.74439,\n",
            "            0.62547,     0.62547,     0.62547,     0.62547,     0.62547,     0.62222,     0.62222,     0.62222,     0.62222,     0.62222,     0.62222,     0.60791,     0.60791,     0.60791,     0.60791,     0.60791,     0.55375,     0.55375,     0.55375,     0.55375,     0.55375,     0.55375,     0.49854,\n",
            "            0.49854,     0.49854,     0.49854,     0.49854,     0.49568,     0.49568,     0.49568,     0.49568,     0.49568,     0.46757,     0.46757,     0.46757,     0.46757,     0.46757,     0.46757,     0.38225,     0.37627,      0.3703,     0.36433,     0.35836,     0.35238,     0.34641,     0.34044,\n",
            "            0.33447,     0.32849,     0.32252,     0.31655,     0.31058,      0.3046,     0.29863,     0.29266,     0.28668,     0.28071,     0.27474,     0.26877,     0.26279,     0.25682,     0.25085,     0.24488,      0.2389,     0.23293,     0.22696,     0.22099,     0.21501,     0.20904,     0.20307,\n",
            "             0.1971,     0.19112,     0.18515,     0.17918,     0.17321,     0.16723,     0.16126,     0.15529,     0.14932,     0.14334,     0.13737,      0.1314,     0.12542,     0.11945,     0.11348,     0.10751,     0.10153,    0.095562,    0.089589,    0.083616,    0.077644,    0.071671,    0.065699,\n",
            "           0.059726,    0.053753,    0.047781,    0.041808,    0.035836,    0.029863,     0.02389,    0.017918,    0.011945,   0.0059726,           0]]), 'Recall', 'Precision'], [array([          0,    0.001001,    0.002002,    0.003003,    0.004004,    0.005005,    0.006006,    0.007007,    0.008008,    0.009009,     0.01001,    0.011011,    0.012012,    0.013013,    0.014014,    0.015015,    0.016016,    0.017017,    0.018018,    0.019019,     0.02002,    0.021021,    0.022022,    0.023023,\n",
            "          0.024024,    0.025025,    0.026026,    0.027027,    0.028028,    0.029029,     0.03003,    0.031031,    0.032032,    0.033033,    0.034034,    0.035035,    0.036036,    0.037037,    0.038038,    0.039039,     0.04004,    0.041041,    0.042042,    0.043043,    0.044044,    0.045045,    0.046046,    0.047047,\n",
            "          0.048048,    0.049049,     0.05005,    0.051051,    0.052052,    0.053053,    0.054054,    0.055055,    0.056056,    0.057057,    0.058058,    0.059059,     0.06006,    0.061061,    0.062062,    0.063063,    0.064064,    0.065065,    0.066066,    0.067067,    0.068068,    0.069069,     0.07007,    0.071071,\n",
            "          0.072072,    0.073073,    0.074074,    0.075075,    0.076076,    0.077077,    0.078078,    0.079079,     0.08008,    0.081081,    0.082082,    0.083083,    0.084084,    0.085085,    0.086086,    0.087087,    0.088088,    0.089089,     0.09009,    0.091091,    0.092092,    0.093093,    0.094094,    0.095095,\n",
            "          0.096096,    0.097097,    0.098098,    0.099099,      0.1001,      0.1011,      0.1021,      0.1031,      0.1041,     0.10511,     0.10611,     0.10711,     0.10811,     0.10911,     0.11011,     0.11111,     0.11211,     0.11311,     0.11411,     0.11512,     0.11612,     0.11712,     0.11812,     0.11912,\n",
            "           0.12012,     0.12112,     0.12212,     0.12312,     0.12412,     0.12513,     0.12613,     0.12713,     0.12813,     0.12913,     0.13013,     0.13113,     0.13213,     0.13313,     0.13413,     0.13514,     0.13614,     0.13714,     0.13814,     0.13914,     0.14014,     0.14114,     0.14214,     0.14314,\n",
            "           0.14414,     0.14515,     0.14615,     0.14715,     0.14815,     0.14915,     0.15015,     0.15115,     0.15215,     0.15315,     0.15415,     0.15516,     0.15616,     0.15716,     0.15816,     0.15916,     0.16016,     0.16116,     0.16216,     0.16316,     0.16416,     0.16517,     0.16617,     0.16717,\n",
            "           0.16817,     0.16917,     0.17017,     0.17117,     0.17217,     0.17317,     0.17417,     0.17518,     0.17618,     0.17718,     0.17818,     0.17918,     0.18018,     0.18118,     0.18218,     0.18318,     0.18418,     0.18519,     0.18619,     0.18719,     0.18819,     0.18919,     0.19019,     0.19119,\n",
            "           0.19219,     0.19319,     0.19419,      0.1952,      0.1962,      0.1972,      0.1982,      0.1992,      0.2002,      0.2012,      0.2022,      0.2032,      0.2042,     0.20521,     0.20621,     0.20721,     0.20821,     0.20921,     0.21021,     0.21121,     0.21221,     0.21321,     0.21421,     0.21522,\n",
            "           0.21622,     0.21722,     0.21822,     0.21922,     0.22022,     0.22122,     0.22222,     0.22322,     0.22422,     0.22523,     0.22623,     0.22723,     0.22823,     0.22923,     0.23023,     0.23123,     0.23223,     0.23323,     0.23423,     0.23524,     0.23624,     0.23724,     0.23824,     0.23924,\n",
            "           0.24024,     0.24124,     0.24224,     0.24324,     0.24424,     0.24525,     0.24625,     0.24725,     0.24825,     0.24925,     0.25025,     0.25125,     0.25225,     0.25325,     0.25425,     0.25526,     0.25626,     0.25726,     0.25826,     0.25926,     0.26026,     0.26126,     0.26226,     0.26326,\n",
            "           0.26426,     0.26527,     0.26627,     0.26727,     0.26827,     0.26927,     0.27027,     0.27127,     0.27227,     0.27327,     0.27427,     0.27528,     0.27628,     0.27728,     0.27828,     0.27928,     0.28028,     0.28128,     0.28228,     0.28328,     0.28428,     0.28529,     0.28629,     0.28729,\n",
            "           0.28829,     0.28929,     0.29029,     0.29129,     0.29229,     0.29329,     0.29429,      0.2953,      0.2963,      0.2973,      0.2983,      0.2993,      0.3003,      0.3013,      0.3023,      0.3033,      0.3043,     0.30531,     0.30631,     0.30731,     0.30831,     0.30931,     0.31031,     0.31131,\n",
            "           0.31231,     0.31331,     0.31431,     0.31532,     0.31632,     0.31732,     0.31832,     0.31932,     0.32032,     0.32132,     0.32232,     0.32332,     0.32432,     0.32533,     0.32633,     0.32733,     0.32833,     0.32933,     0.33033,     0.33133,     0.33233,     0.33333,     0.33433,     0.33534,\n",
            "           0.33634,     0.33734,     0.33834,     0.33934,     0.34034,     0.34134,     0.34234,     0.34334,     0.34434,     0.34535,     0.34635,     0.34735,     0.34835,     0.34935,     0.35035,     0.35135,     0.35235,     0.35335,     0.35435,     0.35536,     0.35636,     0.35736,     0.35836,     0.35936,\n",
            "           0.36036,     0.36136,     0.36236,     0.36336,     0.36436,     0.36537,     0.36637,     0.36737,     0.36837,     0.36937,     0.37037,     0.37137,     0.37237,     0.37337,     0.37437,     0.37538,     0.37638,     0.37738,     0.37838,     0.37938,     0.38038,     0.38138,     0.38238,     0.38338,\n",
            "           0.38438,     0.38539,     0.38639,     0.38739,     0.38839,     0.38939,     0.39039,     0.39139,     0.39239,     0.39339,     0.39439,      0.3954,      0.3964,      0.3974,      0.3984,      0.3994,      0.4004,      0.4014,      0.4024,      0.4034,      0.4044,     0.40541,     0.40641,     0.40741,\n",
            "           0.40841,     0.40941,     0.41041,     0.41141,     0.41241,     0.41341,     0.41441,     0.41542,     0.41642,     0.41742,     0.41842,     0.41942,     0.42042,     0.42142,     0.42242,     0.42342,     0.42442,     0.42543,     0.42643,     0.42743,     0.42843,     0.42943,     0.43043,     0.43143,\n",
            "           0.43243,     0.43343,     0.43443,     0.43544,     0.43644,     0.43744,     0.43844,     0.43944,     0.44044,     0.44144,     0.44244,     0.44344,     0.44444,     0.44545,     0.44645,     0.44745,     0.44845,     0.44945,     0.45045,     0.45145,     0.45245,     0.45345,     0.45445,     0.45546,\n",
            "           0.45646,     0.45746,     0.45846,     0.45946,     0.46046,     0.46146,     0.46246,     0.46346,     0.46446,     0.46547,     0.46647,     0.46747,     0.46847,     0.46947,     0.47047,     0.47147,     0.47247,     0.47347,     0.47447,     0.47548,     0.47648,     0.47748,     0.47848,     0.47948,\n",
            "           0.48048,     0.48148,     0.48248,     0.48348,     0.48448,     0.48549,     0.48649,     0.48749,     0.48849,     0.48949,     0.49049,     0.49149,     0.49249,     0.49349,     0.49449,      0.4955,      0.4965,      0.4975,      0.4985,      0.4995,      0.5005,      0.5015,      0.5025,      0.5035,\n",
            "            0.5045,     0.50551,     0.50651,     0.50751,     0.50851,     0.50951,     0.51051,     0.51151,     0.51251,     0.51351,     0.51451,     0.51552,     0.51652,     0.51752,     0.51852,     0.51952,     0.52052,     0.52152,     0.52252,     0.52352,     0.52452,     0.52553,     0.52653,     0.52753,\n",
            "           0.52853,     0.52953,     0.53053,     0.53153,     0.53253,     0.53353,     0.53453,     0.53554,     0.53654,     0.53754,     0.53854,     0.53954,     0.54054,     0.54154,     0.54254,     0.54354,     0.54454,     0.54555,     0.54655,     0.54755,     0.54855,     0.54955,     0.55055,     0.55155,\n",
            "           0.55255,     0.55355,     0.55455,     0.55556,     0.55656,     0.55756,     0.55856,     0.55956,     0.56056,     0.56156,     0.56256,     0.56356,     0.56456,     0.56557,     0.56657,     0.56757,     0.56857,     0.56957,     0.57057,     0.57157,     0.57257,     0.57357,     0.57457,     0.57558,\n",
            "           0.57658,     0.57758,     0.57858,     0.57958,     0.58058,     0.58158,     0.58258,     0.58358,     0.58458,     0.58559,     0.58659,     0.58759,     0.58859,     0.58959,     0.59059,     0.59159,     0.59259,     0.59359,     0.59459,      0.5956,      0.5966,      0.5976,      0.5986,      0.5996,\n",
            "            0.6006,      0.6016,      0.6026,      0.6036,      0.6046,     0.60561,     0.60661,     0.60761,     0.60861,     0.60961,     0.61061,     0.61161,     0.61261,     0.61361,     0.61461,     0.61562,     0.61662,     0.61762,     0.61862,     0.61962,     0.62062,     0.62162,     0.62262,     0.62362,\n",
            "           0.62462,     0.62563,     0.62663,     0.62763,     0.62863,     0.62963,     0.63063,     0.63163,     0.63263,     0.63363,     0.63463,     0.63564,     0.63664,     0.63764,     0.63864,     0.63964,     0.64064,     0.64164,     0.64264,     0.64364,     0.64464,     0.64565,     0.64665,     0.64765,\n",
            "           0.64865,     0.64965,     0.65065,     0.65165,     0.65265,     0.65365,     0.65465,     0.65566,     0.65666,     0.65766,     0.65866,     0.65966,     0.66066,     0.66166,     0.66266,     0.66366,     0.66466,     0.66567,     0.66667,     0.66767,     0.66867,     0.66967,     0.67067,     0.67167,\n",
            "           0.67267,     0.67367,     0.67467,     0.67568,     0.67668,     0.67768,     0.67868,     0.67968,     0.68068,     0.68168,     0.68268,     0.68368,     0.68468,     0.68569,     0.68669,     0.68769,     0.68869,     0.68969,     0.69069,     0.69169,     0.69269,     0.69369,     0.69469,      0.6957,\n",
            "            0.6967,      0.6977,      0.6987,      0.6997,      0.7007,      0.7017,      0.7027,      0.7037,      0.7047,     0.70571,     0.70671,     0.70771,     0.70871,     0.70971,     0.71071,     0.71171,     0.71271,     0.71371,     0.71471,     0.71572,     0.71672,     0.71772,     0.71872,     0.71972,\n",
            "           0.72072,     0.72172,     0.72272,     0.72372,     0.72472,     0.72573,     0.72673,     0.72773,     0.72873,     0.72973,     0.73073,     0.73173,     0.73273,     0.73373,     0.73473,     0.73574,     0.73674,     0.73774,     0.73874,     0.73974,     0.74074,     0.74174,     0.74274,     0.74374,\n",
            "           0.74474,     0.74575,     0.74675,     0.74775,     0.74875,     0.74975,     0.75075,     0.75175,     0.75275,     0.75375,     0.75475,     0.75576,     0.75676,     0.75776,     0.75876,     0.75976,     0.76076,     0.76176,     0.76276,     0.76376,     0.76476,     0.76577,     0.76677,     0.76777,\n",
            "           0.76877,     0.76977,     0.77077,     0.77177,     0.77277,     0.77377,     0.77477,     0.77578,     0.77678,     0.77778,     0.77878,     0.77978,     0.78078,     0.78178,     0.78278,     0.78378,     0.78478,     0.78579,     0.78679,     0.78779,     0.78879,     0.78979,     0.79079,     0.79179,\n",
            "           0.79279,     0.79379,     0.79479,      0.7958,      0.7968,      0.7978,      0.7988,      0.7998,      0.8008,      0.8018,      0.8028,      0.8038,      0.8048,     0.80581,     0.80681,     0.80781,     0.80881,     0.80981,     0.81081,     0.81181,     0.81281,     0.81381,     0.81481,     0.81582,\n",
            "           0.81682,     0.81782,     0.81882,     0.81982,     0.82082,     0.82182,     0.82282,     0.82382,     0.82482,     0.82583,     0.82683,     0.82783,     0.82883,     0.82983,     0.83083,     0.83183,     0.83283,     0.83383,     0.83483,     0.83584,     0.83684,     0.83784,     0.83884,     0.83984,\n",
            "           0.84084,     0.84184,     0.84284,     0.84384,     0.84484,     0.84585,     0.84685,     0.84785,     0.84885,     0.84985,     0.85085,     0.85185,     0.85285,     0.85385,     0.85485,     0.85586,     0.85686,     0.85786,     0.85886,     0.85986,     0.86086,     0.86186,     0.86286,     0.86386,\n",
            "           0.86486,     0.86587,     0.86687,     0.86787,     0.86887,     0.86987,     0.87087,     0.87187,     0.87287,     0.87387,     0.87487,     0.87588,     0.87688,     0.87788,     0.87888,     0.87988,     0.88088,     0.88188,     0.88288,     0.88388,     0.88488,     0.88589,     0.88689,     0.88789,\n",
            "           0.88889,     0.88989,     0.89089,     0.89189,     0.89289,     0.89389,     0.89489,      0.8959,      0.8969,      0.8979,      0.8989,      0.8999,      0.9009,      0.9019,      0.9029,      0.9039,      0.9049,     0.90591,     0.90691,     0.90791,     0.90891,     0.90991,     0.91091,     0.91191,\n",
            "           0.91291,     0.91391,     0.91491,     0.91592,     0.91692,     0.91792,     0.91892,     0.91992,     0.92092,     0.92192,     0.92292,     0.92392,     0.92492,     0.92593,     0.92693,     0.92793,     0.92893,     0.92993,     0.93093,     0.93193,     0.93293,     0.93393,     0.93493,     0.93594,\n",
            "           0.93694,     0.93794,     0.93894,     0.93994,     0.94094,     0.94194,     0.94294,     0.94394,     0.94494,     0.94595,     0.94695,     0.94795,     0.94895,     0.94995,     0.95095,     0.95195,     0.95295,     0.95395,     0.95495,     0.95596,     0.95696,     0.95796,     0.95896,     0.95996,\n",
            "           0.96096,     0.96196,     0.96296,     0.96396,     0.96496,     0.96597,     0.96697,     0.96797,     0.96897,     0.96997,     0.97097,     0.97197,     0.97297,     0.97397,     0.97497,     0.97598,     0.97698,     0.97798,     0.97898,     0.97998,     0.98098,     0.98198,     0.98298,     0.98398,\n",
            "           0.98498,     0.98599,     0.98699,     0.98799,     0.98899,     0.98999,     0.99099,     0.99199,     0.99299,     0.99399,     0.99499,       0.996,       0.997,       0.998,       0.999,           1]), array([[    0.54747,     0.54747,     0.62133,     0.65071,     0.67793,     0.69951,      0.7164,     0.72749,     0.73463,      0.7389,     0.74228,     0.75289,      0.7544,     0.75973,      0.7617,     0.76898,     0.77467,     0.78044,     0.78475,     0.78745,     0.78827,     0.78983,      0.7912,\n",
            "            0.79228,     0.79424,     0.79991,     0.80264,     0.80651,     0.81028,     0.81131,     0.81123,     0.81139,     0.81204,     0.81268,     0.81473,     0.81596,     0.81887,     0.82075,     0.82558,      0.8269,     0.82886,     0.83398,     0.83525,     0.83578,     0.83617,     0.83656,\n",
            "            0.83695,     0.83734,     0.83615,     0.83484,     0.83529,     0.83574,     0.83619,     0.83664,     0.83893,     0.83917,     0.83941,     0.83964,     0.83988,     0.84012,     0.84035,     0.84059,     0.84083,     0.84113,      0.8418,     0.84247,     0.84315,     0.84381,     0.84448,\n",
            "            0.84515,     0.84552,     0.84575,     0.84599,     0.84622,     0.84645,     0.84668,     0.84692,     0.84715,     0.84738,     0.84826,     0.84995,     0.85046,     0.85097,     0.85148,     0.85198,      0.8523,     0.85262,     0.85293,     0.85325,     0.85357,     0.85389,     0.85424,\n",
            "            0.85486,     0.85547,     0.85608,      0.8572,     0.85866,     0.85884,     0.85903,     0.85921,     0.85939,     0.85957,     0.85976,     0.85994,     0.86012,      0.8603,     0.86048,     0.86067,     0.86085,     0.86427,     0.86744,     0.86653,     0.86562,     0.86473,     0.86523,\n",
            "            0.86573,     0.86624,     0.86674,     0.86711,     0.86733,     0.86754,     0.86776,     0.86797,     0.86818,      0.8684,     0.86861,     0.86882,     0.86903,     0.86925,     0.87104,     0.87154,     0.87139,     0.87123,     0.87108,     0.87093,     0.87078,     0.87062,     0.87047,\n",
            "            0.87032,     0.87017,     0.87001,     0.86986,     0.86971,     0.86956,      0.8694,     0.86925,      0.8691,     0.86895,     0.86879,     0.86864,     0.86819,     0.86772,     0.86726,     0.86679,     0.86632,     0.86586,     0.86641,     0.86802,     0.86848,     0.86894,     0.86939,\n",
            "            0.86985,     0.87022,     0.86964,     0.86907,     0.86849,     0.86791,     0.86733,      0.8644,     0.86499,     0.86558,     0.86616,     0.86619,     0.86555,     0.86491,     0.86426,     0.86362,     0.86076,     0.86159,     0.86243,     0.86285,     0.86313,     0.86342,      0.8637,\n",
            "            0.86399,     0.86427,     0.86455,     0.86483,      0.8655,     0.86682,      0.8675,     0.86767,     0.86784,     0.86801,     0.86818,     0.86835,     0.86852,     0.86869,     0.86886,     0.86903,      0.8692,     0.86937,     0.86954,     0.86971,     0.87011,     0.87085,     0.87159,\n",
            "            0.87223,     0.87231,      0.8724,     0.87248,     0.87256,     0.87264,     0.87272,      0.8728,     0.87288,     0.87296,     0.87304,     0.87312,     0.87321,     0.87329,     0.87337,     0.87345,     0.87353,     0.87361,     0.87369,     0.87377,     0.87385,     0.87393,     0.87401,\n",
            "            0.87409,     0.87417,     0.87426,     0.87434,     0.87442,      0.8745,     0.87458,     0.87475,     0.87598,      0.8771,     0.87718,     0.87725,     0.87733,      0.8774,     0.87748,     0.87755,     0.87763,      0.8777,     0.87778,     0.87785,     0.87793,       0.878,     0.87808,\n",
            "            0.87815,     0.87823,      0.8783,     0.87838,     0.87845,     0.87853,      0.8786,     0.87868,     0.87875,     0.87883,      0.8789,     0.87898,     0.87905,     0.87913,      0.8792,     0.87928,     0.87935,     0.87943,      0.8795,     0.87962,     0.87984,     0.88006,     0.88028,\n",
            "            0.88049,     0.88071,     0.88093,     0.88115,     0.88136,     0.88158,      0.8818,     0.88201,     0.88205,     0.88209,     0.88212,     0.88216,     0.88219,     0.88222,     0.88226,     0.88229,     0.88232,     0.88236,     0.88239,     0.88243,     0.88246,     0.88249,     0.88253,\n",
            "            0.88256,     0.88259,     0.88263,     0.88266,     0.88269,     0.88273,     0.88276,      0.8828,     0.88283,     0.88286,      0.8829,     0.88293,     0.88296,       0.883,     0.88303,     0.88307,      0.8831,     0.88313,     0.88317,      0.8832,     0.88323,     0.88327,      0.8833,\n",
            "            0.88333,     0.88337,      0.8834,     0.88343,     0.88347,      0.8835,     0.88354,     0.88357,      0.8836,     0.88364,     0.88367,      0.8837,     0.88374,     0.88377,      0.8838,     0.88384,     0.88387,     0.88391,     0.88394,     0.88397,     0.88401,     0.88404,     0.88407,\n",
            "            0.88411,     0.88414,     0.88417,     0.88421,     0.88424,     0.88427,     0.88431,     0.88434,     0.88437,     0.88441,     0.88444,     0.88448,     0.88451,     0.88459,     0.88467,     0.88474,     0.88482,      0.8849,     0.88498,     0.88505,     0.88513,     0.88521,     0.88529,\n",
            "            0.88536,     0.88544,     0.88552,      0.8856,     0.88567,     0.88575,     0.88583,     0.88591,     0.88598,     0.88606,     0.88614,     0.88622,     0.88629,     0.88637,     0.88645,     0.88652,      0.8866,     0.88668,     0.88676,     0.88683,     0.88691,     0.88699,     0.88709,\n",
            "            0.88719,      0.8873,     0.88741,     0.88751,     0.88762,     0.88772,     0.88783,     0.88794,     0.88804,     0.88815,     0.88826,     0.88836,     0.88847,     0.88857,     0.88868,     0.88879,     0.88889,       0.889,      0.8891,     0.88921,     0.88931,     0.88942,     0.88951,\n",
            "            0.88944,     0.88937,     0.88929,     0.88922,     0.88915,     0.88908,       0.889,     0.88893,     0.88886,     0.88878,     0.88871,     0.88864,     0.88857,     0.88849,     0.88842,     0.88835,     0.88827,      0.8882,     0.88813,     0.88805,     0.88798,     0.88791,     0.88784,\n",
            "            0.88776,     0.88769,     0.88762,     0.88754,     0.88747,      0.8874,     0.88732,     0.88725,     0.88718,      0.8871,     0.88703,     0.88696,     0.88689,     0.88681,     0.88674,     0.88667,     0.88659,     0.88652,     0.88645,     0.88637,     0.88654,     0.88674,     0.88694,\n",
            "            0.88714,     0.88735,     0.88755,     0.88775,     0.88795,     0.88815,     0.88835,     0.88855,     0.88876,     0.88885,     0.88875,     0.88865,     0.88854,     0.88844,     0.88833,     0.88823,     0.88812,     0.88802,     0.88791,     0.88781,     0.88771,      0.8876,      0.8875,\n",
            "            0.88739,     0.88729,     0.88718,     0.88708,     0.88697,     0.88687,     0.88677,     0.88666,     0.88656,     0.88645,     0.88635,     0.88624,     0.88614,     0.88603,     0.88593,     0.88582,     0.88572,     0.88561,      0.8855,     0.88539,     0.88528,     0.88516,     0.88505,\n",
            "            0.88494,     0.88483,     0.88472,     0.88461,      0.8845,     0.88439,     0.88428,     0.88417,     0.88405,     0.88394,     0.88383,     0.88372,     0.88361,      0.8835,     0.88339,     0.88328,     0.88317,     0.88305,     0.88294,     0.88283,     0.88272,     0.88261,     0.88247,\n",
            "            0.88223,     0.88199,     0.88175,     0.88151,     0.88127,     0.88104,      0.8808,     0.88056,     0.88032,     0.88008,     0.87984,      0.8796,     0.87936,     0.87913,     0.87891,     0.87869,     0.87847,     0.87825,     0.87803,     0.87781,     0.87759,     0.87737,     0.87715,\n",
            "            0.87693,     0.87671,     0.87649,     0.87627,     0.87606,     0.87596,     0.87586,     0.87576,     0.87565,     0.87555,     0.87545,     0.87535,     0.87524,     0.87514,     0.87504,     0.87493,     0.87483,     0.87473,     0.87463,     0.87452,     0.87442,     0.87432,     0.87421,\n",
            "            0.87411,     0.87401,      0.8739,      0.8738,      0.8737,      0.8736,     0.87349,     0.87339,     0.87329,     0.87318,     0.87308,     0.87298,     0.87287,      0.8729,     0.87303,     0.87315,     0.87327,     0.87339,     0.87351,     0.87363,     0.87375,     0.87387,     0.87399,\n",
            "            0.87411,     0.87423,     0.87435,     0.87447,     0.87459,     0.87471,     0.87483,     0.87495,     0.87507,     0.87519,     0.87531,       0.876,     0.87709,     0.87794,     0.87809,     0.87823,     0.87837,     0.87851,     0.87866,      0.8788,     0.87894,     0.87908,     0.87922,\n",
            "            0.87937,     0.87951,     0.87965,     0.87979,     0.87993,     0.88008,     0.88022,     0.88036,      0.8804,     0.88011,     0.87982,     0.87953,     0.87924,     0.87895,     0.87866,     0.87837,     0.87808,     0.87779,      0.8775,     0.87721,     0.87708,     0.87695,     0.87683,\n",
            "            0.87671,     0.87659,     0.87647,     0.87634,     0.87622,      0.8761,     0.87598,     0.87586,     0.87573,     0.87561,     0.87549,     0.87537,     0.87524,     0.87512,       0.875,     0.87488,     0.87476,     0.87463,     0.87451,     0.87439,     0.87427,     0.87414,     0.87402,\n",
            "             0.8739,     0.87377,     0.87365,     0.87352,     0.87339,     0.87327,     0.87314,     0.87301,     0.87289,     0.87276,     0.87263,     0.87251,     0.87238,     0.87225,     0.87213,       0.872,     0.87187,     0.87174,     0.87162,     0.87149,     0.87136,     0.87124,     0.87111,\n",
            "            0.87098,     0.87086,     0.87073,      0.8706,     0.87087,     0.87119,     0.87151,     0.87183,     0.87214,     0.87246,     0.87278,     0.87309,     0.87324,     0.87334,     0.87344,     0.87354,     0.87364,     0.87374,     0.87384,     0.87394,     0.87404,     0.87414,     0.87424,\n",
            "            0.87434,     0.87444,     0.87454,     0.87464,     0.87474,     0.87484,     0.87494,     0.87504,     0.87514,     0.87524,     0.87534,     0.87544,     0.87554,     0.87564,     0.87566,     0.87228,     0.86998,     0.86853,     0.86766,     0.86679,     0.86591,     0.86552,     0.86532,\n",
            "            0.86512,     0.86492,     0.86471,     0.86451,     0.86431,      0.8641,      0.8639,      0.8637,     0.86349,     0.86329,     0.86309,     0.86288,     0.86268,     0.86247,     0.86221,     0.85961,      0.8567,     0.85414,     0.85199,     0.85369,     0.85249,     0.84966,     0.84731,\n",
            "            0.84171,     0.83806,     0.83557,     0.83372,     0.83023,     0.82904,     0.82825,     0.82747,     0.82668,     0.82561,     0.82365,     0.82031,     0.81023,     0.80619,     0.80334,      0.7949,     0.79059,     0.78812,     0.78603,      0.7836,     0.78049,     0.77838,     0.77447,\n",
            "            0.76789,     0.74945,     0.74101,     0.73705,      0.7302,       0.728,     0.72497,     0.72134,     0.71922,     0.71721,      0.7015,      0.6964,      0.6846,     0.68128,     0.66916,     0.65831,     0.65052,     0.64454,     0.62776,     0.61828,     0.61991,     0.59949,      0.5638,\n",
            "            0.53213,     0.50805,     0.49797,      0.4932,     0.48244,     0.47582,     0.46176,      0.4284,     0.41685,     0.38071,     0.37059,     0.34931,      0.3353,     0.29524,     0.27142,     0.23615,      0.2309,     0.21975,     0.21525,     0.20979,     0.20091,     0.18985,     0.17468,\n",
            "            0.16536,     0.13969,       0.132,     0.12913,     0.12673,     0.12433,     0.12192,     0.10725,     0.10117,    0.092003,    0.090012,    0.088017,    0.086018,    0.084014,    0.081031,     0.07682,    0.070587,    0.031457,    0.029733,    0.028006,    0.026275,    0.024542,    0.022805,\n",
            "           0.020683,    0.016884,     0.01307,           0,           0,           0,           0,           0,           0,           0,           0,           0,           0,           0,           0,           0,           0,           0,           0,           0,           0,           0,           0,\n",
            "                  0,           0,           0,           0,           0,           0,           0,           0,           0,           0,           0,           0,           0,           0,           0,           0,           0,           0,           0,           0,           0,           0,           0,\n",
            "                  0,           0,           0,           0,           0,           0,           0,           0,           0,           0,           0,           0,           0,           0,           0,           0,           0,           0,           0,           0,           0,           0,           0,\n",
            "                  0,           0,           0,           0,           0,           0,           0,           0,           0,           0,           0,           0,           0,           0,           0,           0,           0,           0,           0,           0,           0,           0,           0,\n",
            "                  0,           0,           0,           0,           0,           0,           0,           0,           0,           0,           0,           0,           0,           0,           0,           0,           0,           0,           0,           0,           0,           0,           0,\n",
            "                  0,           0,           0,           0,           0,           0,           0,           0,           0,           0,           0,           0,           0,           0,           0,           0,           0,           0,           0,           0,           0,           0,           0,\n",
            "                  0,           0,           0,           0,           0,           0,           0,           0,           0,           0,           0]]), 'Confidence', 'F1'], [array([          0,    0.001001,    0.002002,    0.003003,    0.004004,    0.005005,    0.006006,    0.007007,    0.008008,    0.009009,     0.01001,    0.011011,    0.012012,    0.013013,    0.014014,    0.015015,    0.016016,    0.017017,    0.018018,    0.019019,     0.02002,    0.021021,    0.022022,    0.023023,\n",
            "          0.024024,    0.025025,    0.026026,    0.027027,    0.028028,    0.029029,     0.03003,    0.031031,    0.032032,    0.033033,    0.034034,    0.035035,    0.036036,    0.037037,    0.038038,    0.039039,     0.04004,    0.041041,    0.042042,    0.043043,    0.044044,    0.045045,    0.046046,    0.047047,\n",
            "          0.048048,    0.049049,     0.05005,    0.051051,    0.052052,    0.053053,    0.054054,    0.055055,    0.056056,    0.057057,    0.058058,    0.059059,     0.06006,    0.061061,    0.062062,    0.063063,    0.064064,    0.065065,    0.066066,    0.067067,    0.068068,    0.069069,     0.07007,    0.071071,\n",
            "          0.072072,    0.073073,    0.074074,    0.075075,    0.076076,    0.077077,    0.078078,    0.079079,     0.08008,    0.081081,    0.082082,    0.083083,    0.084084,    0.085085,    0.086086,    0.087087,    0.088088,    0.089089,     0.09009,    0.091091,    0.092092,    0.093093,    0.094094,    0.095095,\n",
            "          0.096096,    0.097097,    0.098098,    0.099099,      0.1001,      0.1011,      0.1021,      0.1031,      0.1041,     0.10511,     0.10611,     0.10711,     0.10811,     0.10911,     0.11011,     0.11111,     0.11211,     0.11311,     0.11411,     0.11512,     0.11612,     0.11712,     0.11812,     0.11912,\n",
            "           0.12012,     0.12112,     0.12212,     0.12312,     0.12412,     0.12513,     0.12613,     0.12713,     0.12813,     0.12913,     0.13013,     0.13113,     0.13213,     0.13313,     0.13413,     0.13514,     0.13614,     0.13714,     0.13814,     0.13914,     0.14014,     0.14114,     0.14214,     0.14314,\n",
            "           0.14414,     0.14515,     0.14615,     0.14715,     0.14815,     0.14915,     0.15015,     0.15115,     0.15215,     0.15315,     0.15415,     0.15516,     0.15616,     0.15716,     0.15816,     0.15916,     0.16016,     0.16116,     0.16216,     0.16316,     0.16416,     0.16517,     0.16617,     0.16717,\n",
            "           0.16817,     0.16917,     0.17017,     0.17117,     0.17217,     0.17317,     0.17417,     0.17518,     0.17618,     0.17718,     0.17818,     0.17918,     0.18018,     0.18118,     0.18218,     0.18318,     0.18418,     0.18519,     0.18619,     0.18719,     0.18819,     0.18919,     0.19019,     0.19119,\n",
            "           0.19219,     0.19319,     0.19419,      0.1952,      0.1962,      0.1972,      0.1982,      0.1992,      0.2002,      0.2012,      0.2022,      0.2032,      0.2042,     0.20521,     0.20621,     0.20721,     0.20821,     0.20921,     0.21021,     0.21121,     0.21221,     0.21321,     0.21421,     0.21522,\n",
            "           0.21622,     0.21722,     0.21822,     0.21922,     0.22022,     0.22122,     0.22222,     0.22322,     0.22422,     0.22523,     0.22623,     0.22723,     0.22823,     0.22923,     0.23023,     0.23123,     0.23223,     0.23323,     0.23423,     0.23524,     0.23624,     0.23724,     0.23824,     0.23924,\n",
            "           0.24024,     0.24124,     0.24224,     0.24324,     0.24424,     0.24525,     0.24625,     0.24725,     0.24825,     0.24925,     0.25025,     0.25125,     0.25225,     0.25325,     0.25425,     0.25526,     0.25626,     0.25726,     0.25826,     0.25926,     0.26026,     0.26126,     0.26226,     0.26326,\n",
            "           0.26426,     0.26527,     0.26627,     0.26727,     0.26827,     0.26927,     0.27027,     0.27127,     0.27227,     0.27327,     0.27427,     0.27528,     0.27628,     0.27728,     0.27828,     0.27928,     0.28028,     0.28128,     0.28228,     0.28328,     0.28428,     0.28529,     0.28629,     0.28729,\n",
            "           0.28829,     0.28929,     0.29029,     0.29129,     0.29229,     0.29329,     0.29429,      0.2953,      0.2963,      0.2973,      0.2983,      0.2993,      0.3003,      0.3013,      0.3023,      0.3033,      0.3043,     0.30531,     0.30631,     0.30731,     0.30831,     0.30931,     0.31031,     0.31131,\n",
            "           0.31231,     0.31331,     0.31431,     0.31532,     0.31632,     0.31732,     0.31832,     0.31932,     0.32032,     0.32132,     0.32232,     0.32332,     0.32432,     0.32533,     0.32633,     0.32733,     0.32833,     0.32933,     0.33033,     0.33133,     0.33233,     0.33333,     0.33433,     0.33534,\n",
            "           0.33634,     0.33734,     0.33834,     0.33934,     0.34034,     0.34134,     0.34234,     0.34334,     0.34434,     0.34535,     0.34635,     0.34735,     0.34835,     0.34935,     0.35035,     0.35135,     0.35235,     0.35335,     0.35435,     0.35536,     0.35636,     0.35736,     0.35836,     0.35936,\n",
            "           0.36036,     0.36136,     0.36236,     0.36336,     0.36436,     0.36537,     0.36637,     0.36737,     0.36837,     0.36937,     0.37037,     0.37137,     0.37237,     0.37337,     0.37437,     0.37538,     0.37638,     0.37738,     0.37838,     0.37938,     0.38038,     0.38138,     0.38238,     0.38338,\n",
            "           0.38438,     0.38539,     0.38639,     0.38739,     0.38839,     0.38939,     0.39039,     0.39139,     0.39239,     0.39339,     0.39439,      0.3954,      0.3964,      0.3974,      0.3984,      0.3994,      0.4004,      0.4014,      0.4024,      0.4034,      0.4044,     0.40541,     0.40641,     0.40741,\n",
            "           0.40841,     0.40941,     0.41041,     0.41141,     0.41241,     0.41341,     0.41441,     0.41542,     0.41642,     0.41742,     0.41842,     0.41942,     0.42042,     0.42142,     0.42242,     0.42342,     0.42442,     0.42543,     0.42643,     0.42743,     0.42843,     0.42943,     0.43043,     0.43143,\n",
            "           0.43243,     0.43343,     0.43443,     0.43544,     0.43644,     0.43744,     0.43844,     0.43944,     0.44044,     0.44144,     0.44244,     0.44344,     0.44444,     0.44545,     0.44645,     0.44745,     0.44845,     0.44945,     0.45045,     0.45145,     0.45245,     0.45345,     0.45445,     0.45546,\n",
            "           0.45646,     0.45746,     0.45846,     0.45946,     0.46046,     0.46146,     0.46246,     0.46346,     0.46446,     0.46547,     0.46647,     0.46747,     0.46847,     0.46947,     0.47047,     0.47147,     0.47247,     0.47347,     0.47447,     0.47548,     0.47648,     0.47748,     0.47848,     0.47948,\n",
            "           0.48048,     0.48148,     0.48248,     0.48348,     0.48448,     0.48549,     0.48649,     0.48749,     0.48849,     0.48949,     0.49049,     0.49149,     0.49249,     0.49349,     0.49449,      0.4955,      0.4965,      0.4975,      0.4985,      0.4995,      0.5005,      0.5015,      0.5025,      0.5035,\n",
            "            0.5045,     0.50551,     0.50651,     0.50751,     0.50851,     0.50951,     0.51051,     0.51151,     0.51251,     0.51351,     0.51451,     0.51552,     0.51652,     0.51752,     0.51852,     0.51952,     0.52052,     0.52152,     0.52252,     0.52352,     0.52452,     0.52553,     0.52653,     0.52753,\n",
            "           0.52853,     0.52953,     0.53053,     0.53153,     0.53253,     0.53353,     0.53453,     0.53554,     0.53654,     0.53754,     0.53854,     0.53954,     0.54054,     0.54154,     0.54254,     0.54354,     0.54454,     0.54555,     0.54655,     0.54755,     0.54855,     0.54955,     0.55055,     0.55155,\n",
            "           0.55255,     0.55355,     0.55455,     0.55556,     0.55656,     0.55756,     0.55856,     0.55956,     0.56056,     0.56156,     0.56256,     0.56356,     0.56456,     0.56557,     0.56657,     0.56757,     0.56857,     0.56957,     0.57057,     0.57157,     0.57257,     0.57357,     0.57457,     0.57558,\n",
            "           0.57658,     0.57758,     0.57858,     0.57958,     0.58058,     0.58158,     0.58258,     0.58358,     0.58458,     0.58559,     0.58659,     0.58759,     0.58859,     0.58959,     0.59059,     0.59159,     0.59259,     0.59359,     0.59459,      0.5956,      0.5966,      0.5976,      0.5986,      0.5996,\n",
            "            0.6006,      0.6016,      0.6026,      0.6036,      0.6046,     0.60561,     0.60661,     0.60761,     0.60861,     0.60961,     0.61061,     0.61161,     0.61261,     0.61361,     0.61461,     0.61562,     0.61662,     0.61762,     0.61862,     0.61962,     0.62062,     0.62162,     0.62262,     0.62362,\n",
            "           0.62462,     0.62563,     0.62663,     0.62763,     0.62863,     0.62963,     0.63063,     0.63163,     0.63263,     0.63363,     0.63463,     0.63564,     0.63664,     0.63764,     0.63864,     0.63964,     0.64064,     0.64164,     0.64264,     0.64364,     0.64464,     0.64565,     0.64665,     0.64765,\n",
            "           0.64865,     0.64965,     0.65065,     0.65165,     0.65265,     0.65365,     0.65465,     0.65566,     0.65666,     0.65766,     0.65866,     0.65966,     0.66066,     0.66166,     0.66266,     0.66366,     0.66466,     0.66567,     0.66667,     0.66767,     0.66867,     0.66967,     0.67067,     0.67167,\n",
            "           0.67267,     0.67367,     0.67467,     0.67568,     0.67668,     0.67768,     0.67868,     0.67968,     0.68068,     0.68168,     0.68268,     0.68368,     0.68468,     0.68569,     0.68669,     0.68769,     0.68869,     0.68969,     0.69069,     0.69169,     0.69269,     0.69369,     0.69469,      0.6957,\n",
            "            0.6967,      0.6977,      0.6987,      0.6997,      0.7007,      0.7017,      0.7027,      0.7037,      0.7047,     0.70571,     0.70671,     0.70771,     0.70871,     0.70971,     0.71071,     0.71171,     0.71271,     0.71371,     0.71471,     0.71572,     0.71672,     0.71772,     0.71872,     0.71972,\n",
            "           0.72072,     0.72172,     0.72272,     0.72372,     0.72472,     0.72573,     0.72673,     0.72773,     0.72873,     0.72973,     0.73073,     0.73173,     0.73273,     0.73373,     0.73473,     0.73574,     0.73674,     0.73774,     0.73874,     0.73974,     0.74074,     0.74174,     0.74274,     0.74374,\n",
            "           0.74474,     0.74575,     0.74675,     0.74775,     0.74875,     0.74975,     0.75075,     0.75175,     0.75275,     0.75375,     0.75475,     0.75576,     0.75676,     0.75776,     0.75876,     0.75976,     0.76076,     0.76176,     0.76276,     0.76376,     0.76476,     0.76577,     0.76677,     0.76777,\n",
            "           0.76877,     0.76977,     0.77077,     0.77177,     0.77277,     0.77377,     0.77477,     0.77578,     0.77678,     0.77778,     0.77878,     0.77978,     0.78078,     0.78178,     0.78278,     0.78378,     0.78478,     0.78579,     0.78679,     0.78779,     0.78879,     0.78979,     0.79079,     0.79179,\n",
            "           0.79279,     0.79379,     0.79479,      0.7958,      0.7968,      0.7978,      0.7988,      0.7998,      0.8008,      0.8018,      0.8028,      0.8038,      0.8048,     0.80581,     0.80681,     0.80781,     0.80881,     0.80981,     0.81081,     0.81181,     0.81281,     0.81381,     0.81481,     0.81582,\n",
            "           0.81682,     0.81782,     0.81882,     0.81982,     0.82082,     0.82182,     0.82282,     0.82382,     0.82482,     0.82583,     0.82683,     0.82783,     0.82883,     0.82983,     0.83083,     0.83183,     0.83283,     0.83383,     0.83483,     0.83584,     0.83684,     0.83784,     0.83884,     0.83984,\n",
            "           0.84084,     0.84184,     0.84284,     0.84384,     0.84484,     0.84585,     0.84685,     0.84785,     0.84885,     0.84985,     0.85085,     0.85185,     0.85285,     0.85385,     0.85485,     0.85586,     0.85686,     0.85786,     0.85886,     0.85986,     0.86086,     0.86186,     0.86286,     0.86386,\n",
            "           0.86486,     0.86587,     0.86687,     0.86787,     0.86887,     0.86987,     0.87087,     0.87187,     0.87287,     0.87387,     0.87487,     0.87588,     0.87688,     0.87788,     0.87888,     0.87988,     0.88088,     0.88188,     0.88288,     0.88388,     0.88488,     0.88589,     0.88689,     0.88789,\n",
            "           0.88889,     0.88989,     0.89089,     0.89189,     0.89289,     0.89389,     0.89489,      0.8959,      0.8969,      0.8979,      0.8989,      0.8999,      0.9009,      0.9019,      0.9029,      0.9039,      0.9049,     0.90591,     0.90691,     0.90791,     0.90891,     0.90991,     0.91091,     0.91191,\n",
            "           0.91291,     0.91391,     0.91491,     0.91592,     0.91692,     0.91792,     0.91892,     0.91992,     0.92092,     0.92192,     0.92292,     0.92392,     0.92492,     0.92593,     0.92693,     0.92793,     0.92893,     0.92993,     0.93093,     0.93193,     0.93293,     0.93393,     0.93493,     0.93594,\n",
            "           0.93694,     0.93794,     0.93894,     0.93994,     0.94094,     0.94194,     0.94294,     0.94394,     0.94494,     0.94595,     0.94695,     0.94795,     0.94895,     0.94995,     0.95095,     0.95195,     0.95295,     0.95395,     0.95495,     0.95596,     0.95696,     0.95796,     0.95896,     0.95996,\n",
            "           0.96096,     0.96196,     0.96296,     0.96396,     0.96496,     0.96597,     0.96697,     0.96797,     0.96897,     0.96997,     0.97097,     0.97197,     0.97297,     0.97397,     0.97497,     0.97598,     0.97698,     0.97798,     0.97898,     0.97998,     0.98098,     0.98198,     0.98298,     0.98398,\n",
            "           0.98498,     0.98599,     0.98699,     0.98799,     0.98899,     0.98999,     0.99099,     0.99199,     0.99299,     0.99399,     0.99499,       0.996,       0.997,       0.998,       0.999,           1]), array([[    0.38702,     0.38702,     0.46657,      0.5037,     0.53708,     0.56674,     0.58925,     0.60661,     0.61681,     0.62804,     0.63294,     0.64852,     0.65077,     0.65874,     0.66171,     0.67278,     0.68153,     0.69051,     0.69729,     0.70156,     0.70287,     0.70534,     0.70755,\n",
            "            0.70927,     0.71242,      0.7216,     0.72605,     0.73241,     0.73865,     0.74037,     0.74341,     0.74422,      0.7453,     0.74639,     0.74986,     0.75195,     0.75689,     0.76012,     0.76845,     0.77074,     0.77415,     0.78312,     0.78537,      0.7863,       0.787,     0.78769,\n",
            "            0.78839,     0.78908,     0.78899,     0.78888,     0.78969,     0.79049,     0.79129,     0.79209,     0.79622,     0.79665,     0.79708,      0.7975,     0.79793,     0.79836,     0.79878,     0.79921,     0.79964,     0.80019,     0.80141,     0.80263,     0.80384,     0.80506,     0.80628,\n",
            "            0.80749,     0.80817,      0.8086,     0.80902,     0.80945,     0.80987,      0.8103,     0.81073,     0.81115,     0.81158,      0.8132,      0.8163,     0.81725,      0.8182,     0.81914,     0.82006,     0.82065,     0.82124,     0.82183,     0.82242,     0.82301,      0.8236,     0.82427,\n",
            "            0.82541,     0.82655,      0.8277,     0.82978,     0.83253,     0.83287,     0.83321,     0.83356,      0.8339,     0.83425,     0.83459,     0.83493,     0.83528,     0.83562,     0.83596,     0.83631,     0.83665,     0.84314,     0.84967,     0.84943,     0.84919,     0.84897,     0.84994,\n",
            "            0.85091,     0.85189,     0.85286,     0.85358,       0.854,     0.85441,     0.85483,     0.85524,     0.85566,     0.85607,     0.85648,      0.8569,     0.85731,     0.85773,     0.86123,      0.8624,     0.86237,     0.86233,     0.86229,     0.86226,     0.86222,     0.86218,     0.86215,\n",
            "            0.86211,     0.86207,     0.86204,       0.862,     0.86196,     0.86193,     0.86189,     0.86185,     0.86181,     0.86178,     0.86174,      0.8617,     0.86159,     0.86148,     0.86137,     0.86125,     0.86114,     0.86103,     0.86258,     0.86578,     0.86669,     0.86761,     0.86852,\n",
            "            0.86944,     0.87026,     0.87013,     0.86999,     0.86986,     0.86973,     0.86959,     0.86939,     0.87059,     0.87178,     0.87297,     0.87356,     0.87342,     0.87327,     0.87313,     0.87298,     0.87321,     0.87494,     0.87667,     0.87754,     0.87812,     0.87871,      0.8793,\n",
            "            0.87989,     0.88047,     0.88106,     0.88165,     0.88303,     0.88578,      0.8872,     0.88756,     0.88792,     0.88827,     0.88863,     0.88899,     0.88934,      0.8897,     0.89005,     0.89041,     0.89077,     0.89112,     0.89148,     0.89184,     0.89269,     0.89425,     0.89581,\n",
            "            0.89717,     0.89734,     0.89751,     0.89768,     0.89785,     0.89803,      0.8982,     0.89837,     0.89854,     0.89871,     0.89888,     0.89905,     0.89923,      0.8994,     0.89957,     0.89974,     0.89991,     0.90008,     0.90025,     0.90043,      0.9006,     0.90077,     0.90094,\n",
            "            0.90111,     0.90128,     0.90146,     0.90163,      0.9018,     0.90197,     0.90214,     0.90252,     0.90513,     0.90753,     0.90769,     0.90785,     0.90801,     0.90817,     0.90833,     0.90849,     0.90866,     0.90882,     0.90898,     0.90914,      0.9093,     0.90946,     0.90962,\n",
            "            0.90978,     0.90994,     0.91011,     0.91027,     0.91043,     0.91059,     0.91075,     0.91091,     0.91107,     0.91123,     0.91139,     0.91155,     0.91172,     0.91188,     0.91204,      0.9122,     0.91236,     0.91252,     0.91268,     0.91294,     0.91341,     0.91388,     0.91435,\n",
            "            0.91482,     0.91529,     0.91576,     0.91623,      0.9167,     0.91717,     0.91764,     0.91811,      0.9182,     0.91827,     0.91834,     0.91842,     0.91849,     0.91856,     0.91864,     0.91871,     0.91878,     0.91886,     0.91893,       0.919,     0.91908,     0.91915,     0.91922,\n",
            "            0.91929,     0.91937,     0.91944,     0.91951,     0.91959,     0.91966,     0.91973,     0.91981,     0.91988,     0.91995,     0.92003,      0.9201,     0.92017,     0.92024,     0.92032,     0.92039,     0.92046,     0.92054,     0.92061,     0.92068,     0.92076,     0.92083,      0.9209,\n",
            "            0.92098,     0.92105,     0.92112,     0.92119,     0.92127,     0.92134,     0.92141,     0.92149,     0.92156,     0.92163,     0.92171,     0.92178,     0.92185,     0.92193,       0.922,     0.92207,     0.92215,     0.92222,     0.92229,     0.92236,     0.92244,     0.92251,     0.92258,\n",
            "            0.92266,     0.92273,      0.9228,     0.92288,     0.92295,     0.92302,      0.9231,     0.92317,     0.92324,     0.92331,     0.92339,     0.92346,     0.92354,     0.92371,     0.92388,     0.92405,     0.92422,     0.92439,     0.92455,     0.92472,     0.92489,     0.92506,     0.92523,\n",
            "             0.9254,     0.92557,     0.92574,     0.92591,     0.92608,     0.92625,     0.92642,     0.92659,     0.92675,     0.92692,     0.92709,     0.92726,     0.92743,      0.9276,     0.92777,     0.92794,     0.92811,     0.92828,     0.92845,     0.92862,     0.92879,     0.92895,     0.92917,\n",
            "            0.92941,     0.92964,     0.92987,     0.93011,     0.93034,     0.93057,     0.93081,     0.93104,     0.93127,     0.93151,     0.93174,     0.93197,     0.93221,     0.93244,     0.93267,     0.93291,     0.93314,     0.93337,     0.93361,     0.93384,     0.93407,     0.93431,     0.93452,\n",
            "            0.93451,     0.93451,      0.9345,     0.93449,     0.93448,     0.93447,     0.93446,     0.93445,     0.93444,     0.93443,     0.93442,     0.93441,     0.93441,      0.9344,     0.93439,     0.93438,     0.93437,     0.93436,     0.93435,     0.93434,     0.93433,     0.93432,     0.93431,\n",
            "            0.93431,      0.9343,     0.93429,     0.93428,     0.93427,     0.93426,     0.93425,     0.93424,     0.93423,     0.93422,     0.93421,     0.93421,      0.9342,     0.93419,     0.93418,     0.93417,     0.93416,     0.93415,     0.93414,     0.93413,     0.93452,     0.93497,     0.93542,\n",
            "            0.93587,     0.93632,     0.93677,     0.93722,     0.93766,     0.93811,     0.93856,     0.93901,     0.93946,     0.93976,     0.93974,     0.93973,     0.93972,     0.93971,     0.93969,     0.93968,     0.93967,     0.93966,     0.93965,     0.93963,     0.93962,     0.93961,      0.9396,\n",
            "            0.93959,     0.93957,     0.93956,     0.93955,     0.93954,     0.93953,     0.93951,      0.9395,     0.93949,     0.93948,     0.93947,     0.93945,     0.93944,     0.93943,     0.93942,     0.93941,     0.93939,     0.93938,     0.93937,     0.93936,     0.93934,     0.93933,     0.93932,\n",
            "             0.9393,     0.93929,     0.93928,     0.93927,     0.93925,     0.93924,     0.93923,     0.93921,      0.9392,     0.93919,     0.93918,     0.93916,     0.93915,     0.93914,     0.93912,     0.93911,      0.9391,     0.93909,     0.93907,     0.93906,     0.93905,     0.93903,     0.93902,\n",
            "            0.93899,     0.93896,     0.93893,     0.93891,     0.93888,     0.93885,     0.93882,      0.9388,     0.93877,     0.93874,     0.93871,     0.93868,     0.93866,     0.93863,      0.9386,     0.93858,     0.93855,     0.93853,      0.9385,     0.93847,     0.93845,     0.93842,      0.9384,\n",
            "            0.93837,     0.93835,     0.93832,     0.93829,     0.93827,     0.93826,     0.93825,     0.93823,     0.93822,     0.93821,      0.9382,     0.93818,     0.93817,     0.93816,     0.93815,     0.93814,     0.93812,     0.93811,      0.9381,     0.93809,     0.93808,     0.93806,     0.93805,\n",
            "            0.93804,     0.93803,     0.93801,       0.938,     0.93799,     0.93798,     0.93797,     0.93795,     0.93794,     0.93793,     0.93792,     0.93791,     0.93789,     0.93806,     0.93833,     0.93861,     0.93889,     0.93917,     0.93945,     0.93973,     0.94001,     0.94029,     0.94056,\n",
            "            0.94084,     0.94112,      0.9414,     0.94168,     0.94196,     0.94224,     0.94252,      0.9428,     0.94307,     0.94335,     0.94363,     0.94523,     0.94779,     0.94977,     0.95011,     0.95044,     0.95077,     0.95111,     0.95144,     0.95177,     0.95211,     0.95244,     0.95277,\n",
            "            0.95311,     0.95344,     0.95378,     0.95411,     0.95444,     0.95478,     0.95511,     0.95544,     0.95569,     0.95567,     0.95564,     0.95562,     0.95559,     0.95557,     0.95554,     0.95552,     0.95549,     0.95547,     0.95544,     0.95542,      0.9554,     0.95539,     0.95538,\n",
            "            0.95537,     0.95536,     0.95535,     0.95534,     0.95533,     0.95532,     0.95531,      0.9553,     0.95529,     0.95528,     0.95527,     0.95526,     0.95524,     0.95523,     0.95522,     0.95521,      0.9552,     0.95519,     0.95518,     0.95517,     0.95516,     0.95515,     0.95514,\n",
            "            0.95513,     0.95512,     0.95511,     0.95509,     0.95508,     0.95507,     0.95506,     0.95505,     0.95504,     0.95503,     0.95502,     0.95501,       0.955,     0.95498,     0.95497,     0.95496,     0.95495,     0.95494,     0.95493,     0.95492,     0.95491,      0.9549,     0.95488,\n",
            "            0.95487,     0.95486,     0.95485,     0.95484,     0.95552,     0.95629,     0.95705,     0.95782,     0.95859,     0.95935,     0.96012,     0.96088,     0.96123,     0.96148,     0.96172,     0.96196,     0.96221,     0.96245,     0.96269,     0.96294,     0.96318,     0.96343,     0.96367,\n",
            "            0.96391,     0.96416,      0.9644,     0.96464,     0.96489,     0.96513,     0.96538,     0.96562,     0.96586,     0.96611,     0.96635,     0.96659,     0.96684,     0.96708,     0.96732,      0.9671,     0.96695,     0.96685,      0.9668,     0.96674,     0.96668,     0.96666,     0.96664,\n",
            "            0.96663,     0.96662,      0.9666,     0.96659,     0.96658,     0.96656,     0.96655,     0.96654,     0.96652,     0.96651,      0.9665,     0.96648,     0.96647,     0.96646,     0.96644,     0.96627,     0.96607,      0.9659,     0.96583,      0.9702,      0.9723,     0.97214,     0.97201,\n",
            "             0.9717,     0.97149,     0.97135,     0.97125,     0.97104,     0.97097,     0.97093,     0.97088,     0.97084,     0.97077,     0.97066,     0.97046,     0.96986,     0.96961,     0.96944,     0.96891,     0.96864,     0.96848,     0.96835,     0.96819,     0.96799,     0.96785,     0.96759,\n",
            "            0.96716,     0.96589,     0.96529,       0.965,      0.9645,     0.96686,      0.9727,     0.97249,     0.97237,     0.97225,     0.97131,     0.97099,     0.97025,     0.97004,     0.96924,      0.9685,     0.96796,     0.96753,     0.96629,     0.96864,     0.97667,     0.97562,     0.97348,\n",
            "            0.97134,     0.96955,     0.96875,     0.96836,     0.96745,     0.96687,      0.9656,     0.96225,     0.97816,           1,           1,           1,           1,           1,           1,           1,           1,           1,           1,           1,           1,           1,           1,\n",
            "                  1,           1,           1,           1,           1,           1,           1,           1,           1,           1,           1,           1,           1,           1,           1,           1,           1,           1,           1,           1,           1,           1,           1,\n",
            "                  1,           1,           1,           1,           1,           1,           1,           1,           1,           1,           1,           1,           1,           1,           1,           1,           1,           1,           1,           1,           1,           1,           1,\n",
            "                  1,           1,           1,           1,           1,           1,           1,           1,           1,           1,           1,           1,           1,           1,           1,           1,           1,           1,           1,           1,           1,           1,           1,\n",
            "                  1,           1,           1,           1,           1,           1,           1,           1,           1,           1,           1,           1,           1,           1,           1,           1,           1,           1,           1,           1,           1,           1,           1,\n",
            "                  1,           1,           1,           1,           1,           1,           1,           1,           1,           1,           1,           1,           1,           1,           1,           1,           1,           1,           1,           1,           1,           1,           1,\n",
            "                  1,           1,           1,           1,           1,           1,           1,           1,           1,           1,           1,           1,           1,           1,           1,           1,           1,           1,           1,           1,           1,           1,           1,\n",
            "                  1,           1,           1,           1,           1,           1,           1,           1,           1,           1,           1,           1,           1,           1,           1,           1,           1,           1,           1,           1,           1,           1,           1,\n",
            "                  1,           1,           1,           1,           1,           1,           1,           1,           1,           1,           1]]), 'Confidence', 'Precision'], [array([          0,    0.001001,    0.002002,    0.003003,    0.004004,    0.005005,    0.006006,    0.007007,    0.008008,    0.009009,     0.01001,    0.011011,    0.012012,    0.013013,    0.014014,    0.015015,    0.016016,    0.017017,    0.018018,    0.019019,     0.02002,    0.021021,    0.022022,    0.023023,\n",
            "          0.024024,    0.025025,    0.026026,    0.027027,    0.028028,    0.029029,     0.03003,    0.031031,    0.032032,    0.033033,    0.034034,    0.035035,    0.036036,    0.037037,    0.038038,    0.039039,     0.04004,    0.041041,    0.042042,    0.043043,    0.044044,    0.045045,    0.046046,    0.047047,\n",
            "          0.048048,    0.049049,     0.05005,    0.051051,    0.052052,    0.053053,    0.054054,    0.055055,    0.056056,    0.057057,    0.058058,    0.059059,     0.06006,    0.061061,    0.062062,    0.063063,    0.064064,    0.065065,    0.066066,    0.067067,    0.068068,    0.069069,     0.07007,    0.071071,\n",
            "          0.072072,    0.073073,    0.074074,    0.075075,    0.076076,    0.077077,    0.078078,    0.079079,     0.08008,    0.081081,    0.082082,    0.083083,    0.084084,    0.085085,    0.086086,    0.087087,    0.088088,    0.089089,     0.09009,    0.091091,    0.092092,    0.093093,    0.094094,    0.095095,\n",
            "          0.096096,    0.097097,    0.098098,    0.099099,      0.1001,      0.1011,      0.1021,      0.1031,      0.1041,     0.10511,     0.10611,     0.10711,     0.10811,     0.10911,     0.11011,     0.11111,     0.11211,     0.11311,     0.11411,     0.11512,     0.11612,     0.11712,     0.11812,     0.11912,\n",
            "           0.12012,     0.12112,     0.12212,     0.12312,     0.12412,     0.12513,     0.12613,     0.12713,     0.12813,     0.12913,     0.13013,     0.13113,     0.13213,     0.13313,     0.13413,     0.13514,     0.13614,     0.13714,     0.13814,     0.13914,     0.14014,     0.14114,     0.14214,     0.14314,\n",
            "           0.14414,     0.14515,     0.14615,     0.14715,     0.14815,     0.14915,     0.15015,     0.15115,     0.15215,     0.15315,     0.15415,     0.15516,     0.15616,     0.15716,     0.15816,     0.15916,     0.16016,     0.16116,     0.16216,     0.16316,     0.16416,     0.16517,     0.16617,     0.16717,\n",
            "           0.16817,     0.16917,     0.17017,     0.17117,     0.17217,     0.17317,     0.17417,     0.17518,     0.17618,     0.17718,     0.17818,     0.17918,     0.18018,     0.18118,     0.18218,     0.18318,     0.18418,     0.18519,     0.18619,     0.18719,     0.18819,     0.18919,     0.19019,     0.19119,\n",
            "           0.19219,     0.19319,     0.19419,      0.1952,      0.1962,      0.1972,      0.1982,      0.1992,      0.2002,      0.2012,      0.2022,      0.2032,      0.2042,     0.20521,     0.20621,     0.20721,     0.20821,     0.20921,     0.21021,     0.21121,     0.21221,     0.21321,     0.21421,     0.21522,\n",
            "           0.21622,     0.21722,     0.21822,     0.21922,     0.22022,     0.22122,     0.22222,     0.22322,     0.22422,     0.22523,     0.22623,     0.22723,     0.22823,     0.22923,     0.23023,     0.23123,     0.23223,     0.23323,     0.23423,     0.23524,     0.23624,     0.23724,     0.23824,     0.23924,\n",
            "           0.24024,     0.24124,     0.24224,     0.24324,     0.24424,     0.24525,     0.24625,     0.24725,     0.24825,     0.24925,     0.25025,     0.25125,     0.25225,     0.25325,     0.25425,     0.25526,     0.25626,     0.25726,     0.25826,     0.25926,     0.26026,     0.26126,     0.26226,     0.26326,\n",
            "           0.26426,     0.26527,     0.26627,     0.26727,     0.26827,     0.26927,     0.27027,     0.27127,     0.27227,     0.27327,     0.27427,     0.27528,     0.27628,     0.27728,     0.27828,     0.27928,     0.28028,     0.28128,     0.28228,     0.28328,     0.28428,     0.28529,     0.28629,     0.28729,\n",
            "           0.28829,     0.28929,     0.29029,     0.29129,     0.29229,     0.29329,     0.29429,      0.2953,      0.2963,      0.2973,      0.2983,      0.2993,      0.3003,      0.3013,      0.3023,      0.3033,      0.3043,     0.30531,     0.30631,     0.30731,     0.30831,     0.30931,     0.31031,     0.31131,\n",
            "           0.31231,     0.31331,     0.31431,     0.31532,     0.31632,     0.31732,     0.31832,     0.31932,     0.32032,     0.32132,     0.32232,     0.32332,     0.32432,     0.32533,     0.32633,     0.32733,     0.32833,     0.32933,     0.33033,     0.33133,     0.33233,     0.33333,     0.33433,     0.33534,\n",
            "           0.33634,     0.33734,     0.33834,     0.33934,     0.34034,     0.34134,     0.34234,     0.34334,     0.34434,     0.34535,     0.34635,     0.34735,     0.34835,     0.34935,     0.35035,     0.35135,     0.35235,     0.35335,     0.35435,     0.35536,     0.35636,     0.35736,     0.35836,     0.35936,\n",
            "           0.36036,     0.36136,     0.36236,     0.36336,     0.36436,     0.36537,     0.36637,     0.36737,     0.36837,     0.36937,     0.37037,     0.37137,     0.37237,     0.37337,     0.37437,     0.37538,     0.37638,     0.37738,     0.37838,     0.37938,     0.38038,     0.38138,     0.38238,     0.38338,\n",
            "           0.38438,     0.38539,     0.38639,     0.38739,     0.38839,     0.38939,     0.39039,     0.39139,     0.39239,     0.39339,     0.39439,      0.3954,      0.3964,      0.3974,      0.3984,      0.3994,      0.4004,      0.4014,      0.4024,      0.4034,      0.4044,     0.40541,     0.40641,     0.40741,\n",
            "           0.40841,     0.40941,     0.41041,     0.41141,     0.41241,     0.41341,     0.41441,     0.41542,     0.41642,     0.41742,     0.41842,     0.41942,     0.42042,     0.42142,     0.42242,     0.42342,     0.42442,     0.42543,     0.42643,     0.42743,     0.42843,     0.42943,     0.43043,     0.43143,\n",
            "           0.43243,     0.43343,     0.43443,     0.43544,     0.43644,     0.43744,     0.43844,     0.43944,     0.44044,     0.44144,     0.44244,     0.44344,     0.44444,     0.44545,     0.44645,     0.44745,     0.44845,     0.44945,     0.45045,     0.45145,     0.45245,     0.45345,     0.45445,     0.45546,\n",
            "           0.45646,     0.45746,     0.45846,     0.45946,     0.46046,     0.46146,     0.46246,     0.46346,     0.46446,     0.46547,     0.46647,     0.46747,     0.46847,     0.46947,     0.47047,     0.47147,     0.47247,     0.47347,     0.47447,     0.47548,     0.47648,     0.47748,     0.47848,     0.47948,\n",
            "           0.48048,     0.48148,     0.48248,     0.48348,     0.48448,     0.48549,     0.48649,     0.48749,     0.48849,     0.48949,     0.49049,     0.49149,     0.49249,     0.49349,     0.49449,      0.4955,      0.4965,      0.4975,      0.4985,      0.4995,      0.5005,      0.5015,      0.5025,      0.5035,\n",
            "            0.5045,     0.50551,     0.50651,     0.50751,     0.50851,     0.50951,     0.51051,     0.51151,     0.51251,     0.51351,     0.51451,     0.51552,     0.51652,     0.51752,     0.51852,     0.51952,     0.52052,     0.52152,     0.52252,     0.52352,     0.52452,     0.52553,     0.52653,     0.52753,\n",
            "           0.52853,     0.52953,     0.53053,     0.53153,     0.53253,     0.53353,     0.53453,     0.53554,     0.53654,     0.53754,     0.53854,     0.53954,     0.54054,     0.54154,     0.54254,     0.54354,     0.54454,     0.54555,     0.54655,     0.54755,     0.54855,     0.54955,     0.55055,     0.55155,\n",
            "           0.55255,     0.55355,     0.55455,     0.55556,     0.55656,     0.55756,     0.55856,     0.55956,     0.56056,     0.56156,     0.56256,     0.56356,     0.56456,     0.56557,     0.56657,     0.56757,     0.56857,     0.56957,     0.57057,     0.57157,     0.57257,     0.57357,     0.57457,     0.57558,\n",
            "           0.57658,     0.57758,     0.57858,     0.57958,     0.58058,     0.58158,     0.58258,     0.58358,     0.58458,     0.58559,     0.58659,     0.58759,     0.58859,     0.58959,     0.59059,     0.59159,     0.59259,     0.59359,     0.59459,      0.5956,      0.5966,      0.5976,      0.5986,      0.5996,\n",
            "            0.6006,      0.6016,      0.6026,      0.6036,      0.6046,     0.60561,     0.60661,     0.60761,     0.60861,     0.60961,     0.61061,     0.61161,     0.61261,     0.61361,     0.61461,     0.61562,     0.61662,     0.61762,     0.61862,     0.61962,     0.62062,     0.62162,     0.62262,     0.62362,\n",
            "           0.62462,     0.62563,     0.62663,     0.62763,     0.62863,     0.62963,     0.63063,     0.63163,     0.63263,     0.63363,     0.63463,     0.63564,     0.63664,     0.63764,     0.63864,     0.63964,     0.64064,     0.64164,     0.64264,     0.64364,     0.64464,     0.64565,     0.64665,     0.64765,\n",
            "           0.64865,     0.64965,     0.65065,     0.65165,     0.65265,     0.65365,     0.65465,     0.65566,     0.65666,     0.65766,     0.65866,     0.65966,     0.66066,     0.66166,     0.66266,     0.66366,     0.66466,     0.66567,     0.66667,     0.66767,     0.66867,     0.66967,     0.67067,     0.67167,\n",
            "           0.67267,     0.67367,     0.67467,     0.67568,     0.67668,     0.67768,     0.67868,     0.67968,     0.68068,     0.68168,     0.68268,     0.68368,     0.68468,     0.68569,     0.68669,     0.68769,     0.68869,     0.68969,     0.69069,     0.69169,     0.69269,     0.69369,     0.69469,      0.6957,\n",
            "            0.6967,      0.6977,      0.6987,      0.6997,      0.7007,      0.7017,      0.7027,      0.7037,      0.7047,     0.70571,     0.70671,     0.70771,     0.70871,     0.70971,     0.71071,     0.71171,     0.71271,     0.71371,     0.71471,     0.71572,     0.71672,     0.71772,     0.71872,     0.71972,\n",
            "           0.72072,     0.72172,     0.72272,     0.72372,     0.72472,     0.72573,     0.72673,     0.72773,     0.72873,     0.72973,     0.73073,     0.73173,     0.73273,     0.73373,     0.73473,     0.73574,     0.73674,     0.73774,     0.73874,     0.73974,     0.74074,     0.74174,     0.74274,     0.74374,\n",
            "           0.74474,     0.74575,     0.74675,     0.74775,     0.74875,     0.74975,     0.75075,     0.75175,     0.75275,     0.75375,     0.75475,     0.75576,     0.75676,     0.75776,     0.75876,     0.75976,     0.76076,     0.76176,     0.76276,     0.76376,     0.76476,     0.76577,     0.76677,     0.76777,\n",
            "           0.76877,     0.76977,     0.77077,     0.77177,     0.77277,     0.77377,     0.77477,     0.77578,     0.77678,     0.77778,     0.77878,     0.77978,     0.78078,     0.78178,     0.78278,     0.78378,     0.78478,     0.78579,     0.78679,     0.78779,     0.78879,     0.78979,     0.79079,     0.79179,\n",
            "           0.79279,     0.79379,     0.79479,      0.7958,      0.7968,      0.7978,      0.7988,      0.7998,      0.8008,      0.8018,      0.8028,      0.8038,      0.8048,     0.80581,     0.80681,     0.80781,     0.80881,     0.80981,     0.81081,     0.81181,     0.81281,     0.81381,     0.81481,     0.81582,\n",
            "           0.81682,     0.81782,     0.81882,     0.81982,     0.82082,     0.82182,     0.82282,     0.82382,     0.82482,     0.82583,     0.82683,     0.82783,     0.82883,     0.82983,     0.83083,     0.83183,     0.83283,     0.83383,     0.83483,     0.83584,     0.83684,     0.83784,     0.83884,     0.83984,\n",
            "           0.84084,     0.84184,     0.84284,     0.84384,     0.84484,     0.84585,     0.84685,     0.84785,     0.84885,     0.84985,     0.85085,     0.85185,     0.85285,     0.85385,     0.85485,     0.85586,     0.85686,     0.85786,     0.85886,     0.85986,     0.86086,     0.86186,     0.86286,     0.86386,\n",
            "           0.86486,     0.86587,     0.86687,     0.86787,     0.86887,     0.86987,     0.87087,     0.87187,     0.87287,     0.87387,     0.87487,     0.87588,     0.87688,     0.87788,     0.87888,     0.87988,     0.88088,     0.88188,     0.88288,     0.88388,     0.88488,     0.88589,     0.88689,     0.88789,\n",
            "           0.88889,     0.88989,     0.89089,     0.89189,     0.89289,     0.89389,     0.89489,      0.8959,      0.8969,      0.8979,      0.8989,      0.8999,      0.9009,      0.9019,      0.9029,      0.9039,      0.9049,     0.90591,     0.90691,     0.90791,     0.90891,     0.90991,     0.91091,     0.91191,\n",
            "           0.91291,     0.91391,     0.91491,     0.91592,     0.91692,     0.91792,     0.91892,     0.91992,     0.92092,     0.92192,     0.92292,     0.92392,     0.92492,     0.92593,     0.92693,     0.92793,     0.92893,     0.92993,     0.93093,     0.93193,     0.93293,     0.93393,     0.93493,     0.93594,\n",
            "           0.93694,     0.93794,     0.93894,     0.93994,     0.94094,     0.94194,     0.94294,     0.94394,     0.94494,     0.94595,     0.94695,     0.94795,     0.94895,     0.94995,     0.95095,     0.95195,     0.95295,     0.95395,     0.95495,     0.95596,     0.95696,     0.95796,     0.95896,     0.95996,\n",
            "           0.96096,     0.96196,     0.96296,     0.96396,     0.96496,     0.96597,     0.96697,     0.96797,     0.96897,     0.96997,     0.97097,     0.97197,     0.97297,     0.97397,     0.97497,     0.97598,     0.97698,     0.97798,     0.97898,     0.97998,     0.98098,     0.98198,     0.98298,     0.98398,\n",
            "           0.98498,     0.98599,     0.98699,     0.98799,     0.98899,     0.98999,     0.99099,     0.99199,     0.99299,     0.99399,     0.99499,       0.996,       0.997,       0.998,       0.999,           1]), array([[    0.93514,     0.93514,     0.92973,     0.91892,     0.91892,     0.91351,     0.91351,     0.90853,     0.90811,      0.8973,      0.8973,      0.8973,      0.8973,      0.8973,      0.8973,      0.8973,      0.8973,      0.8973,      0.8973,      0.8973,      0.8973,      0.8973,      0.8973,\n",
            "             0.8973,      0.8973,      0.8973,      0.8973,      0.8973,      0.8973,      0.8973,     0.89266,     0.89189,     0.89189,     0.89189,     0.89189,     0.89189,     0.89189,     0.89189,     0.89189,     0.89189,     0.89189,     0.89189,     0.89189,     0.89189,     0.89189,     0.89189,\n",
            "            0.89189,     0.89189,      0.8893,     0.88649,     0.88649,     0.88649,     0.88649,     0.88649,     0.88649,     0.88649,     0.88649,     0.88649,     0.88649,     0.88649,     0.88649,     0.88649,     0.88649,     0.88649,     0.88649,     0.88649,     0.88649,     0.88649,     0.88649,\n",
            "            0.88649,     0.88649,     0.88649,     0.88649,     0.88649,     0.88649,     0.88649,     0.88649,     0.88649,     0.88649,     0.88649,     0.88649,     0.88649,     0.88649,     0.88649,     0.88649,     0.88649,     0.88649,     0.88649,     0.88649,     0.88649,     0.88649,     0.88649,\n",
            "            0.88649,     0.88649,     0.88649,     0.88649,     0.88649,     0.88649,     0.88649,     0.88649,     0.88649,     0.88649,     0.88649,     0.88649,     0.88649,     0.88649,     0.88649,     0.88649,     0.88649,     0.88649,     0.88596,     0.88433,      0.8827,     0.88108,     0.88108,\n",
            "            0.88108,     0.88108,     0.88108,     0.88108,     0.88108,     0.88108,     0.88108,     0.88108,     0.88108,     0.88108,     0.88108,     0.88108,     0.88108,     0.88108,     0.88108,     0.88087,     0.88059,     0.88032,     0.88005,     0.87978,      0.8795,     0.87923,     0.87896,\n",
            "            0.87869,     0.87841,     0.87814,     0.87787,      0.8776,     0.87732,     0.87705,     0.87678,     0.87651,     0.87623,     0.87596,     0.87569,     0.87489,     0.87406,     0.87323,      0.8724,     0.87157,     0.87074,     0.87027,     0.87027,     0.87027,     0.87027,     0.87027,\n",
            "            0.87027,     0.87018,     0.86916,     0.86814,     0.86712,     0.86611,     0.86509,     0.85946,     0.85946,     0.85946,     0.85946,     0.85895,     0.85783,     0.85671,     0.85558,     0.85446,     0.84865,     0.84865,     0.84865,     0.84865,     0.84865,     0.84865,     0.84865,\n",
            "            0.84865,     0.84865,     0.84865,     0.84865,     0.84865,     0.84865,     0.84865,     0.84865,     0.84865,     0.84865,     0.84865,     0.84865,     0.84865,     0.84865,     0.84865,     0.84865,     0.84865,     0.84865,     0.84865,     0.84865,     0.84865,     0.84865,     0.84865,\n",
            "            0.84865,     0.84865,     0.84865,     0.84865,     0.84865,     0.84865,     0.84865,     0.84865,     0.84865,     0.84865,     0.84865,     0.84865,     0.84865,     0.84865,     0.84865,     0.84865,     0.84865,     0.84865,     0.84865,     0.84865,     0.84865,     0.84865,     0.84865,\n",
            "            0.84865,     0.84865,     0.84865,     0.84865,     0.84865,     0.84865,     0.84865,     0.84865,     0.84865,     0.84865,     0.84865,     0.84865,     0.84865,     0.84865,     0.84865,     0.84865,     0.84865,     0.84865,     0.84865,     0.84865,     0.84865,     0.84865,     0.84865,\n",
            "            0.84865,     0.84865,     0.84865,     0.84865,     0.84865,     0.84865,     0.84865,     0.84865,     0.84865,     0.84865,     0.84865,     0.84865,     0.84865,     0.84865,     0.84865,     0.84865,     0.84865,     0.84865,     0.84865,     0.84865,     0.84865,     0.84865,     0.84865,\n",
            "            0.84865,     0.84865,     0.84865,     0.84865,     0.84865,     0.84865,     0.84865,     0.84865,     0.84865,     0.84865,     0.84865,     0.84865,     0.84865,     0.84865,     0.84865,     0.84865,     0.84865,     0.84865,     0.84865,     0.84865,     0.84865,     0.84865,     0.84865,\n",
            "            0.84865,     0.84865,     0.84865,     0.84865,     0.84865,     0.84865,     0.84865,     0.84865,     0.84865,     0.84865,     0.84865,     0.84865,     0.84865,     0.84865,     0.84865,     0.84865,     0.84865,     0.84865,     0.84865,     0.84865,     0.84865,     0.84865,     0.84865,\n",
            "            0.84865,     0.84865,     0.84865,     0.84865,     0.84865,     0.84865,     0.84865,     0.84865,     0.84865,     0.84865,     0.84865,     0.84865,     0.84865,     0.84865,     0.84865,     0.84865,     0.84865,     0.84865,     0.84865,     0.84865,     0.84865,     0.84865,     0.84865,\n",
            "            0.84865,     0.84865,     0.84865,     0.84865,     0.84865,     0.84865,     0.84865,     0.84865,     0.84865,     0.84865,     0.84865,     0.84865,     0.84865,     0.84865,     0.84865,     0.84865,     0.84865,     0.84865,     0.84865,     0.84865,     0.84865,     0.84865,     0.84865,\n",
            "            0.84865,     0.84865,     0.84865,     0.84865,     0.84865,     0.84865,     0.84865,     0.84865,     0.84865,     0.84865,     0.84865,     0.84865,     0.84865,     0.84865,     0.84865,     0.84865,     0.84865,     0.84865,     0.84865,     0.84865,     0.84865,     0.84865,     0.84865,\n",
            "            0.84865,     0.84865,     0.84865,     0.84865,     0.84865,     0.84865,     0.84865,     0.84865,     0.84865,     0.84865,     0.84865,     0.84865,     0.84865,     0.84865,     0.84865,     0.84865,     0.84865,     0.84865,     0.84865,     0.84865,     0.84865,     0.84865,     0.84864,\n",
            "            0.84851,     0.84839,     0.84826,     0.84814,     0.84801,     0.84789,     0.84776,     0.84764,     0.84751,     0.84739,     0.84726,     0.84714,     0.84701,     0.84689,     0.84676,     0.84664,     0.84651,     0.84639,     0.84626,     0.84614,     0.84601,     0.84589,     0.84576,\n",
            "            0.84564,     0.84551,     0.84539,     0.84526,     0.84514,     0.84501,     0.84489,     0.84476,     0.84464,     0.84451,     0.84439,     0.84426,     0.84414,     0.84401,     0.84389,     0.84376,     0.84363,     0.84351,     0.84338,     0.84326,     0.84324,     0.84324,     0.84324,\n",
            "            0.84324,     0.84324,     0.84324,     0.84324,     0.84324,     0.84324,     0.84324,     0.84324,     0.84324,     0.84318,     0.84301,     0.84283,     0.84265,     0.84247,     0.84229,     0.84212,     0.84194,     0.84176,     0.84158,      0.8414,     0.84123,     0.84105,     0.84087,\n",
            "            0.84069,     0.84051,     0.84034,     0.84016,     0.83998,      0.8398,     0.83962,     0.83945,     0.83927,     0.83909,     0.83891,     0.83873,     0.83856,     0.83838,      0.8382,     0.83802,     0.83785,     0.83766,     0.83747,     0.83728,     0.83709,     0.83691,     0.83672,\n",
            "            0.83653,     0.83634,     0.83615,     0.83597,     0.83578,     0.83559,      0.8354,     0.83521,     0.83502,     0.83484,     0.83465,     0.83446,     0.83427,     0.83408,      0.8339,     0.83371,     0.83352,     0.83333,     0.83314,     0.83296,     0.83277,     0.83258,     0.83235,\n",
            "            0.83194,     0.83154,     0.83114,     0.83073,     0.83033,     0.82993,     0.82952,     0.82912,     0.82872,     0.82832,     0.82791,     0.82751,     0.82711,     0.82673,     0.82636,     0.82599,     0.82562,     0.82525,     0.82488,     0.82452,     0.82415,     0.82378,     0.82341,\n",
            "            0.82304,     0.82267,      0.8223,     0.82193,     0.82159,     0.82142,     0.82125,     0.82108,     0.82091,     0.82074,     0.82057,      0.8204,     0.82022,     0.82005,     0.81988,     0.81971,     0.81954,     0.81937,      0.8192,     0.81903,     0.81885,     0.81868,     0.81851,\n",
            "            0.81834,     0.81817,       0.818,     0.81783,     0.81766,     0.81748,     0.81731,     0.81714,     0.81697,      0.8168,     0.81663,     0.81646,     0.81628,     0.81622,     0.81622,     0.81622,     0.81622,     0.81622,     0.81622,     0.81622,     0.81622,     0.81622,     0.81622,\n",
            "            0.81622,     0.81622,     0.81622,     0.81622,     0.81622,     0.81622,     0.81622,     0.81622,     0.81622,     0.81622,     0.81622,     0.81622,     0.81622,     0.81622,     0.81622,     0.81622,     0.81622,     0.81622,     0.81622,     0.81622,     0.81622,     0.81622,     0.81622,\n",
            "            0.81622,     0.81622,     0.81622,     0.81622,     0.81622,     0.81622,     0.81622,     0.81622,      0.8161,     0.81562,     0.81514,     0.81466,     0.81418,     0.81371,     0.81323,     0.81275,     0.81227,     0.81179,     0.81131,     0.81083,     0.81062,     0.81042,     0.81022,\n",
            "            0.81002,     0.80982,     0.80962,     0.80942,     0.80921,     0.80901,     0.80881,     0.80861,     0.80841,     0.80821,     0.80801,     0.80781,     0.80761,     0.80741,     0.80721,     0.80701,     0.80681,     0.80661,     0.80641,      0.8062,       0.806,      0.8058,      0.8056,\n",
            "             0.8054,     0.80519,     0.80499,     0.80478,     0.80457,     0.80437,     0.80416,     0.80395,     0.80375,     0.80354,     0.80333,     0.80313,     0.80292,     0.80271,      0.8025,      0.8023,     0.80209,     0.80188,     0.80168,     0.80147,     0.80126,     0.80106,     0.80085,\n",
            "            0.80064,     0.80044,     0.80023,     0.80002,         0.8,         0.8,         0.8,         0.8,         0.8,         0.8,         0.8,         0.8,         0.8,         0.8,         0.8,         0.8,         0.8,         0.8,         0.8,         0.8,         0.8,         0.8,         0.8,\n",
            "                0.8,         0.8,         0.8,         0.8,         0.8,         0.8,         0.8,         0.8,         0.8,         0.8,         0.8,         0.8,         0.8,         0.8,     0.79988,     0.79439,     0.79068,     0.78836,     0.78696,     0.78557,     0.78417,     0.78355,     0.78323,\n",
            "             0.7829,     0.78258,     0.78225,     0.78193,     0.78161,     0.78128,     0.78096,     0.78064,     0.78031,     0.77999,     0.77967,     0.77934,     0.77902,     0.77869,     0.77828,     0.77416,     0.76957,     0.76556,     0.76216,     0.76216,     0.75896,     0.75459,     0.75096,\n",
            "            0.74239,     0.73686,      0.7331,     0.73032,     0.72508,     0.72331,     0.72214,     0.72097,      0.7198,     0.71822,     0.71532,      0.7104,     0.69572,     0.68991,     0.68583,     0.67388,     0.66783,     0.66439,     0.66148,     0.65813,     0.65384,     0.65095,     0.64562,\n",
            "            0.63671,     0.61226,      0.6013,     0.59621,     0.58748,     0.58378,     0.57781,     0.57329,     0.57066,     0.56816,     0.54899,     0.54287,     0.52889,       0.525,     0.51097,     0.49861,     0.48987,     0.48322,     0.46489,     0.45405,     0.45405,     0.43268,     0.39681,\n",
            "            0.36644,     0.34421,     0.33511,     0.33085,     0.32134,     0.31556,     0.30343,     0.27553,     0.26486,     0.23511,     0.22744,     0.21161,     0.20142,     0.17319,     0.15702,     0.13388,     0.13052,     0.12344,      0.1206,     0.11719,     0.11167,     0.10488,    0.095699,\n",
            "           0.090133,    0.075092,    0.070662,    0.069023,    0.067655,    0.066286,    0.064918,    0.056665,    0.053279,     0.04822,    0.047127,    0.046034,    0.044942,    0.043849,    0.042227,    0.039945,    0.036585,     0.01598,    0.015091,    0.014202,    0.013312,    0.012423,    0.011534,\n",
            "           0.010449,   0.0085138,   0.0065782,           0,           0,           0,           0,           0,           0,           0,           0,           0,           0,           0,           0,           0,           0,           0,           0,           0,           0,           0,           0,\n",
            "                  0,           0,           0,           0,           0,           0,           0,           0,           0,           0,           0,           0,           0,           0,           0,           0,           0,           0,           0,           0,           0,           0,           0,\n",
            "                  0,           0,           0,           0,           0,           0,           0,           0,           0,           0,           0,           0,           0,           0,           0,           0,           0,           0,           0,           0,           0,           0,           0,\n",
            "                  0,           0,           0,           0,           0,           0,           0,           0,           0,           0,           0,           0,           0,           0,           0,           0,           0,           0,           0,           0,           0,           0,           0,\n",
            "                  0,           0,           0,           0,           0,           0,           0,           0,           0,           0,           0,           0,           0,           0,           0,           0,           0,           0,           0,           0,           0,           0,           0,\n",
            "                  0,           0,           0,           0,           0,           0,           0,           0,           0,           0,           0,           0,           0,           0,           0,           0,           0,           0,           0,           0,           0,           0,           0,\n",
            "                  0,           0,           0,           0,           0,           0,           0,           0,           0,           0,           0]]), 'Confidence', 'Recall']]\n",
            "fitness: np.float64(0.540694010098636)\n",
            "keys: ['metrics/precision(B)', 'metrics/recall(B)', 'metrics/mAP50(B)', 'metrics/mAP50-95(B)']\n",
            "maps: array([    0.50017])\n",
            "names: {0: 'seal'}\n",
            "nt_per_class: array([185])\n",
            "nt_per_image: array([170])\n",
            "results_dict: {'metrics/precision(B)': np.float64(0.9342962752287708), 'metrics/recall(B)': np.float64(0.8455116942596518), 'metrics/mAP50(B)': np.float64(0.9054142506351766), 'metrics/mAP50-95(B)': np.float64(0.5001695389279093), 'fitness': np.float64(0.540694010098636)}\n",
            "save_dir: PosixPath('runs/detect/val')\n",
            "speed: {'preprocess': 0.15902948271075754, 'inference': 1.2028455749411904, 'loss': 0.0007069575363627702, 'postprocess': 0.2468937549966038}\n",
            "stats: {'tp': [], 'conf': [], 'pred_cls': [], 'target_cls': [], 'target_img': []}\n",
            "task: 'detect'\n",
            "\n",
            "=== VALIDACIÓN POR CLASE ===\n",
            "seal: mAP50-95 = 0.5002\n"
          ]
        }
      ],
      "source": [
        "# Cargar el modelo entrenado (ajusta la ruta según corresponda)\n",
        "model = YOLO(\"/content/ProSeal/seals2/weights/best.pt\")\n",
        "\n",
        "# Ejecutar validación especificando el archivo de datos y los umbrales deseados\n",
        "metrics = model.val(data=\"/content/export_yolov8/data.yaml\", save_txt=True,)\n",
        "\n",
        "# Mostrar las métricas obtenidas en la validación\n",
        "print(\"Métricas de validación:\", metrics)\n",
        "\n",
        "\n",
        "names = {0: 'seal'}  # Define tus clases aquí\n",
        "class_maps = metrics.maps  # metrics.maps es un array, no se llama como función\n",
        "\n",
        "print(\"\\n=== VALIDACIÓN POR CLASE ===\")\n",
        "for i, (cls_map, name) in enumerate(zip(class_maps, names.values())):\n",
        "    print(f\"{name}: mAP50-95 = {cls_map:.4f}\")"
      ]
    },
    {
      "cell_type": "markdown",
      "metadata": {
        "id": "xEjVzGnHccPI"
      },
      "source": [
        "# 6.2 Validation in Ultralytics with graphs"
      ]
    },
    {
      "cell_type": "code",
      "execution_count": 21,
      "metadata": {
        "colab": {
          "base_uri": "https://localhost:8080/",
          "height": 839
        },
        "id": "G1avrWu4ZLif",
        "outputId": "9f52e267-82d3-4b81-f554-66680057cdd3"
      },
      "outputs": [
        {
          "name": "stdout",
          "output_type": "stream",
          "text": [
            "Ultralytics 8.3.174 🚀 Python-3.11.13 torch-2.6.0+cu124 CUDA:0 (NVIDIA A100-SXM4-40GB, 40507MiB)\n",
            "Model summary (fused): 72 layers, 11,125,971 parameters, 0 gradients, 28.4 GFLOPs\n",
            "\u001b[34m\u001b[1mval: \u001b[0mFast image access ✅ (ping: 0.0±0.0 ms, read: 822.2±129.2 MB/s, size: 53.2 KB)\n"
          ]
        },
        {
          "name": "stderr",
          "output_type": "stream",
          "text": [
            "\u001b[34m\u001b[1mval: \u001b[0mScanning /content/export_yolov8/valid/labels.cache... 10008 images, 9838 backgrounds, 0 corrupt: 100%|██████████| 10008/10008 [00:00<?, ?it/s]\n",
            "                 Class     Images  Instances      Box(P          R      mAP50  mAP50-95): 100%|██████████| 626/626 [00:19<00:00, 32.11it/s]\n"
          ]
        },
        {
          "name": "stdout",
          "output_type": "stream",
          "text": [
            "                   all      10008        185      0.934      0.846      0.905        0.5\n",
            "Speed: 0.2ms preprocess, 1.2ms inference, 0.0ms loss, 0.2ms postprocess per image\n",
            "Results saved to \u001b[1mruns/detect/val96\u001b[0m\n",
            "\n",
            "📊 Métricas de validación:\n",
            "✔️ Precision:     0.9343\n",
            "✔️ Recall:        0.8455\n",
            "✔️ F1-score:      0.8877\n",
            "✔️ mAP@0.5:       0.9054\n",
            "✔️ mAP@0.5:0.95:  0.5002\n"
          ]
        },
        {
          "data": {
            "image/png": "[encoded data removed]",
            "text/plain": [
              "<Figure size 800x500 with 1 Axes>"
            ]
          },
          "metadata": {},
          "output_type": "display_data"
        },
        {
          "name": "stdout",
          "output_type": "stream",
          "text": [
            "\n",
            "📄 CSV guardado en: /content/metricas_val/metricas_validacion_conf__iou_.csv\n",
            "🖼️ Gráfico guardado en: /content/metricas_val/metricas_conf__iou_.png\n"
          ]
        }
      ],
      "source": [
        "import os\n",
        "import matplotlib.pyplot as plt\n",
        "import pandas as pd\n",
        "from ultralytics import YOLO\n",
        "\n",
        "# === CONFIGURACIÓN ===\n",
        "model_path = \"/content/best_coseno_z_25.pt\"\n",
        "data_yaml = \"/content/export_yolov8/data.yaml\"\n",
        "OUTPUT_DIR = \"/content/metricas_val\"\n",
        "os.makedirs(OUTPUT_DIR, exist_ok=True)\n",
        "\n",
        "# === Cargar modelo ===\n",
        "model = YOLO(model_path)\n",
        "\n",
        "# === Ejecutar validación ===\n",
        "metrics = model.val(data=data_yaml, save_txt=True)\n",
        "\n",
        "# === Extraer métricas ===\n",
        "precision = metrics.box.mp\n",
        "recall = metrics.box.mr\n",
        "f1 = 2 * precision * recall / (precision + recall) if (precision + recall) > 0 else 0\n",
        "map50 = metrics.box.map50\n",
        "map5095 = metrics.box.map\n",
        "\n",
        "# === Mostrar métricas por consola ===\n",
        "print(\"\\n📊 Métricas de validación:\")\n",
        "print(f\"✔️ Precision:     {precision:.4f}\")\n",
        "print(f\"✔️ Recall:        {recall:.4f}\")\n",
        "print(f\"✔️ F1-score:      {f1:.4f}\")\n",
        "print(f\"✔️ mAP@0.5:       {map50:.4f}\")\n",
        "print(f\"✔️ mAP@0.5:0.95:  {map5095:.4f}\")\n",
        "\n",
        "# === Graficar ===\n",
        "metric_names = [\"Precision\", \"Recall\", \"F1-score\", \"mAP@0.5\", \"mAP@0.5:0.95\"]\n",
        "metric_values = [precision, recall, f1, map50, map5095]\n",
        "\n",
        "plt.figure(figsize=(8, 5))\n",
        "plt.bar(metric_names, metric_values, color='skyblue')\n",
        "plt.ylim(0, 1.05)\n",
        "plt.title(f\"YOLOv8 validation metrics\")\n",
        "plt.ylabel(\"Valor\")\n",
        "plt.grid(axis='y')\n",
        "plt.tight_layout()\n",
        "plot_path = os.path.join(OUTPUT_DIR, f\"metricas_conf__iou_.png\")\n",
        "plt.savefig(plot_path)\n",
        "plt.show()\n",
        "\n",
        "# === Exportar CSV ===\n",
        "csv_path = os.path.join(OUTPUT_DIR, f\"metricas_validacion_conf__iou_.csv\")\n",
        "df_metrics = pd.DataFrame({\n",
        "    \"Métrica\": metric_names,\n",
        "    \"Valor\": metric_values\n",
        "})\n",
        "df_metrics.to_csv(csv_path, index=False)\n",
        "print(f\"\\n📄 CSV guardado en: {csv_path}\")\n",
        "print(f\"🖼️ Gráfico guardado en: {plot_path}\")"
      ]
    },
    {
      "cell_type": "markdown",
      "metadata": {
        "id": "3vQP5PQKZPRA"
      },
      "source": [
        "# 6.3 Best confidence for inference based on F1\n"
      ]
    },
    {
      "cell_type": "code",
      "execution_count": 9,
      "metadata": {
        "colab": {
          "base_uri": "https://localhost:8080/",
          "height": 1000
        },
        "id": "Hpn1JSVh10J-",
        "outputId": "585a4a31-2f2d-437b-f0ca-cd361564aa76"
      },
      "outputs": [
        {
          "name": "stdout",
          "output_type": "stream",
          "text": [
            "Ultralytics 8.3.174 🚀 Python-3.11.13 torch-2.6.0+cu124 CUDA:0 (NVIDIA A100-SXM4-40GB, 40507MiB)\n",
            "Model summary (fused): 72 layers, 11,125,971 parameters, 0 gradients, 28.4 GFLOPs\n",
            "\u001b[34m\u001b[1mval: \u001b[0mFast image access ✅ (ping: 0.0±0.0 ms, read: 790.8±376.4 MB/s, size: 65.5 KB)\n"
          ]
        },
        {
          "name": "stderr",
          "output_type": "stream",
          "text": [
            "\u001b[34m\u001b[1mval: \u001b[0mScanning /content/export_yolov8/valid/labels.cache... 10008 images, 9838 backgrounds, 0 corrupt: 100%|██████████| 10008/10008 [00:00<?, ?it/s]\n",
            "                 Class     Images  Instances      Box(P          R      mAP50  mAP50-95): 100%|██████████| 626/626 [00:19<00:00, 32.35it/s]\n"
          ]
        },
        {
          "name": "stdout",
          "output_type": "stream",
          "text": [
            "                   all      10008        185      0.934      0.843      0.897      0.542\n",
            "Speed: 0.2ms preprocess, 1.2ms inference, 0.0ms loss, 0.2ms postprocess per image\n",
            "Results saved to \u001b[1mruns/detect/val6\u001b[0m\n",
            "Ultralytics 8.3.174 🚀 Python-3.11.13 torch-2.6.0+cu124 CUDA:0 (NVIDIA A100-SXM4-40GB, 40507MiB)\n",
            "\u001b[34m\u001b[1mval: \u001b[0mFast image access ✅ (ping: 0.0±0.0 ms, read: 776.2±413.2 MB/s, size: 39.4 KB)\n"
          ]
        },
        {
          "name": "stderr",
          "output_type": "stream",
          "text": [
            "\u001b[34m\u001b[1mval: \u001b[0mScanning /content/export_yolov8/valid/labels.cache... 10008 images, 9838 backgrounds, 0 corrupt: 100%|██████████| 10008/10008 [00:00<?, ?it/s]\n",
            "                 Class     Images  Instances      Box(P          R      mAP50  mAP50-95): 100%|██████████| 626/626 [00:19<00:00, 32.75it/s]\n"
          ]
        },
        {
          "name": "stdout",
          "output_type": "stream",
          "text": [
            "                   all      10008        185      0.926      0.873      0.919      0.539\n",
            "Speed: 0.2ms preprocess, 1.2ms inference, 0.0ms loss, 0.2ms postprocess per image\n",
            "Results saved to \u001b[1mruns/detect/val7\u001b[0m\n",
            "Ultralytics 8.3.174 🚀 Python-3.11.13 torch-2.6.0+cu124 CUDA:0 (NVIDIA A100-SXM4-40GB, 40507MiB)\n",
            "\u001b[34m\u001b[1mval: \u001b[0mFast image access ✅ (ping: 0.0±0.0 ms, read: 675.1±175.5 MB/s, size: 42.1 KB)\n"
          ]
        },
        {
          "name": "stderr",
          "output_type": "stream",
          "text": [
            "\u001b[34m\u001b[1mval: \u001b[0mScanning /content/export_yolov8/valid/labels.cache... 10008 images, 9838 backgrounds, 0 corrupt: 100%|██████████| 10008/10008 [00:00<?, ?it/s]\n",
            "                 Class     Images  Instances      Box(P          R      mAP50  mAP50-95): 100%|██████████| 626/626 [00:19<00:00, 32.60it/s]\n"
          ]
        },
        {
          "name": "stdout",
          "output_type": "stream",
          "text": [
            "                   all      10008        185      0.926      0.873      0.918       0.54\n",
            "Speed: 0.2ms preprocess, 1.2ms inference, 0.0ms loss, 0.2ms postprocess per image\n",
            "Results saved to \u001b[1mruns/detect/val8\u001b[0m\n",
            "Ultralytics 8.3.174 🚀 Python-3.11.13 torch-2.6.0+cu124 CUDA:0 (NVIDIA A100-SXM4-40GB, 40507MiB)\n",
            "\u001b[34m\u001b[1mval: \u001b[0mFast image access ✅ (ping: 0.0±0.0 ms, read: 513.1±218.7 MB/s, size: 39.2 KB)\n"
          ]
        },
        {
          "name": "stderr",
          "output_type": "stream",
          "text": [
            "\u001b[34m\u001b[1mval: \u001b[0mScanning /content/export_yolov8/valid/labels.cache... 10008 images, 9838 backgrounds, 0 corrupt: 100%|██████████| 10008/10008 [00:00<?, ?it/s]\n",
            "                 Class     Images  Instances      Box(P          R      mAP50  mAP50-95): 100%|██████████| 626/626 [00:19<00:00, 32.68it/s]\n"
          ]
        },
        {
          "name": "stdout",
          "output_type": "stream",
          "text": [
            "                   all      10008        185      0.926      0.873      0.911      0.541\n",
            "Speed: 0.2ms preprocess, 1.2ms inference, 0.0ms loss, 0.2ms postprocess per image\n",
            "Results saved to \u001b[1mruns/detect/val9\u001b[0m\n",
            "Ultralytics 8.3.174 🚀 Python-3.11.13 torch-2.6.0+cu124 CUDA:0 (NVIDIA A100-SXM4-40GB, 40507MiB)\n",
            "\u001b[34m\u001b[1mval: \u001b[0mFast image access ✅ (ping: 0.0±0.0 ms, read: 995.7±242.8 MB/s, size: 71.4 KB)\n"
          ]
        },
        {
          "name": "stderr",
          "output_type": "stream",
          "text": [
            "\u001b[34m\u001b[1mval: \u001b[0mScanning /content/export_yolov8/valid/labels.cache... 10008 images, 9838 backgrounds, 0 corrupt: 100%|██████████| 10008/10008 [00:00<?, ?it/s]\n",
            "                 Class     Images  Instances      Box(P          R      mAP50  mAP50-95): 100%|██████████| 626/626 [00:18<00:00, 33.06it/s]\n"
          ]
        },
        {
          "name": "stdout",
          "output_type": "stream",
          "text": [
            "                   all      10008        185      0.926      0.873      0.912      0.542\n",
            "Speed: 0.2ms preprocess, 1.2ms inference, 0.0ms loss, 0.2ms postprocess per image\n",
            "Results saved to \u001b[1mruns/detect/val10\u001b[0m\n",
            "Ultralytics 8.3.174 🚀 Python-3.11.13 torch-2.6.0+cu124 CUDA:0 (NVIDIA A100-SXM4-40GB, 40507MiB)\n",
            "\u001b[34m\u001b[1mval: \u001b[0mFast image access ✅ (ping: 0.0±0.0 ms, read: 786.1±522.3 MB/s, size: 39.7 KB)\n"
          ]
        },
        {
          "name": "stderr",
          "output_type": "stream",
          "text": [
            "\u001b[34m\u001b[1mval: \u001b[0mScanning /content/export_yolov8/valid/labels.cache... 10008 images, 9838 backgrounds, 0 corrupt: 100%|██████████| 10008/10008 [00:00<?, ?it/s]\n",
            "                 Class     Images  Instances      Box(P          R      mAP50  mAP50-95): 100%|██████████| 626/626 [00:19<00:00, 32.75it/s]\n"
          ]
        },
        {
          "name": "stdout",
          "output_type": "stream",
          "text": [
            "                   all      10008        185      0.926      0.874      0.911      0.544\n",
            "Speed: 0.2ms preprocess, 1.2ms inference, 0.0ms loss, 0.2ms postprocess per image\n",
            "Results saved to \u001b[1mruns/detect/val11\u001b[0m\n",
            "Ultralytics 8.3.174 🚀 Python-3.11.13 torch-2.6.0+cu124 CUDA:0 (NVIDIA A100-SXM4-40GB, 40507MiB)\n",
            "\u001b[34m\u001b[1mval: \u001b[0mFast image access ✅ (ping: 0.0±0.0 ms, read: 896.6±302.9 MB/s, size: 53.7 KB)\n"
          ]
        },
        {
          "name": "stderr",
          "output_type": "stream",
          "text": [
            "\u001b[34m\u001b[1mval: \u001b[0mScanning /content/export_yolov8/valid/labels.cache... 10008 images, 9838 backgrounds, 0 corrupt: 100%|██████████| 10008/10008 [00:00<?, ?it/s]\n",
            "                 Class     Images  Instances      Box(P          R      mAP50  mAP50-95): 100%|██████████| 626/626 [00:18<00:00, 33.04it/s]\n"
          ]
        },
        {
          "name": "stdout",
          "output_type": "stream",
          "text": [
            "                   all      10008        185      0.925       0.87      0.909      0.544\n",
            "Speed: 0.2ms preprocess, 1.2ms inference, 0.0ms loss, 0.2ms postprocess per image\n",
            "Results saved to \u001b[1mruns/detect/val12\u001b[0m\n",
            "Ultralytics 8.3.174 🚀 Python-3.11.13 torch-2.6.0+cu124 CUDA:0 (NVIDIA A100-SXM4-40GB, 40507MiB)\n",
            "\u001b[34m\u001b[1mval: \u001b[0mFast image access ✅ (ping: 0.0±0.0 ms, read: 937.0±564.8 MB/s, size: 49.9 KB)\n"
          ]
        },
        {
          "name": "stderr",
          "output_type": "stream",
          "text": [
            "\u001b[34m\u001b[1mval: \u001b[0mScanning /content/export_yolov8/valid/labels.cache... 10008 images, 9838 backgrounds, 0 corrupt: 100%|██████████| 10008/10008 [00:00<?, ?it/s]\n",
            "                 Class     Images  Instances      Box(P          R      mAP50  mAP50-95): 100%|██████████| 626/626 [00:19<00:00, 32.82it/s]\n"
          ]
        },
        {
          "name": "stdout",
          "output_type": "stream",
          "text": [
            "                   all      10008        185      0.925       0.87      0.909      0.544\n",
            "Speed: 0.2ms preprocess, 1.2ms inference, 0.0ms loss, 0.2ms postprocess per image\n",
            "Results saved to \u001b[1mruns/detect/val13\u001b[0m\n",
            "Ultralytics 8.3.174 🚀 Python-3.11.13 torch-2.6.0+cu124 CUDA:0 (NVIDIA A100-SXM4-40GB, 40507MiB)\n",
            "\u001b[34m\u001b[1mval: \u001b[0mFast image access ✅ (ping: 0.0±0.0 ms, read: 771.4±349.8 MB/s, size: 51.6 KB)\n"
          ]
        },
        {
          "name": "stderr",
          "output_type": "stream",
          "text": [
            "\u001b[34m\u001b[1mval: \u001b[0mScanning /content/export_yolov8/valid/labels.cache... 10008 images, 9838 backgrounds, 0 corrupt: 100%|██████████| 10008/10008 [00:00<?, ?it/s]\n",
            "                 Class     Images  Instances      Box(P          R      mAP50  mAP50-95): 100%|██████████| 626/626 [00:19<00:00, 32.89it/s]\n"
          ]
        },
        {
          "name": "stdout",
          "output_type": "stream",
          "text": [
            "                   all      10008        185       0.93      0.859      0.904      0.543\n",
            "Speed: 0.2ms preprocess, 1.2ms inference, 0.0ms loss, 0.2ms postprocess per image\n",
            "Results saved to \u001b[1mruns/detect/val14\u001b[0m\n",
            "Ultralytics 8.3.174 🚀 Python-3.11.13 torch-2.6.0+cu124 CUDA:0 (NVIDIA A100-SXM4-40GB, 40507MiB)\n",
            "\u001b[34m\u001b[1mval: \u001b[0mFast image access ✅ (ping: 0.0±0.0 ms, read: 966.5±526.8 MB/s, size: 55.6 KB)\n"
          ]
        },
        {
          "name": "stderr",
          "output_type": "stream",
          "text": [
            "\u001b[34m\u001b[1mval: \u001b[0mScanning /content/export_yolov8/valid/labels.cache... 10008 images, 9838 backgrounds, 0 corrupt: 100%|██████████| 10008/10008 [00:00<?, ?it/s]\n",
            "                 Class     Images  Instances      Box(P          R      mAP50  mAP50-95): 100%|██████████| 626/626 [00:19<00:00, 32.89it/s]\n"
          ]
        },
        {
          "name": "stdout",
          "output_type": "stream",
          "text": [
            "                   all      10008        185      0.935      0.854      0.902      0.541\n",
            "Speed: 0.2ms preprocess, 1.2ms inference, 0.0ms loss, 0.2ms postprocess per image\n",
            "Results saved to \u001b[1mruns/detect/val15\u001b[0m\n",
            "Ultralytics 8.3.174 🚀 Python-3.11.13 torch-2.6.0+cu124 CUDA:0 (NVIDIA A100-SXM4-40GB, 40507MiB)\n",
            "\u001b[34m\u001b[1mval: \u001b[0mFast image access ✅ (ping: 0.0±0.0 ms, read: 829.4±266.1 MB/s, size: 55.4 KB)\n"
          ]
        },
        {
          "name": "stderr",
          "output_type": "stream",
          "text": [
            "\u001b[34m\u001b[1mval: \u001b[0mScanning /content/export_yolov8/valid/labels.cache... 10008 images, 9838 backgrounds, 0 corrupt: 100%|██████████| 10008/10008 [00:00<?, ?it/s]\n",
            "                 Class     Images  Instances      Box(P          R      mAP50  mAP50-95): 100%|██████████| 626/626 [00:19<00:00, 32.81it/s]\n"
          ]
        },
        {
          "name": "stdout",
          "output_type": "stream",
          "text": [
            "                   all      10008        185      0.934      0.843      0.897      0.542\n",
            "Speed: 0.2ms preprocess, 1.2ms inference, 0.0ms loss, 0.2ms postprocess per image\n",
            "Results saved to \u001b[1mruns/detect/val16\u001b[0m\n",
            "Ultralytics 8.3.174 🚀 Python-3.11.13 torch-2.6.0+cu124 CUDA:0 (NVIDIA A100-SXM4-40GB, 40507MiB)\n",
            "\u001b[34m\u001b[1mval: \u001b[0mFast image access ✅ (ping: 0.0±0.0 ms, read: 806.4±213.8 MB/s, size: 42.0 KB)\n"
          ]
        },
        {
          "name": "stderr",
          "output_type": "stream",
          "text": [
            "\u001b[34m\u001b[1mval: \u001b[0mScanning /content/export_yolov8/valid/labels.cache... 10008 images, 9838 backgrounds, 0 corrupt: 100%|██████████| 10008/10008 [00:00<?, ?it/s]\n",
            "                 Class     Images  Instances      Box(P          R      mAP50  mAP50-95): 100%|██████████| 626/626 [00:19<00:00, 32.22it/s]\n"
          ]
        },
        {
          "name": "stdout",
          "output_type": "stream",
          "text": [
            "                   all      10008        185      0.951      0.827      0.894       0.54\n",
            "Speed: 0.2ms preprocess, 1.2ms inference, 0.0ms loss, 0.2ms postprocess per image\n",
            "Results saved to \u001b[1mruns/detect/val17\u001b[0m\n",
            "Ultralytics 8.3.174 🚀 Python-3.11.13 torch-2.6.0+cu124 CUDA:0 (NVIDIA A100-SXM4-40GB, 40507MiB)\n",
            "\u001b[34m\u001b[1mval: \u001b[0mFast image access ✅ (ping: 0.0±0.0 ms, read: 349.0±197.1 MB/s, size: 27.2 KB)\n"
          ]
        },
        {
          "name": "stderr",
          "output_type": "stream",
          "text": [
            "\u001b[34m\u001b[1mval: \u001b[0mScanning /content/export_yolov8/valid/labels.cache... 10008 images, 9838 backgrounds, 0 corrupt: 100%|██████████| 10008/10008 [00:00<?, ?it/s]\n",
            "                 Class     Images  Instances      Box(P          R      mAP50  mAP50-95): 100%|██████████| 626/626 [00:19<00:00, 32.93it/s]\n"
          ]
        },
        {
          "name": "stdout",
          "output_type": "stream",
          "text": [
            "                   all      10008        185      0.952      0.827       0.89      0.537\n",
            "Speed: 0.2ms preprocess, 1.2ms inference, 0.0ms loss, 0.2ms postprocess per image\n",
            "Results saved to \u001b[1mruns/detect/val18\u001b[0m\n",
            "Ultralytics 8.3.174 🚀 Python-3.11.13 torch-2.6.0+cu124 CUDA:0 (NVIDIA A100-SXM4-40GB, 40507MiB)\n",
            "\u001b[34m\u001b[1mval: \u001b[0mFast image access ✅ (ping: 0.0±0.0 ms, read: 507.6±71.4 MB/s, size: 29.3 KB)\n"
          ]
        },
        {
          "name": "stderr",
          "output_type": "stream",
          "text": [
            "\u001b[34m\u001b[1mval: \u001b[0mScanning /content/export_yolov8/valid/labels.cache... 10008 images, 9838 backgrounds, 0 corrupt: 100%|██████████| 10008/10008 [00:00<?, ?it/s]\n",
            "                 Class     Images  Instances      Box(P          R      mAP50  mAP50-95): 100%|██████████| 626/626 [00:18<00:00, 33.31it/s]\n"
          ]
        },
        {
          "name": "stdout",
          "output_type": "stream",
          "text": [
            "                   all      10008        185      0.956      0.827      0.891      0.539\n",
            "Speed: 0.2ms preprocess, 1.2ms inference, 0.0ms loss, 0.2ms postprocess per image\n",
            "Results saved to \u001b[1mruns/detect/val19\u001b[0m\n",
            "Ultralytics 8.3.174 🚀 Python-3.11.13 torch-2.6.0+cu124 CUDA:0 (NVIDIA A100-SXM4-40GB, 40507MiB)\n",
            "\u001b[34m\u001b[1mval: \u001b[0mFast image access ✅ (ping: 0.0±0.0 ms, read: 815.5±393.0 MB/s, size: 37.2 KB)\n"
          ]
        },
        {
          "name": "stderr",
          "output_type": "stream",
          "text": [
            "\u001b[34m\u001b[1mval: \u001b[0mScanning /content/export_yolov8/valid/labels.cache... 10008 images, 9838 backgrounds, 0 corrupt: 100%|██████████| 10008/10008 [00:00<?, ?it/s]\n",
            "                 Class     Images  Instances      Box(P          R      mAP50  mAP50-95): 100%|██████████| 626/626 [00:18<00:00, 33.19it/s]\n"
          ]
        },
        {
          "name": "stdout",
          "output_type": "stream",
          "text": [
            "                   all      10008        185       0.96      0.784      0.871      0.532\n",
            "Speed: 0.2ms preprocess, 1.2ms inference, 0.0ms loss, 0.2ms postprocess per image\n",
            "Results saved to \u001b[1mruns/detect/val20\u001b[0m\n",
            "Ultralytics 8.3.174 🚀 Python-3.11.13 torch-2.6.0+cu124 CUDA:0 (NVIDIA A100-SXM4-40GB, 40507MiB)\n",
            "\u001b[34m\u001b[1mval: \u001b[0mFast image access ✅ (ping: 0.0±0.0 ms, read: 1086.9±510.6 MB/s, size: 62.7 KB)\n"
          ]
        },
        {
          "name": "stderr",
          "output_type": "stream",
          "text": [
            "\u001b[34m\u001b[1mval: \u001b[0mScanning /content/export_yolov8/valid/labels.cache... 10008 images, 9838 backgrounds, 0 corrupt: 100%|██████████| 10008/10008 [00:00<?, ?it/s]\n",
            "                 Class     Images  Instances      Box(P          R      mAP50  mAP50-95): 100%|██████████| 626/626 [00:18<00:00, 33.03it/s]\n"
          ]
        },
        {
          "name": "stdout",
          "output_type": "stream",
          "text": [
            "                   all      10008        185      0.959      0.632      0.797      0.503\n",
            "Speed: 0.2ms preprocess, 1.2ms inference, 0.0ms loss, 0.2ms postprocess per image\n",
            "Results saved to \u001b[1mruns/detect/val21\u001b[0m\n",
            "Ultralytics 8.3.174 🚀 Python-3.11.13 torch-2.6.0+cu124 CUDA:0 (NVIDIA A100-SXM4-40GB, 40507MiB)\n",
            "\u001b[34m\u001b[1mval: \u001b[0mFast image access ✅ (ping: 0.0±0.0 ms, read: 680.4±308.7 MB/s, size: 37.0 KB)\n"
          ]
        },
        {
          "name": "stderr",
          "output_type": "stream",
          "text": [
            "\u001b[34m\u001b[1mval: \u001b[0mScanning /content/export_yolov8/valid/labels.cache... 10008 images, 9838 backgrounds, 0 corrupt: 100%|██████████| 10008/10008 [00:00<?, ?it/s]\n",
            "                 Class     Images  Instances      Box(P          R      mAP50  mAP50-95): 100%|██████████| 626/626 [00:18<00:00, 33.30it/s]\n"
          ]
        },
        {
          "name": "stdout",
          "output_type": "stream",
          "text": [
            "                   all      10008        185          1     0.0865      0.543      0.397\n",
            "Speed: 0.2ms preprocess, 1.2ms inference, 0.0ms loss, 0.2ms postprocess per image\n",
            "Results saved to \u001b[1mruns/detect/val22\u001b[0m\n",
            "Ultralytics 8.3.174 🚀 Python-3.11.13 torch-2.6.0+cu124 CUDA:0 (NVIDIA A100-SXM4-40GB, 40507MiB)\n",
            "\u001b[34m\u001b[1mval: \u001b[0mFast image access ✅ (ping: 0.0±0.0 ms, read: 727.0±264.7 MB/s, size: 60.9 KB)\n"
          ]
        },
        {
          "name": "stderr",
          "output_type": "stream",
          "text": [
            "\u001b[34m\u001b[1mval: \u001b[0mScanning /content/export_yolov8/valid/labels.cache... 10008 images, 9838 backgrounds, 0 corrupt: 100%|██████████| 10008/10008 [00:00<?, ?it/s]\n",
            "                 Class     Images  Instances      Box(P          R      mAP50  mAP50-95): 100%|██████████| 626/626 [00:18<00:00, 33.52it/s]\n"
          ]
        },
        {
          "name": "stdout",
          "output_type": "stream",
          "text": [
            "                   all      10008        185          0          0          0          0\n",
            "Speed: 0.2ms preprocess, 1.2ms inference, 0.0ms loss, 0.2ms postprocess per image\n",
            "Results saved to \u001b[1mruns/detect/val23\u001b[0m\n",
            "Ultralytics 8.3.174 🚀 Python-3.11.13 torch-2.6.0+cu124 CUDA:0 (NVIDIA A100-SXM4-40GB, 40507MiB)\n",
            "\u001b[34m\u001b[1mval: \u001b[0mFast image access ✅ (ping: 0.0±0.0 ms, read: 955.5±333.4 MB/s, size: 70.7 KB)\n"
          ]
        },
        {
          "name": "stderr",
          "output_type": "stream",
          "text": [
            "\u001b[34m\u001b[1mval: \u001b[0mScanning /content/export_yolov8/valid/labels.cache... 10008 images, 9838 backgrounds, 0 corrupt: 100%|██████████| 10008/10008 [00:00<?, ?it/s]\n",
            "                 Class     Images  Instances      Box(P          R      mAP50  mAP50-95): 100%|██████████| 626/626 [00:18<00:00, 33.71it/s]\n"
          ]
        },
        {
          "name": "stdout",
          "output_type": "stream",
          "text": [
            "                   all      10008        185          0          0          0          0\n",
            "Speed: 0.2ms preprocess, 1.2ms inference, 0.0ms loss, 0.2ms postprocess per image\n",
            "Results saved to \u001b[1mruns/detect/val24\u001b[0m\n",
            "Ultralytics 8.3.174 🚀 Python-3.11.13 torch-2.6.0+cu124 CUDA:0 (NVIDIA A100-SXM4-40GB, 40507MiB)\n",
            "\u001b[34m\u001b[1mval: \u001b[0mFast image access ✅ (ping: 0.0±0.0 ms, read: 664.5±376.0 MB/s, size: 39.3 KB)\n"
          ]
        },
        {
          "name": "stderr",
          "output_type": "stream",
          "text": [
            "\u001b[34m\u001b[1mval: \u001b[0mScanning /content/export_yolov8/valid/labels.cache... 10008 images, 9838 backgrounds, 0 corrupt: 100%|██████████| 10008/10008 [00:00<?, ?it/s]\n",
            "                 Class     Images  Instances      Box(P          R      mAP50  mAP50-95): 100%|██████████| 626/626 [00:18<00:00, 33.86it/s]\n"
          ]
        },
        {
          "name": "stdout",
          "output_type": "stream",
          "text": [
            "                   all      10008        185          0          0          0          0\n",
            "Speed: 0.2ms preprocess, 1.2ms inference, 0.0ms loss, 0.2ms postprocess per image\n",
            "Results saved to \u001b[1mruns/detect/val25\u001b[0m\n",
            "📄 Comparación guardada en: /content/threshold_analysis_val/val_threshold_comparison.txt\n",
            "📝 Markdown guardado en: /content/threshold_analysis_val/val_threshold_comparison.md\n",
            "📈 Gráfico guardado en: /content/threshold_analysis_val/val_threshold_comparison.png\n",
            "📊 Curva guardada en: /content/threshold_analysis_val/f1_precision_recall_vs_conf.png\n"
          ]
        },
        {
          "data": {
            "image/png": "[encoded data removed]",
            "text/plain": [
              "<Figure size 1000x600 with 1 Axes>"
            ]
          },
          "metadata": {},
          "output_type": "display_data"
        },
        {
          "data": {
            "image/png": "[encoded data removed]",
            "text/plain": [
              "<Figure size 800x400 with 1 Axes>"
            ]
          },
          "metadata": {},
          "output_type": "display_data"
        }
      ],
      "source": [
        "from ultralytics import YOLO\n",
        "import os\n",
        "import numpy as np\n",
        "import pandas as pd\n",
        "import matplotlib.pyplot as plt\n",
        "\n",
        "# === 1. Cargar modelo y dataset ===\n",
        "model = YOLO(\"/content/ProSeal/seals2/weights/best.pt\")\n",
        "dataset_yaml = \"/content/export_yolov8/data.yaml\"\n",
        "\n",
        "# === 2. Configurar rutas de guardado ===\n",
        "val_results_dir = \"/content/threshold_analysis_val\"\n",
        "os.makedirs(val_results_dir, exist_ok=True)\n",
        "\n",
        "# === 3. Evaluar baseline (conf=0.50) ===\n",
        "res_05 = model.val(data=dataset_yaml, split=\"val\", conf=0.5, iou=0.5, verbose=False)\n",
        "p_05, r_05, map50_05, map95_05 = res_05.box.mean_results()\n",
        "f1_05 = 2 * p_05 * r_05 / (p_05 + r_05) if (p_05 + r_05) > 0 else 0\n",
        "\n",
        "# === 4. Buscar best_conf_global (0.05 a 0.95) ===\n",
        "conf_values = [round(i * 0.05, 2) for i in range(1, 20)]\n",
        "f1s_all, p_all, r_all, m50_all, m95_all = [], [], [], [], []\n",
        "\n",
        "for conf in conf_values:\n",
        "    res = model.val(data=dataset_yaml, split=\"val\", conf=conf, iou=0.5, verbose=False)\n",
        "    p, r, m50, m95 = res.box.mean_results()\n",
        "    f1 = 2 * p * r / (p + r) if (p + r) > 0 else 0\n",
        "    f1s_all.append(f1)\n",
        "    p_all.append(p)\n",
        "    r_all.append(r)\n",
        "    m50_all.append(m50)\n",
        "    m95_all.append(m95)\n",
        "\n",
        "best_idx       = int(np.argmax(f1s_all))\n",
        "best_conf_global = conf_values[best_idx]\n",
        "p_best, r_best, map50_best, map95_best, f1_best = (\n",
        "    p_all[best_idx],\n",
        "    r_all[best_idx],\n",
        "    m50_all[best_idx],\n",
        "    m95_all[best_idx],\n",
        "    f1s_all[best_idx]\n",
        ")\n",
        "\n",
        "# === 5. Buscar best_conf_high (solo conf > 0.5) ===\n",
        "high_start       = conf_values.index(0.55)\n",
        "conf_values_high = conf_values[high_start:]\n",
        "f1s_high         = f1s_all[high_start:]\n",
        "p_high           = p_all[high_start:]\n",
        "r_high           = r_all[high_start:]\n",
        "m50_high         = m50_all[high_start:]\n",
        "m95_high         = m95_all[high_start:]\n",
        "\n",
        "best_high_idx      = int(np.argmax(f1s_high))\n",
        "best_conf_high     = conf_values_high[best_high_idx]\n",
        "p_high_best        = p_high[best_high_idx]\n",
        "r_high_best        = r_high[best_high_idx]\n",
        "map50_high_best    = m50_high[best_high_idx]\n",
        "map95_high_best    = m95_high[best_high_idx]\n",
        "f1_high_best       = f1s_high[best_high_idx]\n",
        "\n",
        "# === 6. Crear tabla comparativa ===\n",
        "comp_data = {\n",
        "    \"Métrica\": [\"Precision\", \"Recall\", \"F1-score\", \"mAP@0.5\", \"mAP@0.5:0.95\"],\n",
        "    \"conf=0.50\": [p_05, r_05, f1_05, map50_05, map95_05],\n",
        "    f\"conf={best_conf_global:.2f}\": [p_best, r_best, f1_best, map50_best, map95_best],\n",
        "    f\"conf>{0.50} (mejor={best_conf_high:.2f})\": [p_high_best, r_high_best, f1_high_best, map50_high_best, map95_high_best]\n",
        "}\n",
        "df_val_comp = pd.DataFrame(comp_data)\n",
        "\n",
        "# === 7. Guardar .txt ===\n",
        "txt_path = os.path.join(val_results_dir, \"val_threshold_comparison.txt\")\n",
        "with open(txt_path, \"w\") as f:\n",
        "    f.write(\"=== COMPARACIÓN DE 3 THRESHOLDS EN VALIDACIÓN ===\\n\")\n",
        "    f.write(f\"{'Métrica':<15} | {'conf=0.50':^12} | {'Óptimo global':^16} | {'Óptimo > 0.5':^18}\\n\")\n",
        "    f.write(\"-\" * 65 + \"\\n\")\n",
        "    for i in range(len(df_val_comp)):\n",
        "        m = df_val_comp.loc[i, \"Métrica\"]\n",
        "        v1 = df_val_comp.loc[i, \"conf=0.50\"]\n",
        "        v2 = df_val_comp.loc[i, f\"conf={best_conf_global:.2f}\"]\n",
        "        v3 = df_val_comp.loc[i, f\"conf>{0.50} (mejor={best_conf_high:.2f})\"]\n",
        "        f.write(f\"{m:<15} | {v1:.4f}      | {v2:.4f}           | {v3:.4f}\\n\")\n",
        "print(f\"📄 Comparación guardada en: {txt_path}\")\n",
        "\n",
        "# === 8. Guardar .csv ===\n",
        "csv_path = os.path.join(val_results_dir, \"val_threshold_comparison.csv\")\n",
        "df_val_comp.to_csv(csv_path, index=False)\n",
        "\n",
        "# === 9. Guardar .md (Markdown) ===\n",
        "md_path = os.path.join(val_results_dir, \"val_threshold_comparison.md\")\n",
        "with open(md_path, \"w\") as f:\n",
        "    f.write(f\"| Métrica       | conf=0.50 | Óptimo global ({best_conf_global:.2f}) | Óptimo>0.5 ({best_conf_high:.2f}) |\\n\")\n",
        "    f.write(f\"|---------------|-----------|----------------------|-------------------------|\\n\")\n",
        "    for i in range(len(df_val_comp)):\n",
        "        m  = df_val_comp.loc[i, \"Métrica\"]\n",
        "        v1 = df_val_comp.loc[i, \"conf=0.50\"]\n",
        "        v2 = df_val_comp.loc[i, f\"conf={best_conf_global:.2f}\"]\n",
        "        v3 = df_val_comp.loc[i, f\"conf>{0.50} (mejor={best_conf_high:.2f})\"]\n",
        "        f.write(f\"| {m:<13} | {v1:.4f}     | {v2:.4f}               | {v3:.4f}                  |\\n\")\n",
        "print(f\"📝 Markdown guardado en: {md_path}\")\n",
        "\n",
        "# === 10. Gráfico de barras ===\n",
        "labels = df_val_comp[\"Métrica\"]\n",
        "x = np.arange(len(labels))\n",
        "width = 0.25\n",
        "\n",
        "fig, ax = plt.subplots(figsize=(10, 6))\n",
        "ax.bar(x - width, df_val_comp[\"conf=0.50\"], width, label=\"conf=0.50\")\n",
        "ax.bar(x, df_val_comp[f\"conf={best_conf_global:.2f}\"], width, label=f\"Óptimo ({best_conf_global:.2f})\")\n",
        "ax.bar(x + width, df_val_comp[f\"conf>{0.50} (mejor={best_conf_high:.2f})\"], width,\n",
        "       label=f\"Óptimo>0.5 ({best_conf_high:.2f})\")\n",
        "ax.set_ylabel(\"Valor Métrico\")\n",
        "ax.set_title(\"Comparación de Thresholds en Validación\")\n",
        "ax.set_xticks(x)\n",
        "ax.set_xticklabels(labels)\n",
        "ax.legend()\n",
        "ax.grid(axis=\"y\")\n",
        "fig.tight_layout()\n",
        "plot_path = os.path.join(val_results_dir, \"val_threshold_comparison.png\")\n",
        "plt.savefig(plot_path)\n",
        "# plt.show()  # opcional\n",
        "print(f\"📈 Gráfico guardado en: {plot_path}\")\n",
        "\n",
        "# === 11. Curva F1 vs Confidence ===\n",
        "plt.figure(figsize=(8, 4))\n",
        "plt.plot(conf_values, f1s_all, marker='o', label='F1 score')\n",
        "plt.plot(conf_values, p_all,    marker='x', linestyle='--', label='Precision')\n",
        "plt.plot(conf_values, r_all,    marker='s', linestyle='-.', label='Recall')\n",
        "plt.axvline(best_conf_global, linestyle='--', color='red',\n",
        "            label=f'Mejor F1 = {best_conf_global:.2f}')\n",
        "plt.xlabel('Confidence Threshold')\n",
        "plt.ylabel('Score')\n",
        "plt.title('Precision, Recall y F1 vs Confidence Threshold')\n",
        "plt.grid(True)\n",
        "plt.legend()\n",
        "plt.tight_layout()\n",
        "curve_path = os.path.join(val_results_dir, \"f1_precision_recall_vs_conf.png\")\n",
        "plt.savefig(curve_path)\n",
        "# plt.show()  # opcional\n",
        "print(f\"📊 Curva guardada en: {curve_path}\")\n"
      ]
    },
    {
      "cell_type": "markdown",
      "metadata": {
        "id": "bWT3WkO3caz3"
      },
      "source": [
        "# 6.4 Save the validation results"
      ]
    },
    {
      "cell_type": "code",
      "execution_count": 10,
      "metadata": {
        "colab": {
          "base_uri": "https://localhost:8080/"
        },
        "id": "eP30tHWQ4QDB",
        "outputId": "3934abff-d1e1-4df1-9b39-eee722ad71c4"
      },
      "outputs": [
        {
          "name": "stdout",
          "output_type": "stream",
          "text": [
            "val\n"
          ]
        }
      ],
      "source": [
        "\n",
        "# Define la carpeta de destino en Google Drive\n",
        "dest_folder = \"/content/drive/MyDrive/ProSeal/val/general\"\n",
        "!mkdir -p \"{dest_folder}\"                                                           #El comando mkdir -p crea esa carpeta (y cualquier subcarpeta necesaria) si no existe.\n",
        "\n",
        "# Copia la carpeta de resultados (ajusta el nombre según el que se haya generado)\n",
        "!cp -r /content/runs/detect/val \"{dest_folder}/\"   #copiar los reultados del modelo en drive\n",
        "\n",
        "\n",
        "# Comprueba que se copiaron los archivos (opcional)\n",
        "!ls \"{dest_folder}\"                                                                 #verifica que los archivos se han copiado correctamente\n",
        "\n"
      ]
    },
    {
      "cell_type": "markdown",
      "metadata": {
        "id": "Zev1Iya2cYot"
      },
      "source": [
        "# **7. Evaluation test in Ultralytics**"
      ]
    },
    {
      "cell_type": "markdown",
      "metadata": {
        "id": "-9QBBNLn-SCY"
      },
      "source": [
        "# 7.1 Evaluate using the ultralytics function in your test set"
      ]
    },
    {
      "cell_type": "code",
      "execution_count": 15,
      "metadata": {
        "colab": {
          "base_uri": "https://localhost:8080/"
        },
        "id": "QuDPannc5HnY",
        "outputId": "a56d1ba1-899e-41fa-9743-18ceaecb1700"
      },
      "outputs": [
        {
          "name": "stdout",
          "output_type": "stream",
          "text": [
            "Ultralytics 8.3.174 🚀 Python-3.11.13 torch-2.6.0+cu124 CUDA:0 (NVIDIA A100-SXM4-40GB, 40507MiB)\n",
            "Model summary (fused): 72 layers, 11,125,971 parameters, 0 gradients, 28.4 GFLOPs\n",
            "\u001b[34m\u001b[1mval: \u001b[0mFast image access ✅ (ping: 0.0±0.0 ms, read: 797.0±237.0 MB/s, size: 75.6 KB)\n"
          ]
        },
        {
          "name": "stderr",
          "output_type": "stream",
          "text": [
            "\u001b[34m\u001b[1mval: \u001b[0mScanning /content/export_yolov8/test/labels.cache... 10007 images, 9837 backgrounds, 0 corrupt: 100%|██████████| 10007/10007 [00:00<?, ?it/s]\n",
            "                 Class     Images  Instances      Box(P          R      mAP50  mAP50-95): 100%|██████████| 626/626 [00:19<00:00, 31.84it/s]\n"
          ]
        },
        {
          "name": "stdout",
          "output_type": "stream",
          "text": [
            "                   all      10007        192      0.944      0.839      0.906      0.542\n",
            "Speed: 0.2ms preprocess, 1.2ms inference, 0.0ms loss, 0.2ms postprocess per image\n",
            "Results saved to \u001b[1mruns/detect/val30\u001b[0m\n",
            "mAP50:      0.9059\n",
            "mAP50-95:   0.5415\n",
            "Precisión:  0.9440\n",
            "Recall:     0.8385\n",
            "\n",
            "=== TEST POR CLASE ===\n",
            "seal: mAP50-95 = 0.5415\n"
          ]
        }
      ],
      "source": [
        "from ultralytics import YOLO\n",
        "\n",
        "# 1. Cargar el modelo entrenado\n",
        "model = YOLO(\"/content/ProSeal/seals2/weights/best.pt\")\n",
        "\n",
        "# 2. Ejecutar la evaluación sobre el conjunto de test\n",
        "dataset_yaml = \"/content/export_yolov8/data.yaml\"\n",
        "\n",
        "results = model.val(data=dataset_yaml, split=\"test\", save_txt=True, )\n",
        "\n",
        "# 3. Mostrar las métricas principales\n",
        "metrics = results.box  # Métricas de bounding boxes\n",
        "\n",
        "print(f\"mAP50:      {metrics.map50:.4f}\")\n",
        "print(f\"mAP50-95:   {metrics.map:.4f}\")\n",
        "print(f\"Precisión:  {metrics.mp:.4f}\")\n",
        "print(f\"Recall:     {metrics.mr:.4f}\")\n",
        "\n",
        "# === TEST POR CLASE ===\n",
        "# Definir el diccionario de nombres de clase (ajusta según corresponda)\n",
        "names = {0:  'seal'}\n",
        "# results.box.maps es un array con el mAP (mAP@0.5:0.95) por cada clase\n",
        "class_maps = metrics.maps\n",
        "\n",
        "print(\"\\n=== TEST POR CLASE ===\")\n",
        "for cls_map, name in zip(class_maps, names.values()):\n",
        "    print(f\"{name}: mAP50-95 = {cls_map:.4f}\")\n",
        "\n",
        "\n",
        "\n",
        "\n"
      ]
    },
    {
      "cell_type": "markdown",
      "metadata": {
        "id": "j8Zj0eOa-GlE"
      },
      "source": [
        "# 7.2 Save test results"
      ]
    },
    {
      "cell_type": "code",
      "execution_count": null,
      "metadata": {
        "id": "jTP8yzIo-GNd"
      },
      "outputs": [],
      "source": [
        "\n",
        "# Define la carpeta de destino en Google Drive\n",
        "dest_folder = \"/content/drive/MyDrive/ProSeal/test\"\n",
        "!mkdir -p \"{dest_folder}\"                                                           #El comando mkdir -p crea esa carpeta (y cualquier subcarpeta necesaria) si no existe.\n",
        "\n",
        "# Copia la carpeta de resultados (ajusta el nombre según el que se haya generado)\n",
        "!cp -r /content/runs/detect/val22 \"{dest_folder}/\"   #copiar los reultados del modelo en drive\n",
        "\n",
        "\n",
        "# Comprueba que se copiaron los archivos (opcional)\n",
        "!ls \"{dest_folder}\""
      ]
    },
    {
      "cell_type": "code",
      "execution_count": null,
      "metadata": {},
      "outputs": [],
      "source": []
    }
  ],
  "metadata": {
    "accelerator": "GPU",
    "colab": {
      "gpuType": "A100",
      "machine_shape": "hm",
      "provenance": []
    },
    "kernelspec": {
      "display_name": "Python 3",
      "name": "python3"
    },
    "language_info": {
      "name": "python"
    }
  },
  "nbformat": 4,
  "nbformat_minor": 0
}
